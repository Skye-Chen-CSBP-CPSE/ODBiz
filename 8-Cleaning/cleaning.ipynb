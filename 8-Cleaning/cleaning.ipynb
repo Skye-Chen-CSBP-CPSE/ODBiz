{
 "cells": [
  {
   "cell_type": "code",
   "execution_count": 1,
   "metadata": {
    "execution": {
     "iopub.execute_input": "2022-12-06T14:38:52.133038Z",
     "iopub.status.busy": "2022-12-06T14:38:52.132485Z",
     "iopub.status.idle": "2022-12-06T14:38:52.138079Z",
     "shell.execute_reply": "2022-12-06T14:38:52.136649Z",
     "shell.execute_reply.started": "2022-12-06T14:38:52.132827Z"
    }
   },
   "outputs": [],
   "source": [
    "# Data cleaning\n",
    "\n",
    "# Todo\n",
    "    # Sanity check each variable (range of values)\n",
    "    # Remove unecessary columns"
   ]
  },
  {
   "cell_type": "code",
   "execution_count": 3,
   "metadata": {
    "execution": {
     "iopub.execute_input": "2022-12-12T16:52:47.973238Z",
     "iopub.status.busy": "2022-12-12T16:52:47.972998Z",
     "iopub.status.idle": "2022-12-12T16:52:49.880682Z",
     "shell.execute_reply": "2022-12-12T16:52:49.879462Z",
     "shell.execute_reply.started": "2022-12-12T16:52:47.973213Z"
    }
   },
   "outputs": [
    {
     "name": "stderr",
     "output_type": "stream",
     "text": [
      "/opt/conda/lib/python3.8/site-packages/requests/__init__.py:102: RequestsDependencyWarning: urllib3 (1.26.7) or chardet (5.0.0)/charset_normalizer (2.0.9) doesn't match a supported version!\n",
      "  warnings.warn(\"urllib3 ({}) or chardet ({})/charset_normalizer ({}) doesn't match a supported \"\n"
     ]
    }
   ],
   "source": [
    "import pandas as pd\n",
    "import numpy as np\n",
    "import mitosheet"
   ]
  },
  {
   "cell_type": "code",
   "execution_count": 41,
   "metadata": {
    "execution": {
     "iopub.execute_input": "2022-12-13T16:10:25.485634Z",
     "iopub.status.busy": "2022-12-13T16:10:25.485318Z",
     "iopub.status.idle": "2022-12-13T16:10:39.638644Z",
     "shell.execute_reply": "2022-12-13T16:10:39.637797Z",
     "shell.execute_reply.started": "2022-12-13T16:10:25.485603Z"
    },
    "tags": []
   },
   "outputs": [],
   "source": [
    "input_data = \"/home/jovyan/ODBiz/6-AssignCSDs/NAICS_Final.csv\"\n",
    "df_input = pd.read_csv(input_data, low_memory=False, dtype=\"str\")"
   ]
  },
  {
   "cell_type": "code",
   "execution_count": 42,
   "metadata": {
    "execution": {
     "iopub.execute_input": "2022-12-13T16:10:41.436377Z",
     "iopub.status.busy": "2022-12-13T16:10:41.435978Z",
     "iopub.status.idle": "2022-12-13T16:10:41.442202Z",
     "shell.execute_reply": "2022-12-13T16:10:41.441338Z",
     "shell.execute_reply.started": "2022-12-13T16:10:41.436335Z"
    },
    "tags": []
   },
   "outputs": [],
   "source": [
    "df = df_input"
   ]
  },
  {
   "cell_type": "code",
   "execution_count": 43,
   "metadata": {
    "execution": {
     "iopub.execute_input": "2022-12-13T16:10:42.053997Z",
     "iopub.status.busy": "2022-12-13T16:10:42.053730Z",
     "iopub.status.idle": "2022-12-13T16:10:42.201888Z",
     "shell.execute_reply": "2022-12-13T16:10:42.200622Z",
     "shell.execute_reply.started": "2022-12-13T16:10:42.053970Z"
    },
    "tags": []
   },
   "outputs": [],
   "source": [
    "df_toronto = df[df['city'] == 'TORONTO, ON']"
   ]
  },
  {
   "cell_type": "code",
   "execution_count": 44,
   "metadata": {
    "execution": {
     "iopub.execute_input": "2022-12-13T16:10:42.871465Z",
     "iopub.status.busy": "2022-12-13T16:10:42.871139Z",
     "iopub.status.idle": "2022-12-13T16:10:42.878204Z",
     "shell.execute_reply": "2022-12-13T16:10:42.876929Z",
     "shell.execute_reply.started": "2022-12-13T16:10:42.871431Z"
    },
    "tags": []
   },
   "outputs": [
    {
     "data": {
      "text/plain": [
       "119239"
      ]
     },
     "execution_count": 44,
     "metadata": {},
     "output_type": "execute_result"
    }
   ],
   "source": [
    "len(df_toronto)"
   ]
  },
  {
   "cell_type": "code",
   "execution_count": 58,
   "metadata": {
    "execution": {
     "iopub.execute_input": "2022-12-13T18:35:17.295129Z",
     "iopub.status.busy": "2022-12-13T18:35:17.294859Z",
     "iopub.status.idle": "2022-12-13T18:35:20.308175Z",
     "shell.execute_reply": "2022-12-13T18:35:20.307501Z",
     "shell.execute_reply.started": "2022-12-13T18:35:17.295102Z"
    },
    "tags": []
   },
   "outputs": [
    {
     "data": {
      "application/vnd.jupyter.widget-view+json": {
       "model_id": "382c17b88fbe453f964f2150da01901d",
       "version_major": 2,
       "version_minor": 0
      },
      "text/plain": [
       "MitoWidget(analysis_data_json='{\"analysisName\": \"id-bqlpakblhf\", \"analysisToReplay\": null, \"code\": [], \"stepSu…"
      ]
     },
     "metadata": {},
     "output_type": "display_data"
    }
   ],
   "source": [
    "mitosheet.sheet(df, analysis_to_replay=\"id-bqlpakblhf\")"
   ]
  },
  {
   "cell_type": "code",
   "execution_count": null,
   "metadata": {},
   "outputs": [],
   "source": []
  },
  {
   "cell_type": "code",
   "execution_count": null,
   "metadata": {},
   "outputs": [],
   "source": [
    "from mitosheet import *; register_analysis(\"id-lnofeejuxz\");\n",
    "    \n",
    "# Filtered city\n",
    "df_toronto = df_toronto[df_toronto['city'].apply(lambda val: all(val != s for s in ['ABBOTSFORD, BC', 'ACTON, ON', 'AJAX, ON', 'ALLENFORD, ON', 'ALTON, ON', 'ANCASTER, ON', 'ALLISTON, ON', 'ANGUS, ON', 'ASHBURN, ON', 'AURORA, ON', 'BAILIEBORO, ON', 'BALLINAFAD, ON', 'BANCROFT, ON', 'BARRIE, ON', 'BEAMSVILLE, ON', 'BEAVERTON, ON', 'BEETON, ON', 'BELLE EWART, ON', 'BELLEVILLE, ON', 'BINBROOK, ON', 'BLUE MOUNTAINS, ON', 'BOBCAYGEON, ON', 'BOLTON, ON', 'BOND HEAD, ON', 'BOUCHERVILLE, QC', 'BOWMANVILLE, ON', 'BRACEBRIDGE, ON', 'BRADFORD, ON', 'BRAMPTON, ON', 'BRANDFORD, ON', 'BRANTFORD, ON', 'BRECHIN, ON', 'BRESLAU, ON', 'BRINSTON, ON', 'ZEPHYR, ON', 'YOUNGS POINT, ON', 'WOODVILLE, ON', 'WROXETER, ON', 'WOODVIEW, ON', 'WOODSTOCK, ON', 'WOODBRIGE, ON', 'WOODBRIDGE, ON', 'WINDSOR, ON', 'WILLOW BEACH, ON', 'WIARTON, ON', 'WHTEVALE, ON', 'WHITBY, ON', 'WELLAND, ON', 'WATERLOO, ON', 'WATERDOWN, ON', 'WASAGA BEACH, ON', 'VICTORIA HARBOR, ON', 'VAUGHAN, ON', 'VICTORIA, BC', 'VANCOUVER, BC', 'VAL CARON, ON', 'UTTERSON, ON', 'UXBRIDGE, ON', 'UNKNOWN, ON', 'UNIONVILLE, ON', 'TROY, ON', 'TWEED, ON', 'TOTTENHAM, ON', 'TORONTO, ON', 'TORONT, ON', 'TORONOT, ON', 'TINY, ON', 'THUNDER BAY, ON', 'THORNHILL, ON', 'TERRA COTTA, ON', 'SUTTON, ON', 'SUTTON WEST, ON', 'SUNDRIDGE, ON', 'SUNDERLAND, ON', 'STOUFVILLE, ON', 'STRATFORD, ON', 'SUNDERLAND RR3, ON', 'STOUFVILLE RD, ON', 'STOUFFVILLE, ON', 'ST.CATHERINES, ON', 'STONEY CREEK, ON', 'ST THOMAS, ON', 'ST CATHERINES, ON', 'ST CATHARINES, ON', 'SOUTH ARKELL, ON', 'SMITHVILLE, ON', 'SARNIA, ON', 'SCHOMBERG, ON', 'SCOTLAND, ON', 'SEAGRAVE, ON', \"SEELEY'S BAY, ON\", 'SHANTY BAY, ON', 'SHELBURNE, ON', 'SIMCO, ON', 'SHARON, ON', 'SIMCOE, ON', 'SINGHAMPTON, ON', 'SANDFORD, ON', 'S.W. CALGARY, AB', 'RUTHVEN, ON', 'ROSEMONT, ON', 'ROCKWALL, TX', 'ROCKWOOD, ON', 'RIVER DRIVE PAR, ON', 'RICHMONDHILL, ON', 'QUEENSVILLE, ON', 'RICHMOND HILL, ON', 'QUEBEC, QC', 'QUALICUM BEACH, BC', 'PRINCE ALBERT, ON', 'PORT SYDNEY, ON', 'PUSLINCH, ON', 'PORT PERRY, ON', 'PORT HOPE, ON', 'PORT COQUITLAM, BC', 'PICTON, ON', 'PICKERING, ON', 'PHELPSTON, ON', 'PETERBOROUGH, ON', 'PENETANGUISHENE, ON', 'PENETANG, ON', 'PEFFERLAW, ON', 'PARRIS, ON', 'PARKSVILLE, BC', 'PARIS, ON', 'PALM DESERT, CA', 'PALGRAVE, ON', 'OWEN SOUND, ON', 'OTTAWA, ON', 'OAKVILLE, ON', 'NORVAL, ON', 'ODESSA, ON', 'OMEMEE R1, ON', 'ORANGEVILLE, ON', 'ORILLIA, ON', 'OMEMEE, ON', 'ORONO, ON', 'OSHAWA, ON', 'NORTH VANCOUVER, BC', 'NORTH GOWER, ON', 'NORTH CANTON US, ON', 'NORTH BAY, ON', 'NORLAND, ON', 'NOBLETON, ON', 'NOBEL, ON', 'NIAGARA ON THE LAKE, ON', 'NIAGARA FALLS, ON', 'NEWTONVILLE, ON', 'NEWMARKET, ON', 'NEWCASTLE, ON', 'NEW MARKET, ON', 'NESTLETON STN, ON', 'NAPANEE, ON', 'MURILLO, ON', 'MOUNT HOPE, ON', 'MOUNT ALBERT, ON', 'MOOREFIELD, ON', 'MONTREAL, QC', 'MONO, ON', 'MISSISSAUGA, ON', 'MISSISAUGA, ON', 'MINDEN, ON', 'MILTON, ON', 'MILLGROVE, ON', 'MIDLAND, ON', 'MIDHURST, ON', 'MEAFORD, ON', 'MATTAWA, ON', 'MARMORA, ON', 'MARKHAM, ON', 'MAPLE, ON', 'MANILLA, ON', 'LORETTO, ON', 'LONDON, ON', 'LOCUST HILLRR1, ON', 'LOCUST HILL RR1, ON', 'LITTLE BRITAIN, ON', 'LISBON 1600-136, PT', 'LINDSAY, ON', 'LIMEHOUSE, ON', 'KLEINBURG, ON', 'LAC LA HACHE, ON', 'LAVAL, QC', 'LEFROY, ON', 'LEVIS, QC', 'KELOWNA, BC', 'KESWICK, ON', 'KENDAL, ON', 'KETTLEBY, ON', 'KINCARDINE, ON', 'KING CITY, ON', 'KING, ON', 'KIRKFIELD, ON', 'KITCHENER, ON', 'KITCHNER, ON', 'KANATA, ON', 'JORDAN STATION, ON', 'INNISIL, ON', 'JANETVILLE, ON', 'INNISFIL, ON', 'INGLEWOOD, ON', 'HUNG TWEED, ON', 'HOLLAND LANDING, ON', 'HUBLEY, NS', 'HILLSDALE, ON', 'GREENWOOD, ON', 'GUELPH, ON', 'HAGERSVILLE, ON', 'HALTON HILLS, ON', 'HAMILTON, ON', 'HALIBURTON, ON', 'HANNON, ON', 'HARRISTON, ON', 'HAVELOCK, ON', 'HILLSBURGH, ON', 'FREELTON, ON', 'GEORGETOWN, ON', 'GEORGINA, ON', 'GILFORD, ON', 'GLEN WILLIAMS, ON', 'GOODERHAM, ON', 'GOODWOOD, ON', 'GORMLEY, ON', 'GRAND HAVEN, MI', 'GRAND VALLEY, ON', 'GRAVENHURST, ON', 'EAST GWILLIMBURY, ON', 'EDISON, ON', 'EDMONTON, AB', 'EGBERT, ON', 'ENNISMORE, ON', 'ERIN, ON', 'EVERETT, ON', 'FLAMBOROUGH, ON', 'EXETER, ON', 'FLESHERTON, ON', 'FRANKFORD, ON', 'FRASERVILLE, ON', 'COBOURG, ON', 'COLDWATER, ON', 'COLLINGWOOD, ON', 'CONCORD, ON', 'COOKSTOWN, ON', 'COURTICE, ON', 'CRANBERRY, PA', 'DORCHESTER, ON', 'DENFIELD, ON', 'DUNDALK, ON', 'DUNDAS, ON', 'DURHAM, ON', 'E GWILLIMBURY, ON', 'EAST GWILLIMBUR, ON', 'CHATHAM, ON', 'CHELTENHAM, ON', 'CLAREMONT, ON', 'CLARINGTON, ON', 'CHURCHILL, ON', 'COBOCONK, ON', 'CAESAREA, ON', 'CALEDON EAST, ON', 'CALEDON E, ON', 'CALEDON ONT, ON', 'CALEDON, ON', 'CALEDON VILLAGE, ON', 'CALEDONIA, ON', 'CALGARY, AB', 'CAMBRIDGE, ON', 'CAMERON, ON', 'CAMLACHIE, ON', 'CAMPBELLFORD, ON', 'CAMPBELLVILLE, ON', 'CEDAR VALLEY, ON', 'BROOKLIN, ON', 'BROSSARD, QC', 'BURLINGAME, CA', 'BURLINGTON, ON']))]\n",
    "\n",
    "# Reordered column business_sector\n",
    "df_toronto_columns = [col for col in df_toronto.columns if col != 'business_sector']\n",
    "df_toronto_columns.insert(6, 'business_sector')\n",
    "df_toronto = df_toronto[df_toronto_columns]\n",
    "\n",
    "# Reordered column business_sector\n",
    "df_toronto_columns = [col for col in df_toronto.columns if col != 'business_sector']\n",
    "df_toronto_columns.insert(7, 'business_sector')\n",
    "df_toronto = df_toronto[df_toronto_columns]\n"
   ]
  },
  {
   "cell_type": "code",
   "execution_count": 46,
   "metadata": {
    "execution": {
     "iopub.execute_input": "2022-12-13T16:10:51.981970Z",
     "iopub.status.busy": "2022-12-13T16:10:51.981712Z",
     "iopub.status.idle": "2022-12-13T16:10:51.995566Z",
     "shell.execute_reply": "2022-12-13T16:10:51.993794Z",
     "shell.execute_reply.started": "2022-12-13T16:10:51.981942Z"
    },
    "tags": []
   },
   "outputs": [
    {
     "data": {
      "text/plain": [
       "oda_match    95011\n",
       "gc_match      9968\n",
       "Name: geo_source, dtype: int64"
      ]
     },
     "execution_count": 46,
     "metadata": {},
     "output_type": "execute_result"
    }
   ],
   "source": [
    "df_toronto['geo_source'].value_counts()"
   ]
  },
  {
   "cell_type": "code",
   "execution_count": 47,
   "metadata": {
    "execution": {
     "iopub.execute_input": "2022-12-13T16:10:59.749674Z",
     "iopub.status.busy": "2022-12-13T16:10:59.749365Z",
     "iopub.status.idle": "2022-12-13T16:10:59.761289Z",
     "shell.execute_reply": "2022-12-13T16:10:59.760400Z",
     "shell.execute_reply.started": "2022-12-13T16:10:59.749641Z"
    },
    "tags": []
   },
   "outputs": [
    {
     "data": {
      "text/plain": [
       "14260"
      ]
     },
     "execution_count": 47,
     "metadata": {},
     "output_type": "execute_result"
    }
   ],
   "source": [
    "df_toronto['geo_source'].isna().sum()"
   ]
  },
  {
   "cell_type": "code",
   "execution_count": 48,
   "metadata": {
    "execution": {
     "iopub.execute_input": "2022-12-13T16:11:01.477044Z",
     "iopub.status.busy": "2022-12-13T16:11:01.476736Z",
     "iopub.status.idle": "2022-12-13T16:11:01.592591Z",
     "shell.execute_reply": "2022-12-13T16:11:01.591740Z",
     "shell.execute_reply.started": "2022-12-13T16:11:01.477013Z"
    },
    "tags": []
   },
   "outputs": [
    {
     "data": {
      "text/plain": [
       "104979"
      ]
     },
     "execution_count": 48,
     "metadata": {},
     "output_type": "execute_result"
    }
   ],
   "source": [
    "# Number of records with lat/lons\n",
    "len(df_toronto[~df_toronto['latitude'].isna()])"
   ]
  },
  {
   "cell_type": "code",
   "execution_count": 51,
   "metadata": {
    "execution": {
     "iopub.execute_input": "2022-12-13T16:12:00.543348Z",
     "iopub.status.busy": "2022-12-13T16:12:00.543057Z",
     "iopub.status.idle": "2022-12-13T16:12:00.654625Z",
     "shell.execute_reply": "2022-12-13T16:12:00.653779Z",
     "shell.execute_reply.started": "2022-12-13T16:12:00.543316Z"
    },
    "tags": []
   },
   "outputs": [
    {
     "data": {
      "text/plain": [
       "119239"
      ]
     },
     "execution_count": 51,
     "metadata": {},
     "output_type": "execute_result"
    }
   ],
   "source": [
    "# Number with NAICS codes assigned\n",
    "len(df_toronto[~df_toronto['NAICS_Group'].isna()])"
   ]
  },
  {
   "cell_type": "code",
   "execution_count": 20,
   "metadata": {
    "execution": {
     "iopub.execute_input": "2022-12-12T16:58:08.455099Z",
     "iopub.status.busy": "2022-12-12T16:58:08.454714Z",
     "iopub.status.idle": "2022-12-12T16:58:08.499568Z",
     "shell.execute_reply": "2022-12-12T16:58:08.498279Z",
     "shell.execute_reply.started": "2022-12-12T16:58:08.455058Z"
    },
    "tags": []
   },
   "outputs": [
    {
     "data": {
      "text/plain": [
       "QC_Etablissements.csv                                       239231\n",
       "ON_Toronto_Business_Licences.csv                            154420\n",
       "BC_Vancouver_Business_Licences.csv                          125525\n",
       "AB_Edmonton_Business_Licences.csv                            38574\n",
       "ON_York_Region_Business_Directory.csv                        35001\n",
       "AB_Calgary_Business_Licences.csv                             34327\n",
       "BC_Burnaby_Business_Licences_2.csv                           17863\n",
       "BC_Surrey_Business_Licences.csv                              17135\n",
       "ON_Mississauga_Business_Directory.csv                        16518\n",
       "BC_Kelowna_Business_Licence.csv                              10917\n",
       "BC_Richmond_Based_Businesses.csv                             10676\n",
       "BC_Liquor_licences.csv                                       10292\n",
       "ON_Durham_Business_Directory.csv                              9934\n",
       "ON_Pickering_Business_Directory.csv                           9934\n",
       "ON_Brampton_Business_Directory.csv                            9834\n",
       "BC_Victoria_Business_Licences.csv                             7108\n",
       "BC_Langley_Business_Licences.csv                              6912\n",
       "BC_Nanaimo_Business_Licences.csv                              6189\n",
       "QC_Sherbrooke_Entreprises.csv                                 4997\n",
       "BC_Prince_George_Business_Licence.csv                         4399\n",
       "BC_New_Westminster_Business_Licences_(Residents).csv          3524\n",
       "BC_Chilliwack_Business_Licences.csv                           3360\n",
       "BC_Maple_Ridge_Business_Licences.csv                          3014\n",
       "BC_Squamish_Business_Licence_Annual_2021.csv                  2721\n",
       "Indigenous_Business_Directory.csv                             2492\n",
       "AB_Strathcona_Business_Directory.csv                          2474\n",
       "ON_Cambridge_Business_Directory.csv                           1898\n",
       "ON_Greater_Sudbury_Business_Licences.csv                      1511\n",
       "NT_Yellowknife_Business_Directory.csv                         1445\n",
       "ON_Caledon_Business_Directory.csv                             1408\n",
       "BC_Indigenous_Business_Listings.csv                           1259\n",
       "ON_Hamilton_Licenced_Food_Establishments.csv                  1252\n",
       "AB_Banff_Business_Licences.csv                                 942\n",
       "ON_Welland_Business_Directory.csv                              941\n",
       "BC_Burnaby_Business_Licences.csv                               905\n",
       "ON_Hamilton_Licenced_Public_Garages.csv                        736\n",
       "BC_Port_Moody_Business_Directory.csv                           694\n",
       "BC_New_Westminster_Business_Licences_(Nonresidents).csv        635\n",
       "ON_Hamilton_Licenced_Basic_Food_Shops.csv                      596\n",
       "ON_Ottawa_Cultural_Businesses.csv                              489\n",
       "BC_Wineries.csv                                                357\n",
       "ON_oebd.csv                                                    249\n",
       "NU_Indigenous_Business.csv                                     171\n",
       "AB_Chestermere_Businesses.csv                                  138\n",
       "BC_New_Westminster_Business_Licences_(New_this_Year).csv       132\n",
       "ON_Hamilton_Licenced_Residential_Care_Facilities.csv            68\n",
       "ON_Hamilton_Licenced_Second_Hand_Shops.csv                      53\n",
       "NB_Moncton_Ph_Pharmacies.csv                                    47\n",
       "NB_Moncton_Grocery_Stores.csv                                   46\n",
       "ON_Ottawa_Street_Food_Vendors.csv                               36\n",
       "ON_Hamilton_Licenced_Public_Halls.csv                           33\n",
       "ON_Hamilton_Licenced_Salvage_Yards.csv                          22\n",
       "ON_Hamilton_Licenced_Lodging_Houses.csv                         21\n",
       "NB_Saint_John_Grocery_Stores.csv                                16\n",
       "ON_Hamilton_Licenced_Places_of_Amusement.csv                    14\n",
       "MB_Indigenous_AFOA.csv                                           4\n",
       "ON_Hamilton_Licenced_Kennels_and_Pet_Shops.csv                   2\n",
       "Name: localfile, dtype: int64"
      ]
     },
     "execution_count": 20,
     "metadata": {},
     "output_type": "execute_result"
    }
   ],
   "source": [
    "df['localfile'].value_counts()"
   ]
  },
  {
   "cell_type": "code",
   "execution_count": 54,
   "metadata": {
    "execution": {
     "iopub.execute_input": "2022-12-13T18:27:10.702511Z",
     "iopub.status.busy": "2022-12-13T18:27:10.702187Z",
     "iopub.status.idle": "2022-12-13T18:27:10.746621Z",
     "shell.execute_reply": "2022-12-13T18:27:10.745939Z",
     "shell.execute_reply.started": "2022-12-13T18:27:10.702476Z"
    },
    "tags": []
   },
   "outputs": [
    {
     "data": {
      "text/plain": [
       "TORONTO, ON          119239\n",
       "Vancouver            109613\n",
       "Montréal (Québec)     45806\n",
       "Edmonton              38693\n",
       "Calgary               34546\n",
       "                      ...  \n",
       "CP h2g2h3                 1\n",
       "CP h1p 1x7                1\n",
       "CP h1m3v6                 1\n",
       "CP h1e1p1                 1\n",
       "Torreon Coahuila          1\n",
       "Name: city, Length: 11124, dtype: int64"
      ]
     },
     "execution_count": 54,
     "metadata": {},
     "output_type": "execute_result"
    }
   ],
   "source": [
    "df['city'].value_counts()"
   ]
  },
  {
   "cell_type": "code",
   "execution_count": null,
   "metadata": {
    "tags": []
   },
   "outputs": [],
   "source": []
  },
  {
   "cell_type": "code",
   "execution_count": 56,
   "metadata": {
    "execution": {
     "iopub.execute_input": "2022-12-13T18:34:33.818930Z",
     "iopub.status.busy": "2022-12-13T18:34:33.818657Z",
     "iopub.status.idle": "2022-12-13T18:34:34.923987Z",
     "shell.execute_reply": "2022-12-13T18:34:34.923180Z",
     "shell.execute_reply.started": "2022-12-13T18:34:33.818901Z"
    }
   },
   "outputs": [],
   "source": [
    "df['province'] = df['province'].str.replace('78','BC')\n"
   ]
  },
  {
   "cell_type": "code",
   "execution_count": 57,
   "metadata": {
    "execution": {
     "iopub.execute_input": "2022-12-13T18:35:06.917774Z",
     "iopub.status.busy": "2022-12-13T18:35:06.917485Z",
     "iopub.status.idle": "2022-12-13T18:35:07.347361Z",
     "shell.execute_reply": "2022-12-13T18:35:07.346077Z",
     "shell.execute_reply.started": "2022-12-13T18:35:06.917747Z"
    }
   },
   "outputs": [],
   "source": [
    "df['province'] = df['province'].str.replace('LAKEVIEW ESTATES','BC')"
   ]
  },
  {
   "cell_type": "code",
   "execution_count": 59,
   "metadata": {
    "execution": {
     "iopub.execute_input": "2022-12-13T18:35:56.998533Z",
     "iopub.status.busy": "2022-12-13T18:35:56.998264Z",
     "iopub.status.idle": "2022-12-13T18:35:57.044631Z",
     "shell.execute_reply": "2022-12-13T18:35:57.043825Z",
     "shell.execute_reply.started": "2022-12-13T18:35:56.998507Z"
    }
   },
   "outputs": [
    {
     "data": {
      "text/plain": [
       "QC    244527\n",
       "ON    243590\n",
       "BC    232467\n",
       "AB     77097\n",
       "NT      1563\n",
       "MB       224\n",
       "NU       223\n",
       "SK       168\n",
       "NB       155\n",
       "NS        46\n",
       "NL        33\n",
       "YT        13\n",
       "PE         5\n",
       "Name: province, dtype: int64"
      ]
     },
     "execution_count": 59,
     "metadata": {},
     "output_type": "execute_result"
    }
   ],
   "source": [
    "df['province'].value_counts()"
   ]
  },
  {
   "cell_type": "code",
   "execution_count": 69,
   "metadata": {
    "execution": {
     "iopub.execute_input": "2022-12-13T19:25:20.438882Z",
     "iopub.status.busy": "2022-12-13T19:25:20.438455Z",
     "iopub.status.idle": "2022-12-13T19:25:37.463107Z",
     "shell.execute_reply": "2022-12-13T19:25:37.461946Z",
     "shell.execute_reply.started": "2022-12-13T19:25:20.438840Z"
    },
    "tags": []
   },
   "outputs": [],
   "source": [
    "\n",
    "# splitting the dataframe into two fro easier cleaing, \n",
    "# it will be quebec_df (df_QC) and then \n",
    "# everything_else_df (df_not_QC)\n",
    "\n",
    "\n",
    "\n",
    "\n",
    "#df_not_QC = df[df['province'] != 'QC']\n",
    "\n",
    "\n",
    "\n",
    "df_not_QC = df.loc[df['province'] != 'QC'] \n",
    "df_QC = df[df['province'] == 'QC']\n",
    "\n",
    "\n",
    "df_not_QC.to_csv('/home/jovyan/ODBiz/8-Cleaning/Not_QC.csv', index=False)\n",
    "df_QC.to_csv('/home/jovyan/ODBiz/8-Cleaning/QC.csv', index=False)"
   ]
  },
  {
   "cell_type": "code",
   "execution_count": null,
   "metadata": {
    "tags": []
   },
   "outputs": [],
   "source": [
    "in_data = \"/home/jovyan/ODBiz/8-Cleaning/Not_QC.csv\"\n",
    "df_in = pd.read_csv(in_data, low_memory=False, dtype=\"str\")\n",
    "\n",
    "\n",
    "df=df_in\n",
    "\n",
    "\n"
   ]
  },
  {
   "cell_type": "code",
   "execution_count": 78,
   "metadata": {
    "execution": {
     "iopub.execute_input": "2022-12-19T16:49:16.340501Z",
     "iopub.status.busy": "2022-12-19T16:49:16.340248Z",
     "iopub.status.idle": "2022-12-19T16:49:19.803713Z",
     "shell.execute_reply": "2022-12-19T16:49:19.802830Z",
     "shell.execute_reply.started": "2022-12-19T16:49:16.340476Z"
    },
    "tags": []
   },
   "outputs": [
    {
     "data": {
      "application/vnd.jupyter.widget-view+json": {
       "model_id": "0e5f32d71e264293adb16c3fbd6b5cde",
       "version_major": 2,
       "version_minor": 0
      },
      "text/plain": [
       "MitoWidget(analysis_data_json='{\"analysisName\": \"id-slcljxjpla\", \"analysisToReplay\": {\"analysisName\": \"id-roly…"
      ]
     },
     "metadata": {},
     "output_type": "display_data"
    }
   ],
   "source": [
    "mitosheet.sheet(df, analysis_to_replay=\"id-rolycyogow\")"
   ]
  },
  {
   "cell_type": "code",
   "execution_count": null,
   "metadata": {},
   "outputs": [],
   "source": []
  },
  {
   "cell_type": "code",
   "execution_count": 73,
   "metadata": {
    "execution": {
     "iopub.execute_input": "2022-12-13T19:30:43.277644Z",
     "iopub.status.busy": "2022-12-13T19:30:43.277221Z",
     "iopub.status.idle": "2022-12-13T19:30:43.337396Z",
     "shell.execute_reply": "2022-12-13T19:30:43.336356Z",
     "shell.execute_reply.started": "2022-12-13T19:30:43.277600Z"
    },
    "tags": []
   },
   "outputs": [
    {
     "data": {
      "text/plain": [
       "Toronto, On         119239\n",
       "Vancouver           111470\n",
       "Edmonton             38693\n",
       "Calgary              34546\n",
       "Burnaby              21716\n",
       "                     ...  \n",
       "Pabineau Falls           1\n",
       "Red Bank Reserve         1\n",
       "Rexton                   1\n",
       "Rusagonis                1\n",
       "Torreon Coahuila         1\n",
       "Name: city, Length: 1537, dtype: int64"
      ]
     },
     "execution_count": 73,
     "metadata": {},
     "output_type": "execute_result"
    }
   ],
   "source": [
    "df['city'].value_counts()\n"
   ]
  },
  {
   "cell_type": "code",
   "execution_count": 72,
   "metadata": {
    "execution": {
     "iopub.execute_input": "2022-12-13T19:30:37.229935Z",
     "iopub.status.busy": "2022-12-13T19:30:37.229580Z",
     "iopub.status.idle": "2022-12-13T19:30:37.606736Z",
     "shell.execute_reply": "2022-12-13T19:30:37.605676Z",
     "shell.execute_reply.started": "2022-12-13T19:30:37.229896Z"
    },
    "tags": []
   },
   "outputs": [],
   "source": [
    "df['city'] = df['city'].str.title()"
   ]
  },
  {
   "cell_type": "code",
   "execution_count": 75,
   "metadata": {
    "execution": {
     "iopub.execute_input": "2022-12-13T19:33:17.728228Z",
     "iopub.status.busy": "2022-12-13T19:33:17.727932Z",
     "iopub.status.idle": "2022-12-13T19:33:19.234135Z",
     "shell.execute_reply": "2022-12-13T19:33:19.233303Z",
     "shell.execute_reply.started": "2022-12-13T19:33:17.728199Z"
    }
   },
   "outputs": [],
   "source": [
    "df['city'] = df['city'].str.split(',').str[0]"
   ]
  },
  {
   "cell_type": "code",
   "execution_count": 77,
   "metadata": {
    "execution": {
     "iopub.execute_input": "2022-12-19T16:49:07.521232Z",
     "iopub.status.busy": "2022-12-19T16:49:07.520968Z",
     "iopub.status.idle": "2022-12-19T16:49:08.089843Z",
     "shell.execute_reply": "2022-12-19T16:49:08.088634Z",
     "shell.execute_reply.started": "2022-12-19T16:49:07.521205Z"
    }
   },
   "outputs": [],
   "source": [
    "df['street_name'] = df['street_name'].str.title()"
   ]
  },
  {
   "cell_type": "code",
   "execution_count": 79,
   "metadata": {
    "execution": {
     "iopub.execute_input": "2022-12-20T18:15:51.225098Z",
     "iopub.status.busy": "2022-12-20T18:15:51.224790Z",
     "iopub.status.idle": "2022-12-20T18:15:51.321873Z",
     "shell.execute_reply": "2022-12-20T18:15:51.321143Z",
     "shell.execute_reply.started": "2022-12-20T18:15:51.225066Z"
    }
   },
   "outputs": [
    {
     "data": {
      "text/plain": [
       "49.2927534771159     1976\n",
       "53.522263             417\n",
       "43.89051458121729     404\n",
       "49.2822434350563      401\n",
       "49.2834005265727      395\n",
       "                     ... \n",
       "49.19074793             1\n",
       "49.19068709             1\n",
       "49.19055852             1\n",
       "49.19061083             1\n",
       "49.19137883             1\n",
       "Name: latitude, Length: 129654, dtype: int64"
      ]
     },
     "execution_count": 79,
     "metadata": {},
     "output_type": "execute_result"
    }
   ],
   "source": [
    "df['latitude'].value_counts()\n"
   ]
  },
  {
   "cell_type": "code",
   "execution_count": 92,
   "metadata": {
    "execution": {
     "iopub.execute_input": "2022-12-20T18:36:26.095854Z",
     "iopub.status.busy": "2022-12-20T18:36:26.095601Z",
     "iopub.status.idle": "2022-12-20T18:36:26.183503Z",
     "shell.execute_reply": "2022-12-20T18:36:26.182494Z",
     "shell.execute_reply.started": "2022-12-20T18:36:26.095828Z"
    },
    "tags": []
   },
   "outputs": [
    {
     "data": {
      "text/plain": [
       "NaN                   142110\n",
       "-123.000015428837       1976\n",
       "-113.618482              417\n",
       "-78.87918226923033       404\n",
       "-123.119500778402        401\n",
       "                       ...  \n",
       "-119.41197                 1\n",
       "-119.46659                 1\n",
       "-123.117212799015          1\n",
       "-119.41209                 1\n",
       "-122.4762411               1\n",
       "Name: longitude, Length: 134197, dtype: int64"
      ]
     },
     "execution_count": 92,
     "metadata": {},
     "output_type": "execute_result"
    }
   ],
   "source": [
    "df['longitude'].value_counts(dropna=False)\n"
   ]
  },
  {
   "cell_type": "code",
   "execution_count": null,
   "metadata": {
    "execution": {
     "iopub.execute_input": "2022-12-20T18:40:15.673510Z",
     "iopub.status.busy": "2022-12-20T18:40:15.673246Z"
    },
    "tags": []
   },
   "outputs": [],
   "source": [
    "df['longitude'].sort_values()"
   ]
  },
  {
   "cell_type": "code",
   "execution_count": null,
   "metadata": {
    "tags": []
   },
   "outputs": [],
   "source": [
    "df=df[~df['latitude'].between(41.45,83)]."
   ]
  },
  {
   "cell_type": "code",
   "execution_count": null,
   "metadata": {
    "tags": []
   },
   "outputs": [],
   "source": [
    "df[~df['latitude'].stack().between(41.45,83).unstack()]\n",
    "#.dropna(axis=1)"
   ]
  },
  {
   "cell_type": "code",
   "execution_count": 85,
   "metadata": {
    "execution": {
     "iopub.execute_input": "2022-12-20T18:30:08.930219Z",
     "iopub.status.busy": "2022-12-20T18:30:08.929851Z",
     "iopub.status.idle": "2022-12-20T18:30:08.985381Z",
     "shell.execute_reply": "2022-12-20T18:30:08.984192Z",
     "shell.execute_reply.started": "2022-12-20T18:30:08.930179Z"
    }
   },
   "outputs": [
    {
     "data": {
      "text/plain": [
       "416854"
      ]
     },
     "execution_count": 85,
     "metadata": {},
     "output_type": "execute_result"
    }
   ],
   "source": [
    "df['longitude'].count()"
   ]
  },
  {
   "cell_type": "code",
   "execution_count": null,
   "metadata": {},
   "outputs": [],
   "source": []
  }
 ],
 "metadata": {
  "kernelspec": {
   "display_name": "Python 3 (ipykernel)",
   "language": "python",
   "name": "python3"
  },
  "language_info": {
   "codemirror_mode": {
    "name": "ipython",
    "version": 3
   },
   "file_extension": ".py",
   "mimetype": "text/x-python",
   "name": "python",
   "nbconvert_exporter": "python",
   "pygments_lexer": "ipython3",
   "version": "3.8.12"
  }
 },
 "nbformat": 4,
 "nbformat_minor": 4
}
