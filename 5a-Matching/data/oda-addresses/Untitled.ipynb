{
 "cells": [
  {
   "cell_type": "code",
   "execution_count": 10,
   "metadata": {
    "execution": {
     "iopub.execute_input": "2022-11-22T22:08:26.445359Z",
     "iopub.status.busy": "2022-11-22T22:08:26.445084Z",
     "iopub.status.idle": "2022-11-22T22:08:26.448822Z",
     "shell.execute_reply": "2022-11-22T22:08:26.448130Z",
     "shell.execute_reply.started": "2022-11-22T22:08:26.445333Z"
    },
    "tags": []
   },
   "outputs": [],
   "source": [
    "import pandas as pd\n",
    "import numpy as np\n",
    "\n",
    "import mitosheet"
   ]
  },
  {
   "cell_type": "code",
   "execution_count": 13,
   "metadata": {
    "execution": {
     "iopub.execute_input": "2022-11-22T22:13:37.747308Z",
     "iopub.status.busy": "2022-11-22T22:13:37.747049Z",
     "iopub.status.idle": "2022-11-22T22:13:47.398822Z",
     "shell.execute_reply": "2022-11-22T22:13:47.397890Z",
     "shell.execute_reply.started": "2022-11-22T22:13:37.747278Z"
    },
    "tags": []
   },
   "outputs": [],
   "source": [
    "df = pd.read_csv('ODA_AB_v1_formatted.csv', low_memory=False)"
   ]
  },
  {
   "cell_type": "code",
   "execution_count": 14,
   "metadata": {
    "execution": {
     "iopub.execute_input": "2022-11-22T22:13:47.400568Z",
     "iopub.status.busy": "2022-11-22T22:13:47.400355Z",
     "iopub.status.idle": "2022-11-22T22:13:47.850251Z",
     "shell.execute_reply": "2022-11-22T22:13:47.849468Z",
     "shell.execute_reply.started": "2022-11-22T22:13:47.400543Z"
    },
    "tags": []
   },
   "outputs": [
    {
     "data": {
      "application/vnd.jupyter.widget-view+json": {
       "model_id": "dea528e80f004c77a685814f8d571602",
       "version_major": 2,
       "version_minor": 0
      },
      "text/plain": [
       "MitoWidget(analysis_data_json='{\"analysisName\": \"id-yyxokcgygm\", \"analysisToReplay\": {\"analysisName\": \"id-uixh…"
      ]
     },
     "metadata": {},
     "output_type": "display_data"
    }
   ],
   "source": [
    "mitosheet.sheet(df, analysis_to_replay=\"id-uixhyydjdj\")"
   ]
  },
  {
   "cell_type": "code",
   "execution_count": null,
   "metadata": {},
   "outputs": [],
   "source": [
    "from mitosheet import *; register_analysis(\"id-uixhyydjdj\");\n",
    "    \n",
    "# Reordered column street_formatted\n",
    "df_columns = [col for col in df.columns if col != 'street_formatted']\n",
    "df_columns.insert(7, 'street_formatted')\n",
    "df = df[df_columns]\n"
   ]
  }
 ],
 "metadata": {
  "kernelspec": {
   "display_name": "Python 3 (ipykernel)",
   "language": "python",
   "name": "python3"
  },
  "language_info": {
   "codemirror_mode": {
    "name": "ipython",
    "version": 3
   },
   "file_extension": ".py",
   "mimetype": "text/x-python",
   "name": "python",
   "nbconvert_exporter": "python",
   "pygments_lexer": "ipython3",
   "version": "3.8.12"
  }
 },
 "nbformat": 4,
 "nbformat_minor": 4
}
