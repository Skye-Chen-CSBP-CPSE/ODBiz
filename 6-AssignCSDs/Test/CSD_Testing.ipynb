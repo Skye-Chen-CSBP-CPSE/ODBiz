{
 "cells": [
  {
   "cell_type": "code",
   "execution_count": 9,
   "metadata": {
    "execution": {
     "iopub.execute_input": "2022-09-14T17:05:17.840226Z",
     "iopub.status.busy": "2022-09-14T17:05:17.839567Z",
     "iopub.status.idle": "2022-09-14T17:05:32.296163Z",
     "shell.execute_reply": "2022-09-14T17:05:32.295067Z",
     "shell.execute_reply.started": "2022-09-14T17:05:17.840188Z"
    },
    "tags": []
   },
   "outputs": [],
   "source": [
    "#creating sample of size 1000 to test csds on \n",
    "\n",
    "# importing package\n",
    "import pandas as pd\n",
    "import random\n",
    "import csv\n",
    "\n",
    "\n",
    "# file paths\n",
    "filename = '/home/jovyan/ODBiz/6-AssignCSDs/Test/4-ODBiz_merged_2022-07-28-Copy1.csv'\n",
    "newfile = '/home/jovyan/ODBiz/6-AssignCSDs/Test/Filtred_Sample.csv'\n",
    "\n",
    "\n",
    "\n",
    "# filtering original merging csv \n",
    "data = pd.read_csv(filename, low_memory=False)                             # read the file in as a csv file\n",
    "data = pd.DataFrame(data)                                                  # turn it into a data frame \n",
    "data = data.loc[(data['latitude'] > 0 ) & (data['longitude'] < 0 ) ]       # filter so that it only contains the rows with lat/long info \n",
    "\n",
    "data.to_csv(newfile, index=False)                                          # save new data frame as a csv  \n",
    "\n",
    "\n",
    "\n",
    "\n",
    "\n",
    "#create sample data set \n",
    "n = sum(1 for line in open(newfile)) - 1                                  # number of records in file (excludes header)\n",
    "s = 1000                                                                # desired sample size = 1000\n",
    "skip = sorted(random.sample(range(1,n+1),n-s))                            # the 0-indexed header will not be included in the skip list\n",
    "df = pd.read_csv(newfile, skiprows=skip)\n",
    "\n",
    "df = pd.DataFrame(df)\n",
    "\n",
    "\n",
    "df.to_csv('/home/jovyan/ODBiz/6-AssignCSDs/Test/Sample.csv', index=False)  \n",
    "\n",
    "#df.to_csv('/home/jovyan/ODBiz/6-AssignCSDs/Test/Sample_Set_1000.csv', index=False)     # save to Sample Set file "
   ]
  },
  {
   "cell_type": "code",
   "execution_count": 10,
   "metadata": {
    "execution": {
     "iopub.execute_input": "2022-09-14T17:06:23.063504Z",
     "iopub.status.busy": "2022-09-14T17:06:23.063031Z",
     "iopub.status.idle": "2022-09-14T17:06:26.423265Z",
     "shell.execute_reply": "2022-09-14T17:06:26.422432Z",
     "shell.execute_reply.started": "2022-09-14T17:06:23.063475Z"
    },
    "tags": []
   },
   "outputs": [],
   "source": [
    "\"\"\"\n",
    "this code was modified from the ODHF v2 project for the ODBiz project\n",
    "\"\"\"\n",
    "\n",
    "import pandas as pd\n",
    "import geopandas as gpd\n",
    "\n",
    "df=pd.read_csv(\"/home/jovyan/ODBiz/6-AssignCSDs/Test/Sample.csv\", low_memory=False, dtype='str')\n",
    "\n",
    "#df=pd.read_csv(\"/home/jovyan/ODBiz/6-AssignCSDs/Test/Sample_Set_1000.csv\", low_memory=False, dtype='str')\n",
    "\n",
    "\n",
    "\n",
    "gdf = gpd.GeoDataFrame(df, geometry=gpd.points_from_xy(df['longitude'], df['latitude']))\n",
    "gdf.crs=\"EPSG:4326\"\n",
    "\n",
    "\n",
    "#read in Statcan boundary file\n",
    "CSD = gpd.read_file(\"/home/jovyan/ODBiz/6-AssignCSDs/CSD_shapefile/lcsd000a16a_e.shx\")\n",
    "CSD=CSD[['CSDUID', 'CSDNAME','PRUID', 'geometry']]\n",
    "\n",
    "#convert geometry of addresses to statcan geometry\n",
    "gdf=gdf.to_crs(CSD.crs)\n",
    "\n",
    "\n",
    "#perform spatial merge\n",
    "gdf_csd=gpd.sjoin(gdf,CSD, predicate='within', how='left')\n",
    "\n",
    "df=pd.DataFrame(gdf_csd)\n",
    "\n",
    "\n",
    "\n",
    "df.to_csv('/home/jovyan/ODBiz/6-AssignCSDs/Test/Test_CSDs.csv', index=False)\n",
    "#df.to_csv('/home/jovyan/ODBiz/7-Deduplication/inputs/Test_CSDs.csv', index=False)"
   ]
  },
  {
   "cell_type": "code",
   "execution_count": null,
   "metadata": {},
   "outputs": [],
   "source": []
  },
  {
   "cell_type": "code",
   "execution_count": null,
   "metadata": {},
   "outputs": [],
   "source": []
  }
 ],
 "metadata": {
  "kernelspec": {
   "display_name": "Python [conda env:odbiz]",
   "language": "python",
   "name": "conda-env-odbiz-py"
  },
  "language_info": {
   "codemirror_mode": {
    "name": "ipython",
    "version": 3
   },
   "file_extension": ".py",
   "mimetype": "text/x-python",
   "name": "python",
   "nbconvert_exporter": "python",
   "pygments_lexer": "ipython3",
   "version": "3.8.13"
  }
 },
 "nbformat": 4,
 "nbformat_minor": 4
}
