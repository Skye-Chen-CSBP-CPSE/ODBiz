{
 "cells": [
  {
   "cell_type": "code",
   "execution_count": 68,
   "metadata": {
    "execution": {
     "iopub.execute_input": "2022-10-25T17:51:35.551367Z",
     "iopub.status.busy": "2022-10-25T17:51:35.551095Z",
     "iopub.status.idle": "2022-10-25T17:51:35.555547Z",
     "shell.execute_reply": "2022-10-25T17:51:35.554503Z",
     "shell.execute_reply.started": "2022-10-25T17:51:35.551340Z"
    },
    "tags": []
   },
   "outputs": [],
   "source": [
    "import pandas as pd\n"
   ]
  },
  {
   "cell_type": "code",
   "execution_count": 77,
   "metadata": {
    "execution": {
     "iopub.execute_input": "2022-10-25T18:30:50.845821Z",
     "iopub.status.busy": "2022-10-25T18:30:50.845568Z",
     "iopub.status.idle": "2022-10-25T18:30:52.139087Z",
     "shell.execute_reply": "2022-10-25T18:30:52.138317Z",
     "shell.execute_reply.started": "2022-10-25T18:30:50.845791Z"
    },
    "tags": []
   },
   "outputs": [],
   "source": [
    "import requests\n",
    "import pandas as pd\n",
    "from zipfile import ZipFile\n",
    "from io import BytesIO\n",
    "\n",
    "r = requests.get(\"https://www150.statcan.gc.ca/n1/tbl/csv/33100395-eng.zip\")\n",
    "files = ZipFile(BytesIO(r.content))\n",
    "df = pd.read_csv(files.open(\"33100395.csv\"))\n",
    "\n",
    "r = requests.get(\"https://www150.statcan.gc.ca/n1/tbl/csv/33100396-eng.zip\")\n",
    "files = ZipFile(BytesIO(r.content))\n",
    "df2 = pd.read_csv(files.open(\"33100396.csv\"))"
   ]
  },
  {
   "cell_type": "code",
   "execution_count": 55,
   "metadata": {
    "execution": {
     "iopub.execute_input": "2022-10-20T21:08:19.871803Z",
     "iopub.status.busy": "2022-10-20T21:08:19.871547Z",
     "iopub.status.idle": "2022-10-20T21:08:19.884919Z",
     "shell.execute_reply": "2022-10-20T21:08:19.884045Z",
     "shell.execute_reply.started": "2022-10-20T21:08:19.871775Z"
    },
    "tags": []
   },
   "outputs": [],
   "source": [
    "# Province counts for number of businesses\n",
    "\n",
    "df = df[df['Employment size'] == 'Total, with employees']\n",
    "df_provinces = df[df['North American Industry Classification System (NAICS)'] == 'Total, all industries [1]']\n",
    "df_provinces = df_provinces[['GEO', 'VALUE']]\n",
    "\n",
    "# df2 = df2[df2['Employment size'] == 'Total, with employees']\n",
    "df_provinces2 = df2[df2['North American Industry Classification System (NAICS)'] == 'Total, all industries [1]']\n",
    "df_provinces2 = df_provinces2[['GEO', 'VALUE']]"
   ]
  },
  {
   "cell_type": "code",
   "execution_count": 56,
   "metadata": {
    "execution": {
     "iopub.execute_input": "2022-10-20T21:08:22.341882Z",
     "iopub.status.busy": "2022-10-20T21:08:22.341600Z",
     "iopub.status.idle": "2022-10-20T21:08:22.351891Z",
     "shell.execute_reply": "2022-10-20T21:08:22.350955Z",
     "shell.execute_reply.started": "2022-10-20T21:08:22.341845Z"
    },
    "tags": []
   },
   "outputs": [],
   "source": [
    "result = pd.merge(df_provinces, df_provinces2, on=\"GEO\")"
   ]
  },
  {
   "cell_type": "code",
   "execution_count": 57,
   "metadata": {
    "execution": {
     "iopub.execute_input": "2022-10-20T21:08:22.629459Z",
     "iopub.status.busy": "2022-10-20T21:08:22.629177Z",
     "iopub.status.idle": "2022-10-20T21:08:22.638172Z",
     "shell.execute_reply": "2022-10-20T21:08:22.637240Z",
     "shell.execute_reply.started": "2022-10-20T21:08:22.629429Z"
    },
    "tags": []
   },
   "outputs": [
    {
     "data": {
      "text/html": [
       "<div>\n",
       "<style scoped>\n",
       "    .dataframe tbody tr th:only-of-type {\n",
       "        vertical-align: middle;\n",
       "    }\n",
       "\n",
       "    .dataframe tbody tr th {\n",
       "        vertical-align: top;\n",
       "    }\n",
       "\n",
       "    .dataframe thead th {\n",
       "        text-align: right;\n",
       "    }\n",
       "</style>\n",
       "<table border=\"1\" class=\"dataframe\">\n",
       "  <thead>\n",
       "    <tr style=\"text-align: right;\">\n",
       "      <th></th>\n",
       "      <th>GEO</th>\n",
       "      <th>VALUE_x</th>\n",
       "      <th>VALUE_y</th>\n",
       "    </tr>\n",
       "  </thead>\n",
       "  <tbody>\n",
       "    <tr>\n",
       "      <th>0</th>\n",
       "      <td>Canada</td>\n",
       "      <td>1291424</td>\n",
       "      <td>2961476</td>\n",
       "    </tr>\n",
       "    <tr>\n",
       "      <th>1</th>\n",
       "      <td>Newfoundland and Labrador</td>\n",
       "      <td>18849</td>\n",
       "      <td>22191</td>\n",
       "    </tr>\n",
       "    <tr>\n",
       "      <th>2</th>\n",
       "      <td>Prince Edward Island</td>\n",
       "      <td>6637</td>\n",
       "      <td>10531</td>\n",
       "    </tr>\n",
       "    <tr>\n",
       "      <th>3</th>\n",
       "      <td>Nova Scotia</td>\n",
       "      <td>31189</td>\n",
       "      <td>50794</td>\n",
       "    </tr>\n",
       "    <tr>\n",
       "      <th>4</th>\n",
       "      <td>New Brunswick</td>\n",
       "      <td>25994</td>\n",
       "      <td>32273</td>\n",
       "    </tr>\n",
       "    <tr>\n",
       "      <th>5</th>\n",
       "      <td>Quebec</td>\n",
       "      <td>268497</td>\n",
       "      <td>629442</td>\n",
       "    </tr>\n",
       "    <tr>\n",
       "      <th>6</th>\n",
       "      <td>Ontario</td>\n",
       "      <td>475688</td>\n",
       "      <td>1169092</td>\n",
       "    </tr>\n",
       "    <tr>\n",
       "      <th>7</th>\n",
       "      <td>Manitoba</td>\n",
       "      <td>42474</td>\n",
       "      <td>84192</td>\n",
       "    </tr>\n",
       "    <tr>\n",
       "      <th>8</th>\n",
       "      <td>Saskatchewan</td>\n",
       "      <td>42500</td>\n",
       "      <td>106771</td>\n",
       "    </tr>\n",
       "    <tr>\n",
       "      <th>9</th>\n",
       "      <td>Alberta</td>\n",
       "      <td>170368</td>\n",
       "      <td>375968</td>\n",
       "    </tr>\n",
       "    <tr>\n",
       "      <th>10</th>\n",
       "      <td>British Columbia</td>\n",
       "      <td>205005</td>\n",
       "      <td>474749</td>\n",
       "    </tr>\n",
       "    <tr>\n",
       "      <th>11</th>\n",
       "      <td>Yukon</td>\n",
       "      <td>1911</td>\n",
       "      <td>3076</td>\n",
       "    </tr>\n",
       "    <tr>\n",
       "      <th>12</th>\n",
       "      <td>Northwest Territories</td>\n",
       "      <td>1585</td>\n",
       "      <td>1768</td>\n",
       "    </tr>\n",
       "    <tr>\n",
       "      <th>13</th>\n",
       "      <td>Nunavut</td>\n",
       "      <td>727</td>\n",
       "      <td>629</td>\n",
       "    </tr>\n",
       "  </tbody>\n",
       "</table>\n",
       "</div>"
      ],
      "text/plain": [
       "                          GEO  VALUE_x  VALUE_y\n",
       "0                      Canada  1291424  2961476\n",
       "1   Newfoundland and Labrador    18849    22191\n",
       "2        Prince Edward Island     6637    10531\n",
       "3                 Nova Scotia    31189    50794\n",
       "4               New Brunswick    25994    32273\n",
       "5                      Quebec   268497   629442\n",
       "6                     Ontario   475688  1169092\n",
       "7                    Manitoba    42474    84192\n",
       "8                Saskatchewan    42500   106771\n",
       "9                     Alberta   170368   375968\n",
       "10           British Columbia   205005   474749\n",
       "11                      Yukon     1911     3076\n",
       "12      Northwest Territories     1585     1768\n",
       "13                    Nunavut      727      629"
      ]
     },
     "execution_count": 57,
     "metadata": {},
     "output_type": "execute_result"
    }
   ],
   "source": [
    "result"
   ]
  },
  {
   "cell_type": "code",
   "execution_count": 66,
   "metadata": {
    "execution": {
     "iopub.execute_input": "2022-10-20T21:10:14.828376Z",
     "iopub.status.busy": "2022-10-20T21:10:14.828101Z",
     "iopub.status.idle": "2022-10-20T21:10:14.833890Z",
     "shell.execute_reply": "2022-10-20T21:10:14.832890Z",
     "shell.execute_reply.started": "2022-10-20T21:10:14.828334Z"
    },
    "tags": []
   },
   "outputs": [],
   "source": [
    "result.to_csv('br_province.csv', index=False)"
   ]
  },
  {
   "cell_type": "code",
   "execution_count": 78,
   "metadata": {
    "execution": {
     "iopub.execute_input": "2022-10-25T18:30:56.553918Z",
     "iopub.status.busy": "2022-10-25T18:30:56.553632Z",
     "iopub.status.idle": "2022-10-25T18:30:56.570306Z",
     "shell.execute_reply": "2022-10-25T18:30:56.569574Z",
     "shell.execute_reply.started": "2022-10-25T18:30:56.553888Z"
    },
    "tags": []
   },
   "outputs": [],
   "source": [
    "# Counts by NAICS code for whole of Canada\n",
    "\n",
    "df_naics = df[df['GEO'] == 'Canada']\n",
    "df_naics2 = df2[df2['GEO'] == 'Canada']"
   ]
  },
  {
   "cell_type": "code",
   "execution_count": 79,
   "metadata": {
    "execution": {
     "iopub.execute_input": "2022-10-25T18:31:02.621054Z",
     "iopub.status.busy": "2022-10-25T18:31:02.620768Z",
     "iopub.status.idle": "2022-10-25T18:31:02.627308Z",
     "shell.execute_reply": "2022-10-25T18:31:02.626542Z",
     "shell.execute_reply.started": "2022-10-25T18:31:02.621029Z"
    },
    "tags": []
   },
   "outputs": [],
   "source": [
    "df_naics = df_naics[['North American Industry Classification System (NAICS)', 'VALUE']]\n",
    "# df_naics = df_naics.sort_values(['VALUE'], ascending=False)\n",
    "\n",
    "df_naics2 = df_naics2[['North American Industry Classification System (NAICS)', 'VALUE']]\n",
    "# df_naics2 = df_naics2.sort_values(['VALUE'], ascending=False)"
   ]
  },
  {
   "cell_type": "code",
   "execution_count": 80,
   "metadata": {
    "execution": {
     "iopub.execute_input": "2022-10-25T18:31:06.601028Z",
     "iopub.status.busy": "2022-10-25T18:31:06.600483Z",
     "iopub.status.idle": "2022-10-25T18:31:06.611274Z",
     "shell.execute_reply": "2022-10-25T18:31:06.610515Z",
     "shell.execute_reply.started": "2022-10-25T18:31:06.600989Z"
    },
    "tags": []
   },
   "outputs": [],
   "source": [
    "result2 = pd.merge(df_naics, df_naics2, on=\"North American Industry Classification System (NAICS)\")"
   ]
  },
  {
   "cell_type": "code",
   "execution_count": 87,
   "metadata": {
    "execution": {
     "iopub.execute_input": "2022-10-25T18:34:53.227599Z",
     "iopub.status.busy": "2022-10-25T18:34:53.227337Z",
     "iopub.status.idle": "2022-10-25T18:34:53.232136Z",
     "shell.execute_reply": "2022-10-25T18:34:53.231161Z",
     "shell.execute_reply.started": "2022-10-25T18:34:53.227574Z"
    },
    "tags": []
   },
   "outputs": [],
   "source": [
    "result2['number'] = result2['VALUE_x'] + result2['VALUE_y']"
   ]
  },
  {
   "cell_type": "code",
   "execution_count": 88,
   "metadata": {
    "execution": {
     "iopub.execute_input": "2022-10-25T18:35:00.920703Z",
     "iopub.status.busy": "2022-10-25T18:35:00.920377Z",
     "iopub.status.idle": "2022-10-25T18:35:00.927204Z",
     "shell.execute_reply": "2022-10-25T18:35:00.926411Z",
     "shell.execute_reply.started": "2022-10-25T18:35:00.920631Z"
    }
   },
   "outputs": [],
   "source": [
    "result2 = result2.sort_values(['number'], ascending=False)"
   ]
  },
  {
   "cell_type": "code",
   "execution_count": 90,
   "metadata": {
    "execution": {
     "iopub.execute_input": "2022-10-25T18:36:02.151654Z",
     "iopub.status.busy": "2022-10-25T18:36:02.151365Z",
     "iopub.status.idle": "2022-10-25T18:36:02.158373Z",
     "shell.execute_reply": "2022-10-25T18:36:02.157572Z",
     "shell.execute_reply.started": "2022-10-25T18:36:02.151625Z"
    },
    "tags": []
   },
   "outputs": [],
   "source": [
    "result2.head(200).to_csv('br_naics.csv', index=False)"
   ]
  },
  {
   "cell_type": "code",
   "execution_count": 92,
   "metadata": {
    "execution": {
     "iopub.execute_input": "2022-10-25T18:38:59.049606Z",
     "iopub.status.busy": "2022-10-25T18:38:59.049255Z",
     "iopub.status.idle": "2022-10-25T18:38:59.058160Z",
     "shell.execute_reply": "2022-10-25T18:38:59.057423Z",
     "shell.execute_reply.started": "2022-10-25T18:38:59.049570Z"
    },
    "tags": []
   },
   "outputs": [],
   "source": [
    "df_dup = result2[result2.duplicated(subset=['North American Industry Classification System (NAICS)'], keep='first')]\n"
   ]
  },
  {
   "cell_type": "code",
   "execution_count": 93,
   "metadata": {
    "execution": {
     "iopub.execute_input": "2022-10-25T18:39:13.604534Z",
     "iopub.status.busy": "2022-10-25T18:39:13.604249Z",
     "iopub.status.idle": "2022-10-25T18:39:13.610518Z",
     "shell.execute_reply": "2022-10-25T18:39:13.609789Z",
     "shell.execute_reply.started": "2022-10-25T18:39:13.604505Z"
    }
   },
   "outputs": [],
   "source": [
    "df_dup.head(200).to_csv('br_naics_2.csv', index=False)"
   ]
  },
  {
   "cell_type": "code",
   "execution_count": 95,
   "metadata": {
    "execution": {
     "iopub.execute_input": "2022-10-25T18:40:47.886097Z",
     "iopub.status.busy": "2022-10-25T18:40:47.885682Z",
     "iopub.status.idle": "2022-10-25T18:40:47.904063Z",
     "shell.execute_reply": "2022-10-25T18:40:47.903338Z",
     "shell.execute_reply.started": "2022-10-25T18:40:47.886056Z"
    },
    "tags": []
   },
   "outputs": [
    {
     "data": {
      "text/html": [
       "<div>\n",
       "<style scoped>\n",
       "    .dataframe tbody tr th:only-of-type {\n",
       "        vertical-align: middle;\n",
       "    }\n",
       "\n",
       "    .dataframe tbody tr th {\n",
       "        vertical-align: top;\n",
       "    }\n",
       "\n",
       "    .dataframe thead th {\n",
       "        text-align: right;\n",
       "    }\n",
       "</style>\n",
       "<table border=\"1\" class=\"dataframe\">\n",
       "  <thead>\n",
       "    <tr style=\"text-align: right;\">\n",
       "      <th></th>\n",
       "      <th>REF_DATE</th>\n",
       "      <th>GEO</th>\n",
       "      <th>DGUID</th>\n",
       "      <th>Employment size</th>\n",
       "      <th>North American Industry Classification System (NAICS)</th>\n",
       "      <th>UOM</th>\n",
       "      <th>UOM_ID</th>\n",
       "      <th>SCALAR_FACTOR</th>\n",
       "      <th>SCALAR_ID</th>\n",
       "      <th>VECTOR</th>\n",
       "      <th>COORDINATE</th>\n",
       "      <th>VALUE</th>\n",
       "      <th>STATUS</th>\n",
       "      <th>SYMBOL</th>\n",
       "      <th>TERMINATED</th>\n",
       "      <th>DECIMALS</th>\n",
       "    </tr>\n",
       "  </thead>\n",
       "  <tbody>\n",
       "    <tr>\n",
       "      <th>0</th>\n",
       "      <td>2021-01</td>\n",
       "      <td>Canada</td>\n",
       "      <td>2016A000011124</td>\n",
       "      <td>Total, with employees</td>\n",
       "      <td>Total, all industries [1]</td>\n",
       "      <td>Number</td>\n",
       "      <td>223</td>\n",
       "      <td>units</td>\n",
       "      <td>0</td>\n",
       "      <td>v1280848899</td>\n",
       "      <td>1.1.1</td>\n",
       "      <td>1291424</td>\n",
       "      <td>NaN</td>\n",
       "      <td>NaN</td>\n",
       "      <td>NaN</td>\n",
       "      <td>0</td>\n",
       "    </tr>\n",
       "    <tr>\n",
       "      <th>1</th>\n",
       "      <td>2021-01</td>\n",
       "      <td>Canada</td>\n",
       "      <td>2016A000011124</td>\n",
       "      <td>Total, with employees</td>\n",
       "      <td>Unclassified [2]</td>\n",
       "      <td>Number</td>\n",
       "      <td>223</td>\n",
       "      <td>units</td>\n",
       "      <td>0</td>\n",
       "      <td>v1280848900</td>\n",
       "      <td>1.1.2</td>\n",
       "      <td>83990</td>\n",
       "      <td>NaN</td>\n",
       "      <td>NaN</td>\n",
       "      <td>NaN</td>\n",
       "      <td>0</td>\n",
       "    </tr>\n",
       "    <tr>\n",
       "      <th>2</th>\n",
       "      <td>2021-01</td>\n",
       "      <td>Canada</td>\n",
       "      <td>2016A000011124</td>\n",
       "      <td>Total, with employees</td>\n",
       "      <td>Sub-total, classified [3]</td>\n",
       "      <td>Number</td>\n",
       "      <td>223</td>\n",
       "      <td>units</td>\n",
       "      <td>0</td>\n",
       "      <td>v1280848901</td>\n",
       "      <td>1.1.3</td>\n",
       "      <td>1207434</td>\n",
       "      <td>NaN</td>\n",
       "      <td>NaN</td>\n",
       "      <td>NaN</td>\n",
       "      <td>0</td>\n",
       "    </tr>\n",
       "    <tr>\n",
       "      <th>3</th>\n",
       "      <td>2021-01</td>\n",
       "      <td>Canada</td>\n",
       "      <td>2016A000011124</td>\n",
       "      <td>Total, with employees</td>\n",
       "      <td>Agriculture, forestry, fishing and hunting [11]</td>\n",
       "      <td>Number</td>\n",
       "      <td>223</td>\n",
       "      <td>units</td>\n",
       "      <td>0</td>\n",
       "      <td>v1280848902</td>\n",
       "      <td>1.1.4</td>\n",
       "      <td>48947</td>\n",
       "      <td>NaN</td>\n",
       "      <td>NaN</td>\n",
       "      <td>NaN</td>\n",
       "      <td>0</td>\n",
       "    </tr>\n",
       "    <tr>\n",
       "      <th>4</th>\n",
       "      <td>2021-01</td>\n",
       "      <td>Canada</td>\n",
       "      <td>2016A000011124</td>\n",
       "      <td>Total, with employees</td>\n",
       "      <td>Mining, quarrying, and oil and gas extraction ...</td>\n",
       "      <td>Number</td>\n",
       "      <td>223</td>\n",
       "      <td>units</td>\n",
       "      <td>0</td>\n",
       "      <td>v1280848903</td>\n",
       "      <td>1.1.5</td>\n",
       "      <td>7952</td>\n",
       "      <td>NaN</td>\n",
       "      <td>NaN</td>\n",
       "      <td>NaN</td>\n",
       "      <td>0</td>\n",
       "    </tr>\n",
       "    <tr>\n",
       "      <th>...</th>\n",
       "      <td>...</td>\n",
       "      <td>...</td>\n",
       "      <td>...</td>\n",
       "      <td>...</td>\n",
       "      <td>...</td>\n",
       "      <td>...</td>\n",
       "      <td>...</td>\n",
       "      <td>...</td>\n",
       "      <td>...</td>\n",
       "      <td>...</td>\n",
       "      <td>...</td>\n",
       "      <td>...</td>\n",
       "      <td>...</td>\n",
       "      <td>...</td>\n",
       "      <td>...</td>\n",
       "      <td>...</td>\n",
       "    </tr>\n",
       "    <tr>\n",
       "      <th>84922</th>\n",
       "      <td>2021-01</td>\n",
       "      <td>Nunavut</td>\n",
       "      <td>2016A000262</td>\n",
       "      <td>500 plus employees</td>\n",
       "      <td>Metal ore mining [2122]</td>\n",
       "      <td>Number</td>\n",
       "      <td>223</td>\n",
       "      <td>units</td>\n",
       "      <td>0</td>\n",
       "      <td>v1281021170</td>\n",
       "      <td>14.9.147</td>\n",
       "      <td>3</td>\n",
       "      <td>NaN</td>\n",
       "      <td>NaN</td>\n",
       "      <td>NaN</td>\n",
       "      <td>0</td>\n",
       "    </tr>\n",
       "    <tr>\n",
       "      <th>84923</th>\n",
       "      <td>2021-01</td>\n",
       "      <td>Nunavut</td>\n",
       "      <td>2016A000262</td>\n",
       "      <td>500 plus employees</td>\n",
       "      <td>Technical and trade schools [6115]</td>\n",
       "      <td>Number</td>\n",
       "      <td>223</td>\n",
       "      <td>units</td>\n",
       "      <td>0</td>\n",
       "      <td>v1281021411</td>\n",
       "      <td>14.9.388</td>\n",
       "      <td>1</td>\n",
       "      <td>NaN</td>\n",
       "      <td>NaN</td>\n",
       "      <td>NaN</td>\n",
       "      <td>0</td>\n",
       "    </tr>\n",
       "    <tr>\n",
       "      <th>84924</th>\n",
       "      <td>2021-01</td>\n",
       "      <td>Nunavut</td>\n",
       "      <td>2016A000262</td>\n",
       "      <td>500 plus employees</td>\n",
       "      <td>Iron ore mining [212210]</td>\n",
       "      <td>Number</td>\n",
       "      <td>223</td>\n",
       "      <td>units</td>\n",
       "      <td>0</td>\n",
       "      <td>v1281021531</td>\n",
       "      <td>14.9.508</td>\n",
       "      <td>1</td>\n",
       "      <td>NaN</td>\n",
       "      <td>NaN</td>\n",
       "      <td>NaN</td>\n",
       "      <td>0</td>\n",
       "    </tr>\n",
       "    <tr>\n",
       "      <th>84925</th>\n",
       "      <td>2021-01</td>\n",
       "      <td>Nunavut</td>\n",
       "      <td>2016A000262</td>\n",
       "      <td>500 plus employees</td>\n",
       "      <td>Gold and silver ore mining [212220]</td>\n",
       "      <td>Number</td>\n",
       "      <td>223</td>\n",
       "      <td>units</td>\n",
       "      <td>0</td>\n",
       "      <td>v1281021532</td>\n",
       "      <td>14.9.509</td>\n",
       "      <td>2</td>\n",
       "      <td>NaN</td>\n",
       "      <td>NaN</td>\n",
       "      <td>NaN</td>\n",
       "      <td>0</td>\n",
       "    </tr>\n",
       "    <tr>\n",
       "      <th>84926</th>\n",
       "      <td>2021-01</td>\n",
       "      <td>Nunavut</td>\n",
       "      <td>2016A000262</td>\n",
       "      <td>500 plus employees</td>\n",
       "      <td>Technical and trade schools [611510]</td>\n",
       "      <td>Number</td>\n",
       "      <td>223</td>\n",
       "      <td>units</td>\n",
       "      <td>0</td>\n",
       "      <td>v1281022235</td>\n",
       "      <td>14.9.1212</td>\n",
       "      <td>1</td>\n",
       "      <td>NaN</td>\n",
       "      <td>NaN</td>\n",
       "      <td>NaN</td>\n",
       "      <td>0</td>\n",
       "    </tr>\n",
       "  </tbody>\n",
       "</table>\n",
       "<p>84927 rows × 16 columns</p>\n",
       "</div>"
      ],
      "text/plain": [
       "      REF_DATE      GEO           DGUID        Employment size  \\\n",
       "0      2021-01   Canada  2016A000011124  Total, with employees   \n",
       "1      2021-01   Canada  2016A000011124  Total, with employees   \n",
       "2      2021-01   Canada  2016A000011124  Total, with employees   \n",
       "3      2021-01   Canada  2016A000011124  Total, with employees   \n",
       "4      2021-01   Canada  2016A000011124  Total, with employees   \n",
       "...        ...      ...             ...                    ...   \n",
       "84922  2021-01  Nunavut     2016A000262     500 plus employees   \n",
       "84923  2021-01  Nunavut     2016A000262     500 plus employees   \n",
       "84924  2021-01  Nunavut     2016A000262     500 plus employees   \n",
       "84925  2021-01  Nunavut     2016A000262     500 plus employees   \n",
       "84926  2021-01  Nunavut     2016A000262     500 plus employees   \n",
       "\n",
       "      North American Industry Classification System (NAICS)     UOM  UOM_ID  \\\n",
       "0                              Total, all industries [1]     Number     223   \n",
       "1                                       Unclassified [2]     Number     223   \n",
       "2                              Sub-total, classified [3]     Number     223   \n",
       "3        Agriculture, forestry, fishing and hunting [11]     Number     223   \n",
       "4      Mining, quarrying, and oil and gas extraction ...     Number     223   \n",
       "...                                                  ...        ...     ...   \n",
       "84922                            Metal ore mining [2122]     Number     223   \n",
       "84923                 Technical and trade schools [6115]     Number     223   \n",
       "84924                           Iron ore mining [212210]     Number     223   \n",
       "84925                Gold and silver ore mining [212220]     Number     223   \n",
       "84926               Technical and trade schools [611510]     Number     223   \n",
       "\n",
       "      SCALAR_FACTOR  SCALAR_ID       VECTOR COORDINATE    VALUE  STATUS  \\\n",
       "0             units          0  v1280848899      1.1.1  1291424     NaN   \n",
       "1             units          0  v1280848900      1.1.2    83990     NaN   \n",
       "2             units          0  v1280848901      1.1.3  1207434     NaN   \n",
       "3             units          0  v1280848902      1.1.4    48947     NaN   \n",
       "4             units          0  v1280848903      1.1.5     7952     NaN   \n",
       "...             ...        ...          ...        ...      ...     ...   \n",
       "84922         units          0  v1281021170   14.9.147        3     NaN   \n",
       "84923         units          0  v1281021411   14.9.388        1     NaN   \n",
       "84924         units          0  v1281021531   14.9.508        1     NaN   \n",
       "84925         units          0  v1281021532   14.9.509        2     NaN   \n",
       "84926         units          0  v1281022235  14.9.1212        1     NaN   \n",
       "\n",
       "       SYMBOL  TERMINATED  DECIMALS  \n",
       "0         NaN         NaN         0  \n",
       "1         NaN         NaN         0  \n",
       "2         NaN         NaN         0  \n",
       "3         NaN         NaN         0  \n",
       "4         NaN         NaN         0  \n",
       "...       ...         ...       ...  \n",
       "84922     NaN         NaN         0  \n",
       "84923     NaN         NaN         0  \n",
       "84924     NaN         NaN         0  \n",
       "84925     NaN         NaN         0  \n",
       "84926     NaN         NaN         0  \n",
       "\n",
       "[84927 rows x 16 columns]"
      ]
     },
     "execution_count": 95,
     "metadata": {},
     "output_type": "execute_result"
    }
   ],
   "source": [
    "df"
   ]
  },
  {
   "cell_type": "code",
   "execution_count": null,
   "metadata": {},
   "outputs": [],
   "source": []
  }
 ],
 "metadata": {
  "kernelspec": {
   "display_name": "Python 3 (ipykernel)",
   "language": "python",
   "name": "python3"
  },
  "language_info": {
   "codemirror_mode": {
    "name": "ipython",
    "version": 3
   },
   "file_extension": ".py",
   "mimetype": "text/x-python",
   "name": "python",
   "nbconvert_exporter": "python",
   "pygments_lexer": "ipython3",
   "version": "3.8.12"
  }
 },
 "nbformat": 4,
 "nbformat_minor": 4
}
