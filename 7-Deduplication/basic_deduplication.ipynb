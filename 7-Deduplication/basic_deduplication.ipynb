{
 "cells": [
  {
   "cell_type": "code",
   "execution_count": null,
   "metadata": {
    "tags": []
   },
   "outputs": [],
   "source": [
    "# this script deduplicates just on business name, city and province\n",
    "import pandas as pd\n",
    "\n",
    "df = pd.read_csv('~/ODBiz/5a-Matching/output/matched.csv', low_memory=False)\n",
    "\n",
    "\n",
    "# to identify duplicates:\n",
    "# (1) could identify exact matches with duplicated() function\n",
    "# (2) or use a fuzzy matching package such as 'the fuzz' to identify non-exact matches\n",
    "\n",
    "# to remove duplicates, we need to work out \n",
    "# (1) which sources we prioritise\n",
    "# (2) how we merge multiple data sources\n",
    "\n",
    "# variables to match on\n",
    "# name, address (province, city, street number, streen name), business sector?"
   ]
  },
  {
   "cell_type": "code",
   "execution_count": 10,
   "metadata": {
    "execution": {
     "iopub.execute_input": "2022-11-08T20:55:34.592804Z",
     "iopub.status.busy": "2022-11-08T20:55:34.592535Z",
     "iopub.status.idle": "2022-11-08T20:55:35.131167Z",
     "shell.execute_reply": "2022-11-08T20:55:35.130376Z",
     "shell.execute_reply.started": "2022-11-08T20:55:34.592767Z"
    },
    "tags": []
   },
   "outputs": [],
   "source": [
    "df_dup = df[df.duplicated(subset=['business_name', 'province', 'city', 'licence_number'], keep='first')]"
   ]
  },
  {
   "cell_type": "code",
   "execution_count": 11,
   "metadata": {
    "execution": {
     "iopub.execute_input": "2022-11-08T20:55:35.792473Z",
     "iopub.status.busy": "2022-11-08T20:55:35.792204Z",
     "iopub.status.idle": "2022-11-08T20:55:35.797241Z",
     "shell.execute_reply": "2022-11-08T20:55:35.796482Z",
     "shell.execute_reply.started": "2022-11-08T20:55:35.792447Z"
    },
    "tags": []
   },
   "outputs": [
    {
     "data": {
      "text/plain": [
       "47750"
      ]
     },
     "execution_count": 11,
     "metadata": {},
     "output_type": "execute_result"
    }
   ],
   "source": [
    "len(df_dup)"
   ]
  },
  {
   "cell_type": "code",
   "execution_count": null,
   "metadata": {},
   "outputs": [],
   "source": []
  }
 ],
 "metadata": {
  "kernelspec": {
   "display_name": "Python 3 (ipykernel)",
   "language": "python",
   "name": "python3"
  },
  "language_info": {
   "codemirror_mode": {
    "name": "ipython",
    "version": 3
   },
   "file_extension": ".py",
   "mimetype": "text/x-python",
   "name": "python",
   "nbconvert_exporter": "python",
   "pygments_lexer": "ipython3",
   "version": "3.8.12"
  }
 },
 "nbformat": 4,
 "nbformat_minor": 4
}
