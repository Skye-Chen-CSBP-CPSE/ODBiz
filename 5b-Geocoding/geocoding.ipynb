{
 "cells": [
  {
   "cell_type": "code",
   "execution_count": 7,
   "metadata": {
    "execution": {
     "iopub.execute_input": "2022-12-01T15:19:28.005864Z",
     "iopub.status.busy": "2022-12-01T15:19:28.005456Z",
     "iopub.status.idle": "2022-12-01T15:19:28.011758Z",
     "shell.execute_reply": "2022-12-01T15:19:28.010617Z",
     "shell.execute_reply.started": "2022-12-01T15:19:28.005819Z"
    },
    "tags": []
   },
   "outputs": [],
   "source": [
    "import requests\n",
    "import json\n",
    "import pandas as pd\n",
    "import numpy as np\n",
    "import time\n",
    "from os.path import exists\n",
    "from datetime import datetime\n",
    "\n",
    "# Libraries for GC API\n",
    "import os\n",
    "from dotenv import load_dotenv\n",
    "\n",
    "# For testing\n",
    "import mitosheet"
   ]
  },
  {
   "cell_type": "code",
   "execution_count": 8,
   "metadata": {
    "execution": {
     "iopub.execute_input": "2022-12-01T15:19:30.126635Z",
     "iopub.status.busy": "2022-12-01T15:19:30.126303Z",
     "iopub.status.idle": "2022-12-01T15:19:30.132726Z",
     "shell.execute_reply": "2022-12-01T15:19:30.131896Z",
     "shell.execute_reply.started": "2022-12-01T15:19:30.126602Z"
    },
    "tags": []
   },
   "outputs": [],
   "source": [
    "# requires a valid key to use the GC API\n",
    "# see docs https://api.canada.ca/en/homepage \n",
    "# create a .env file in this repository and add GC_API_KEY=\"YOUR_GC_API_KEY\"\n",
    "# make sure to add .env filetype to gitignore\n",
    "load_dotenv()\n",
    "gc_key = os.environ.get(\"GC_API_KEY\")\n",
    "\n",
    "# temporarily suppresses SettingWithCopyWarning\n",
    "pd.options.mode.chained_assignment = None "
   ]
  },
  {
   "cell_type": "code",
   "execution_count": 9,
   "metadata": {
    "execution": {
     "iopub.execute_input": "2022-12-01T15:19:31.722738Z",
     "iopub.status.busy": "2022-12-01T15:19:31.721259Z",
     "iopub.status.idle": "2022-12-01T15:19:41.400985Z",
     "shell.execute_reply": "2022-12-01T15:19:41.399879Z",
     "shell.execute_reply.started": "2022-12-01T15:19:31.722684Z"
    },
    "tags": []
   },
   "outputs": [],
   "source": [
    "input_data = \"../5a-Matching/output/matched_processed.csv\"\n",
    "df = pd.read_csv(input_data, low_memory=False, dtype=\"str\")\n",
    "\n",
    "# For testing\n",
    "df_input = df"
   ]
  },
  {
   "cell_type": "code",
   "execution_count": 14,
   "metadata": {
    "execution": {
     "iopub.execute_input": "2022-11-30T20:21:07.526972Z",
     "iopub.status.busy": "2022-11-30T20:21:07.526586Z",
     "iopub.status.idle": "2022-11-30T20:21:07.531377Z",
     "shell.execute_reply": "2022-11-30T20:21:07.530370Z",
     "shell.execute_reply.started": "2022-11-30T20:21:07.526929Z"
    },
    "tags": []
   },
   "outputs": [],
   "source": [
    "# For testing\n",
    "df = df_input"
   ]
  },
  {
   "cell_type": "code",
   "execution_count": 37,
   "metadata": {
    "execution": {
     "iopub.execute_input": "2022-12-01T15:43:11.640484Z",
     "iopub.status.busy": "2022-12-01T15:43:11.640216Z",
     "iopub.status.idle": "2022-12-01T15:43:11.873743Z",
     "shell.execute_reply": "2022-12-01T15:43:11.872979Z",
     "shell.execute_reply.started": "2022-12-01T15:43:11.640454Z"
    }
   },
   "outputs": [
    {
     "data": {
      "text/plain": [
       "803491"
      ]
     },
     "execution_count": 37,
     "metadata": {},
     "output_type": "execute_result"
    }
   ],
   "source": [
    "len(set(df_input['idx']))"
   ]
  },
  {
   "cell_type": "code",
   "execution_count": 38,
   "metadata": {
    "execution": {
     "iopub.execute_input": "2022-12-01T15:43:22.345081Z",
     "iopub.status.busy": "2022-12-01T15:43:22.344697Z",
     "iopub.status.idle": "2022-12-01T15:43:22.351333Z",
     "shell.execute_reply": "2022-12-01T15:43:22.350486Z",
     "shell.execute_reply.started": "2022-12-01T15:43:22.345040Z"
    }
   },
   "outputs": [
    {
     "data": {
      "text/plain": [
       "803491"
      ]
     },
     "execution_count": 38,
     "metadata": {},
     "output_type": "execute_result"
    }
   ],
   "source": [
    "len(df_input)"
   ]
  },
  {
   "cell_type": "code",
   "execution_count": 10,
   "metadata": {
    "execution": {
     "iopub.execute_input": "2022-12-01T15:19:56.676216Z",
     "iopub.status.busy": "2022-12-01T15:19:56.675909Z",
     "iopub.status.idle": "2022-12-01T15:19:58.118452Z",
     "shell.execute_reply": "2022-12-01T15:19:58.117314Z",
     "shell.execute_reply.started": "2022-12-01T15:19:56.676182Z"
    },
    "tags": []
   },
   "outputs": [
    {
     "name": "stdout",
     "output_type": "stream",
     "text": [
      "Original length:  803491\n",
      "After removing those with no address data:  695084\n",
      "After removing those already with lat/lon:  239396\n",
      "After removing duplicates:  158337\n"
     ]
    }
   ],
   "source": [
    "# Filter the data\n",
    "\n",
    "print('Original length: ', len(df))\n",
    "\n",
    "# filter to those with a street number and street name\n",
    "df = df[~df.street_no.isna()]\n",
    "df = df[~df.formatted_en.isna()]\n",
    "print('After removing those with no address data: ', len(df))\n",
    "\n",
    "# filter those without lat/lon \n",
    "df = df[df.latitude.isna()]\n",
    "print('After removing those already with lat/lon: ', len(df))\n",
    "\n",
    "# remove duplicates \n",
    "df_dup = df[df.duplicated(subset=['street_no','formatted_en', 'province', 'city'], keep='first')]\n",
    "df = df[~df.duplicated(subset=['street_no','formatted_en', 'province', 'city'], keep='first')]\n",
    "print('After removing duplicates: ', len(df))\n",
    "\n",
    "# For testing\n",
    "# df = df.sample(100)"
   ]
  },
  {
   "cell_type": "code",
   "execution_count": 16,
   "metadata": {
    "execution": {
     "iopub.execute_input": "2022-11-30T20:21:11.246671Z",
     "iopub.status.busy": "2022-11-30T20:21:11.246345Z",
     "iopub.status.idle": "2022-11-30T20:21:11.262186Z",
     "shell.execute_reply": "2022-11-30T20:21:11.261413Z",
     "shell.execute_reply.started": "2022-11-30T20:21:11.246638Z"
    },
    "tags": []
   },
   "outputs": [
    {
     "data": {
      "text/plain": [
       "QC    122758\n",
       "ON     19893\n",
       "BC     14042\n",
       "AB       216\n",
       "NT        81\n",
       "SK        66\n",
       "MB        47\n",
       "NB        19\n",
       "NS         5\n",
       "YT         3\n",
       "NL         2\n",
       "PE         1\n",
       "Name: province, dtype: int64"
      ]
     },
     "execution_count": 16,
     "metadata": {},
     "output_type": "execute_result"
    }
   ],
   "source": [
    "# Analyse what's left to geocode\n",
    "\n",
    "# By province\n",
    "df['province'].value_counts().sum()"
   ]
  },
  {
   "cell_type": "code",
   "execution_count": 17,
   "metadata": {
    "execution": {
     "iopub.execute_input": "2022-11-30T20:21:12.987164Z",
     "iopub.status.busy": "2022-11-30T20:21:12.986872Z",
     "iopub.status.idle": "2022-11-30T20:21:13.002901Z",
     "shell.execute_reply": "2022-11-30T20:21:13.002174Z",
     "shell.execute_reply.started": "2022-11-30T20:21:12.987133Z"
    },
    "tags": []
   },
   "outputs": [
    {
     "data": {
      "text/plain": [
       "QC_Etablissements.csv                                       119141\n",
       "ON_York_Region_Business_Directory.csv                        10418\n",
       "ON_Toronto_Business_Licences.csv                             10053\n",
       "BC_Liquor_licences.csv                                        5765\n",
       "BC_Richmond_Based_Businesses.csv                              3544\n",
       "QC_Sherbrooke_Entreprises.csv                                 3445\n",
       "BC_Chilliwack_Business_Licences.csv                           2068\n",
       "BC_Vancouver_Business_Licences.csv                            1334\n",
       "Indigenous_Business_Directory.csv                             1004\n",
       "BC_Kelowna_Business_Licence.csv                                709\n",
       "BC_Prince_George_Business_Licence.csv                          194\n",
       "BC_Burnaby_Business_Licences.csv                               138\n",
       "ON_Hamilton_Licenced_Food_Establishments.csv                    91\n",
       "ON_Ottawa_Cultural_Businesses.csv                               66\n",
       "NT_Yellowknife_Business_Directory.csv                           58\n",
       "ON_Hamilton_Licenced_Public_Garages.csv                         56\n",
       "ON_Hamilton_Licenced_Basic_Food_Shops.csv                       52\n",
       "ON_Welland_Business_Directory.csv                               46\n",
       "ON_Mississauga_Business_Directory.csv                           43\n",
       "BC_Surrey_Business_Licences.csv                                 29\n",
       "BC_New_Westminster_Business_Licences_(Residents).csv            18\n",
       "BC_Maple_Ridge_Business_Licences.csv                             8\n",
       "BC_Langley_Business_Licences.csv                                 7\n",
       "AB_Calgary_Business_Licences.csv                                 7\n",
       "BC_Squamish_Business_Licence_Annual_2021.csv                     6\n",
       "ON_Hamilton_Licenced_Salvage_Yards.csv                           5\n",
       "ON_Hamilton_Licenced_Public_Halls.csv                            5\n",
       "AB_Banff_Business_Licences.csv                                   4\n",
       "ON_Pickering_Business_Directory.csv                              3\n",
       "ON_Hamilton_Licenced_Second_Hand_Shops.csv                       3\n",
       "BC_Port_Moody_Business_Directory.csv                             3\n",
       "BC_Wineries.csv                                                  3\n",
       "ON_Hamilton_Licenced_Places_of_Amusement.csv                     2\n",
       "ON_Hamilton_Licenced_Kennels_and_Pet_Shops.csv                   2\n",
       "BC_New_Westminster_Business_Licences_(New_this_Year).csv         2\n",
       "BC_Nanaimo_Business_Licences.csv                                 2\n",
       "MB_Indigenous_AFOA.csv                                           2\n",
       "ON_Hamilton_Licenced_Residential_Care_Facilities.csv             1\n",
       "Name: localfile, dtype: int64"
      ]
     },
     "execution_count": 17,
     "metadata": {},
     "output_type": "execute_result"
    }
   ],
   "source": [
    "# By source\n",
    "df['localfile'].value_counts()"
   ]
  },
  {
   "cell_type": "code",
   "execution_count": 11,
   "metadata": {
    "execution": {
     "iopub.execute_input": "2022-12-01T15:20:10.994898Z",
     "iopub.status.busy": "2022-12-01T15:20:10.994493Z",
     "iopub.status.idle": "2022-12-01T15:20:12.319794Z",
     "shell.execute_reply": "2022-12-01T15:20:12.319040Z",
     "shell.execute_reply.started": "2022-12-01T15:20:10.994852Z"
    },
    "tags": []
   },
   "outputs": [
    {
     "name": "stdout",
     "output_type": "stream",
     "text": [
      "158337\n"
     ]
    }
   ],
   "source": [
    "# Set up our GC API call\n",
    "\n",
    "# define parameters for osm api call\n",
    "url_gc = 'https://national-address-register-statcan.api.canada.ca:443/v2/addresses/search'\n",
    "\n",
    "# clean dataset for queries\n",
    "df.fillna('', inplace=True)\n",
    "\n",
    "# define api query string\n",
    "df['gc_request_street'] = df['street_no'] + ', ' + df['formatted_en'] + ', ' + df['city'] + ', ' + df['province']\n",
    "\n",
    "# create list of provinces in the dataset\n",
    "provinces = df['province'].unique()\n",
    "\n",
    "# \n",
    "print(len(df))"
   ]
  },
  {
   "cell_type": "code",
   "execution_count": null,
   "metadata": {
    "execution": {
     "iopub.execute_input": "2022-11-30T20:22:56.804707Z",
     "iopub.status.busy": "2022-11-30T20:22:56.804314Z"
    },
    "tags": []
   },
   "outputs": [
    {
     "name": "stdout",
     "output_type": "stream",
     "text": [
      "AB\n",
      "Number to geocode:  216\n",
      "BC\n",
      "Number to geocode:  14042\n"
     ]
    }
   ],
   "source": [
    "# Reset arrays for collecting our results\n",
    "JSONS = []\n",
    "JSONS_CITIES = []\n",
    "JSONS_ALL = []\n",
    "\n",
    "# Set a timer\n",
    "t1 = time.time()\n",
    "\n",
    "# loop through dataframe by province\n",
    "for province in provinces:\n",
    "    \n",
    "    df2 = df[df['province'] == province]\n",
    "    print(province)\n",
    "    print('Number to geocode: ', len(df2))\n",
    "    reqs_gc = list(df2['gc_request_street'])\n",
    "\n",
    "    # Loop through each request\n",
    "    for i in range(len(reqs_gc)):\n",
    "        query_gc = reqs_gc[i]\n",
    "        \n",
    "        # Set query interval\n",
    "        time.sleep(1) \n",
    "        \n",
    "        # Print a message every 1000 queries\n",
    "        if (i % 1000 == 0 and i > 1):\n",
    "            print(str(i), ' of ', str(len(df2)), ' queries completed')\n",
    "            t2 = time.time()\n",
    "            print('seconds elapsed: ', str(round(t2-t1, 2)), '\\n')\n",
    "\n",
    "        # set GC API parameters\n",
    "        params_gc = {'qstr': query_gc}\n",
    "        headers_gc = {'user_key': gc_key}\n",
    "        \n",
    "        # Send API request\n",
    "        try:\n",
    "            coords_gc = requests.get(url_gc, params=params_gc, headers=headers_gc)\n",
    "    \n",
    "            # If the API response is success\n",
    "            if (coords_gc.status_code == 200):\n",
    "\n",
    "                # Save response to a variable\n",
    "                resp = coords_gc.json()\n",
    "\n",
    "                # Delete all but the first three results\n",
    "                for index in range(len(resp['data'])):\n",
    "                    if (index > 2):\n",
    "                        del resp['data'][3]\n",
    "            else:\n",
    "                resp = ''\n",
    "    #             print('no gc street address found')\n",
    "        \n",
    "        except requests.exceptions.ConnectionError:\n",
    "            print(\"Connection refused for query: \", query_gc) \n",
    "            resp = ''\n",
    "    \n",
    "        # Append to array of results\n",
    "        JSONS.append(resp)\n",
    "        JSONS_ALL.append(resp)\n",
    "    \n",
    "    # once each province is complete, create a json file to save the results object\n",
    "    json_name = 'data/geocoded_' + str(province) + '.json'\n",
    "    with open(json_name, 'w', encoding='utf-8') as f:\n",
    "        json.dump(JSONS, f, ensure_ascii=False, indent=4)\n",
    "#     print(\"\\n\")\n",
    "\n",
    "# create a big json dump at the end\n",
    "with open('data/geocoded.json', 'w', encoding='utf-8') as f:\n",
    "    json.dump(JSONS_ALL, f, ensure_ascii=False, indent=4) \n",
    "    \n",
    "print('DONE. Seconds elapsed: ', str(round(t2-t1, 2)))"
   ]
  },
  {
   "cell_type": "code",
   "execution_count": 172,
   "metadata": {
    "execution": {
     "iopub.execute_input": "2022-11-30T16:26:13.327247Z",
     "iopub.status.busy": "2022-11-30T16:26:13.326987Z",
     "iopub.status.idle": "2022-11-30T16:26:13.538152Z",
     "shell.execute_reply": "2022-11-30T16:26:13.537373Z",
     "shell.execute_reply.started": "2022-11-30T16:26:13.327222Z"
    },
    "tags": []
   },
   "outputs": [],
   "source": [
    "# # define query function\n",
    "# def gc_query(query, query_type):\n",
    "#     # set interval for requests\n",
    "#     time.sleep(1) \n",
    "#     coords = requests.get(url, params=params, headers=headers)\n",
    "#     print(\"osm query \" + query_type + \": \" + query)\n",
    "#     coords_gc = requests.get(url_gc, params=params_gc, headers=headers_gc)\n",
    "#     return coords.json()"
   ]
  },
  {
   "cell_type": "code",
   "execution_count": 29,
   "metadata": {
    "execution": {
     "iopub.execute_input": "2022-12-01T15:37:39.940997Z",
     "iopub.status.busy": "2022-12-01T15:37:39.940643Z",
     "iopub.status.idle": "2022-12-01T15:37:46.522072Z",
     "shell.execute_reply": "2022-12-01T15:37:46.521193Z",
     "shell.execute_reply.started": "2022-12-01T15:37:39.940962Z"
    },
    "tags": []
   },
   "outputs": [
    {
     "name": "stdout",
     "output_type": "stream",
     "text": [
      "34306\n"
     ]
    }
   ],
   "source": [
    "with open('data/geocodedPE.json', 'r', encoding='utf-8') as f:\n",
    "    JSONS=json.load(f)  \n",
    "print(len(JSONS))"
   ]
  },
  {
   "cell_type": "code",
   "execution_count": 30,
   "metadata": {
    "execution": {
     "iopub.execute_input": "2022-12-01T15:37:48.847104Z",
     "iopub.status.busy": "2022-12-01T15:37:48.846819Z",
     "iopub.status.idle": "2022-12-01T15:37:48.960977Z",
     "shell.execute_reply": "2022-12-01T15:37:48.959924Z",
     "shell.execute_reply.started": "2022-12-01T15:37:48.847078Z"
    },
    "tags": []
   },
   "outputs": [],
   "source": [
    "# read json request results into our dataframe\n",
    "\n",
    "def append_blank(index):\n",
    "    df['geo_source'].iloc[index] = \"no_gc\"\n",
    "    LATS.append('')\n",
    "    LONS.append('')\n",
    "    NAME.append('')\n",
    "    ST_NO.append('')\n",
    "    ST_NAME.append('')\n",
    "    CITY.append('')\n",
    "    PROV.append('')\n",
    "    POST.append('')\n",
    "    COUNTRY.append('')\n",
    "    TYPE.append('')\n",
    "    CLASS.append('')\n",
    "\n",
    "# with open('Nominatim.json', 'r', encoding='utf-8') as f:\n",
    "#     JSONS=json.load(f)    \n",
    "        \n",
    "LATS = []\n",
    "LONS = []\n",
    "NAME = []\n",
    "ST_NO = []\n",
    "ST_NAME = []\n",
    "CITY = []\n",
    "PROV = []\n",
    "POST = []\n",
    "COUNTRY = []\n",
    "TYPE = []\n",
    "CLASS = []"
   ]
  },
  {
   "cell_type": "code",
   "execution_count": 32,
   "metadata": {
    "execution": {
     "iopub.execute_input": "2022-12-01T15:38:04.963111Z",
     "iopub.status.busy": "2022-12-01T15:38:04.962680Z",
     "iopub.status.idle": "2022-12-01T15:38:05.026720Z",
     "shell.execute_reply": "2022-12-01T15:38:05.025872Z",
     "shell.execute_reply.started": "2022-12-01T15:38:04.963051Z"
    },
    "tags": []
   },
   "outputs": [
    {
     "data": {
      "text/plain": [
       "34306"
      ]
     },
     "execution_count": 32,
     "metadata": {},
     "output_type": "execute_result"
    }
   ],
   "source": [
    "provinces = np.delete(provinces, [9,10,11,12])\n",
    "df = df[df['province'].isin(provinces)]\n",
    "len(df)"
   ]
  },
  {
   "cell_type": "code",
   "execution_count": 33,
   "metadata": {
    "execution": {
     "iopub.execute_input": "2022-12-01T15:38:23.907054Z",
     "iopub.status.busy": "2022-12-01T15:38:23.906718Z",
     "iopub.status.idle": "2022-12-01T15:38:24.081512Z",
     "shell.execute_reply": "2022-12-01T15:38:24.080614Z",
     "shell.execute_reply.started": "2022-12-01T15:38:23.907016Z"
    },
    "tags": []
   },
   "outputs": [
    {
     "data": {
      "application/vnd.jupyter.widget-view+json": {
       "model_id": "9e0c4ab5808643e18033e2b86985aeaf",
       "version_major": 2,
       "version_minor": 0
      },
      "text/plain": [
       "MitoWidget(analysis_data_json='{\"analysisName\": \"id-erseurrrwq\", \"analysisToReplay\": {\"analysisName\": \"id-vwdf…"
      ]
     },
     "metadata": {},
     "output_type": "display_data"
    }
   ],
   "source": [
    "# order df by province\n",
    "\n",
    "provinces = df['province'].unique()\n",
    "\n",
    "df = df.sort_values(by=['province'], ascending=True)\n",
    "\n",
    "mitosheet.sheet(df, analysis_to_replay=\"id-vwdfxtprrm\")"
   ]
  },
  {
   "cell_type": "code",
   "execution_count": null,
   "metadata": {},
   "outputs": [],
   "source": []
  },
  {
   "cell_type": "code",
   "execution_count": 34,
   "metadata": {
    "execution": {
     "iopub.execute_input": "2022-12-01T15:38:45.373782Z",
     "iopub.status.busy": "2022-12-01T15:38:45.373504Z",
     "iopub.status.idle": "2022-12-01T15:38:45.568075Z",
     "shell.execute_reply": "2022-12-01T15:38:45.567305Z",
     "shell.execute_reply.started": "2022-12-01T15:38:45.373754Z"
    },
    "tags": []
   },
   "outputs": [],
   "source": [
    "# osm_healthcare_types = ['hospital', 'clinic', 'pharmacy']\n",
    "\n",
    "for index, element in enumerate(JSONS):\n",
    "    if element==[]:\n",
    "        append_blank(index)\n",
    "    \n",
    "    else:\n",
    "        # format gc api results      \n",
    "        if 'meta' in element:\n",
    "            \n",
    "            if (element['data'][0]['country']['code'] == 'CA'):\n",
    "                COUNTRY.append(element['data'][0]['country']['code'])\n",
    "                LATS.append(element['data'][0]['location']['geoCoordinates']['latitude'])\n",
    "                LONS.append(element['data'][0]['location']['geoCoordinates']['longitude'])\n",
    "                if 'streetName' in element.keys():\n",
    "                    ST_NAME.append(element['streetName'])\n",
    "                else:\n",
    "                    ST_NAME.append('')\n",
    "                if 'civicNumber' in element.keys():\n",
    "                    ST_NO.append(element['civicNumber']['number'])\n",
    "                else:\n",
    "                    ST_NO.append('')\n",
    "                # NOTE is there some equivalent?\n",
    "                TYPE.append('')\n",
    "                CLASS.append('')\n",
    "                NAME.append('')\n",
    "                if 'province' in element.keys():\n",
    "                    PROV.append(element['data'][0]['mailingAddress']['province']['code'])\n",
    "                else:\n",
    "                    PROV.append('')\n",
    "                if 'postalCode' in element['data'][0]['mailingAddress']:\n",
    "                    POST.append(element['data'][0]['mailingAddress']['postalCode'])\n",
    "                else:\n",
    "                    POST.append('')\n",
    "                if 'cityName' in  element['data']:\n",
    "                    CITY.append(element['data'][0]['cityName']['en'])\n",
    "                else:\n",
    "                    CITY.append('')\n",
    "        else:\n",
    "            append_blank(index)\n",
    "\n",
    "# append results to dataframe\n",
    "df['gc_name'] = NAME\n",
    "df['gc_street_no'] = ST_NO\n",
    "df['gc_street_name'] = ST_NAME\n",
    "df['gc_city'] = CITY\n",
    "df['gc_province'] = PROV\n",
    "df['gc_postal_code'] = POST\n",
    "df['gc_class'] = CLASS\n",
    "df['gc_type'] = TYPE\n",
    "df['gc_lat'] = LATS\n",
    "df['gc_lon'] = LONS"
   ]
  },
  {
   "cell_type": "code",
   "execution_count": 35,
   "metadata": {
    "execution": {
     "iopub.execute_input": "2022-12-01T15:38:48.975810Z",
     "iopub.status.busy": "2022-12-01T15:38:48.975527Z",
     "iopub.status.idle": "2022-12-01T15:38:49.061775Z",
     "shell.execute_reply": "2022-12-01T15:38:49.060648Z",
     "shell.execute_reply.started": "2022-12-01T15:38:48.975781Z"
    },
    "tags": []
   },
   "outputs": [],
   "source": [
    "df2 = df[['business_name', 'latitude', 'longitude', 'street_no', 'formatted_en', 'geo_source', 'gc_request_street', 'gc_street_no', 'gc_name', 'gc_street_name', 'gc_city', 'gc_lat', 'gc_lon']]\n"
   ]
  },
  {
   "cell_type": "code",
   "execution_count": null,
   "metadata": {},
   "outputs": [],
   "source": [
    "# post processing\n",
    "\n",
    "# we need to do matches of civic number\n",
    "# and street name\n",
    "# would need to format street name - remove -, '\n",
    "# check first two or three responses"
   ]
  },
  {
   "cell_type": "code",
   "execution_count": 36,
   "metadata": {
    "execution": {
     "iopub.execute_input": "2022-12-01T15:39:00.232769Z",
     "iopub.status.busy": "2022-12-01T15:39:00.232324Z",
     "iopub.status.idle": "2022-12-01T15:39:00.276376Z",
     "shell.execute_reply": "2022-12-01T15:39:00.275772Z",
     "shell.execute_reply.started": "2022-12-01T15:39:00.232723Z"
    },
    "tags": []
   },
   "outputs": [
    {
     "data": {
      "application/vnd.jupyter.widget-view+json": {
       "model_id": "276c5dc9965e4247b04232ac35c0d3d6",
       "version_major": 2,
       "version_minor": 0
      },
      "text/plain": [
       "MitoWidget(analysis_data_json='{\"analysisName\": \"id-jtutpdnplx\", \"analysisToReplay\": null, \"code\": [], \"stepSu…"
      ]
     },
     "metadata": {},
     "output_type": "display_data"
    }
   ],
   "source": [
    "mitosheet.sheet(df2, analysis_to_replay=\"id-jtutpdnplx\")"
   ]
  },
  {
   "cell_type": "code",
   "execution_count": null,
   "metadata": {},
   "outputs": [],
   "source": []
  }
 ],
 "metadata": {
  "kernelspec": {
   "display_name": "Python 3 (ipykernel)",
   "language": "python",
   "name": "python3"
  },
  "language_info": {
   "codemirror_mode": {
    "name": "ipython",
    "version": 3
   },
   "file_extension": ".py",
   "mimetype": "text/x-python",
   "name": "python",
   "nbconvert_exporter": "python",
   "pygments_lexer": "ipython3",
   "version": "3.8.12"
  }
 },
 "nbformat": 4,
 "nbformat_minor": 4
}
