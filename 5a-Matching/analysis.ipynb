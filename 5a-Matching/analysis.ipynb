{
 "cells": [
  {
   "cell_type": "code",
   "execution_count": 2,
   "metadata": {
    "execution": {
     "iopub.execute_input": "2022-09-06T17:16:37.980644Z",
     "iopub.status.busy": "2022-09-06T17:16:37.980366Z",
     "iopub.status.idle": "2022-09-06T17:16:37.984100Z",
     "shell.execute_reply": "2022-09-06T17:16:37.983320Z",
     "shell.execute_reply.started": "2022-09-06T17:16:37.980610Z"
    },
    "tags": []
   },
   "outputs": [],
   "source": [
    "# Results analysis\n",
    "\n",
    "# Takes around 24 hours for whoel script\n",
    "# Overall X 100% matches and X matches above 80%\n",
    "# Yet to implement matches based on city - but so far looks good. X % fuzzy matches\n",
    "# Around X left to geocode, depending on our cutoff point\n",
    "# X for 80% cutoff\n",
    "# X for 85% cutoff\n",
    "# X for 90% cutoff"
   ]
  },
  {
   "cell_type": "code",
   "execution_count": 116,
   "metadata": {
    "execution": {
     "iopub.execute_input": "2022-10-17T22:27:03.544436Z",
     "iopub.status.busy": "2022-10-17T22:27:03.544169Z",
     "iopub.status.idle": "2022-10-17T22:27:03.547606Z",
     "shell.execute_reply": "2022-10-17T22:27:03.546908Z",
     "shell.execute_reply.started": "2022-10-17T22:27:03.544406Z"
    },
    "tags": []
   },
   "outputs": [],
   "source": [
    "import pandas as pd\n",
    "import numpy as np"
   ]
  },
  {
   "cell_type": "code",
   "execution_count": 36,
   "metadata": {
    "execution": {
     "iopub.execute_input": "2022-10-13T17:50:31.728164Z",
     "iopub.status.busy": "2022-10-13T17:50:31.727887Z",
     "iopub.status.idle": "2022-10-13T17:50:42.695570Z",
     "shell.execute_reply": "2022-10-13T17:50:42.694791Z",
     "shell.execute_reply.started": "2022-10-13T17:50:31.728134Z"
    },
    "tags": []
   },
   "outputs": [],
   "source": [
    "df = pd.read_csv('output/matched_10-26.csv', low_memory=False)"
   ]
  },
  {
   "cell_type": "code",
   "execution_count": 23,
   "metadata": {
    "execution": {
     "iopub.execute_input": "2022-10-13T15:46:37.341434Z",
     "iopub.status.busy": "2022-10-13T15:46:37.341164Z",
     "iopub.status.idle": "2022-10-13T15:46:47.413770Z",
     "shell.execute_reply": "2022-10-13T15:46:47.412990Z",
     "shell.execute_reply.started": "2022-10-13T15:46:37.341404Z"
    }
   },
   "outputs": [],
   "source": [
    "df_input = pd.read_csv('output/matched_10-26.csv', low_memory=False)"
   ]
  },
  {
   "cell_type": "code",
   "execution_count": 28,
   "metadata": {
    "execution": {
     "iopub.execute_input": "2022-10-13T15:54:13.286702Z",
     "iopub.status.busy": "2022-10-13T15:54:13.286426Z",
     "iopub.status.idle": "2022-10-13T15:54:27.193946Z",
     "shell.execute_reply": "2022-10-13T15:54:27.193138Z",
     "shell.execute_reply.started": "2022-10-13T15:54:13.286673Z"
    },
    "tags": []
   },
   "outputs": [],
   "source": [
    "df_input2 = pd.read_csv('data/formatted.csv', low_memory=False)"
   ]
  },
  {
   "cell_type": "code",
   "execution_count": 29,
   "metadata": {
    "execution": {
     "iopub.execute_input": "2022-10-13T15:54:27.195546Z",
     "iopub.status.busy": "2022-10-13T15:54:27.195340Z",
     "iopub.status.idle": "2022-10-13T15:54:27.200579Z",
     "shell.execute_reply": "2022-10-13T15:54:27.199652Z",
     "shell.execute_reply.started": "2022-10-13T15:54:27.195521Z"
    },
    "tags": []
   },
   "outputs": [
    {
     "data": {
      "text/plain": [
       "803584"
      ]
     },
     "execution_count": 29,
     "metadata": {},
     "output_type": "execute_result"
    }
   ],
   "source": [
    "len(df_input2)"
   ]
  },
  {
   "cell_type": "code",
   "execution_count": 31,
   "metadata": {
    "execution": {
     "iopub.execute_input": "2022-10-13T15:55:33.124048Z",
     "iopub.status.busy": "2022-10-13T15:55:33.123788Z",
     "iopub.status.idle": "2022-10-13T15:55:33.624837Z",
     "shell.execute_reply": "2022-10-13T15:55:33.623916Z",
     "shell.execute_reply.started": "2022-10-13T15:55:33.124019Z"
    }
   },
   "outputs": [],
   "source": [
    "df_dup2 = df_input2[df_input2.duplicated(subset=['street_no','formatted_en', 'province', 'city'], keep='first')]"
   ]
  },
  {
   "cell_type": "code",
   "execution_count": null,
   "metadata": {
    "execution": {
     "iopub.execute_input": "2022-10-13T17:50:42.697088Z",
     "iopub.status.busy": "2022-10-13T17:50:42.696901Z",
     "iopub.status.idle": "2022-10-13T17:50:42.701389Z"
    },
    "tags": []
   },
   "outputs": [
    {
     "data": {
      "text/plain": [
       "613808"
      ]
     },
     "execution_count": 37,
     "metadata": {},
     "output_type": "execute_result"
    }
   ],
   "source": [
    "len(df)"
   ]
  },
  {
   "cell_type": "code",
   "execution_count": 30,
   "metadata": {
    "execution": {
     "iopub.execute_input": "2022-10-13T15:54:50.671779Z",
     "iopub.status.busy": "2022-10-13T15:54:50.671462Z",
     "iopub.status.idle": "2022-10-13T15:54:50.676769Z",
     "shell.execute_reply": "2022-10-13T15:54:50.676070Z",
     "shell.execute_reply.started": "2022-10-13T15:54:50.671747Z"
    },
    "tags": []
   },
   "outputs": [
    {
     "data": {
      "text/plain": [
       "613808"
      ]
     },
     "execution_count": 30,
     "metadata": {},
     "output_type": "execute_result"
    }
   ],
   "source": [
    "len(df)"
   ]
  },
  {
   "cell_type": "code",
   "execution_count": 5,
   "metadata": {
    "execution": {
     "iopub.execute_input": "2022-10-04T17:15:24.840281Z",
     "iopub.status.busy": "2022-10-04T17:15:24.840014Z",
     "iopub.status.idle": "2022-10-04T17:15:24.875850Z",
     "shell.execute_reply": "2022-10-04T17:15:24.875077Z",
     "shell.execute_reply.started": "2022-10-04T17:15:24.840254Z"
    },
    "tags": []
   },
   "outputs": [
    {
     "name": "stdout",
     "output_type": "stream",
     "text": [
      "Matches above 80%: 27%\n",
      "Matches above 85%: 25%\n",
      "Matches above 90%: 23%\n",
      "Matches above 95%: 21%\n",
      "Matches above 99.5%: 17%\n"
     ]
    }
   ],
   "source": [
    "# get number of matches above various cutoffs for the entire dataset\n",
    "cut_off = 80\n",
    "\n",
    "for number in [80,85,90,95,99.5]:\n",
    "    no_matches = df['ratio'][df['ratio'] > number].count()\n",
    "    percent_matches = 100 * no_matches / len(df)\n",
    "    print('Matches above ', number, '%: ', int(percent_matches), '%', sep=\"\")\n",
    "\n",
    "# no_matches_80 = df['ratio'][df['ratio'] > 80].count()\n",
    "# no_matches_85 = df['ratio'][df['ratio'] > 85].count()\n",
    "# no_matches_90 = df['ratio'][df['ratio'] > 90].count()\n",
    "# no_matches_95 = df['ratio'][df['ratio'] > 95].count()\n",
    "# no_matches_100 = df['ratio'][df['ratio'] > 99.5].count()\n",
    "\n",
    "# print('matches above' no_matches_80)\n"
   ]
  },
  {
   "cell_type": "code",
   "execution_count": 6,
   "metadata": {
    "execution": {
     "iopub.execute_input": "2022-10-04T17:15:38.129903Z",
     "iopub.status.busy": "2022-10-04T17:15:38.129651Z",
     "iopub.status.idle": "2022-10-04T17:15:38.704563Z",
     "shell.execute_reply": "2022-10-04T17:15:38.703503Z",
     "shell.execute_reply.started": "2022-10-04T17:15:38.129873Z"
    },
    "tags": []
   },
   "outputs": [
    {
     "name": "stdout",
     "output_type": "stream",
     "text": [
      "original number to geocode: 598759\n",
      "number to geocode after matching: 333236\n"
     ]
    }
   ],
   "source": [
    "# number left to geocode\n",
    "df_lat = df[df['latitude'].isna()]\n",
    "print('original number to geocode:', len(df_lat))\n",
    "df_lat = df_lat[df_lat['x'].isna()]\n",
    "print('number to geocode after matching:', len(df_lat))"
   ]
  },
  {
   "cell_type": "code",
   "execution_count": 8,
   "metadata": {
    "execution": {
     "iopub.execute_input": "2022-10-04T17:17:29.961727Z",
     "iopub.status.busy": "2022-10-04T17:17:29.961467Z",
     "iopub.status.idle": "2022-10-04T17:17:30.499963Z",
     "shell.execute_reply": "2022-10-04T17:17:30.499160Z",
     "shell.execute_reply.started": "2022-10-04T17:17:29.961699Z"
    }
   },
   "outputs": [],
   "source": [
    "df_dup = df[df.duplicated(subset=['street_no','formatted_en', 'province', 'city'], keep='first')]"
   ]
  },
  {
   "cell_type": "code",
   "execution_count": 9,
   "metadata": {
    "execution": {
     "iopub.execute_input": "2022-10-04T17:18:39.006725Z",
     "iopub.status.busy": "2022-10-04T17:18:39.006457Z",
     "iopub.status.idle": "2022-10-04T17:18:39.475154Z",
     "shell.execute_reply": "2022-10-04T17:18:39.474277Z",
     "shell.execute_reply.started": "2022-10-04T17:18:39.006697Z"
    }
   },
   "outputs": [
    {
     "name": "stdout",
     "output_type": "stream",
     "text": [
      "original number to geocode: 306960\n",
      "number to geocode after matching: 298680\n"
     ]
    }
   ],
   "source": [
    "df_lat = df_dup[df_dup['latitude'].isna()]\n",
    "print('original number to geocode:', len(df_lat))\n",
    "df_lat = df_lat[df_lat['x'].isna()]\n",
    "print('number to geocode after matching:', len(df_lat))"
   ]
  },
  {
   "cell_type": "code",
   "execution_count": 7,
   "metadata": {
    "execution": {
     "iopub.execute_input": "2022-10-04T17:15:50.762647Z",
     "iopub.status.busy": "2022-10-04T17:15:50.762394Z",
     "iopub.status.idle": "2022-10-04T17:15:51.739442Z",
     "shell.execute_reply": "2022-10-04T17:15:51.738553Z",
     "shell.execute_reply.started": "2022-10-04T17:15:50.762618Z"
    },
    "tags": []
   },
   "outputs": [
    {
     "name": "stdout",
     "output_type": "stream",
     "text": [
      "AB:\n",
      "   rows: 77097\n",
      "   perfect matches: 29%\n",
      "   matches above 0.8: 32%\n",
      "BC:\n",
      "   rows: 232465\n",
      "   perfect matches: 20%\n",
      "   matches above 0.8: 23%\n",
      "MB:\n",
      "   rows: 224\n",
      "   perfect matches: 33%\n",
      "   matches above 0.8: 38%\n",
      "NB:\n",
      "   rows: 155\n",
      "   perfect matches: 66%\n",
      "   matches above 0.8: 74%\n",
      "NT:\n",
      "   rows: 1563\n",
      "   perfect matches: 49%\n",
      "   matches above 0.8: 51%\n",
      "NS:\n",
      "   rows: 46\n",
      "   perfect matches: 56%\n",
      "   matches above 0.8: 71%\n",
      "ON:\n",
      "   rows: 243590\n",
      "   perfect matches: 16%\n",
      "   matches above 0.8: 22%\n",
      "PE:\n",
      "   rows: 5\n",
      "   perfect matches: 60%\n",
      "   matches above 0.8: 80%\n",
      "QC:\n",
      "   rows: 244527\n",
      "   perfect matches: 12%\n",
      "   matches above 0.8: 35%\n",
      "SK:\n",
      "   rows: 168\n",
      "   perfect matches: 19%\n",
      "   matches above 0.8: 26%\n"
     ]
    }
   ],
   "source": [
    "# compare matches across provinces\n",
    "\n",
    "# for each province want\n",
    "# - number of rows\n",
    "# - percent perfect matches\n",
    "# - percent matches \n",
    "# - remainder with no geocodes\n",
    "\n",
    "provinces = ['AB', 'BC', 'MB', 'NB', 'NT', 'NS', 'ON', 'PE', 'QC', 'SK']\n",
    "\n",
    "for province in provinces:\n",
    "    df2 = df[df['province'] == province]\n",
    "    no_matches = df2['ratio'][df2['ratio'] > 80].count()\n",
    "    perfect_matches = df2['ratio'][df2['ratio'] > 99].count()\n",
    "    percent_matches = int(100 * no_matches / len(df2))\n",
    "    percent_perfect_matches = int(100 * perfect_matches / len(df2))\n",
    "#     print('Matches for ', province, ': ', int(percent_matches), '%', sep=\"\")\n",
    "\n",
    "    # get the number left to geocode - either an na in either 'longitude' or 'x'\n",
    "\n",
    "    print(province, \":\", sep=\"\")\n",
    "    print('   rows: ', len(df2), sep=\"\")\n",
    "    print('   perfect matches: ', percent_perfect_matches, '%', sep=\"\")\n",
    "    print('   matches above 0.8: ', percent_matches, '%', sep=\"\")\n",
    "#     print('remaining to geocode: ', len(df2), sep=\"\")\n",
    "    "
   ]
  },
  {
   "cell_type": "code",
   "execution_count": 17,
   "metadata": {
    "execution": {
     "iopub.execute_input": "2022-10-06T18:24:25.766654Z",
     "iopub.status.busy": "2022-10-06T18:24:25.766399Z",
     "iopub.status.idle": "2022-10-06T18:24:26.315060Z",
     "shell.execute_reply": "2022-10-06T18:24:26.314258Z",
     "shell.execute_reply.started": "2022-10-06T18:24:25.766628Z"
    },
    "tags": []
   },
   "outputs": [],
   "source": [
    "df = df[~df.duplicated(subset=['street_no','formatted_en', 'province', 'city'], keep='first')]"
   ]
  },
  {
   "cell_type": "code",
   "execution_count": 18,
   "metadata": {
    "execution": {
     "iopub.execute_input": "2022-10-06T18:24:27.044441Z",
     "iopub.status.busy": "2022-10-06T18:24:27.044169Z",
     "iopub.status.idle": "2022-10-06T18:24:27.545479Z",
     "shell.execute_reply": "2022-10-06T18:24:27.544737Z",
     "shell.execute_reply.started": "2022-10-06T18:24:27.044414Z"
    },
    "tags": []
   },
   "outputs": [
    {
     "name": "stdout",
     "output_type": "stream",
     "text": [
      "AB:\n",
      "   rows: 28208\n",
      "   perfect matches: 80%\n",
      "   matches above 0.8: 88%\n",
      "BC:\n",
      "   rows: 79197\n",
      "   perfect matches: 56%\n",
      "   matches above 0.8: 64%\n",
      "MB:\n",
      "   rows: 179\n",
      "   perfect matches: 41%\n",
      "   matches above 0.8: 48%\n",
      "NB:\n",
      "   rows: 135\n",
      "   perfect matches: 76%\n",
      "   matches above 0.8: 85%\n",
      "NT:\n",
      "   rows: 890\n",
      "   perfect matches: 87%\n",
      "   matches above 0.8: 89%\n",
      "NS:\n",
      "   rows: 43\n",
      "   perfect matches: 60%\n",
      "   matches above 0.8: 76%\n",
      "ON:\n",
      "   rows: 68214\n",
      "   perfect matches: 57%\n",
      "   matches above 0.8: 76%\n",
      "PE:\n",
      "   rows: 5\n",
      "   perfect matches: 60%\n",
      "   matches above 0.8: 80%\n",
      "QC:\n",
      "   rows: 190497\n",
      "   perfect matches: 16%\n",
      "   matches above 0.8: 45%\n",
      "SK:\n",
      "   rows: 149\n",
      "   perfect matches: 21%\n",
      "   matches above 0.8: 29%\n"
     ]
    }
   ],
   "source": [
    "# compare matches across provinces\n",
    "\n",
    "# for each province want\n",
    "# - number of rows\n",
    "# - percent perfect matches\n",
    "# - percent matches \n",
    "# - remainder with no geocodes\n",
    "\n",
    "provinces = ['AB', 'BC', 'MB', 'NB', 'NT', 'NS', 'ON', 'PE', 'QC', 'SK']\n",
    "\n",
    "for province in provinces:\n",
    "    df2 = df[df['province'] == province]\n",
    "    no_matches = df2['ratio'][df2['ratio'] > 80].count()\n",
    "    perfect_matches = df2['ratio'][df2['ratio'] > 99].count()\n",
    "    percent_matches = int(100 * no_matches / len(df2))\n",
    "    percent_perfect_matches = int(100 * perfect_matches / len(df2))\n",
    "#     print('Matches for ', province, ': ', int(percent_matches), '%', sep=\"\")\n",
    "\n",
    "    # get the number left to geocode - either an na in either 'longitude' or 'x'\n",
    "\n",
    "    print(province, \":\", sep=\"\")\n",
    "    print('   rows: ', len(df2), sep=\"\")\n",
    "    print('   perfect matches: ', percent_perfect_matches, '%', sep=\"\")\n",
    "    print('   matches above 0.8: ', percent_matches, '%', sep=\"\")\n",
    "#     print('remaining to geocode: ', len(df2), sep=\"\")\n",
    "    "
   ]
  },
  {
   "cell_type": "raw",
   "metadata": {},
   "source": [
    "I removed duplicates. I want to now add them back in, but I want to transfer over the new data for the duplicates \n",
    "\n",
    "I could do some sort of matching.\n",
    "\n",
    "Or, I could label them in some way using the IDs. \n",
    "\n",
    "I think I can iterate through them, use isDuplicate and then go from there. I'll need the dup with the lat lon to come first. \n",
    "\n",
    "No that won't work, since I'm deduplicating on multiple columns\n",
    "\n",
    "another way, is to compute a combined column for the deduplication. just a string. then use that for isDuplicate"
   ]
  },
  {
   "cell_type": "code",
   "execution_count": null,
   "metadata": {},
   "outputs": [],
   "source": [
    "second_List = []\n",
    "for i in range(len(first_List)):\n",
    "    isDuplicate = first_List.count(first_List[i]) > 1\n",
    "    if isDuplicate:\n",
    "        count = first_List[:i+1].count(first_List[i])\n",
    "        second_List.append(f'dup{count}')\n",
    "    else:\n",
    "        second_List.append('unique')\n",
    "        \n",
    "for i in range(len(df))\n",
    "    isDuplicate = "
   ]
  },
  {
   "cell_type": "code",
   "execution_count": 65,
   "metadata": {
    "execution": {
     "iopub.execute_input": "2022-10-17T18:55:51.952583Z",
     "iopub.status.busy": "2022-10-17T18:55:51.952302Z",
     "iopub.status.idle": "2022-10-17T18:56:03.066332Z",
     "shell.execute_reply": "2022-10-17T18:56:03.065565Z",
     "shell.execute_reply.started": "2022-10-17T18:55:51.952551Z"
    }
   },
   "outputs": [],
   "source": [
    "df = pd.read_csv('output/matched_10-26.csv', low_memory=False)"
   ]
  },
  {
   "cell_type": "code",
   "execution_count": 62,
   "metadata": {
    "execution": {
     "iopub.execute_input": "2022-10-14T14:08:15.191489Z",
     "iopub.status.busy": "2022-10-14T14:08:15.191223Z",
     "iopub.status.idle": "2022-10-14T14:08:15.385097Z",
     "shell.execute_reply": "2022-10-14T14:08:15.384372Z",
     "shell.execute_reply.started": "2022-10-14T14:08:15.191463Z"
    },
    "tags": []
   },
   "outputs": [
    {
     "name": "stdout",
     "output_type": "stream",
     "text": [
      "Difference in latitude between source and matched:\n",
      " < 0.00001:  73 %\n",
      " < 0.0001:  80 %\n",
      " < 0.001:  86 %\n",
      " > 1:  1 %\n",
      "\n",
      " * a difference in degree of latitutude of 0.0001 is around 10m.\n"
     ]
    }
   ],
   "source": [
    "# comparison of matching against source data\n",
    "\n",
    "df = df[df['latitude'].notnull() & df['y'].notnull() & df['longitude'].notnull() & df['x'].notnull()]\n",
    "df['lat_diff'] = df['latitude'] - df['y']\n",
    "\n",
    "# a difference in degree of latitutude of 0.0001 is around 10m\n",
    "num_great = len(df[df['lat_diff'] < 0.00001])\n",
    "num_good = len(df[df['lat_diff'] < 0.0001])\n",
    "num_ok = len(df[df['lat_diff'] < 0.001])\n",
    "num_bad = len(df[df['lat_diff'] > 1])\n",
    "total = len(df)\n",
    "\n",
    "print(\n",
    "'Difference in latitude between source and matched:\\n',\n",
    "'< 0.00001: ', round(100 * num_great / total), \"%\\n\",\n",
    "'< 0.0001: ', round(100 * num_good / total), '%\\n',\n",
    "'< 0.001: ', round(100 * num_ok / total), '%\\n',\n",
    "'> 1: ', round(100 * num_bad / total), '%\\n\\n',\n",
    "'* a difference in degree of latitutude of 0.0001 is around 10m.'\n",
    ")"
   ]
  },
  {
   "cell_type": "code",
   "execution_count": 64,
   "metadata": {
    "execution": {
     "iopub.execute_input": "2022-10-17T18:55:20.901034Z",
     "iopub.status.busy": "2022-10-17T18:55:20.900767Z",
     "iopub.status.idle": "2022-10-17T18:55:20.905443Z",
     "shell.execute_reply": "2022-10-17T18:55:20.904693Z",
     "shell.execute_reply.started": "2022-10-17T18:55:20.901009Z"
    },
    "tags": []
   },
   "outputs": [
    {
     "data": {
      "text/plain": [
       "84811"
      ]
     },
     "execution_count": 64,
     "metadata": {},
     "output_type": "execute_result"
    }
   ],
   "source": [
    "len(df)"
   ]
  },
  {
   "cell_type": "code",
   "execution_count": 66,
   "metadata": {
    "execution": {
     "iopub.execute_input": "2022-10-17T19:24:13.770668Z",
     "iopub.status.busy": "2022-10-17T19:24:13.770382Z",
     "iopub.status.idle": "2022-10-17T19:24:26.146808Z",
     "shell.execute_reply": "2022-10-17T19:24:26.145771Z",
     "shell.execute_reply.started": "2022-10-17T19:24:13.770637Z"
    }
   },
   "outputs": [],
   "source": [
    "# We deduplicated on some variables during the matching. \n",
    "# We need to add back in the results for the duplicates\n",
    "\n",
    "# sort the dataframe \n",
    "df = pd.read_csv('output/matched_10-26.csv', low_memory=False)"
   ]
  },
  {
   "cell_type": "code",
   "execution_count": 76,
   "metadata": {
    "execution": {
     "iopub.execute_input": "2022-10-17T20:51:20.451899Z",
     "iopub.status.busy": "2022-10-17T20:51:20.451650Z",
     "iopub.status.idle": "2022-10-17T20:51:20.749124Z",
     "shell.execute_reply": "2022-10-17T20:51:20.748318Z",
     "shell.execute_reply.started": "2022-10-17T20:51:20.451873Z"
    }
   },
   "outputs": [],
   "source": [
    "df_input = df"
   ]
  },
  {
   "cell_type": "code",
   "execution_count": 68,
   "metadata": {
    "execution": {
     "iopub.execute_input": "2022-10-17T20:29:12.568802Z",
     "iopub.status.busy": "2022-10-17T20:29:12.568461Z",
     "iopub.status.idle": "2022-10-17T20:29:14.114698Z",
     "shell.execute_reply": "2022-10-17T20:29:14.113842Z",
     "shell.execute_reply.started": "2022-10-17T20:29:12.568763Z"
    },
    "tags": []
   },
   "outputs": [],
   "source": [
    "# sort dataframe with deduplicated variables, so that deduplicated rows appear together\n",
    "# this way we can just check for matches with the previous row\n",
    "df.sort_values(['province', 'city', 'street_no', 'formatted_en'], inplace=True)"
   ]
  },
  {
   "cell_type": "code",
   "execution_count": 126,
   "metadata": {
    "execution": {
     "iopub.execute_input": "2022-10-18T15:35:19.979825Z",
     "iopub.status.busy": "2022-10-18T15:35:19.979549Z",
     "iopub.status.idle": "2022-10-18T15:35:19.984255Z",
     "shell.execute_reply": "2022-10-18T15:35:19.983464Z",
     "shell.execute_reply.started": "2022-10-18T15:35:19.979795Z"
    },
    "tags": []
   },
   "outputs": [],
   "source": [
    "df = df_input.head(1000)\n",
    "df.reset_index(inplace=True)"
   ]
  },
  {
   "cell_type": "code",
   "execution_count": 97,
   "metadata": {
    "execution": {
     "iopub.execute_input": "2022-10-17T21:17:47.343025Z",
     "iopub.status.busy": "2022-10-17T21:17:47.342750Z",
     "iopub.status.idle": "2022-10-17T21:17:47.347869Z",
     "shell.execute_reply": "2022-10-17T21:17:47.347221Z",
     "shell.execute_reply.started": "2022-10-17T21:17:47.342997Z"
    },
    "tags": []
   },
   "outputs": [
    {
     "data": {
      "text/plain": [
       "'0'"
      ]
     },
     "execution_count": 97,
     "metadata": {},
     "output_type": "execute_result"
    }
   ],
   "source": [
    "df.at[500,'street_no']"
   ]
  },
  {
   "cell_type": "code",
   "execution_count": 124,
   "metadata": {
    "execution": {
     "iopub.execute_input": "2022-10-18T15:34:57.506442Z",
     "iopub.status.busy": "2022-10-18T15:34:57.506167Z",
     "iopub.status.idle": "2022-10-18T15:34:57.540083Z",
     "shell.execute_reply": "2022-10-18T15:34:57.539277Z",
     "shell.execute_reply.started": "2022-10-18T15:34:57.506414Z"
    },
    "tags": []
   },
   "outputs": [],
   "source": [
    "# next we loop through \n",
    "# to add in latitude coordinates\n",
    "\n",
    "for i in range(len(df)):\n",
    "    \n",
    "    # we're checking first against street_no\n",
    "    if (i > 1):\n",
    "        if (df.at[i , 'street_no'] == df.at[i - 1, 'street_no']):\n",
    "            if (df.at[i, 'formatted_en'] == df.at[i - 1, 'formatted_en']):\n",
    "                if (df.at[i, 'city'] == df.at[i - 1, 'city']):\n",
    "                    if (df.at[i, 'province'] == df.at[i - 1, 'province']):\n",
    "                        x = df.at[i, 'x']\n",
    "                        if (not pd.isna(x) and x != 0):\n",
    "                            df.at[i , 'x'] = df.at[i - 1, 'x']\n"
   ]
  },
  {
   "cell_type": "code",
   "execution_count": 128,
   "metadata": {
    "execution": {
     "iopub.execute_input": "2022-10-18T16:07:02.963027Z",
     "iopub.status.busy": "2022-10-18T16:07:02.962762Z",
     "iopub.status.idle": "2022-10-18T16:07:02.989973Z",
     "shell.execute_reply": "2022-10-18T16:07:02.989236Z",
     "shell.execute_reply.started": "2022-10-18T16:07:02.962996Z"
    },
    "tags": []
   },
   "outputs": [],
   "source": [
    "df.to_csv('test.csv', index=False)"
   ]
  },
  {
   "cell_type": "code",
   "execution_count": null,
   "metadata": {},
   "outputs": [],
   "source": [
    "# next we need to assign x and y to lat/lon and decide our cutoff"
   ]
  },
  {
   "cell_type": "code",
   "execution_count": 138,
   "metadata": {
    "execution": {
     "iopub.execute_input": "2022-10-20T21:03:57.065746Z",
     "iopub.status.busy": "2022-10-20T21:03:57.065467Z",
     "iopub.status.idle": "2022-10-20T21:04:09.435750Z",
     "shell.execute_reply": "2022-10-20T21:04:09.434968Z",
     "shell.execute_reply.started": "2022-10-20T21:03:57.065719Z"
    },
    "tags": []
   },
   "outputs": [],
   "source": [
    "df = pd.read_csv('output/matched.csv', low_memory=False)"
   ]
  },
  {
   "cell_type": "code",
   "execution_count": 131,
   "metadata": {
    "execution": {
     "iopub.execute_input": "2022-10-18T19:24:03.134987Z",
     "iopub.status.busy": "2022-10-18T19:24:03.134776Z",
     "iopub.status.idle": "2022-10-18T19:24:03.139566Z",
     "shell.execute_reply": "2022-10-18T19:24:03.138818Z",
     "shell.execute_reply.started": "2022-10-18T19:24:03.134959Z"
    }
   },
   "outputs": [
    {
     "data": {
      "text/plain": [
       "803491"
      ]
     },
     "execution_count": 131,
     "metadata": {},
     "output_type": "execute_result"
    }
   ],
   "source": [
    "len(df)"
   ]
  },
  {
   "cell_type": "code",
   "execution_count": 132,
   "metadata": {
    "execution": {
     "iopub.execute_input": "2022-10-18T19:29:31.188062Z",
     "iopub.status.busy": "2022-10-18T19:29:31.187802Z",
     "iopub.status.idle": "2022-10-18T19:29:32.061564Z",
     "shell.execute_reply": "2022-10-18T19:29:32.060843Z",
     "shell.execute_reply.started": "2022-10-18T19:29:31.188038Z"
    },
    "tags": []
   },
   "outputs": [
    {
     "name": "stdout",
     "output_type": "stream",
     "text": [
      "AB:\n",
      "   rows: 77097\n",
      "   perfect matches: 9%\n",
      "   matches above 0.8: 24%\n",
      "BC:\n",
      "   rows: 232465\n",
      "   perfect matches: 15%\n",
      "   matches above 0.8: 22%\n",
      "MB:\n",
      "   rows: 224\n",
      "   perfect matches: 22%\n",
      "   matches above 0.8: 37%\n",
      "NB:\n",
      "   rows: 155\n",
      "   perfect matches: 47%\n",
      "   matches above 0.8: 67%\n",
      "NT:\n",
      "   rows: 1563\n",
      "   perfect matches: 44%\n",
      "   matches above 0.8: 50%\n",
      "NS:\n",
      "   rows: 46\n",
      "   perfect matches: 50%\n",
      "   matches above 0.8: 71%\n",
      "ON:\n",
      "   rows: 243590\n",
      "   perfect matches: 11%\n",
      "   matches above 0.8: 20%\n",
      "PE:\n",
      "   rows: 5\n",
      "   perfect matches: 80%\n",
      "   matches above 0.8: 80%\n",
      "QC:\n",
      "   rows: 244527\n",
      "   perfect matches: 7%\n",
      "   matches above 0.8: 32%\n",
      "SK:\n",
      "   rows: 168\n",
      "   perfect matches: 8%\n",
      "   matches above 0.8: 22%\n"
     ]
    }
   ],
   "source": [
    "# compare matches across provinces\n",
    "\n",
    "# for each province want\n",
    "# - number of rows\n",
    "# - percent perfect matches\n",
    "# - percent matches \n",
    "# - remainder with no geocodes\n",
    "\n",
    "provinces = ['AB', 'BC', 'MB', 'NB', 'NT', 'NS', 'ON', 'PE', 'QC', 'SK']\n",
    "\n",
    "for province in provinces:\n",
    "    df2 = df[df['province'] == province]\n",
    "    no_matches = df2['ratio'][df2['ratio'] > 80].count()\n",
    "    perfect_matches = df2['ratio'][df2['ratio'] > 99].count()\n",
    "    percent_matches = int(100 * no_matches / len(df2))\n",
    "    percent_perfect_matches = int(100 * perfect_matches / len(df2))\n",
    "#     print('Matches for ', province, ': ', int(percent_matches), '%', sep=\"\")\n",
    "\n",
    "    # get the number left to geocode - either an na in either 'longitude' or 'x'\n",
    "\n",
    "    print(province, \":\", sep=\"\")\n",
    "    print('   rows: ', len(df2), sep=\"\")\n",
    "    print('   perfect matches: ', percent_perfect_matches, '%', sep=\"\")\n",
    "    print('   matches above 0.8: ', percent_matches, '%', sep=\"\")\n",
    "#     print('remaining to geocode: ', len(df2), sep=\"\")\n",
    "    "
   ]
  },
  {
   "cell_type": "code",
   "execution_count": null,
   "metadata": {},
   "outputs": [],
   "source": []
  },
  {
   "cell_type": "code",
   "execution_count": 137,
   "metadata": {
    "execution": {
     "iopub.execute_input": "2022-10-19T14:43:34.365368Z",
     "iopub.status.busy": "2022-10-19T14:43:34.365067Z",
     "iopub.status.idle": "2022-10-19T14:43:34.417892Z",
     "shell.execute_reply": "2022-10-19T14:43:34.417116Z",
     "shell.execute_reply.started": "2022-10-19T14:43:34.365336Z"
    },
    "tags": []
   },
   "outputs": [
    {
     "data": {
      "text/plain": [
       "57"
      ]
     },
     "execution_count": 137,
     "metadata": {},
     "output_type": "execute_result"
    }
   ],
   "source": [
    "# number of data sources\n",
    "df['localfile'].nunique()"
   ]
  },
  {
   "cell_type": "code",
   "execution_count": null,
   "metadata": {},
   "outputs": [],
   "source": []
  }
 ],
 "metadata": {
  "kernelspec": {
   "display_name": "Python 3 (ipykernel)",
   "language": "python",
   "name": "python3"
  },
  "language_info": {
   "codemirror_mode": {
    "name": "ipython",
    "version": 3
   },
   "file_extension": ".py",
   "mimetype": "text/x-python",
   "name": "python",
   "nbconvert_exporter": "python",
   "pygments_lexer": "ipython3",
   "version": "3.8.12"
  }
 },
 "nbformat": 4,
 "nbformat_minor": 4
}
