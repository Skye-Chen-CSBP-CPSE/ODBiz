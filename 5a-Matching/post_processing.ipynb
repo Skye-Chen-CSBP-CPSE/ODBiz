{
 "cells": [
  {
   "cell_type": "code",
   "execution_count": 1,
   "metadata": {
    "execution": {
     "iopub.execute_input": "2022-11-09T17:42:06.862073Z",
     "iopub.status.busy": "2022-11-09T17:42:06.861869Z",
     "iopub.status.idle": "2022-11-09T17:42:08.232777Z",
     "shell.execute_reply": "2022-11-09T17:42:08.231806Z",
     "shell.execute_reply.started": "2022-11-09T17:42:06.862014Z"
    },
    "tags": []
   },
   "outputs": [
    {
     "name": "stderr",
     "output_type": "stream",
     "text": [
      "/opt/conda/lib/python3.8/site-packages/requests/__init__.py:102: RequestsDependencyWarning: urllib3 (1.26.7) or chardet (5.0.0)/charset_normalizer (2.0.9) doesn't match a supported version!\n",
      "  warnings.warn(\"urllib3 ({}) or chardet ({})/charset_normalizer ({}) doesn't match a supported \"\n"
     ]
    }
   ],
   "source": [
    "# This script does\n",
    "\n",
    "# 1. add x y information to deduplicated rows /\n",
    "# 2. replace lat lon with x y values for good matches /\n",
    "# 3. remove columns added during matching step\n",
    "\n",
    "import pandas as pd\n",
    "import numpy as np\n",
    "\n",
    "import mitosheet"
   ]
  },
  {
   "cell_type": "code",
   "execution_count": 2,
   "metadata": {
    "execution": {
     "iopub.execute_input": "2022-11-09T17:42:08.234628Z",
     "iopub.status.busy": "2022-11-09T17:42:08.234424Z",
     "iopub.status.idle": "2022-11-09T17:42:17.915995Z",
     "shell.execute_reply": "2022-11-09T17:42:17.915212Z",
     "shell.execute_reply.started": "2022-11-09T17:42:08.234603Z"
    },
    "tags": []
   },
   "outputs": [],
   "source": [
    "df = pd.read_csv('output/matched_a.csv', low_memory=False)"
   ]
  },
  {
   "cell_type": "code",
   "execution_count": 69,
   "metadata": {
    "execution": {
     "iopub.execute_input": "2022-11-07T21:23:19.757677Z",
     "iopub.status.busy": "2022-11-07T21:23:19.757323Z",
     "iopub.status.idle": "2022-11-07T21:23:19.767584Z",
     "shell.execute_reply": "2022-11-07T21:23:19.766735Z",
     "shell.execute_reply.started": "2022-11-07T21:23:19.757631Z"
    },
    "tags": []
   },
   "outputs": [],
   "source": [
    "# for testing, only keep cols we're interested in\n",
    "# df = df[['localfile', 'business_name', 'latitude', 'longitude', 'street_no', 'street_name', 'city', 'province', 'geo_source', 'formatted_en', 'matches_r', 'ratio', 'x', 'y', 'csdname_oda', 'keep_match']]\n"
   ]
  },
  {
   "cell_type": "code",
   "execution_count": 8,
   "metadata": {
    "execution": {
     "iopub.execute_input": "2022-11-07T16:56:17.593604Z",
     "iopub.status.busy": "2022-11-07T16:56:17.593292Z",
     "iopub.status.idle": "2022-11-07T16:56:17.597546Z",
     "shell.execute_reply": "2022-11-07T16:56:17.596701Z",
     "shell.execute_reply.started": "2022-11-07T16:56:17.593561Z"
    }
   },
   "outputs": [],
   "source": [
    "df_input = df"
   ]
  },
  {
   "cell_type": "code",
   "execution_count": 77,
   "metadata": {
    "execution": {
     "iopub.execute_input": "2022-11-07T21:27:59.834276Z",
     "iopub.status.busy": "2022-11-07T21:27:59.834001Z",
     "iopub.status.idle": "2022-11-07T21:27:59.838384Z",
     "shell.execute_reply": "2022-11-07T21:27:59.837563Z",
     "shell.execute_reply.started": "2022-11-07T21:27:59.834247Z"
    },
    "tags": []
   },
   "outputs": [],
   "source": [
    "df = df_input"
   ]
  },
  {
   "cell_type": "code",
   "execution_count": 68,
   "metadata": {
    "execution": {
     "iopub.execute_input": "2022-11-07T21:23:18.506608Z",
     "iopub.status.busy": "2022-11-07T21:23:18.506342Z",
     "iopub.status.idle": "2022-11-07T21:23:18.510080Z",
     "shell.execute_reply": "2022-11-07T21:23:18.509468Z",
     "shell.execute_reply.started": "2022-11-07T21:23:18.506580Z"
    },
    "tags": []
   },
   "outputs": [],
   "source": [
    "df = df.head(5000)"
   ]
  },
  {
   "cell_type": "markdown",
   "metadata": {},
   "source": [
    "#### Add x and y for deduplicated rows"
   ]
  },
  {
   "cell_type": "code",
   "execution_count": 78,
   "metadata": {
    "execution": {
     "iopub.execute_input": "2022-11-07T21:28:09.607046Z",
     "iopub.status.busy": "2022-11-07T21:28:09.606706Z",
     "iopub.status.idle": "2022-11-07T21:28:10.543341Z",
     "shell.execute_reply": "2022-11-07T21:28:10.542644Z",
     "shell.execute_reply.started": "2022-11-07T21:28:09.607009Z"
    },
    "tags": []
   },
   "outputs": [],
   "source": [
    "# sort dataframe by deduplicated variables, so that deduplicated rows appear together\n",
    "# this way we can check for matches against previous rows\n",
    "df.sort_values(['province', 'city', 'street_no', 'formatted_en'], inplace=True)\n",
    "# df.reset_index(inplace=True)"
   ]
  },
  {
   "cell_type": "code",
   "execution_count": 79,
   "metadata": {
    "execution": {
     "iopub.execute_input": "2022-11-07T21:28:12.589090Z",
     "iopub.status.busy": "2022-11-07T21:28:12.588830Z",
     "iopub.status.idle": "2022-11-07T21:28:43.789721Z",
     "shell.execute_reply": "2022-11-07T21:28:43.788891Z",
     "shell.execute_reply.started": "2022-11-07T21:28:12.589064Z"
    },
    "tags": []
   },
   "outputs": [],
   "source": [
    "# add in missing matching values for previously de-duplicated rows\n",
    "\n",
    "for i in range(len(df)):\n",
    "    \n",
    "    # check if the street number is the same as the previous row\n",
    "    if (i > 1):\n",
    "        if (df.at[i , 'street_no'] == df.at[i - 1, 'street_no']):\n",
    "            # then street name\n",
    "            if (df.at[i, 'formatted_en'] == df.at[i - 1, 'formatted_en']):\n",
    "                # then city\n",
    "                if (df.at[i, 'city'] == df.at[i - 1, 'city']):\n",
    "                    # then province\n",
    "                    if (df.at[i, 'province'] == df.at[i - 1, 'province']):\n",
    "                        # we might also want to check the source is the same\n",
    "                        \n",
    "                        # if they are all the same, then take the value of x\n",
    "                        # if x is not na or 0, assign it to the previous row\n",
    "                        \n",
    "                        # check if previous value had an 'x' \n",
    "                        x = df.at[i - 1, 'x']\n",
    "                        if (not pd.isna(x) and x != 0):\n",
    "                            # if yes, then assign it to the current row\n",
    "                            df.at[i, 'x'] = x\n",
    "                            \n",
    "                            y = df.at[i - 1, 'y']\n",
    "                            if (not pd.isna(y) and y != 0):\n",
    "                                df.at[i, 'y'] = y\n",
    "                    \n",
    "                            # also add the other columns from the matching stage\n",
    "                            df.at[i, 'matches_r'] = df.at[i - 1, 'matches_r']\n",
    "                            df.at[i, 'ratio'] = df.at[i - 1, 'ratio']\n",
    "                            df.at[i, 'csdname_oda'] = df.at[i - 1, 'csdname_oda']\n",
    "                            df.at[i, 'keep_match'] = df.at[i - 1, 'keep_match']\n",
    "\n"
   ]
  },
  {
   "cell_type": "markdown",
   "metadata": {},
   "source": [
    "### Remove lat lons for non-matches"
   ]
  },
  {
   "cell_type": "code",
   "execution_count": 80,
   "metadata": {
    "execution": {
     "iopub.execute_input": "2022-11-07T21:28:58.275556Z",
     "iopub.status.busy": "2022-11-07T21:28:58.275281Z",
     "iopub.status.idle": "2022-11-07T21:28:58.414104Z",
     "shell.execute_reply": "2022-11-07T21:28:58.413411Z",
     "shell.execute_reply.started": "2022-11-07T21:28:58.275528Z"
    },
    "tags": []
   },
   "outputs": [],
   "source": [
    "# we use two columns to decide whether to keep a match or not\n",
    "# if keep_match is yes AND ratio > 92 AND no existing lat/lon, then we use xy values for lat/lon\n",
    "# we also need to say that we used the matched geo source: oda_match\n",
    "\n",
    "# df['new'] = np.where((df['keep_match'] == 'yes') & (df['ratio'] > 92) & (df['longitude'].isna()), df['x'], '')\n",
    "df['geo_source'] = np.where((df['keep_match'] == 'yes') & (df['ratio'] > 92) & (df['longitude'].isna()), 'oda_match', df['geo_source'])\n",
    "df['latitude'] = np.where((df['keep_match'] == 'yes') & (df['ratio'] > 92) & (df['latitude'].isna()), df['y'], df['latitude'])\n",
    "df['longitude'] = np.where((df['keep_match'] == 'yes') & (df['ratio'] > 92) & (df['longitude'].isna()), df['x'], df['longitude'])\n"
   ]
  },
  {
   "cell_type": "code",
   "execution_count": 73,
   "metadata": {
    "execution": {
     "iopub.execute_input": "2022-11-07T21:23:36.517841Z",
     "iopub.status.busy": "2022-11-07T21:23:36.517567Z",
     "iopub.status.idle": "2022-11-07T21:23:36.523529Z",
     "shell.execute_reply": "2022-11-07T21:23:36.522689Z",
     "shell.execute_reply.started": "2022-11-07T21:23:36.517814Z"
    },
    "tags": []
   },
   "outputs": [
    {
     "data": {
      "text/plain": [
       "'-115.57202'"
      ]
     },
     "execution_count": 73,
     "metadata": {},
     "output_type": "execute_result"
    }
   ],
   "source": [
    "df.at[300,'new']"
   ]
  },
  {
   "cell_type": "code",
   "execution_count": 6,
   "metadata": {
    "execution": {
     "iopub.execute_input": "2022-11-09T21:17:09.970175Z",
     "iopub.status.busy": "2022-11-09T21:17:09.969826Z",
     "iopub.status.idle": "2022-11-09T21:17:10.312605Z",
     "shell.execute_reply": "2022-11-09T21:17:10.311785Z",
     "shell.execute_reply.started": "2022-11-09T21:17:09.970135Z"
    },
    "tags": []
   },
   "outputs": [],
   "source": [
    "# finally, we clean up columns that are not being used\n",
    "df = df.drop(columns=['x', 'y', 'ratio', 'matches_r'])\n"
   ]
  },
  {
   "cell_type": "code",
   "execution_count": 81,
   "metadata": {
    "execution": {
     "iopub.execute_input": "2022-11-07T21:29:11.940795Z",
     "iopub.status.busy": "2022-11-07T21:29:11.940552Z",
     "iopub.status.idle": "2022-11-07T21:29:26.823259Z",
     "shell.execute_reply": "2022-11-07T21:29:26.822404Z",
     "shell.execute_reply.started": "2022-11-07T21:29:11.940768Z"
    },
    "tags": []
   },
   "outputs": [],
   "source": [
    "# df.to_csv('output/matched.csv', index=False)\n",
    "df.to_csv('output/matched.csv', index=False)\n",
    "# we expect for x and y to be assigned to our repeats"
   ]
  },
  {
   "cell_type": "code",
   "execution_count": 10,
   "metadata": {
    "execution": {
     "iopub.execute_input": "2022-11-09T21:18:27.575589Z",
     "iopub.status.busy": "2022-11-09T21:18:27.575308Z",
     "iopub.status.idle": "2022-11-09T21:18:27.990869Z",
     "shell.execute_reply": "2022-11-09T21:18:27.990010Z",
     "shell.execute_reply.started": "2022-11-09T21:18:27.575558Z"
    },
    "tags": []
   },
   "outputs": [
    {
     "data": {
      "application/vnd.jupyter.widget-view+json": {
       "model_id": "b7d6f63fd7814214a6dbb0127958fd18",
       "version_major": 2,
       "version_minor": 0
      },
      "text/plain": [
       "MitoWidget(analysis_data_json='{\"analysisName\": \"id-vahppewxqg\", \"analysisToReplay\": null, \"code\": [], \"stepSu…"
      ]
     },
     "metadata": {},
     "output_type": "display_data"
    }
   ],
   "source": [
    "mitosheet.sheet(df, analysis_to_replay=\"id-vahppewxqg\")"
   ]
  },
  {
   "cell_type": "code",
   "execution_count": null,
   "metadata": {},
   "outputs": [],
   "source": []
  },
  {
   "cell_type": "code",
   "execution_count": null,
   "metadata": {},
   "outputs": [],
   "source": [
    "from mitosheet import *; register_analysis(\"id-zmthoxkzcq\");\n",
    "    \n",
    "# Imported matched.csv\n",
    "import pandas as pd\n",
    "matched = pd.read_csv(r'/home/jovyan/ODBiz/5a-Matching/output/matched.csv')\n"
   ]
  }
 ],
 "metadata": {
  "kernelspec": {
   "display_name": "Python 3 (ipykernel)",
   "language": "python",
   "name": "python3"
  },
  "language_info": {
   "codemirror_mode": {
    "name": "ipython",
    "version": 3
   },
   "file_extension": ".py",
   "mimetype": "text/x-python",
   "name": "python",
   "nbconvert_exporter": "python",
   "pygments_lexer": "ipython3",
   "version": "3.9.13"
  }
 },
 "nbformat": 4,
 "nbformat_minor": 4
}
