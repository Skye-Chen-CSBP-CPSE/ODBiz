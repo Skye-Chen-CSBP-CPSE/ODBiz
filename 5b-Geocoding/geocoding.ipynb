{
 "cells": [
  {
   "cell_type": "code",
   "execution_count": 39,
   "metadata": {
    "execution": {
     "iopub.execute_input": "2022-12-02T19:36:58.257495Z",
     "iopub.status.busy": "2022-12-02T19:36:58.257102Z",
     "iopub.status.idle": "2022-12-02T19:36:58.261940Z",
     "shell.execute_reply": "2022-12-02T19:36:58.261184Z",
     "shell.execute_reply.started": "2022-12-02T19:36:58.257452Z"
    },
    "tags": []
   },
   "outputs": [],
   "source": [
    "import requests\n",
    "import json\n",
    "import pandas as pd\n",
    "import numpy as np\n",
    "import time\n",
    "from os.path import exists\n",
    "from datetime import datetime\n",
    "\n",
    "# Libraries for GC API\n",
    "import os\n",
    "from dotenv import load_dotenv\n",
    "\n",
    "# For testing\n",
    "import mitosheet"
   ]
  },
  {
   "cell_type": "code",
   "execution_count": 40,
   "metadata": {
    "execution": {
     "iopub.execute_input": "2022-12-02T19:36:59.287477Z",
     "iopub.status.busy": "2022-12-02T19:36:59.287225Z",
     "iopub.status.idle": "2022-12-02T19:36:59.292415Z",
     "shell.execute_reply": "2022-12-02T19:36:59.291682Z",
     "shell.execute_reply.started": "2022-12-02T19:36:59.287450Z"
    },
    "tags": []
   },
   "outputs": [],
   "source": [
    "# requires a valid key to use the GC API\n",
    "# see docs https://api.canada.ca/en/homepage \n",
    "# create a .env file in this repository and add GC_API_KEY=\"YOUR_GC_API_KEY\"\n",
    "# make sure to add .env filetype to gitignore\n",
    "load_dotenv()\n",
    "gc_key = os.environ.get(\"GC_API_KEY\")\n",
    "\n",
    "# temporarily suppresses SettingWithCopyWarning\n",
    "pd.options.mode.chained_assignment = None "
   ]
  },
  {
   "cell_type": "code",
   "execution_count": 41,
   "metadata": {
    "execution": {
     "iopub.execute_input": "2022-12-02T19:37:00.417239Z",
     "iopub.status.busy": "2022-12-02T19:37:00.416991Z",
     "iopub.status.idle": "2022-12-02T19:37:11.304199Z",
     "shell.execute_reply": "2022-12-02T19:37:11.303342Z",
     "shell.execute_reply.started": "2022-12-02T19:37:00.417213Z"
    },
    "tags": []
   },
   "outputs": [],
   "source": [
    "input_data = \"../5a-Matching/output/matched_processed.csv\"\n",
    "df = pd.read_csv(input_data, low_memory=False, dtype=\"str\")\n",
    "\n",
    "# For testing\n",
    "df_input = df"
   ]
  },
  {
   "cell_type": "code",
   "execution_count": 51,
   "metadata": {
    "execution": {
     "iopub.execute_input": "2022-12-02T19:46:45.342329Z",
     "iopub.status.busy": "2022-12-02T19:46:45.341776Z",
     "iopub.status.idle": "2022-12-02T19:46:45.347325Z",
     "shell.execute_reply": "2022-12-02T19:46:45.346392Z",
     "shell.execute_reply.started": "2022-12-02T19:46:45.342266Z"
    },
    "tags": []
   },
   "outputs": [],
   "source": [
    "# For testing\n",
    "df = df_input"
   ]
  },
  {
   "cell_type": "code",
   "execution_count": 52,
   "metadata": {
    "execution": {
     "iopub.execute_input": "2022-12-02T19:46:45.895564Z",
     "iopub.status.busy": "2022-12-02T19:46:45.895274Z",
     "iopub.status.idle": "2022-12-02T19:46:46.089832Z",
     "shell.execute_reply": "2022-12-02T19:46:46.088856Z",
     "shell.execute_reply.started": "2022-12-02T19:46:45.895534Z"
    },
    "tags": []
   },
   "outputs": [
    {
     "data": {
      "text/plain": [
       "803491"
      ]
     },
     "execution_count": 52,
     "metadata": {},
     "output_type": "execute_result"
    }
   ],
   "source": [
    "len(set(df_input['idx']))"
   ]
  },
  {
   "cell_type": "code",
   "execution_count": 53,
   "metadata": {
    "execution": {
     "iopub.execute_input": "2022-12-02T19:46:46.790338Z",
     "iopub.status.busy": "2022-12-02T19:46:46.789968Z",
     "iopub.status.idle": "2022-12-02T19:46:46.797285Z",
     "shell.execute_reply": "2022-12-02T19:46:46.795993Z",
     "shell.execute_reply.started": "2022-12-02T19:46:46.790294Z"
    },
    "tags": []
   },
   "outputs": [
    {
     "data": {
      "text/plain": [
       "803491"
      ]
     },
     "execution_count": 53,
     "metadata": {},
     "output_type": "execute_result"
    }
   ],
   "source": [
    "len(df_input)"
   ]
  },
  {
   "cell_type": "code",
   "execution_count": 54,
   "metadata": {
    "execution": {
     "iopub.execute_input": "2022-12-02T19:46:47.271116Z",
     "iopub.status.busy": "2022-12-02T19:46:47.270809Z",
     "iopub.status.idle": "2022-12-02T19:46:48.795685Z",
     "shell.execute_reply": "2022-12-02T19:46:48.794408Z",
     "shell.execute_reply.started": "2022-12-02T19:46:47.271079Z"
    },
    "tags": []
   },
   "outputs": [
    {
     "name": "stdout",
     "output_type": "stream",
     "text": [
      "Original length:  803491\n",
      "After removing those with no address data:  695084\n",
      "After removing those already with lat/lon:  239396\n",
      "After removing duplicates:  158337\n",
      "sample:  5\n"
     ]
    }
   ],
   "source": [
    "# Filter the data\n",
    "\n",
    "print('Original length: ', len(df))\n",
    "\n",
    "# filter to those with a street number and street name\n",
    "df = df[~df.street_no.isna()]\n",
    "df = df[~df.formatted_en.isna()]\n",
    "print('After removing those with no address data: ', len(df))\n",
    "\n",
    "# filter those without lat/lon \n",
    "df = df[df.latitude.isna()]\n",
    "print('After removing those already with lat/lon: ', len(df))\n",
    "\n",
    "# remove duplicates \n",
    "df_dup = df[df.duplicated(subset=['street_no','formatted_en', 'province', 'city'], keep='first')]\n",
    "df = df[~df.duplicated(subset=['street_no','formatted_en', 'province', 'city'], keep='first')]\n",
    "print('After removing duplicates: ', len(df))\n",
    "\n",
    "# For testing\n",
    "df = df.sample(5)\n",
    "print('sample: ', len(df))"
   ]
  },
  {
   "cell_type": "code",
   "execution_count": 46,
   "metadata": {
    "execution": {
     "iopub.execute_input": "2022-12-02T19:40:07.173121Z",
     "iopub.status.busy": "2022-12-02T19:40:07.172795Z",
     "iopub.status.idle": "2022-12-02T19:40:07.179725Z",
     "shell.execute_reply": "2022-12-02T19:40:07.178835Z",
     "shell.execute_reply.started": "2022-12-02T19:40:07.173092Z"
    },
    "tags": []
   },
   "outputs": [
    {
     "data": {
      "text/plain": [
       "5"
      ]
     },
     "execution_count": 46,
     "metadata": {},
     "output_type": "execute_result"
    }
   ],
   "source": [
    "# Analyse what's left to geocode\n",
    "\n",
    "# By province\n",
    "df['province'].value_counts().sum()"
   ]
  },
  {
   "cell_type": "code",
   "execution_count": 47,
   "metadata": {
    "execution": {
     "iopub.execute_input": "2022-12-02T19:40:10.870914Z",
     "iopub.status.busy": "2022-12-02T19:40:10.870660Z",
     "iopub.status.idle": "2022-12-02T19:40:10.878318Z",
     "shell.execute_reply": "2022-12-02T19:40:10.877651Z",
     "shell.execute_reply.started": "2022-12-02T19:40:10.870888Z"
    },
    "tags": []
   },
   "outputs": [
    {
     "data": {
      "text/plain": [
       "QC_Etablissements.csv               3\n",
       "ON_Toronto_Business_Licences.csv    2\n",
       "Name: localfile, dtype: int64"
      ]
     },
     "execution_count": 47,
     "metadata": {},
     "output_type": "execute_result"
    }
   ],
   "source": [
    "# By source\n",
    "df['localfile'].value_counts()"
   ]
  },
  {
   "cell_type": "code",
   "execution_count": 55,
   "metadata": {
    "execution": {
     "iopub.execute_input": "2022-12-02T19:46:54.620169Z",
     "iopub.status.busy": "2022-12-02T19:46:54.619791Z",
     "iopub.status.idle": "2022-12-02T19:46:54.630427Z",
     "shell.execute_reply": "2022-12-02T19:46:54.629332Z",
     "shell.execute_reply.started": "2022-12-02T19:46:54.620128Z"
    },
    "tags": []
   },
   "outputs": [
    {
     "name": "stdout",
     "output_type": "stream",
     "text": [
      "5\n"
     ]
    }
   ],
   "source": [
    "# Set up our GC API call\n",
    "\n",
    "# define parameters for osm api call\n",
    "url_gc = 'https://national-address-register-statcan.api.canada.ca:443/v2/addresses/search'\n",
    "\n",
    "# clean dataset for queries\n",
    "df.fillna('', inplace=True)\n",
    "\n",
    "# define api query string\n",
    "df['gc_request_street'] = df['street_no'] + ', ' + df['formatted_en'] + ', ' + df['city'] + ', ' + df['province']\n",
    "\n",
    "# create list of provinces in the dataset\n",
    "provinces = df['province'].unique()\n",
    "\n",
    "# \n",
    "print(len(df))"
   ]
  },
  {
   "cell_type": "code",
   "execution_count": 59,
   "metadata": {
    "execution": {
     "iopub.execute_input": "2022-12-02T20:07:37.792206Z",
     "iopub.status.busy": "2022-12-02T20:07:37.791927Z",
     "iopub.status.idle": "2022-12-02T20:07:37.796308Z",
     "shell.execute_reply": "2022-12-02T20:07:37.795563Z",
     "shell.execute_reply.started": "2022-12-02T20:07:37.792178Z"
    },
    "tags": []
   },
   "outputs": [],
   "source": [
    "df = df.sample(2)"
   ]
  },
  {
   "cell_type": "code",
   "execution_count": 65,
   "metadata": {
    "execution": {
     "iopub.execute_input": "2022-12-02T20:12:44.066970Z",
     "iopub.status.busy": "2022-12-02T20:12:44.066693Z",
     "iopub.status.idle": "2022-12-02T20:12:47.007397Z",
     "shell.execute_reply": "2022-12-02T20:12:47.006695Z",
     "shell.execute_reply.started": "2022-12-02T20:12:44.066941Z"
    },
    "tags": []
   },
   "outputs": [
    {
     "name": "stdout",
     "output_type": "stream",
     "text": [
      "QC\n",
      "Number to geocode:  2\n",
      "BC\n",
      "Number to geocode:  0\n",
      "DONE. Seconds elapsed:  2.93\n"
     ]
    }
   ],
   "source": [
    "# Set a timer\n",
    "t1 = time.time()\n",
    "\n",
    "# Reset arrays for collecting our results\n",
    "JSONS = []\n",
    "JSONS_CITIES = []\n",
    "JSONS_ALL = []\n",
    "\n",
    "# loop through dataframe by province\n",
    "for province in provinces:\n",
    "    \n",
    "    # Reset arrays for collecting our results\n",
    "    JSONS = []\n",
    "    JSONS_CITIES = []\n",
    "    \n",
    "    df2 = df[df['province'] == province]\n",
    "    print(province)\n",
    "    print('Number to geocode: ', len(df2))\n",
    "    reqs_gc = list(df2['gc_request_street'])\n",
    "    idxs = list(df2['idx'])\n",
    "\n",
    "    # Loop through each request\n",
    "    for i in range(len(reqs_gc)):\n",
    "        query_gc = reqs_gc[i]\n",
    "        \n",
    "        # Set query interval\n",
    "        time.sleep(1) \n",
    "        \n",
    "        # Print a message every 1000 queries\n",
    "        if (i % 1000 == 0 and i > 1):\n",
    "            print(str(i), ' of ', str(len(df2)), ' queries completed')\n",
    "            t2 = time.time()\n",
    "            print('seconds elapsed: ', str(round(t2-t1, 2)), '\\n')\n",
    "\n",
    "        # set GC API parameters\n",
    "        params_gc = {'qstr': query_gc}\n",
    "        headers_gc = {'user_key': gc_key}\n",
    "        \n",
    "        # Send API request\n",
    "        try:\n",
    "            coords_gc = requests.get(url_gc, params=params_gc, headers=headers_gc)\n",
    "    \n",
    "            # If the API response is success\n",
    "            if (coords_gc.status_code == 200):\n",
    "\n",
    "                # Save response to a variable\n",
    "                resp = coords_gc.json()\n",
    "\n",
    "                # Delete all but the first three results\n",
    "                for index in range(len(resp['data'])):\n",
    "                    if (index > 2):\n",
    "                        del resp['data'][3]\n",
    "            else:\n",
    "                resp = ''\n",
    "    #             print('no gc street address found')\n",
    "        \n",
    "        except requests.exceptions.ConnectionError:\n",
    "            print(\"Connection refused for query: \", query_gc) \n",
    "            resp = ''\n",
    "        \n",
    "        # Add data id's to json\n",
    "        resp['idx'] = idxs[i]\n",
    "    \n",
    "        # Append to array of results\n",
    "        JSONS.append(resp)\n",
    "        JSONS_ALL.append(resp)\n",
    "    \n",
    "    # once each province is complete, create a json file to save the results object\n",
    "    json_name = 'data/geocoded_' + str(province) + '.json'\n",
    "    with open(json_name, 'w', encoding='utf-8') as f:\n",
    "        json.dump(JSONS, f, ensure_ascii=False, indent=4)\n",
    "#     print(\"\\n\")\n",
    "\n",
    "# create a big json dump at the end\n",
    "with open('data/geocoded.json', 'w', encoding='utf-8') as f:\n",
    "    json.dump(JSONS_ALL, f, ensure_ascii=False, indent=4) \n",
    "\n",
    "t2 = time.time()\n",
    "print('DONE. Seconds elapsed: ', str(round(t2-t1, 2)))"
   ]
  },
  {
   "cell_type": "code",
   "execution_count": 172,
   "metadata": {
    "execution": {
     "iopub.execute_input": "2022-11-30T16:26:13.327247Z",
     "iopub.status.busy": "2022-11-30T16:26:13.326987Z",
     "iopub.status.idle": "2022-11-30T16:26:13.538152Z",
     "shell.execute_reply": "2022-11-30T16:26:13.537373Z",
     "shell.execute_reply.started": "2022-11-30T16:26:13.327222Z"
    },
    "tags": []
   },
   "outputs": [],
   "source": [
    "# # define query function\n",
    "# def gc_query(query, query_type):\n",
    "#     # set interval for requests\n",
    "#     time.sleep(1) \n",
    "#     coords = requests.get(url, params=params, headers=headers)\n",
    "#     print(\"osm query \" + query_type + \": \" + query)\n",
    "#     coords_gc = requests.get(url_gc, params=params_gc, headers=headers_gc)\n",
    "#     return coords.json()"
   ]
  },
  {
   "cell_type": "code",
   "execution_count": 29,
   "metadata": {
    "execution": {
     "iopub.execute_input": "2022-12-01T15:37:39.940997Z",
     "iopub.status.busy": "2022-12-01T15:37:39.940643Z",
     "iopub.status.idle": "2022-12-01T15:37:46.522072Z",
     "shell.execute_reply": "2022-12-01T15:37:46.521193Z",
     "shell.execute_reply.started": "2022-12-01T15:37:39.940962Z"
    },
    "tags": []
   },
   "outputs": [
    {
     "name": "stdout",
     "output_type": "stream",
     "text": [
      "34306\n"
     ]
    }
   ],
   "source": [
    "with open('data/geocodedPE.json', 'r', encoding='utf-8') as f:\n",
    "    JSONS=json.load(f)  \n",
    "print(len(JSONS))"
   ]
  },
  {
   "cell_type": "code",
   "execution_count": 30,
   "metadata": {
    "execution": {
     "iopub.execute_input": "2022-12-01T15:37:48.847104Z",
     "iopub.status.busy": "2022-12-01T15:37:48.846819Z",
     "iopub.status.idle": "2022-12-01T15:37:48.960977Z",
     "shell.execute_reply": "2022-12-01T15:37:48.959924Z",
     "shell.execute_reply.started": "2022-12-01T15:37:48.847078Z"
    },
    "tags": []
   },
   "outputs": [],
   "source": [
    "# read json request results into our dataframe\n",
    "\n",
    "def append_blank(index):\n",
    "    df['geo_source'].iloc[index] = \"no_gc\"\n",
    "    LATS.append('')\n",
    "    LONS.append('')\n",
    "    NAME.append('')\n",
    "    ST_NO.append('')\n",
    "    ST_NAME.append('')\n",
    "    CITY.append('')\n",
    "    PROV.append('')\n",
    "    POST.append('')\n",
    "    COUNTRY.append('')\n",
    "    TYPE.append('')\n",
    "    CLASS.append('')\n",
    "\n",
    "# with open('Nominatim.json', 'r', encoding='utf-8') as f:\n",
    "#     JSONS=json.load(f)    \n",
    "        \n",
    "LATS = []\n",
    "LONS = []\n",
    "NAME = []\n",
    "ST_NO = []\n",
    "ST_NAME = []\n",
    "CITY = []\n",
    "PROV = []\n",
    "POST = []\n",
    "COUNTRY = []\n",
    "TYPE = []\n",
    "CLASS = []"
   ]
  },
  {
   "cell_type": "code",
   "execution_count": 32,
   "metadata": {
    "execution": {
     "iopub.execute_input": "2022-12-01T15:38:04.963111Z",
     "iopub.status.busy": "2022-12-01T15:38:04.962680Z",
     "iopub.status.idle": "2022-12-01T15:38:05.026720Z",
     "shell.execute_reply": "2022-12-01T15:38:05.025872Z",
     "shell.execute_reply.started": "2022-12-01T15:38:04.963051Z"
    },
    "tags": []
   },
   "outputs": [
    {
     "data": {
      "text/plain": [
       "34306"
      ]
     },
     "execution_count": 32,
     "metadata": {},
     "output_type": "execute_result"
    }
   ],
   "source": [
    "provinces = np.delete(provinces, [9,10,11,12])\n",
    "df = df[df['province'].isin(provinces)]\n",
    "len(df)"
   ]
  },
  {
   "cell_type": "code",
   "execution_count": 33,
   "metadata": {
    "execution": {
     "iopub.execute_input": "2022-12-01T15:38:23.907054Z",
     "iopub.status.busy": "2022-12-01T15:38:23.906718Z",
     "iopub.status.idle": "2022-12-01T15:38:24.081512Z",
     "shell.execute_reply": "2022-12-01T15:38:24.080614Z",
     "shell.execute_reply.started": "2022-12-01T15:38:23.907016Z"
    },
    "tags": []
   },
   "outputs": [
    {
     "data": {
      "application/vnd.jupyter.widget-view+json": {
       "model_id": "9e0c4ab5808643e18033e2b86985aeaf",
       "version_major": 2,
       "version_minor": 0
      },
      "text/plain": [
       "MitoWidget(analysis_data_json='{\"analysisName\": \"id-erseurrrwq\", \"analysisToReplay\": {\"analysisName\": \"id-vwdf…"
      ]
     },
     "metadata": {},
     "output_type": "display_data"
    }
   ],
   "source": [
    "# order df by province\n",
    "\n",
    "provinces = df['province'].unique()\n",
    "\n",
    "df = df.sort_values(by=['province'], ascending=True)\n",
    "\n",
    "mitosheet.sheet(df, analysis_to_replay=\"id-vwdfxtprrm\")"
   ]
  },
  {
   "cell_type": "code",
   "execution_count": null,
   "metadata": {},
   "outputs": [],
   "source": []
  },
  {
   "cell_type": "code",
   "execution_count": 34,
   "metadata": {
    "execution": {
     "iopub.execute_input": "2022-12-01T15:38:45.373782Z",
     "iopub.status.busy": "2022-12-01T15:38:45.373504Z",
     "iopub.status.idle": "2022-12-01T15:38:45.568075Z",
     "shell.execute_reply": "2022-12-01T15:38:45.567305Z",
     "shell.execute_reply.started": "2022-12-01T15:38:45.373754Z"
    },
    "tags": []
   },
   "outputs": [],
   "source": [
    "# osm_healthcare_types = ['hospital', 'clinic', 'pharmacy']\n",
    "\n",
    "for index, element in enumerate(JSONS):\n",
    "    if element==[]:\n",
    "        append_blank(index)\n",
    "    \n",
    "    else:\n",
    "        # format gc api results      \n",
    "        if 'meta' in element:\n",
    "            \n",
    "            if (element['data'][0]['country']['code'] == 'CA'):\n",
    "                COUNTRY.append(element['data'][0]['country']['code'])\n",
    "                LATS.append(element['data'][0]['location']['geoCoordinates']['latitude'])\n",
    "                LONS.append(element['data'][0]['location']['geoCoordinates']['longitude'])\n",
    "                if 'streetName' in element.keys():\n",
    "                    ST_NAME.append(element['streetName'])\n",
    "                else:\n",
    "                    ST_NAME.append('')\n",
    "                if 'civicNumber' in element.keys():\n",
    "                    ST_NO.append(element['civicNumber']['number'])\n",
    "                else:\n",
    "                    ST_NO.append('')\n",
    "                # NOTE is there some equivalent?\n",
    "                TYPE.append('')\n",
    "                CLASS.append('')\n",
    "                NAME.append('')\n",
    "                if 'province' in element.keys():\n",
    "                    PROV.append(element['data'][0]['mailingAddress']['province']['code'])\n",
    "                else:\n",
    "                    PROV.append('')\n",
    "                if 'postalCode' in element['data'][0]['mailingAddress']:\n",
    "                    POST.append(element['data'][0]['mailingAddress']['postalCode'])\n",
    "                else:\n",
    "                    POST.append('')\n",
    "                if 'cityName' in  element['data']:\n",
    "                    CITY.append(element['data'][0]['cityName']['en'])\n",
    "                else:\n",
    "                    CITY.append('')\n",
    "        else:\n",
    "            append_blank(index)\n",
    "\n",
    "# append results to dataframe\n",
    "df['gc_name'] = NAME\n",
    "df['gc_street_no'] = ST_NO\n",
    "df['gc_street_name'] = ST_NAME\n",
    "df['gc_city'] = CITY\n",
    "df['gc_province'] = PROV\n",
    "df['gc_postal_code'] = POST\n",
    "df['gc_class'] = CLASS\n",
    "df['gc_type'] = TYPE\n",
    "df['gc_lat'] = LATS\n",
    "df['gc_lon'] = LONS"
   ]
  },
  {
   "cell_type": "code",
   "execution_count": 35,
   "metadata": {
    "execution": {
     "iopub.execute_input": "2022-12-01T15:38:48.975810Z",
     "iopub.status.busy": "2022-12-01T15:38:48.975527Z",
     "iopub.status.idle": "2022-12-01T15:38:49.061775Z",
     "shell.execute_reply": "2022-12-01T15:38:49.060648Z",
     "shell.execute_reply.started": "2022-12-01T15:38:48.975781Z"
    },
    "tags": []
   },
   "outputs": [],
   "source": [
    "df2 = df[['business_name', 'latitude', 'longitude', 'street_no', 'formatted_en', 'geo_source', 'gc_request_street', 'gc_street_no', 'gc_name', 'gc_street_name', 'gc_city', 'gc_lat', 'gc_lon']]\n"
   ]
  },
  {
   "cell_type": "code",
   "execution_count": null,
   "metadata": {},
   "outputs": [],
   "source": [
    "# post processing\n",
    "\n",
    "# we need to do matches of civic number\n",
    "# and street name\n",
    "# would need to format street name - remove -, '\n",
    "# check first two or three responses"
   ]
  },
  {
   "cell_type": "code",
   "execution_count": 36,
   "metadata": {
    "execution": {
     "iopub.execute_input": "2022-12-01T15:39:00.232769Z",
     "iopub.status.busy": "2022-12-01T15:39:00.232324Z",
     "iopub.status.idle": "2022-12-01T15:39:00.276376Z",
     "shell.execute_reply": "2022-12-01T15:39:00.275772Z",
     "shell.execute_reply.started": "2022-12-01T15:39:00.232723Z"
    },
    "tags": []
   },
   "outputs": [
    {
     "data": {
      "application/vnd.jupyter.widget-view+json": {
       "model_id": "276c5dc9965e4247b04232ac35c0d3d6",
       "version_major": 2,
       "version_minor": 0
      },
      "text/plain": [
       "MitoWidget(analysis_data_json='{\"analysisName\": \"id-jtutpdnplx\", \"analysisToReplay\": null, \"code\": [], \"stepSu…"
      ]
     },
     "metadata": {},
     "output_type": "display_data"
    }
   ],
   "source": [
    "mitosheet.sheet(df2, analysis_to_replay=\"id-jtutpdnplx\")"
   ]
  },
  {
   "cell_type": "code",
   "execution_count": null,
   "metadata": {},
   "outputs": [],
   "source": []
  }
 ],
 "metadata": {
  "kernelspec": {
   "display_name": "Python 3 (ipykernel)",
   "language": "python",
   "name": "python3"
  },
  "language_info": {
   "codemirror_mode": {
    "name": "ipython",
    "version": 3
   },
   "file_extension": ".py",
   "mimetype": "text/x-python",
   "name": "python",
   "nbconvert_exporter": "python",
   "pygments_lexer": "ipython3",
   "version": "3.9.13"
  }
 },
 "nbformat": 4,
 "nbformat_minor": 4
}
