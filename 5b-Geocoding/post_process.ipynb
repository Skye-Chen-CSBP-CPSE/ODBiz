{
 "cells": [
  {
   "cell_type": "code",
   "execution_count": 50,
   "metadata": {
    "execution": {
     "iopub.execute_input": "2022-12-05T21:13:06.740847Z",
     "iopub.status.busy": "2022-12-05T21:13:06.740489Z",
     "iopub.status.idle": "2022-12-05T21:13:06.756846Z",
     "shell.execute_reply": "2022-12-05T21:13:06.744336Z",
     "shell.execute_reply.started": "2022-12-05T21:13:06.740809Z"
    },
    "tags": []
   },
   "outputs": [],
   "source": [
    "import pandas as pd\n",
    "import numpy as np\n",
    "import mitosheet\n",
    "import json"
   ]
  },
  {
   "cell_type": "code",
   "execution_count": 11,
   "metadata": {
    "execution": {
     "iopub.execute_input": "2022-12-05T20:24:02.090058Z",
     "iopub.status.busy": "2022-12-05T20:24:02.089750Z",
     "iopub.status.idle": "2022-12-05T20:24:11.705697Z",
     "shell.execute_reply": "2022-12-05T20:24:11.704940Z",
     "shell.execute_reply.started": "2022-12-05T20:24:02.090026Z"
    }
   },
   "outputs": [],
   "source": [
    "input_data = \"../5a-Matching/output/matched_processed.csv\"\n",
    "df_input = pd.read_csv(input_data, low_memory=False, dtype=\"str\")"
   ]
  },
  {
   "cell_type": "code",
   "execution_count": 95,
   "metadata": {
    "execution": {
     "iopub.execute_input": "2022-12-05T22:12:27.874750Z",
     "iopub.status.busy": "2022-12-05T22:12:27.874375Z",
     "iopub.status.idle": "2022-12-05T22:13:05.192393Z",
     "shell.execute_reply": "2022-12-05T22:13:05.191339Z",
     "shell.execute_reply.started": "2022-12-05T22:12:27.874710Z"
    },
    "tags": []
   },
   "outputs": [
    {
     "name": "stdout",
     "output_type": "stream",
     "text": [
      "78\n",
      "no file:  data/geocoded_78.json\n",
      "AB\n",
      "216\n",
      "BC\n",
      "14042\n",
      "LAKEVIEW ESTATES\n",
      "no file:  data/geocoded_LAKEVIEW ESTATES.json\n",
      "MB\n",
      "47\n",
      "NB\n",
      "19\n",
      "NL\n",
      "2\n",
      "NS\n",
      "5\n",
      "NT\n",
      "81\n",
      "NU\n",
      "no file:  data/geocoded_NU.json\n",
      "ON\n",
      "19893\n",
      "PE\n",
      "1\n",
      "QC\n",
      "122758\n",
      "SK\n",
      "66\n",
      "YT\n",
      "3\n",
      "nan\n"
     ]
    },
    {
     "ename": "TypeError",
     "evalue": "can only concatenate str (not \"float\") to str",
     "output_type": "error",
     "traceback": [
      "\u001b[0;31m---------------------------------------------------------------------------\u001b[0m",
      "\u001b[0;31mTypeError\u001b[0m                                 Traceback (most recent call last)",
      "Cell \u001b[0;32mIn [95], line 19\u001b[0m\n\u001b[1;32m     17\u001b[0m \u001b[38;5;28;01mfor\u001b[39;00m province_code \u001b[38;5;129;01min\u001b[39;00m provinces:\n\u001b[1;32m     18\u001b[0m     \u001b[38;5;28mprint\u001b[39m(province_code)\n\u001b[0;32m---> 19\u001b[0m     json_file \u001b[38;5;241m=\u001b[39m \u001b[38;5;124;43m'\u001b[39;49m\u001b[38;5;124;43mdata/geocoded_\u001b[39;49m\u001b[38;5;124;43m'\u001b[39;49m\u001b[43m \u001b[49m\u001b[38;5;241;43m+\u001b[39;49m\u001b[43m \u001b[49m\u001b[43mprovince_code\u001b[49m \u001b[38;5;241m+\u001b[39m \u001b[38;5;124m'\u001b[39m\u001b[38;5;124m.json\u001b[39m\u001b[38;5;124m'\u001b[39m\n\u001b[1;32m     21\u001b[0m     \u001b[38;5;28;01mtry\u001b[39;00m:\n\u001b[1;32m     22\u001b[0m         \u001b[38;5;28;01mwith\u001b[39;00m \u001b[38;5;28mopen\u001b[39m(json_file, \u001b[38;5;124m'\u001b[39m\u001b[38;5;124mr\u001b[39m\u001b[38;5;124m'\u001b[39m, encoding\u001b[38;5;241m=\u001b[39m\u001b[38;5;124m'\u001b[39m\u001b[38;5;124mutf-8\u001b[39m\u001b[38;5;124m'\u001b[39m) \u001b[38;5;28;01mas\u001b[39;00m f:\n",
      "\u001b[0;31mTypeError\u001b[0m: can only concatenate str (not \"float\") to str"
     ]
    }
   ],
   "source": [
    "provinces = df_input['province'].unique()\n",
    "\n",
    "IDX = []\n",
    "ST_NO = []\n",
    "ST_NAME = []\n",
    "ST_NAME_2 = []\n",
    "CITY = []\n",
    "PROV = []\n",
    "POST = []\n",
    "LATS = []\n",
    "LONS = []\n",
    "\n",
    "df = pd.DataFrame(columns=['idx','gc_street_no','gc_street_name', \\\n",
    "                               'gc_city','gc_province','gc_postal_code', \\\n",
    "                               'gc_latitude', 'gc_longitude'])\n",
    "\n",
    "for province_code in provinces:\n",
    "    print(province_code)\n",
    "    json_file = 'data/geocoded_' + str(province_code) + '.json'\n",
    "\n",
    "    try:\n",
    "        with open(json_file, 'r', encoding='utf-8') as f:\n",
    "            JSONS=json.load(f)  \n",
    "        print(len(JSONS))\n",
    "\n",
    "        # add json data to arrays\n",
    "        for index, element in enumerate(JSONS):\n",
    "            if element==[]:\n",
    "                append_blank(index)\n",
    "\n",
    "            else:\n",
    "                # format gc api results      \n",
    "                if 'meta' in element:\n",
    "                    if (element['data'][0]['country']['code'] == 'CA'):\n",
    "                        IDX.append(element['idx'])\n",
    "                        if not element['data'][0]['civicNumber']['number'] is None:\n",
    "                            ST_NO.append(element['data'][0]['civicNumber']['number'])\n",
    "                        else:\n",
    "                            ST_NO.append('')\n",
    "                            print('oops')\n",
    "                        ST_NAME.append(element['data'][0]['streetName'])\n",
    "                        ST_NAME_2.append(element['data'][1]['streetName'])\n",
    "                        CITY.append(element['data'][0]['cityName']['en'])\n",
    "                        PROV.append(element['data'][0]['mailingAddress']['province']['code'])\n",
    "                        POST.append(element['data'][0]['mailingAddress']['postalCode'])\n",
    "                        LATS.append(element['data'][0]['location']['geoCoordinates']['latitude'])\n",
    "                        LONS.append(element['data'][0]['location']['geoCoordinates']['longitude'])\n",
    "        #                 if 'streetName' in element.keys():\n",
    "        #                     ST_NAME.append(element['streetName'])\n",
    "        #                 else:\n",
    "        #                     ST_NAME.append('nope')\n",
    "                else:\n",
    "                    IDX.append('')\n",
    "                    LATS.append('')\n",
    "                    LONS.append('')\n",
    "                    ST_NO.append('nope')\n",
    "                    ST_NAME.append('')\n",
    "                    CITY.append('')\n",
    "                    PROV.append('')\n",
    "                    POST.append('')\n",
    "                    ST_NAME_2.append('')\n",
    "    except FileNotFoundError:\n",
    "        print('no file: ', json_file)\n",
    "        \n",
    "    \n",
    "    \n",
    "\n",
    "# append results to dataframe\n",
    "df['idx'] = IDX\n",
    "df['gc_street_no'] = ST_NO\n",
    "df['gc_street_name'] = ST_NAME\n",
    "df['gc_street_name_2'] = ST_NAME_2\n",
    "df['gc_city'] = CITY\n",
    "df['gc_province'] = PROV\n",
    "df['gc_postal_code'] = POST\n",
    "df['gc_latitude'] = LATS\n",
    "df['gc_longitude'] = LONS"
   ]
  },
  {
   "cell_type": "code",
   "execution_count": 83,
   "metadata": {
    "execution": {
     "iopub.execute_input": "2022-12-05T21:45:32.282588Z",
     "iopub.status.busy": "2022-12-05T21:45:32.282326Z",
     "iopub.status.idle": "2022-12-05T21:45:33.173461Z",
     "shell.execute_reply": "2022-12-05T21:45:33.171923Z",
     "shell.execute_reply.started": "2022-12-05T21:45:32.282561Z"
    },
    "tags": []
   },
   "outputs": [
    {
     "data": {
      "text/plain": [
       "14037"
      ]
     },
     "execution_count": 83,
     "metadata": {},
     "output_type": "execute_result"
    }
   ],
   "source": [
    "df2 = pd.merge(df_input, df, how='left' on='idx')\n",
    "len(df2)"
   ]
  },
  {
   "cell_type": "code",
   "execution_count": 84,
   "metadata": {
    "execution": {
     "iopub.execute_input": "2022-12-05T21:45:34.795933Z",
     "iopub.status.busy": "2022-12-05T21:45:34.795688Z",
     "iopub.status.idle": "2022-12-05T21:45:34.884211Z",
     "shell.execute_reply": "2022-12-05T21:45:34.883587Z",
     "shell.execute_reply.started": "2022-12-05T21:45:34.795908Z"
    },
    "tags": []
   },
   "outputs": [
    {
     "data": {
      "application/vnd.jupyter.widget-view+json": {
       "model_id": "83b7db166a394f7386d65b5e998f9e6a",
       "version_major": 2,
       "version_minor": 0
      },
      "text/plain": [
       "MitoWidget(analysis_data_json='{\"analysisName\": \"id-uosvattzwc\", \"analysisToReplay\": {\"analysisName\": \"id-jtut…"
      ]
     },
     "metadata": {},
     "output_type": "display_data"
    }
   ],
   "source": [
    "df2 = df2[['idx', 'street_no', 'gc_street_no', 'street_name', \n",
    "          'gc_street_name', 'gc_street_name_2', 'latitude', 'gc_latitude', \n",
    "          'longitude', 'gc_longitude']]\n",
    "mitosheet.sheet(df2, analysis_to_replay=\"id-jtutpdnplx\")\n"
   ]
  },
  {
   "cell_type": "code",
   "execution_count": null,
   "metadata": {},
   "outputs": [],
   "source": []
  },
  {
   "cell_type": "code",
   "execution_count": 85,
   "metadata": {
    "execution": {
     "iopub.execute_input": "2022-12-05T21:45:38.281051Z",
     "iopub.status.busy": "2022-12-05T21:45:38.280688Z",
     "iopub.status.idle": "2022-12-05T21:45:38.630665Z",
     "shell.execute_reply": "2022-12-05T21:45:38.629710Z",
     "shell.execute_reply.started": "2022-12-05T21:45:38.281015Z"
    },
    "tags": []
   },
   "outputs": [],
   "source": [
    "# how many look good?\n",
    "\n",
    "# if the street numbers match\n",
    "# and the gc_street_name is contained in street_name\n",
    "for i in range(len(df2)):\n",
    "    if (df2.at[i,'street_no'] == df2.at[i,'gc_street_no'] and\n",
    "       df2.at[i,'gc_street_name'].lower() in df2.at[i,'street_name'].lower()):\n",
    "        df2.at[i,'keep_gc'] = 'yes'\n"
   ]
  },
  {
   "cell_type": "code",
   "execution_count": 86,
   "metadata": {
    "execution": {
     "iopub.execute_input": "2022-12-05T21:45:39.717797Z",
     "iopub.status.busy": "2022-12-05T21:45:39.717486Z",
     "iopub.status.idle": "2022-12-05T21:45:39.737966Z",
     "shell.execute_reply": "2022-12-05T21:45:39.737008Z",
     "shell.execute_reply.started": "2022-12-05T21:45:39.717766Z"
    },
    "tags": []
   },
   "outputs": [
    {
     "name": "stdout",
     "output_type": "stream",
     "text": [
      "percent of good results:  61.0\n"
     ]
    }
   ],
   "source": [
    "total = len(df2)\n",
    "keeps = len(df2[df2['keep_gc'] == 'yes'])\n",
    "percent_matches = 100 * keeps / total\n",
    "print('percent of good results: ', np.round(percent_matches, 0))"
   ]
  },
  {
   "cell_type": "code",
   "execution_count": null,
   "metadata": {},
   "outputs": [],
   "source": []
  }
 ],
 "metadata": {
  "kernelspec": {
   "display_name": "Python 3 (ipykernel)",
   "language": "python",
   "name": "python3"
  },
  "language_info": {
   "codemirror_mode": {
    "name": "ipython",
    "version": 3
   },
   "file_extension": ".py",
   "mimetype": "text/x-python",
   "name": "python",
   "nbconvert_exporter": "python",
   "pygments_lexer": "ipython3",
   "version": "3.8.12"
  }
 },
 "nbformat": 4,
 "nbformat_minor": 4
}
