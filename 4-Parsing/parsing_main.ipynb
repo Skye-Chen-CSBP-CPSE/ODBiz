{
 "cells": [
  {
   "cell_type": "code",
   "execution_count": 5,
   "metadata": {},
   "outputs": [],
   "source": [
    "import parse_csv\n",
    "import odbiz_custom_parse\n",
    "import combine_parsed_cols\n"
   ]
  },
  {
   "cell_type": "code",
   "execution_count": 6,
   "metadata": {},
   "outputs": [
    {
     "output_type": "stream",
     "name": "stderr",
     "text": [
      "Traceback (most recent call last):\n",
      "  File \"parse_csv.py\", line 30, in <module>\n",
      "    from postal.parser import parse_address\n",
      "ModuleNotFoundError: No module named 'postal'\n"
     ]
    },
    {
     "output_type": "error",
     "ename": "CalledProcessError",
     "evalue": "Command 'b'python parse_csv.py input/ODBiz_Merged.csv full_address output/parsed_biz.csv\\n'' returned non-zero exit status 1.",
     "traceback": [
      "\u001b[0;31m---------------------------------------------------------------------------\u001b[0m",
      "\u001b[0;31mCalledProcessError\u001b[0m                        Traceback (most recent call last)",
      "Input \u001b[0;32mIn [6]\u001b[0m, in \u001b[0;36m<cell line: 1>\u001b[0;34m()\u001b[0m\n\u001b[0;32m----> 1\u001b[0m \u001b[43mget_ipython\u001b[49m\u001b[43m(\u001b[49m\u001b[43m)\u001b[49m\u001b[38;5;241;43m.\u001b[39;49m\u001b[43mrun_cell_magic\u001b[49m\u001b[43m(\u001b[49m\u001b[38;5;124;43m'\u001b[39;49m\u001b[38;5;124;43mbash\u001b[39;49m\u001b[38;5;124;43m'\u001b[39;49m\u001b[43m,\u001b[49m\u001b[43m \u001b[49m\u001b[38;5;124;43m'\u001b[39;49m\u001b[38;5;124;43m'\u001b[39;49m\u001b[43m,\u001b[49m\u001b[43m \u001b[49m\u001b[38;5;124;43m'\u001b[39;49m\u001b[38;5;124;43mpython parse_csv.py input/ODBiz_Merged.csv full_address output/parsed_biz.csv\u001b[39;49m\u001b[38;5;130;43;01m\\n\u001b[39;49;00m\u001b[38;5;124;43m'\u001b[39;49m\u001b[43m)\u001b[49m\n",
      "File \u001b[0;32m/opt/conda/envs/odbiz/lib/python3.8/site-packages/IPython/core/interactiveshell.py:2358\u001b[0m, in \u001b[0;36mInteractiveShell.run_cell_magic\u001b[0;34m(self, magic_name, line, cell)\u001b[0m\n\u001b[1;32m   2356\u001b[0m \u001b[38;5;28;01mwith\u001b[39;00m \u001b[38;5;28mself\u001b[39m\u001b[38;5;241m.\u001b[39mbuiltin_trap:\n\u001b[1;32m   2357\u001b[0m     args \u001b[38;5;241m=\u001b[39m (magic_arg_s, cell)\n\u001b[0;32m-> 2358\u001b[0m     result \u001b[38;5;241m=\u001b[39m \u001b[43mfn\u001b[49m\u001b[43m(\u001b[49m\u001b[38;5;241;43m*\u001b[39;49m\u001b[43margs\u001b[49m\u001b[43m,\u001b[49m\u001b[43m \u001b[49m\u001b[38;5;241;43m*\u001b[39;49m\u001b[38;5;241;43m*\u001b[39;49m\u001b[43mkwargs\u001b[49m\u001b[43m)\u001b[49m\n\u001b[1;32m   2359\u001b[0m \u001b[38;5;28;01mreturn\u001b[39;00m result\n",
      "File \u001b[0;32m/opt/conda/envs/odbiz/lib/python3.8/site-packages/IPython/core/magics/script.py:153\u001b[0m, in \u001b[0;36mScriptMagics._make_script_magic.<locals>.named_script_magic\u001b[0;34m(line, cell)\u001b[0m\n\u001b[1;32m    151\u001b[0m \u001b[38;5;28;01melse\u001b[39;00m:\n\u001b[1;32m    152\u001b[0m     line \u001b[38;5;241m=\u001b[39m script\n\u001b[0;32m--> 153\u001b[0m \u001b[38;5;28;01mreturn\u001b[39;00m \u001b[38;5;28;43mself\u001b[39;49m\u001b[38;5;241;43m.\u001b[39;49m\u001b[43mshebang\u001b[49m\u001b[43m(\u001b[49m\u001b[43mline\u001b[49m\u001b[43m,\u001b[49m\u001b[43m \u001b[49m\u001b[43mcell\u001b[49m\u001b[43m)\u001b[49m\n",
      "File \u001b[0;32m/opt/conda/envs/odbiz/lib/python3.8/site-packages/IPython/core/magics/script.py:305\u001b[0m, in \u001b[0;36mScriptMagics.shebang\u001b[0;34m(self, line, cell)\u001b[0m\n\u001b[1;32m    300\u001b[0m \u001b[38;5;28;01mif\u001b[39;00m args\u001b[38;5;241m.\u001b[39mraise_error \u001b[38;5;129;01mand\u001b[39;00m p\u001b[38;5;241m.\u001b[39mreturncode \u001b[38;5;241m!=\u001b[39m \u001b[38;5;241m0\u001b[39m:\n\u001b[1;32m    301\u001b[0m     \u001b[38;5;66;03m# If we get here and p.returncode is still None, we must have\u001b[39;00m\n\u001b[1;32m    302\u001b[0m     \u001b[38;5;66;03m# killed it but not yet seen its return code. We don't wait for it,\u001b[39;00m\n\u001b[1;32m    303\u001b[0m     \u001b[38;5;66;03m# in case it's stuck in uninterruptible sleep. -9 = SIGKILL\u001b[39;00m\n\u001b[1;32m    304\u001b[0m     rc \u001b[38;5;241m=\u001b[39m p\u001b[38;5;241m.\u001b[39mreturncode \u001b[38;5;129;01mor\u001b[39;00m \u001b[38;5;241m-\u001b[39m\u001b[38;5;241m9\u001b[39m\n\u001b[0;32m--> 305\u001b[0m     \u001b[38;5;28;01mraise\u001b[39;00m CalledProcessError(rc, cell)\n",
      "\u001b[0;31mCalledProcessError\u001b[0m: Command 'b'python parse_csv.py input/ODBiz_Merged.csv full_address output/parsed_biz.csv\\n'' returned non-zero exit status 1."
     ]
    }
   ],
   "source": [
    "%%bash\n",
    "python parse_csv.py input/ODBiz_Merged.csv full_address output/parsed_biz.csv"
   ]
  },
  {
   "cell_type": "code",
   "execution_count": 7,
   "metadata": {},
   "outputs": [
    {
     "output_type": "stream",
     "name": "stderr",
     "text": [
      "Loading data: 100%|██████████| 81/81 [00:06<00:00, 13.46it/s]\n",
      "Successfully loaded /home/jovyan/ODBiz/4-Parsing/output/parsed_biz.csv\n",
      "df has 803584 rows\n",
      "Applying simple_parse\n",
      "Saved new_df to /home/jovyan/ODBiz/4-Parsing/double_check/parsed_with_easy_blanket_rule.csv\n",
      "Applying toronto_parse\n",
      "Saved new_df to /home/jovyan/ODBiz/4-Parsing/double_check/parsed_with_spillover_toronto.csv\n",
      "Merging above changes with main df\n",
      "Determining if 1st number in dashes sequence is the max: 100%|██████████| 7/7 [00:01<00:00,  5.50it/s]\n",
      "Calculating max col indicies\n",
      "/home/jovyan/ODBiz/4-Parsing/odbiz_custom_parse.py:183: UserWarning: This pattern is interpreted as a regular expression, and has match groups. To actually get the groups, use str.extract.\n",
      "  unit_starts_non_digit = df['full_address'].str.contains(regex_search, na = False)\n",
      "/home/jovyan/ODBiz/4-Parsing/odbiz_custom_parse.py:261: UserWarning: Boolean Series key will be reindexed to match DataFrame index.\n",
      "  parsing_errs_df = parsing_errs_df[~source_parsed]\n",
      "There are 34204 rows of incorrectly parsed addresses\n",
      "df saved to /home/jovyan/ODBiz/4-Parsing/custom_parsing_data/extract_detected_parsing_errors.csv\n",
      "df saved to /home/jovyan/ODBiz/4-Parsing/custom_parsing_data/main_with_detected_parsing_errors.csv\n",
      "df saved to /home/jovyan/ODBiz/4-Parsing/custom_parsing_data/postal_code_err.csv\n",
      "Updating the big parsed csv with postal code error correction...\n",
      "Begin parsing the `full_address_alt` column\n",
      "Too many dashes, spilling over parsing to extra column.\n",
      "Execution finished in 2.07723 seconds\n",
      "Begin parsing the `full_address` column\n",
      "Too many dashes, spilling over parsing to extra column.\n",
      "Execution finished in 2.035127 seconds\n",
      "/home/jovyan/ODBiz/4-Parsing/odbiz_custom_parse.py:333: UserWarning: This pattern is interpreted as a regular expression, and has match groups. To actually get the groups, use str.extract.\n",
      "  two_nums_with_space_bool = dashes_with_spaces_df['LP_street_name'].str.contains(two_nums_with_space_regex, na = False, regex = True)\n",
      "/home/jovyan/ODBiz/4-Parsing/odbiz_custom_parse.py:464: UserWarning: Boolean Series key will be reindexed to match DataFrame index.\n",
      "  parsed_idxs = parsing_errs_df[fixed_conds_idxs].index\n",
      "Total    34204\n",
      "parsing_errs_df[parsing_err_exists].value_counts():\n",
      "True     21969\n",
      "False    12235\n",
      "Name: parsing_err_exists, dtype: int64\n",
      "Success percentage = 35.0 %\n",
      "Remaining parsing required (breakdown):\n",
      "dashes_with_spaces,                                                           15573\n",
      "street_no_blank,                                                               1245\n",
      "blank_street_names,                                                            1042\n",
      "street_no_blank,unit_starts_non_digit,                                         1013\n",
      "street_no_blank,blank_street_names,                                             942\n",
      "has_dash_and_1st_col_max,                                                       752\n",
      "invalid_street_no,                                                              418\n",
      "usa_postcode_err,dashes_with_spaces,                                            271\n",
      "dashes_with_spaces,blank_street_names,                                          198\n",
      "street_no_blank,usa_postcode_err,blank_street_names,                            143\n",
      "has_dash_and_1st_col_max,invalid_street_no,                                     122\n",
      "unit_starts_non_digit,blank_street_names,                                        79\n",
      "has_dash_and_1st_col_max,unit_starts_non_digit,                                  34\n",
      "dashes_with_spaces,unit_starts_non_digit,                                        32\n",
      "unit_starts_non_digit,                                                           27\n",
      "has_dash_and_1st_col_max,blank_street_names,                                     18\n",
      "street_no_blank,dashes_with_spaces,                                              17\n",
      "dashes_with_spaces,has_dash_and_1st_col_max,                                     17\n",
      "street_no_blank,usa_postcode_err,                                                13\n",
      "has_dash_and_1st_col_max,unit_starts_non_digit,blank_street_names,                6\n",
      "street_no_blank,dashes_with_spaces,blank_street_names,                            2\n",
      "usa_postcode_err,blank_street_names,                                              1\n",
      "street_no_blank,usa_postcode_err,unit_starts_non_digit,blank_street_names,        1\n",
      "usa_postcode_err,dashes_with_spaces,blank_street_names,                           1\n",
      "has_dash_and_1st_col_max,unit_starts_non_digit,invalid_street_no,                 1\n",
      "dashes_with_spaces,has_dash_and_1st_col_max,unit_starts_non_digit,                1\n",
      "Name: parsing_err, dtype: int64\n",
      "df saved to /home/jovyan/ODBiz/4-Parsing/custom_parsing_data/extract_detected_parsing_errors.csv\n",
      "Saved df to /home/jovyan/ODBiz/4-Parsing/output/2-parsed_biz.csv\n"
     ]
    }
   ],
   "source": [
    "odbiz_custom_parse.main()"
   ]
  },
  {
   "cell_type": "code",
   "execution_count": 8,
   "metadata": {},
   "outputs": [
    {
     "output_type": "stream",
     "name": "stderr",
     "text": [
      "Loading data: 100%|██████████| 81/81 [00:05<00:00, 13.51it/s]\n",
      "File saved to /home/jovyan/ODBiz/4-Parsing/output/parsed_and_combined_biz.csv\n",
      "Above file copied to /home/jovyan/ODBiz/5-Geocoding/data/ODBiz_parsed.csv\n",
      "1352c00083568dfebe65    1\n",
      "4577d9c9f49adc418d27    1\n",
      "0b899c7b121eb19b50fe    1\n",
      "088b24cc745ea7c775b3    1\n",
      "e32caceec4cb3636692b    1\n",
      "                       ..\n",
      "fe36013edf0815ed102a    1\n",
      "115dc12284cba6b3f9a1    1\n",
      "81f160d337e9d1643171    1\n",
      "09edc5b799ab3e61ab3d    1\n",
      "5d9d17ffffb0e6d343e2    1\n",
      "Name: idx, Length: 803584, dtype: int64\n"
     ]
    }
   ],
   "source": [
    "combine_parsed_cols.main()"
   ]
  },
  {
   "cell_type": "code",
   "execution_count": null,
   "metadata": {},
   "outputs": [],
   "source": []
  }
 ],
 "metadata": {
  "kernelspec": {
   "name": "python3813jvsc74a57bd03f6acfd5c7a89dd4516208ed2cd5283b5177bf58d22f895010c388a779688e5d",
   "display_name": "Python 3.8.13 64-bit ('odbiz': conda)"
  },
  "language_info": {
   "codemirror_mode": {
    "name": "ipython",
    "version": 3
   },
   "file_extension": ".py",
   "mimetype": "text/x-python",
   "name": "python",
   "nbconvert_exporter": "python",
   "pygments_lexer": "ipython3",
   "version": "3.8.13"
  },
  "metadata": {
   "interpreter": {
    "hash": "3f6acfd5c7a89dd4516208ed2cd5283b5177bf58d22f895010c388a779688e5d"
   }
  }
 },
 "nbformat": 4,
 "nbformat_minor": 4
}