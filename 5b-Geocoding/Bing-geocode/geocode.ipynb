{
 "cells": [
  {
   "cell_type": "code",
   "execution_count": 47,
   "metadata": {
    "execution": {
     "iopub.execute_input": "2022-10-04T16:38:14.957096Z",
     "iopub.status.busy": "2022-10-04T16:38:14.956704Z",
     "iopub.status.idle": "2022-10-04T16:38:14.961541Z",
     "shell.execute_reply": "2022-10-04T16:38:14.960563Z",
     "shell.execute_reply.started": "2022-10-04T16:38:14.957049Z"
    },
    "tags": []
   },
   "outputs": [],
   "source": [
    "import pandas as pd\n",
    "from Bing_Geocode_General import geocode\n",
    "from CleanAddresses import AddressClean\n",
    "\n",
    "import time\n",
    "import geocoder"
   ]
  },
  {
   "cell_type": "code",
   "execution_count": 56,
   "metadata": {
    "execution": {
     "iopub.execute_input": "2022-10-04T17:07:39.932864Z",
     "iopub.status.busy": "2022-10-04T17:07:39.932542Z",
     "iopub.status.idle": "2022-10-04T17:07:52.257167Z",
     "shell.execute_reply": "2022-10-04T17:07:52.256325Z",
     "shell.execute_reply.started": "2022-10-04T17:07:39.932829Z"
    },
    "tags": []
   },
   "outputs": [],
   "source": [
    "input_data = \"../../5a-Matching/output/matched.csv\"\n",
    "df_input = pd.read_csv(input_data, low_memory=False, dtype=\"str\")"
   ]
  },
  {
   "cell_type": "code",
   "execution_count": null,
   "metadata": {},
   "outputs": [],
   "source": [
    "df = df_input"
   ]
  },
  {
   "cell_type": "code",
   "execution_count": 49,
   "metadata": {
    "execution": {
     "iopub.execute_input": "2022-10-04T16:38:30.209833Z",
     "iopub.status.busy": "2022-10-04T16:38:30.209540Z",
     "iopub.status.idle": "2022-10-04T16:38:30.501546Z",
     "shell.execute_reply": "2022-10-04T16:38:30.500738Z",
     "shell.execute_reply.started": "2022-10-04T16:38:30.209801Z"
    },
    "tags": []
   },
   "outputs": [],
   "source": [
    "# for now test a sample\n",
    "# later replace with making df only with no lat lons (from source or from matching)\n",
    "\n",
    "sample_size = 10\n",
    "if (len(df) > sample_size):\n",
    "    df_smpl = df.sample(sample_size)\n",
    "else:\n",
    "    sample_size = len(df)\n"
   ]
  },
  {
   "cell_type": "code",
   "execution_count": 53,
   "metadata": {
    "execution": {
     "iopub.execute_input": "2022-10-04T16:41:37.551203Z",
     "iopub.status.busy": "2022-10-04T16:41:37.550921Z",
     "iopub.status.idle": "2022-10-04T16:41:37.559719Z",
     "shell.execute_reply": "2022-10-04T16:41:37.558838Z",
     "shell.execute_reply.started": "2022-10-04T16:41:37.551169Z"
    },
    "tags": []
   },
   "outputs": [],
   "source": [
    "\n",
    "# create a query column\n",
    "df['query'] = df['street_no'] + ' ' + df['formatted_en']\n",
    "\n",
    "df = df[['idx', 'business_name', 'street_no', 'formatted_en', 'city', 'province', 'latitude', 'longitude', 'x', 'y', 'query']]\n",
    "\n",
    "df[['query','city','province']]=df[['query','city','province']].fillna('')"
   ]
  },
  {
   "cell_type": "code",
   "execution_count": 55,
   "metadata": {
    "execution": {
     "iopub.execute_input": "2022-10-04T16:42:56.171875Z",
     "iopub.status.busy": "2022-10-04T16:42:56.171581Z",
     "iopub.status.idle": "2022-10-04T16:42:59.454056Z",
     "shell.execute_reply": "2022-10-04T16:42:59.453162Z",
     "shell.execute_reply.started": "2022-10-04T16:42:56.171842Z"
    },
    "tags": []
   },
   "outputs": [
    {
     "name": "stdout",
     "output_type": "stream",
     "text": [
      "2491 kingsway\n",
      "2491 Kingsway Dr, Burbank, CA 91504\n",
      "34.20623817 -118.3258997\n",
      "607 eglinton ave e\n",
      "607 Eglinton Ave E, Toronto, ON M4P 1P8, Canada\n",
      "43.710775 -79.377368\n",
      "138 e hastings st\n",
      "138 E Hastings St, Vancouver, BC V6A 0E6, Canada\n",
      "49.2810558 -123.1011632\n",
      "1041 rue nobel\n",
      "1041 Rue Nobel, Sainte-Julie, Quebec J3E 1Z4, Canada\n",
      "45.584502 -73.294101\n",
      "189 rue green\n",
      "189 Rue Green, Saint-Lambert, Quebec J4P 1S7, Canada\n",
      "45.503845 -73.5091113\n",
      "3166 lake shore blvd w\n",
      "3166 Lake Shore Blvd W, Etobicoke, ON M8V 3X8, Canada\n",
      "43.5983715 -79.5173687\n"
     ]
    }
   ],
   "source": [
    "# make geocode call\n",
    "\n",
    "# df.apply(lambda row: geocode(row['query'],row['city'],row['province'],row['postal_code']),axis=1)\n",
    "\n",
    "# df.apply(lambda row: geocoder.bing('query',key='AsTU64fCN1w1cZJvCWI_n5FMqzSJUHQfjvfciEEBY5vky0MvVDRn12GZbEmmq1mz',method='details', countryRegion='CA'), axis=1)\n",
    "\n",
    "for query in df['query']:\n",
    "    if (query != ''):\n",
    "        time.sleep(0.2)\n",
    "        g = geocoder.bing(query,key='AsTU64fCN1w1cZJvCWI_n5FMqzSJUHQfjvfciEEBY5vky0MvVDRn12GZbEmmq1mz',method='details', countryRegion='CA')\n",
    "        print('query:', query)\n",
    "        print('bing result:' g.address)\n",
    "        print('coord', g.latlng[0], g.latlng[1])\n",
    "    \n",
    "# for i in len(df):\n",
    "#     query = df['query']\n",
    "#     city = \n",
    "#     province = \n",
    "#     postal = \n",
    "#     geocode(query,city,province,postal)"
   ]
  },
  {
   "cell_type": "code",
   "execution_count": 33,
   "metadata": {
    "execution": {
     "iopub.execute_input": "2022-10-04T16:27:17.770765Z",
     "iopub.status.busy": "2022-10-04T16:27:17.770453Z",
     "iopub.status.idle": "2022-10-04T16:27:18.234653Z",
     "shell.execute_reply": "2022-10-04T16:27:18.233797Z",
     "shell.execute_reply.started": "2022-10-04T16:27:17.770731Z"
    },
    "tags": []
   },
   "outputs": [
    {
     "data": {
      "text/plain": [
       "<[OK] Bing - Details [4372 Rue Garnier, Montreal, Quebec H2J 3S2, Canada]>"
      ]
     },
     "execution_count": 33,
     "metadata": {},
     "output_type": "execute_result"
    }
   ],
   "source": [
    "geocoder.bing('4372 rue garnier',key='AsTU64fCN1w1cZJvCWI_n5FMqzSJUHQfjvfciEEBY5vky0MvVDRn12GZbEmmq1mz',method='details', countryRegion='CA')"
   ]
  },
  {
   "cell_type": "code",
   "execution_count": null,
   "metadata": {},
   "outputs": [],
   "source": [
    "#clean addresses\n",
    "\n",
    "temp = AddressClean(temp,'Address','Address_Clean')\n",
    "df['geo_address']=''\n",
    "df['geo_lat']=''\n",
    "df['geo_lon']=''\n",
    "#print(len(temp))\n",
    "\n",
    "#df.loc[df['latitude'].isna(),'geo_address'],df.loc[df['latitude'].isna(),'geo_lat'],df.loc[df['latitude'].isna(),'geo_lon']= zip(*temp['address_concat'].map(geocode))\n",
    "df.loc[df['Latitude'].isna(),'geo_address'],df.loc[df['Latitude'].isna(),'geo_street'],df.loc[df['Latitude'].isna(),'geo_city'],df.loc[df['Latitude'].isna(),'geo_prov'],df.loc[df['Latitude'].isna(),'geo_country'],df.loc[df['Latitude'].isna(),'geo_lat'],df.loc[df['Latitude'].isna(),'geo_lon']= zip(*temp.apply(lambda row: geocode(row['Address_Clean'],row['City'],row['Province'],row['PostalCode']),axis=1))\n",
    "df.to_csv('Schools_geocoded.csv',index=False)"
   ]
  }
 ],
 "metadata": {
  "kernelspec": {
   "display_name": "Python 3 (ipykernel)",
   "language": "python",
   "name": "python3"
  },
  "language_info": {
   "codemirror_mode": {
    "name": "ipython",
    "version": 3
   },
   "file_extension": ".py",
   "mimetype": "text/x-python",
   "name": "python",
   "nbconvert_exporter": "python",
   "pygments_lexer": "ipython3",
   "version": "3.8.12"
  }
 },
 "nbformat": 4,
 "nbformat_minor": 4
}
