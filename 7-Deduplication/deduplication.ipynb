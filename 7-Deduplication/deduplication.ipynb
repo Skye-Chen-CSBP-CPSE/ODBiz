{
 "cells": [
  {
   "cell_type": "code",
   "execution_count": 3,
   "metadata": {
    "execution": {
     "iopub.execute_input": "2023-01-24T19:01:00.009220Z",
     "iopub.status.busy": "2023-01-24T19:01:00.008981Z",
     "iopub.status.idle": "2023-01-24T19:01:00.012853Z",
     "shell.execute_reply": "2023-01-24T19:01:00.012015Z",
     "shell.execute_reply.started": "2023-01-24T19:01:00.009189Z"
    },
    "tags": []
   },
   "outputs": [],
   "source": [
    "import pandas as pd\n",
    "import recordlinkage\n",
    "\n",
    "import mitosheet\n",
    "\n",
    "# This script will deduplicate our data using the record linkage toolkit"
   ]
  },
  {
   "cell_type": "code",
   "execution_count": null,
   "metadata": {},
   "outputs": [],
   "source": [
    "'''\n",
    "Steps:\n",
    "    (1) Formatting\n",
    "            Read in input file and dropp all entries where Street_Number, or Street_Name are empty\n",
    "            Restrict to single Province or Territory, and read in OpenAddress data for that province\n",
    "            Make everything a string\n",
    "            Clean address columns (remove excess white space, punctuation, etc)\n",
    "    (2) Identify duplicates\n",
    "            \n",
    "    (3) Scrap duplicates\n",
    "\n",
    "'''\n",
    "\n",
    "\n",
    "'''\n",
    "For now, let's do the following:\n",
    "https://towardsdatascience.com/performing-deduplication-with-record-linkage-and-supervised-learning-b01a66cc6882\n",
    "Then adjust based on past scripts, which didn't look like we could just copy and paste\n",
    "\n",
    "- Filter the dataset to just 8 or so columns\n",
    "- Test for just one province (we'll need to chunk later on)\n",
    "\n",
    "\n",
    "'''"
   ]
  },
  {
   "cell_type": "code",
   "execution_count": 9,
   "metadata": {
    "execution": {
     "iopub.execute_input": "2023-01-25T21:51:14.300266Z",
     "iopub.status.busy": "2023-01-25T21:51:14.299873Z",
     "iopub.status.idle": "2023-01-25T21:51:23.373335Z",
     "shell.execute_reply": "2023-01-25T21:51:23.372555Z",
     "shell.execute_reply.started": "2023-01-25T21:51:14.300217Z"
    },
    "tags": []
   },
   "outputs": [],
   "source": [
    "# Input data\n",
    "df = pd.read_csv('~/ODBiz/6-AssignCSDs/NAICS_Final.csv', low_memory=False)"
   ]
  },
  {
   "cell_type": "code",
   "execution_count": 4,
   "metadata": {
    "execution": {
     "iopub.execute_input": "2023-01-24T17:07:57.682052Z",
     "iopub.status.busy": "2023-01-24T17:07:57.681838Z",
     "iopub.status.idle": "2023-01-24T17:07:57.685382Z",
     "shell.execute_reply": "2023-01-24T17:07:57.684697Z",
     "shell.execute_reply.started": "2023-01-24T17:07:57.682027Z"
    },
    "tags": []
   },
   "outputs": [],
   "source": [
    "df_input = df"
   ]
  },
  {
   "cell_type": "code",
   "execution_count": 9,
   "metadata": {
    "execution": {
     "iopub.execute_input": "2023-01-24T17:19:55.405281Z",
     "iopub.status.busy": "2023-01-24T17:19:55.404983Z",
     "iopub.status.idle": "2023-01-24T17:20:16.540341Z",
     "shell.execute_reply": "2023-01-24T17:20:16.539357Z",
     "shell.execute_reply.started": "2023-01-24T17:19:55.405253Z"
    },
    "tags": []
   },
   "outputs": [],
   "source": [
    "df = df.astype(str).apply(lambda x: x.str.lower())"
   ]
  },
  {
   "cell_type": "code",
   "execution_count": 6,
   "metadata": {
    "execution": {
     "iopub.execute_input": "2023-01-24T19:01:16.805322Z",
     "iopub.status.busy": "2023-01-24T19:01:16.804943Z",
     "iopub.status.idle": "2023-01-24T19:01:18.875501Z",
     "shell.execute_reply": "2023-01-24T19:01:18.874635Z",
     "shell.execute_reply.started": "2023-01-24T19:01:16.805281Z"
    },
    "tags": []
   },
   "outputs": [
    {
     "data": {
      "application/vnd.jupyter.widget-view+json": {
       "model_id": "84dcb045c7f147108e4f00aa4fd805b1",
       "version_major": 2,
       "version_minor": 0
      },
      "text/plain": [
       "MitoWidget(analysis_data_json='{\"analysisName\": \"id-ledhmxfmtp\", \"analysisToReplay\": null, \"code\": [], \"stepSu…"
      ]
     },
     "metadata": {},
     "output_type": "display_data"
    }
   ],
   "source": [
    "mitosheet.sheet(df, analysis_to_replay=\"id-ledhmxfmtp\")"
   ]
  },
  {
   "cell_type": "code",
   "execution_count": null,
   "metadata": {},
   "outputs": [],
   "source": []
  },
  {
   "cell_type": "code",
   "execution_count": 10,
   "metadata": {
    "execution": {
     "iopub.execute_input": "2023-01-25T21:51:30.760129Z",
     "iopub.status.busy": "2023-01-25T21:51:30.759840Z",
     "iopub.status.idle": "2023-01-25T21:51:30.765617Z",
     "shell.execute_reply": "2023-01-25T21:51:30.764929Z",
     "shell.execute_reply.started": "2023-01-25T21:51:30.760098Z"
    },
    "tags": []
   },
   "outputs": [
    {
     "data": {
      "text/plain": [
       "['index',\n",
       " 'idx',\n",
       " 'localfile',\n",
       " 'business_name',\n",
       " 'alt_business_name',\n",
       " 'business_sector',\n",
       " 'business_subsector',\n",
       " 'business_description',\n",
       " 'business_id_no',\n",
       " 'licence_number',\n",
       " 'licence_type',\n",
       " 'primary_NAICS',\n",
       " 'secondary_NAICS',\n",
       " 'NAICS_descr',\n",
       " 'NAICS_descr2',\n",
       " 'alt_econ_act_code',\n",
       " 'alt_econ_act_descrip',\n",
       " 'latitude',\n",
       " 'longitude',\n",
       " 'full_address',\n",
       " 'full_address_2',\n",
       " 'mailing_address',\n",
       " 'postal_code',\n",
       " 'unit',\n",
       " 'street_no',\n",
       " 'street_name',\n",
       " 'street_direction',\n",
       " 'street_type',\n",
       " 'city',\n",
       " 'province',\n",
       " 'country',\n",
       " 'business_website',\n",
       " 'email',\n",
       " 'telephone',\n",
       " 'telephone_extension',\n",
       " 'toll_free_telephone',\n",
       " 'fax',\n",
       " 'total_no_employees',\n",
       " 'no_full_time',\n",
       " 'no_part_time',\n",
       " 'no_seasonal',\n",
       " 'date_established',\n",
       " 'indigenous',\n",
       " 'status',\n",
       " 'provider',\n",
       " 'geo_source',\n",
       " 'formatted_en',\n",
       " 'formatted_fr',\n",
       " 'csdname_oda',\n",
       " 'keep_match',\n",
       " 'no_match_reason',\n",
       " 'keep_gc',\n",
       " 'geometry',\n",
       " 'index_right',\n",
       " 'CSDUID',\n",
       " 'CSDNAME',\n",
       " 'PRUID',\n",
       " 'NAICS_Group',\n",
       " 'NAICS']"
      ]
     },
     "execution_count": 10,
     "metadata": {},
     "output_type": "execute_result"
    }
   ],
   "source": [
    "list(df.columns)"
   ]
  },
  {
   "cell_type": "code",
   "execution_count": null,
   "metadata": {},
   "outputs": [],
   "source": [
    "df = df[df['province'] == ]"
   ]
  },
  {
   "cell_type": "code",
   "execution_count": 5,
   "metadata": {
    "execution": {
     "iopub.execute_input": "2023-01-24T17:08:09.749086Z",
     "iopub.status.busy": "2023-01-24T17:08:09.748632Z",
     "iopub.status.idle": "2023-01-24T17:08:09.801345Z",
     "shell.execute_reply": "2023-01-24T17:08:09.800603Z",
     "shell.execute_reply.started": "2023-01-24T17:08:09.749040Z"
    },
    "tags": []
   },
   "outputs": [
    {
     "data": {
      "text/plain": [
       "TORONTO, ON          119239\n",
       "Vancouver            109613\n",
       "Montréal (Québec)     45806\n",
       "Edmonton              38693\n",
       "Calgary               34546\n",
       "                      ...  \n",
       "CP h2g2h3                 1\n",
       "CP h1p 1x7                1\n",
       "CP h1m3v6                 1\n",
       "CP h1e1p1                 1\n",
       "Torreon Coahuila          1\n",
       "Name: city, Length: 11124, dtype: int64"
      ]
     },
     "execution_count": 5,
     "metadata": {},
     "output_type": "execute_result"
    }
   ],
   "source": [
    "df['city'].value_counts()"
   ]
  },
  {
   "cell_type": "code",
   "execution_count": null,
   "metadata": {},
   "outputs": [],
   "source": []
  },
  {
   "cell_type": "code",
   "execution_count": null,
   "metadata": {},
   "outputs": [],
   "source": [
    "df_nan = "
   ]
  },
  {
   "cell_type": "code",
   "execution_count": 6,
   "metadata": {
    "execution": {
     "iopub.execute_input": "2023-01-24T17:19:37.652489Z",
     "iopub.status.busy": "2023-01-24T17:19:37.652168Z",
     "iopub.status.idle": "2023-01-24T17:19:37.709275Z",
     "shell.execute_reply": "2023-01-24T17:19:37.708319Z",
     "shell.execute_reply.started": "2023-01-24T17:19:37.652452Z"
    },
    "tags": []
   },
   "outputs": [],
   "source": [
    "df_nb = df[df['province'] == 'bc']"
   ]
  },
  {
   "cell_type": "code",
   "execution_count": 7,
   "metadata": {
    "execution": {
     "iopub.execute_input": "2023-01-24T19:52:07.872805Z",
     "iopub.status.busy": "2023-01-24T19:52:07.872483Z",
     "iopub.status.idle": "2023-01-24T19:52:08.664930Z",
     "shell.execute_reply": "2023-01-24T19:52:08.664045Z",
     "shell.execute_reply.started": "2023-01-24T19:52:07.872764Z"
    },
    "tags": []
   },
   "outputs": [],
   "source": [
    "df_dup = df[df.duplicated(subset=['business_name', 'province', 'city', 'licence_number'], keep=False)]"
   ]
  },
  {
   "cell_type": "code",
   "execution_count": 8,
   "metadata": {
    "execution": {
     "iopub.execute_input": "2023-01-24T19:52:09.431882Z",
     "iopub.status.busy": "2023-01-24T19:52:09.431546Z",
     "iopub.status.idle": "2023-01-24T19:52:09.444314Z",
     "shell.execute_reply": "2023-01-24T19:52:09.443578Z",
     "shell.execute_reply.started": "2023-01-24T19:52:09.431845Z"
    },
    "tags": []
   },
   "outputs": [
    {
     "data": {
      "text/plain": [
       "78313"
      ]
     },
     "execution_count": 8,
     "metadata": {},
     "output_type": "execute_result"
    }
   ],
   "source": [
    "len(df_dup)"
   ]
  },
  {
   "cell_type": "code",
   "execution_count": 57,
   "metadata": {
    "execution": {
     "iopub.execute_input": "2023-01-16T15:56:32.971281Z",
     "iopub.status.busy": "2023-01-16T15:56:32.970902Z",
     "iopub.status.idle": "2023-01-16T15:56:33.628538Z",
     "shell.execute_reply": "2023-01-16T15:56:33.627811Z",
     "shell.execute_reply.started": "2023-01-16T15:56:32.971241Z"
    },
    "tags": []
   },
   "outputs": [
    {
     "data": {
      "application/vnd.jupyter.widget-view+json": {
       "model_id": "34751470f64d40c8ad72d776fd21c7db",
       "version_major": 2,
       "version_minor": 0
      },
      "text/plain": [
       "MitoWidget(analysis_data_json='{\"analysisName\": \"id-cerbgqscuh\", \"analysisToReplay\": {\"analysisName\": \"id-oskn…"
      ]
     },
     "metadata": {},
     "output_type": "display_data"
    }
   ],
   "source": [
    "mitosheet.sheet(df_dup, analysis_to_replay=\"id-oskniyzboa\")"
   ]
  },
  {
   "cell_type": "code",
   "execution_count": null,
   "metadata": {},
   "outputs": [],
   "source": [
    "from mitosheet import *; register_analysis(\"id-oskniyzboa\");\n",
    "    \n",
    "# Sorted business_name in ascending order\n",
    "df_dup = df_dup.sort_values(by='business_name', ascending=True, na_position='first')\n"
   ]
  },
  {
   "cell_type": "code",
   "execution_count": 6,
   "metadata": {
    "execution": {
     "iopub.execute_input": "2023-01-12T15:56:53.672687Z",
     "iopub.status.busy": "2023-01-12T15:56:53.672275Z",
     "iopub.status.idle": "2023-01-12T15:56:53.681962Z",
     "shell.execute_reply": "2023-01-12T15:56:53.681022Z",
     "shell.execute_reply.started": "2023-01-12T15:56:53.672635Z"
    },
    "tags": []
   },
   "outputs": [],
   "source": [
    "# Detect exact match duplicates (for testing)\n",
    "df_dup = df[df.duplicated(subset=['business_name', 'province', 'city', 'licence_number'], keep='first')]"
   ]
  },
  {
   "cell_type": "code",
   "execution_count": null,
   "metadata": {},
   "outputs": [],
   "source": []
  },
  {
   "cell_type": "code",
   "execution_count": 38,
   "metadata": {
    "execution": {
     "iopub.execute_input": "2023-01-17T18:13:54.659729Z",
     "iopub.status.busy": "2023-01-17T18:13:54.659315Z",
     "iopub.status.idle": "2023-01-17T18:13:55.070022Z",
     "shell.execute_reply": "2023-01-17T18:13:55.069096Z",
     "shell.execute_reply.started": "2023-01-17T18:13:54.659685Z"
    },
    "tags": []
   },
   "outputs": [],
   "source": [
    "# find exact matches for license number\n",
    "df_dup = df[(df.duplicated(subset=['licence_number'], keep=False))]"
   ]
  },
  {
   "cell_type": "code",
   "execution_count": 39,
   "metadata": {
    "execution": {
     "iopub.execute_input": "2023-01-17T18:14:01.237300Z",
     "iopub.status.busy": "2023-01-17T18:14:01.236976Z",
     "iopub.status.idle": "2023-01-17T18:14:02.151862Z",
     "shell.execute_reply": "2023-01-17T18:14:02.150432Z",
     "shell.execute_reply.started": "2023-01-17T18:14:01.237252Z"
    },
    "tags": []
   },
   "outputs": [],
   "source": [
    "df_dup = df_dup.sort_values(by='licence_number', ascending=True, na_position='first')"
   ]
  },
  {
   "cell_type": "code",
   "execution_count": 24,
   "metadata": {
    "execution": {
     "iopub.execute_input": "2023-01-17T18:07:52.001314Z",
     "iopub.status.busy": "2023-01-17T18:07:52.000962Z",
     "iopub.status.idle": "2023-01-17T18:07:52.718257Z",
     "shell.execute_reply": "2023-01-17T18:07:52.717048Z",
     "shell.execute_reply.started": "2023-01-17T18:07:52.001276Z"
    },
    "tags": []
   },
   "outputs": [],
   "source": [
    "df_dup = df_dup.dropna(subset=['licence_number'], inplace=True)"
   ]
  },
  {
   "cell_type": "code",
   "execution_count": 21,
   "metadata": {
    "execution": {
     "iopub.execute_input": "2023-01-17T18:04:16.316388Z",
     "iopub.status.busy": "2023-01-17T18:04:16.315901Z",
     "iopub.status.idle": "2023-01-17T18:04:16.929875Z",
     "shell.execute_reply": "2023-01-17T18:04:16.928846Z",
     "shell.execute_reply.started": "2023-01-17T18:04:16.316320Z"
    }
   },
   "outputs": [],
   "source": [
    "df_dup = df_dup[df_dup['licence_number'].notna()]\n"
   ]
  },
  {
   "cell_type": "code",
   "execution_count": 41,
   "metadata": {
    "execution": {
     "iopub.execute_input": "2023-01-17T18:14:08.060862Z",
     "iopub.status.busy": "2023-01-17T18:14:08.060538Z",
     "iopub.status.idle": "2023-01-17T18:14:08.309695Z",
     "shell.execute_reply": "2023-01-17T18:14:08.308399Z",
     "shell.execute_reply.started": "2023-01-17T18:14:08.060829Z"
    },
    "tags": []
   },
   "outputs": [],
   "source": [
    "df_dup = df_dup[df_dup['licence_number'] != 'nan']"
   ]
  },
  {
   "cell_type": "code",
   "execution_count": 42,
   "metadata": {
    "execution": {
     "iopub.execute_input": "2023-01-17T18:14:13.038532Z",
     "iopub.status.busy": "2023-01-17T18:14:13.038241Z",
     "iopub.status.idle": "2023-01-17T18:14:13.043389Z",
     "shell.execute_reply": "2023-01-17T18:14:13.042715Z",
     "shell.execute_reply.started": "2023-01-17T18:14:13.038501Z"
    },
    "tags": []
   },
   "outputs": [
    {
     "data": {
      "text/plain": [
       "14075"
      ]
     },
     "execution_count": 42,
     "metadata": {},
     "output_type": "execute_result"
    }
   ],
   "source": [
    "len(df_dup)"
   ]
  },
  {
   "cell_type": "code",
   "execution_count": 31,
   "metadata": {
    "execution": {
     "iopub.execute_input": "2023-01-17T18:10:45.653015Z",
     "iopub.status.busy": "2023-01-17T18:10:45.652708Z",
     "iopub.status.idle": "2023-01-17T18:10:45.680297Z",
     "shell.execute_reply": "2023-01-17T18:10:45.679422Z",
     "shell.execute_reply.started": "2023-01-17T18:10:45.652981Z"
    },
    "tags": []
   },
   "outputs": [
    {
     "data": {
      "text/plain": [
       "0"
      ]
     },
     "execution_count": 31,
     "metadata": {},
     "output_type": "execute_result"
    }
   ],
   "source": [
    "df_dup['licence_number'].isna().sum()"
   ]
  },
  {
   "cell_type": "code",
   "execution_count": 9,
   "metadata": {
    "execution": {
     "iopub.execute_input": "2023-01-12T15:57:08.214968Z",
     "iopub.status.busy": "2023-01-12T15:57:08.214538Z",
     "iopub.status.idle": "2023-01-12T15:57:08.400894Z",
     "shell.execute_reply": "2023-01-12T15:57:08.399699Z",
     "shell.execute_reply.started": "2023-01-12T15:57:08.214916Z"
    },
    "jupyter": {
     "source_hidden": true
    },
    "tags": []
   },
   "outputs": [],
   "source": [
    "\n",
    "# Create an indexer\n",
    "indexer = recordlinkage.Index()\n",
    "\n",
    "# Block on 'business_name', 'province', 'city', 'licence_number'\n",
    "indexer.block('business_name')\n",
    "indexer.block('province')\n",
    "indexer.block('city')\n",
    "indexer.block('licence_number')\n",
    "\n",
    "# Create a candidate index\n",
    "candidate_index = indexer.index(df)\n",
    "\n",
    "# Create a comparison object\n",
    "compare_cl = recordlinkage.Compare()\n",
    "\n",
    "# Compare 'business_name', 'province', 'city', 'licence_number'\n",
    "compare_cl.string('business_name', 'business_name', method='jarowinkler', threshold=0.85)\n",
    "compare_cl.exact('province', 'province')\n",
    "compare_cl.exact('city', 'city')\n",
    "compare_cl.exact('licence_number', 'licence_number')\n",
    "\n",
    "# Get a comparison vector\n",
    "compare_vectors = compare_cl.compute(candidate_index, df)\n",
    "\n",
    "# Get a list of duplicate indexes\n",
    "duplicate_indexes = compare_vectors[compare_vectors.sum(axis=1) > 3].index\n",
    "\n",
    "# Subset the dataframe to the duplicate rows\n",
    "df_duplicates = df.loc[duplicate_indexes]\n"
   ]
  },
  {
   "cell_type": "code",
   "execution_count": 63,
   "metadata": {
    "execution": {
     "iopub.execute_input": "2023-01-17T19:58:43.200503Z",
     "iopub.status.busy": "2023-01-17T19:58:43.200229Z",
     "iopub.status.idle": "2023-01-17T19:58:43.327877Z",
     "shell.execute_reply": "2023-01-17T19:58:43.327254Z",
     "shell.execute_reply.started": "2023-01-17T19:58:43.200474Z"
    },
    "tags": []
   },
   "outputs": [
    {
     "data": {
      "application/vnd.jupyter.widget-view+json": {
       "model_id": "281c8f1d6748430fa1445389932760ea",
       "version_major": 2,
       "version_minor": 0
      },
      "text/plain": [
       "MitoWidget(analysis_data_json='{\"analysisName\": \"id-xapoleuwwv\", \"analysisToReplay\": {\"analysisName\": \"id-nury…"
      ]
     },
     "metadata": {},
     "output_type": "display_data"
    }
   ],
   "source": [
    "mitosheet.sheet(df_dup[df_dup['province'] == 'bc'], analysis_to_replay=\"id-nurymagnjx\")"
   ]
  },
  {
   "cell_type": "code",
   "execution_count": null,
   "metadata": {},
   "outputs": [],
   "source": [
    "from mitosheet import *; register_analysis(\"id-nurymagnjx\");\n",
    "    \n",
    "# Sorted localfile in ascending order\n",
    "df_dup[df_dup['province'] == 'bc'] = df_dup[df_dup['province'] == 'bc'].sort_values(by='localfile', ascending=True, na_position='first')\n",
    "\n",
    "# Sorted licence_number in ascending order\n",
    "df_dup[df_dup['province'] == 'bc'] = df_dup[df_dup['province'] == 'bc'].sort_values(by='licence_number', ascending=True, na_position='first')\n"
   ]
  },
  {
   "cell_type": "code",
   "execution_count": 61,
   "metadata": {
    "execution": {
     "iopub.execute_input": "2023-01-17T18:22:31.764970Z",
     "iopub.status.busy": "2023-01-17T18:22:31.764605Z",
     "iopub.status.idle": "2023-01-17T18:22:31.790347Z",
     "shell.execute_reply": "2023-01-17T18:22:31.788873Z",
     "shell.execute_reply.started": "2023-01-17T18:22:31.764889Z"
    },
    "tags": []
   },
   "outputs": [
    {
     "data": {
      "text/plain": [
       "bc_burnaby_business_licences_2.csv                          1927\n",
       "bc_new_westminster_business_licences_(residents).csv        1007\n",
       "bc_nanaimo_business_licences.csv                             982\n",
       "bc_victoria_business_licences.csv                            892\n",
       "bc_vancouver_business_licences.csv                           743\n",
       "bc_squamish_business_licence_annual_2021.csv                 675\n",
       "bc_prince_george_business_licence.csv                        377\n",
       "bc_liquor_licences.csv                                       211\n",
       "bc_new_westminster_business_licences_(nonresidents).csv      165\n",
       "bc_burnaby_business_licences.csv                              81\n",
       "bc_new_westminster_business_licences_(new_this_year).csv       6\n",
       "Name: localfile, dtype: int64"
      ]
     },
     "execution_count": 61,
     "metadata": {},
     "output_type": "execute_result"
    }
   ],
   "source": [
    "df_bc = df_dup[df_dup['province'] == 'bc']\n",
    "df_bc['localfile'].value_counts()"
   ]
  },
  {
   "cell_type": "code",
   "execution_count": 11,
   "metadata": {
    "execution": {
     "iopub.execute_input": "2023-01-12T15:28:17.366116Z",
     "iopub.status.busy": "2023-01-12T15:28:17.365737Z",
     "iopub.status.idle": "2023-01-12T15:28:18.064945Z",
     "shell.execute_reply": "2023-01-12T15:28:18.063807Z",
     "shell.execute_reply.started": "2023-01-12T15:28:17.366075Z"
    }
   },
   "outputs": [
    {
     "ename": "NameError",
     "evalue": "name 'pandas' is not defined",
     "output_type": "error",
     "traceback": [
      "\u001b[0;31m---------------------------------------------------------------------------\u001b[0m",
      "\u001b[0;31mNameError\u001b[0m                                 Traceback (most recent call last)",
      "Cell \u001b[0;32mIn [11], line 4\u001b[0m\n\u001b[1;32m      1\u001b[0m \u001b[38;5;28;01mimport\u001b[39;00m \u001b[38;5;21;01mrecordlinkage\u001b[39;00m\n\u001b[1;32m      3\u001b[0m \u001b[38;5;66;03m# Import the data\u001b[39;00m\n\u001b[0;32m----> 4\u001b[0m data1 \u001b[38;5;241m=\u001b[39m \u001b[43mpandas\u001b[49m\u001b[38;5;241m.\u001b[39mread_csv(\u001b[38;5;124m\"\u001b[39m\u001b[38;5;124mdata1.csv\u001b[39m\u001b[38;5;124m\"\u001b[39m)\n\u001b[1;32m      5\u001b[0m data2 \u001b[38;5;241m=\u001b[39m pandas\u001b[38;5;241m.\u001b[39mread_csv(\u001b[38;5;124m\"\u001b[39m\u001b[38;5;124mdata2.csv\u001b[39m\u001b[38;5;124m\"\u001b[39m)\n\u001b[1;32m      7\u001b[0m \u001b[38;5;66;03m# Create a indexer\u001b[39;00m\n",
      "\u001b[0;31mNameError\u001b[0m: name 'pandas' is not defined"
     ]
    }
   ],
   "source": [
    "import recordlinkage\n",
    "\n",
    "# Create a indexer\n",
    "indexer = recordlinkage.Index()\n",
    "\n",
    "# Block on name and address\n",
    "indexer.block('business_name')\n",
    "indexer.block('city')\n",
    "\n",
    "# Create the pairs\n",
    "pairs = indexer.index(data1, data2)\n",
    "\n",
    "# Create the comparison object\n",
    "compare_cl = recordlinkage.Compare()\n",
    "\n",
    "# Compare the name\n",
    "compare_cl.string('name', 'name', method='jarowinkler', threshold=0.85)\n",
    "\n",
    "# Compare the address\n",
    "compare_cl.string('address', 'address', method='jarowinkler', threshold=0.85)\n",
    "\n",
    "# Get the matches\n",
    "matches = compare_cl.compute(pairs, data1, data2)\n"
   ]
  },
  {
   "cell_type": "code",
   "execution_count": null,
   "metadata": {},
   "outputs": [],
   "source": []
  }
 ],
 "metadata": {
  "kernelspec": {
   "display_name": "Python 3 (ipykernel)",
   "language": "python",
   "name": "python3"
  },
  "language_info": {
   "codemirror_mode": {
    "name": "ipython",
    "version": 3
   },
   "file_extension": ".py",
   "mimetype": "text/x-python",
   "name": "python",
   "nbconvert_exporter": "python",
   "pygments_lexer": "ipython3",
   "version": "3.8.12"
  }
 },
 "nbformat": 4,
 "nbformat_minor": 4
}
