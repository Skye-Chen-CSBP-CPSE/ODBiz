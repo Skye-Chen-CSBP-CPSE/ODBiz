{
 "cells": [
  {
   "cell_type": "code",
   "execution_count": 1,
   "metadata": {
    "execution": {
     "iopub.execute_input": "2022-12-06T14:38:52.133038Z",
     "iopub.status.busy": "2022-12-06T14:38:52.132485Z",
     "iopub.status.idle": "2022-12-06T14:38:52.138079Z",
     "shell.execute_reply": "2022-12-06T14:38:52.136649Z",
     "shell.execute_reply.started": "2022-12-06T14:38:52.132827Z"
    }
   },
   "outputs": [],
   "source": [
    "# Data cleaning\n",
    "\n",
    "# Todo\n",
    "    # Sanity check each variable (range of values)\n",
    "    # Remove unecessary columns"
   ]
  },
  {
   "cell_type": "code",
   "execution_count": null,
   "metadata": {},
   "outputs": [],
   "source": []
  }
 ],
 "metadata": {
  "kernelspec": {
   "display_name": "Python 3 (ipykernel)",
   "language": "python",
   "name": "python3"
  },
  "language_info": {
   "codemirror_mode": {
    "name": "ipython",
    "version": 3
   },
   "file_extension": ".py",
   "mimetype": "text/x-python",
   "name": "python",
   "nbconvert_exporter": "python",
   "pygments_lexer": "ipython3",
   "version": "3.8.12"
  }
 },
 "nbformat": 4,
 "nbformat_minor": 4
}
