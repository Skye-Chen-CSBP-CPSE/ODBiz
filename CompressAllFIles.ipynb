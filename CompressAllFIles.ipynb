{
 "cells": [
  {
   "cell_type": "code",
   "execution_count": 1,
   "metadata": {
    "tags": []
   },
   "outputs": [
    {
     "output_type": "stream",
     "name": "stdout",
     "text": [
      "Directories saved to /home/jovyan/ODBiz/odbiz_dir.zip\n"
     ]
    }
   ],
   "source": [
    "# Compress all files in a directory\n",
    "import shutil\n",
    "from tqdm import tqdm\n",
    "\n",
    "dir_to_compress = '/home/jovyan/ODBiz'\n",
    "output_filename = '/home/jovyan/ODBiz/odbiz_dir'\n",
    "\n",
    "(shutil.make_archive(output_filename, 'zip', dir_to_compress))\n",
    "print(f'Directories saved to {output_filename}.zip')"
   ]
  },
  {
   "cell_type": "code",
   "execution_count": null,
   "metadata": {},
   "outputs": [],
   "source": []
  }
 ],
 "metadata": {
  "kernelspec": {
   "name": "python3812jvsc74a57bd098b0a9b7b4eaaa670588a142fd0a9b87eaafe866f1db4228be72b4211d12040f",
   "display_name": "Python 3.8.12 64-bit ('base': conda)"
  },
  "language_info": {
   "codemirror_mode": {
    "name": "ipython",
    "version": 3
   },
   "file_extension": ".py",
   "mimetype": "text/x-python",
   "name": "python",
   "nbconvert_exporter": "python",
   "pygments_lexer": "ipython3",
   "version": "3.8.12"
  }
 },
 "nbformat": 4,
 "nbformat_minor": 4
}