{
 "cells": [
  {
   "cell_type": "code",
   "execution_count": 2,
   "metadata": {
    "execution": {
     "iopub.execute_input": "2022-10-03T19:09:21.659709Z",
     "iopub.status.busy": "2022-10-03T19:09:21.659422Z",
     "iopub.status.idle": "2022-10-03T19:09:22.213546Z",
     "shell.execute_reply": "2022-10-03T19:09:22.212812Z",
     "shell.execute_reply.started": "2022-10-03T19:09:21.659676Z"
    }
   },
   "outputs": [],
   "source": [
    "import pandas as pd"
   ]
  },
  {
   "cell_type": "code",
   "execution_count": 12,
   "metadata": {
    "execution": {
     "iopub.execute_input": "2022-10-03T19:12:24.532091Z",
     "iopub.status.busy": "2022-10-03T19:12:24.531800Z",
     "iopub.status.idle": "2022-10-03T19:12:37.426909Z",
     "shell.execute_reply": "2022-10-03T19:12:37.426085Z",
     "shell.execute_reply.started": "2022-10-03T19:12:24.532059Z"
    },
    "tags": []
   },
   "outputs": [],
   "source": [
    "input_data = \"../5a-Matching/output/matched.csv\"\n",
    "df = pd.read_csv(input_data, low_memory=False, dtype=\"str\")"
   ]
  },
  {
   "cell_type": "code",
   "execution_count": 13,
   "metadata": {
    "execution": {
     "iopub.execute_input": "2022-10-03T19:13:05.488330Z",
     "iopub.status.busy": "2022-10-03T19:13:05.488036Z",
     "iopub.status.idle": "2022-10-03T19:13:05.493572Z",
     "shell.execute_reply": "2022-10-03T19:13:05.492738Z",
     "shell.execute_reply.started": "2022-10-03T19:13:05.488298Z"
    },
    "tags": []
   },
   "outputs": [
    {
     "data": {
      "text/plain": [
       "803490"
      ]
     },
     "execution_count": 13,
     "metadata": {},
     "output_type": "execute_result"
    }
   ],
   "source": [
    "len(df)"
   ]
  },
  {
   "cell_type": "code",
   "execution_count": 22,
   "metadata": {
    "execution": {
     "iopub.execute_input": "2022-10-03T19:16:17.425718Z",
     "iopub.status.busy": "2022-10-03T19:16:17.425409Z",
     "iopub.status.idle": "2022-10-03T19:16:17.791900Z",
     "shell.execute_reply": "2022-10-03T19:16:17.791141Z",
     "shell.execute_reply.started": "2022-10-03T19:16:17.425680Z"
    },
    "tags": []
   },
   "outputs": [
    {
     "data": {
      "text/plain": [
       "333236"
      ]
     },
     "execution_count": 22,
     "metadata": {},
     "output_type": "execute_result"
    }
   ],
   "source": [
    "len(df[df.latitude.isna() & df.x.isna()])"
   ]
  },
  {
   "cell_type": "code",
   "execution_count": 25,
   "metadata": {
    "execution": {
     "iopub.execute_input": "2022-10-03T19:21:24.963035Z",
     "iopub.status.busy": "2022-10-03T19:21:24.962707Z",
     "iopub.status.idle": "2022-10-03T19:21:25.179659Z",
     "shell.execute_reply": "2022-10-03T19:21:25.178672Z",
     "shell.execute_reply.started": "2022-10-03T19:21:24.962985Z"
    },
    "tags": []
   },
   "outputs": [],
   "source": [
    "sample_size = 50\n",
    "if (len(df) > sample_size):\n",
    "    df = df.sample(sample_size)\n",
    "else:\n",
    "    sample_size = len(df)"
   ]
  },
  {
   "cell_type": "code",
   "execution_count": 28,
   "metadata": {
    "execution": {
     "iopub.execute_input": "2022-10-03T19:44:52.477017Z",
     "iopub.status.busy": "2022-10-03T19:44:52.476693Z",
     "iopub.status.idle": "2022-10-03T19:44:52.480835Z",
     "shell.execute_reply": "2022-10-03T19:44:52.479752Z",
     "shell.execute_reply.started": "2022-10-03T19:44:52.476985Z"
    },
    "tags": []
   },
   "outputs": [],
   "source": [
    "# we need to geocode if a results has na for latitude AND has ratio < 80 OR ratio na\n",
    "\n",
    "# ok how to get started with geocoding. \n",
    "# let's just test the bing script\n",
    "\n"
   ]
  },
  {
   "cell_type": "code",
   "execution_count": null,
   "metadata": {},
   "outputs": [],
   "source": []
  }
 ],
 "metadata": {
  "kernelspec": {
   "display_name": "Python 3 (ipykernel)",
   "language": "python",
   "name": "python3"
  },
  "language_info": {
   "codemirror_mode": {
    "name": "ipython",
    "version": 3
   },
   "file_extension": ".py",
   "mimetype": "text/x-python",
   "name": "python",
   "nbconvert_exporter": "python",
   "pygments_lexer": "ipython3",
   "version": "3.8.12"
  }
 },
 "nbformat": 4,
 "nbformat_minor": 4
}
