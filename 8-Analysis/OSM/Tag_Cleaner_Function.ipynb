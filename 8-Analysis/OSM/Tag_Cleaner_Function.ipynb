{
 "cells": [
  {
   "cell_type": "code",
   "execution_count": null,
   "id": "4fa6b06d",
   "metadata": {},
   "outputs": [],
   "source": []
  },
  {
   "cell_type": "code",
   "execution_count": 10,
   "id": "e599c347",
   "metadata": {},
   "outputs": [],
   "source": [
    "def OSM_tag_cleaner(file_name, boundary_file):\n",
    "    #import packages\n",
    "    import pandas as pd\n",
    "    import geopandas as gpd\n",
    "    \n",
    "    #Create string variables\n",
    "    raw_path = 'RAW_OSM/' + file_name\n",
    "    pr_name = file_name[:-5]\n",
    "    short_pr_name = boundary_file[:-5]\n",
    "    boundary_path = 'Census PRs/' + boundary_file\n",
    "    \n",
    "    #Read in data\n",
    "    points = gpd.read_file(raw_path, layer='points-' + pr_name)\n",
    "    polys = gpd.read_file(raw_path, layer='multipolygons-' + pr_name)\n",
    "    boundary_path = 'Census PRs/' + boundary_file\n",
    "    boundary = gpd.read_file(boundary_path)\n",
    "    \n",
    "    #List of tags to be used to extract from\n",
    "    all_tags = ['playground', 'golf_course', 'park', 'amusement_arcade', 'dance', 'fitness_station',\n",
    "                'marina', 'water_park', 'stadium','sports_centre', 'swimming_pool', 'nature_reserve',\n",
    "                'pitch', 'fitness_centre', 'bowling_alley', 'ice_rink', 'dog_park', 'track',\n",
    "                'adult_gaming_centre', 'miniature_golf', 'escape_game', 'horse_riding', 'freefall_simulator',\n",
    "                'disk_golf_course', 'swimming', 'fitness_station', 'skateboard', 'wading_pool', 'sports_hall',\n",
    "                'recreation_ground', 'virtual_golf', 'arena', 'adventure_park', 'high_ropes_course',\n",
    "                'indoor_play', 'skating', 'swimming_area', 'trampoline_park', 'fitness_club', 'splash_pad',\n",
    "                'disc_golf_course', 'shooting_ground', 'Soccer/Baseball Fields', 'escape_room', 'sports_field',\n",
    "                'curling_rink', 'range', 'recreation_center','sailing', 'sailing_club', 'sport', 'dojo',\n",
    "                'community_centre', 'recreation_centre', 'casino', 'gymnasium', 'beach']\n",
    "    \n",
    "    #Subset the data to include only desired tags from leisure and amenity\n",
    "    points = points.loc[points[['leisure', 'amenity']].isin(all_tags).any(axis=1)]\n",
    "    polys = polys.loc[polys[['leisure', 'amenity']].isin(all_tags).any(axis=1)]\n",
    "    \n",
    "    #Drop records outside provinces\n",
    "    points = points.to_crs(crs=3347)\n",
    "    points = gpd.sjoin(points, boundary, how='inner', op='within')\n",
    "    \n",
    "    #Drop parks under 1000m2\n",
    "    polys = polys.to_crs(crs=3347)\n",
    "    polys[\"area\"] = polys.area\n",
    "    polys = polys.drop(polys.loc[(polys['leisure'].isin(['park'])) & (polys['area']<1000)].index)\n",
    "    \n",
    "    #Create representative points from polygons\n",
    "    polys_rp = polys\n",
    "    polys_rp['geometry'] = polys_rp.representative_point()\n",
    "    polys_rp = gpd.sjoin(polys_rp, boundary, how='inner', op='within')\n",
    "    \n",
    "    #Export combined points files\n",
    "    merged_points = points.append(polys_rp)\n",
    "    merged_points.to_file(short_pr_name + ' - OSM.geojson', driver='GeoJSON')\n",
    "    \n",
    "    print(short_pr_name + ' OSM sports and recreation points exported successfully...')"
   ]
  },
  {
   "cell_type": "code",
   "execution_count": 12,
   "id": "562a3fca",
   "metadata": {},
   "outputs": [
    {
     "name": "stderr",
     "output_type": "stream",
     "text": [
      "/usr/local/lib/python3.8/dist-packages/IPython/core/interactiveshell.py:3398: FutureWarning: The `op` parameter is deprecated and will be removed in a future release. Please use the `predicate` parameter instead.\n",
      "  exec(code_obj, self.user_global_ns, self.user_ns)\n",
      "/usr/local/lib/python3.8/dist-packages/IPython/core/interactiveshell.py:3398: FutureWarning: The `op` parameter is deprecated and will be removed in a future release. Please use the `predicate` parameter instead.\n",
      "  exec(code_obj, self.user_global_ns, self.user_ns)\n",
      "/tmp/ipykernel_11481/4257517469.py:47: FutureWarning: The frame.append method is deprecated and will be removed from pandas in a future version. Use pandas.concat instead.\n",
      "  merged_points = points.append(polys_rp)\n"
     ]
    },
    {
     "name": "stdout",
     "output_type": "stream",
     "text": [
      "10 - NL OSM sports and recreation points exported successfully...\n"
     ]
    },
    {
     "name": "stderr",
     "output_type": "stream",
     "text": [
      "/usr/local/lib/python3.8/dist-packages/IPython/core/interactiveshell.py:3398: FutureWarning: The `op` parameter is deprecated and will be removed in a future release. Please use the `predicate` parameter instead.\n",
      "  exec(code_obj, self.user_global_ns, self.user_ns)\n",
      "/usr/local/lib/python3.8/dist-packages/IPython/core/interactiveshell.py:3398: FutureWarning: The `op` parameter is deprecated and will be removed in a future release. Please use the `predicate` parameter instead.\n",
      "  exec(code_obj, self.user_global_ns, self.user_ns)\n",
      "/tmp/ipykernel_11481/4257517469.py:47: FutureWarning: The frame.append method is deprecated and will be removed from pandas in a future version. Use pandas.concat instead.\n",
      "  merged_points = points.append(polys_rp)\n"
     ]
    },
    {
     "name": "stdout",
     "output_type": "stream",
     "text": [
      "11 - PE OSM sports and recreation points exported successfully...\n"
     ]
    },
    {
     "name": "stderr",
     "output_type": "stream",
     "text": [
      "/usr/local/lib/python3.8/dist-packages/IPython/core/interactiveshell.py:3398: FutureWarning: The `op` parameter is deprecated and will be removed in a future release. Please use the `predicate` parameter instead.\n",
      "  exec(code_obj, self.user_global_ns, self.user_ns)\n",
      "/usr/local/lib/python3.8/dist-packages/IPython/core/interactiveshell.py:3398: FutureWarning: The `op` parameter is deprecated and will be removed in a future release. Please use the `predicate` parameter instead.\n",
      "  exec(code_obj, self.user_global_ns, self.user_ns)\n",
      "/tmp/ipykernel_11481/4257517469.py:47: FutureWarning: The frame.append method is deprecated and will be removed from pandas in a future version. Use pandas.concat instead.\n",
      "  merged_points = points.append(polys_rp)\n"
     ]
    },
    {
     "name": "stdout",
     "output_type": "stream",
     "text": [
      "12 - NS OSM sports and recreation points exported successfully...\n"
     ]
    },
    {
     "name": "stderr",
     "output_type": "stream",
     "text": [
      "/usr/local/lib/python3.8/dist-packages/IPython/core/interactiveshell.py:3398: FutureWarning: The `op` parameter is deprecated and will be removed in a future release. Please use the `predicate` parameter instead.\n",
      "  exec(code_obj, self.user_global_ns, self.user_ns)\n",
      "/usr/local/lib/python3.8/dist-packages/IPython/core/interactiveshell.py:3398: FutureWarning: The `op` parameter is deprecated and will be removed in a future release. Please use the `predicate` parameter instead.\n",
      "  exec(code_obj, self.user_global_ns, self.user_ns)\n",
      "/tmp/ipykernel_11481/4257517469.py:47: FutureWarning: The frame.append method is deprecated and will be removed from pandas in a future version. Use pandas.concat instead.\n",
      "  merged_points = points.append(polys_rp)\n"
     ]
    },
    {
     "name": "stdout",
     "output_type": "stream",
     "text": [
      "13 - NB OSM sports and recreation points exported successfully...\n"
     ]
    },
    {
     "name": "stderr",
     "output_type": "stream",
     "text": [
      "/usr/local/lib/python3.8/dist-packages/IPython/core/interactiveshell.py:3398: FutureWarning: The `op` parameter is deprecated and will be removed in a future release. Please use the `predicate` parameter instead.\n",
      "  exec(code_obj, self.user_global_ns, self.user_ns)\n",
      "/usr/local/lib/python3.8/dist-packages/IPython/core/interactiveshell.py:3398: FutureWarning: The `op` parameter is deprecated and will be removed in a future release. Please use the `predicate` parameter instead.\n",
      "  exec(code_obj, self.user_global_ns, self.user_ns)\n",
      "/tmp/ipykernel_11481/4257517469.py:47: FutureWarning: The frame.append method is deprecated and will be removed from pandas in a future version. Use pandas.concat instead.\n",
      "  merged_points = points.append(polys_rp)\n"
     ]
    },
    {
     "name": "stdout",
     "output_type": "stream",
     "text": [
      "24 - QC OSM sports and recreation points exported successfully...\n"
     ]
    },
    {
     "name": "stderr",
     "output_type": "stream",
     "text": [
      "/usr/local/lib/python3.8/dist-packages/IPython/core/interactiveshell.py:3398: FutureWarning: The `op` parameter is deprecated and will be removed in a future release. Please use the `predicate` parameter instead.\n",
      "  exec(code_obj, self.user_global_ns, self.user_ns)\n",
      "/usr/local/lib/python3.8/dist-packages/IPython/core/interactiveshell.py:3398: FutureWarning: The `op` parameter is deprecated and will be removed in a future release. Please use the `predicate` parameter instead.\n",
      "  exec(code_obj, self.user_global_ns, self.user_ns)\n",
      "/tmp/ipykernel_11481/4257517469.py:47: FutureWarning: The frame.append method is deprecated and will be removed from pandas in a future version. Use pandas.concat instead.\n",
      "  merged_points = points.append(polys_rp)\n"
     ]
    },
    {
     "name": "stdout",
     "output_type": "stream",
     "text": [
      "35 - ON OSM sports and recreation points exported successfully...\n"
     ]
    },
    {
     "name": "stderr",
     "output_type": "stream",
     "text": [
      "/usr/local/lib/python3.8/dist-packages/IPython/core/interactiveshell.py:3398: FutureWarning: The `op` parameter is deprecated and will be removed in a future release. Please use the `predicate` parameter instead.\n",
      "  exec(code_obj, self.user_global_ns, self.user_ns)\n",
      "/usr/local/lib/python3.8/dist-packages/IPython/core/interactiveshell.py:3398: FutureWarning: The `op` parameter is deprecated and will be removed in a future release. Please use the `predicate` parameter instead.\n",
      "  exec(code_obj, self.user_global_ns, self.user_ns)\n",
      "/tmp/ipykernel_11481/4257517469.py:47: FutureWarning: The frame.append method is deprecated and will be removed from pandas in a future version. Use pandas.concat instead.\n",
      "  merged_points = points.append(polys_rp)\n"
     ]
    },
    {
     "name": "stdout",
     "output_type": "stream",
     "text": [
      "46 - MB OSM sports and recreation points exported successfully...\n"
     ]
    },
    {
     "name": "stderr",
     "output_type": "stream",
     "text": [
      "/usr/local/lib/python3.8/dist-packages/IPython/core/interactiveshell.py:3398: FutureWarning: The `op` parameter is deprecated and will be removed in a future release. Please use the `predicate` parameter instead.\n",
      "  exec(code_obj, self.user_global_ns, self.user_ns)\n",
      "/usr/local/lib/python3.8/dist-packages/IPython/core/interactiveshell.py:3398: FutureWarning: The `op` parameter is deprecated and will be removed in a future release. Please use the `predicate` parameter instead.\n",
      "  exec(code_obj, self.user_global_ns, self.user_ns)\n",
      "/tmp/ipykernel_11481/4257517469.py:47: FutureWarning: The frame.append method is deprecated and will be removed from pandas in a future version. Use pandas.concat instead.\n",
      "  merged_points = points.append(polys_rp)\n"
     ]
    },
    {
     "name": "stdout",
     "output_type": "stream",
     "text": [
      "47 - SK OSM sports and recreation points exported successfully...\n"
     ]
    },
    {
     "name": "stderr",
     "output_type": "stream",
     "text": [
      "/usr/local/lib/python3.8/dist-packages/IPython/core/interactiveshell.py:3398: FutureWarning: The `op` parameter is deprecated and will be removed in a future release. Please use the `predicate` parameter instead.\n",
      "  exec(code_obj, self.user_global_ns, self.user_ns)\n",
      "/usr/local/lib/python3.8/dist-packages/IPython/core/interactiveshell.py:3398: FutureWarning: The `op` parameter is deprecated and will be removed in a future release. Please use the `predicate` parameter instead.\n",
      "  exec(code_obj, self.user_global_ns, self.user_ns)\n",
      "/tmp/ipykernel_11481/4257517469.py:47: FutureWarning: The frame.append method is deprecated and will be removed from pandas in a future version. Use pandas.concat instead.\n",
      "  merged_points = points.append(polys_rp)\n"
     ]
    },
    {
     "name": "stdout",
     "output_type": "stream",
     "text": [
      "48 - AB OSM sports and recreation points exported successfully...\n"
     ]
    },
    {
     "name": "stderr",
     "output_type": "stream",
     "text": [
      "/usr/local/lib/python3.8/dist-packages/IPython/core/interactiveshell.py:3398: FutureWarning: The `op` parameter is deprecated and will be removed in a future release. Please use the `predicate` parameter instead.\n",
      "  exec(code_obj, self.user_global_ns, self.user_ns)\n",
      "/usr/local/lib/python3.8/dist-packages/IPython/core/interactiveshell.py:3398: FutureWarning: The `op` parameter is deprecated and will be removed in a future release. Please use the `predicate` parameter instead.\n",
      "  exec(code_obj, self.user_global_ns, self.user_ns)\n",
      "/tmp/ipykernel_11481/4257517469.py:47: FutureWarning: The frame.append method is deprecated and will be removed from pandas in a future version. Use pandas.concat instead.\n",
      "  merged_points = points.append(polys_rp)\n"
     ]
    },
    {
     "name": "stdout",
     "output_type": "stream",
     "text": [
      "59 - BC OSM sports and recreation points exported successfully...\n"
     ]
    },
    {
     "name": "stderr",
     "output_type": "stream",
     "text": [
      "/usr/local/lib/python3.8/dist-packages/IPython/core/interactiveshell.py:3398: FutureWarning: The `op` parameter is deprecated and will be removed in a future release. Please use the `predicate` parameter instead.\n",
      "  exec(code_obj, self.user_global_ns, self.user_ns)\n",
      "/usr/local/lib/python3.8/dist-packages/IPython/core/interactiveshell.py:3398: FutureWarning: The `op` parameter is deprecated and will be removed in a future release. Please use the `predicate` parameter instead.\n",
      "  exec(code_obj, self.user_global_ns, self.user_ns)\n",
      "/tmp/ipykernel_11481/4257517469.py:47: FutureWarning: The frame.append method is deprecated and will be removed from pandas in a future version. Use pandas.concat instead.\n",
      "  merged_points = points.append(polys_rp)\n"
     ]
    },
    {
     "name": "stdout",
     "output_type": "stream",
     "text": [
      "60 - YT OSM sports and recreation points exported successfully...\n"
     ]
    },
    {
     "name": "stderr",
     "output_type": "stream",
     "text": [
      "/usr/local/lib/python3.8/dist-packages/IPython/core/interactiveshell.py:3398: FutureWarning: The `op` parameter is deprecated and will be removed in a future release. Please use the `predicate` parameter instead.\n",
      "  exec(code_obj, self.user_global_ns, self.user_ns)\n",
      "/usr/local/lib/python3.8/dist-packages/IPython/core/interactiveshell.py:3398: FutureWarning: The `op` parameter is deprecated and will be removed in a future release. Please use the `predicate` parameter instead.\n",
      "  exec(code_obj, self.user_global_ns, self.user_ns)\n",
      "/tmp/ipykernel_11481/4257517469.py:47: FutureWarning: The frame.append method is deprecated and will be removed from pandas in a future version. Use pandas.concat instead.\n",
      "  merged_points = points.append(polys_rp)\n"
     ]
    },
    {
     "name": "stdout",
     "output_type": "stream",
     "text": [
      "61 - NT OSM sports and recreation points exported successfully...\n"
     ]
    },
    {
     "name": "stderr",
     "output_type": "stream",
     "text": [
      "/usr/local/lib/python3.8/dist-packages/IPython/core/interactiveshell.py:3398: FutureWarning: The `op` parameter is deprecated and will be removed in a future release. Please use the `predicate` parameter instead.\n",
      "  exec(code_obj, self.user_global_ns, self.user_ns)\n",
      "/usr/local/lib/python3.8/dist-packages/IPython/core/interactiveshell.py:3398: FutureWarning: The `op` parameter is deprecated and will be removed in a future release. Please use the `predicate` parameter instead.\n",
      "  exec(code_obj, self.user_global_ns, self.user_ns)\n"
     ]
    },
    {
     "name": "stdout",
     "output_type": "stream",
     "text": [
      "62 - NU OSM sports and recreation points exported successfully...\n"
     ]
    },
    {
     "name": "stderr",
     "output_type": "stream",
     "text": [
      "/tmp/ipykernel_11481/4257517469.py:47: FutureWarning: The frame.append method is deprecated and will be removed from pandas in a future version. Use pandas.concat instead.\n",
      "  merged_points = points.append(polys_rp)\n"
     ]
    }
   ],
   "source": [
    "OSM_tag_cleaner('newfoundland-and-labrador.gpkg', '10 - NL.gpkg')\n",
    "OSM_tag_cleaner('prince-edward-island.gpkg', '11 - PE.gpkg')\n",
    "OSM_tag_cleaner('nova-scotia.gpkg', '12 - NS.gpkg')\n",
    "OSM_tag_cleaner('new-brunswick.gpkg',  '13 - NB.gpkg')\n",
    "OSM_tag_cleaner('quebec.gpkg', '24 - QC.gpkg')\n",
    "OSM_tag_cleaner('ontario.gpkg', '35 - ON.gpkg')\n",
    "OSM_tag_cleaner('manitoba.gpkg', '46 - MB.gpkg')\n",
    "OSM_tag_cleaner('saskatchewan.gpkg', '47 - SK.gpkg')\n",
    "OSM_tag_cleaner('alberta.gpkg', '48 - AB.gpkg')\n",
    "OSM_tag_cleaner('british-columbia.gpkg', '59 - BC.gpkg')\n",
    "OSM_tag_cleaner('yukon.gpkg', '60 - YT.gpkg')\n",
    "OSM_tag_cleaner('northwest-territories.gpkg', '61 - NT.gpkg')\n",
    "OSM_tag_cleaner('nunavut.gpkg', '62 - NU.gpkg')"
   ]
  },
  {
   "cell_type": "code",
   "execution_count": null,
   "id": "930e9022",
   "metadata": {},
   "outputs": [],
   "source": []
  }
 ],
 "metadata": {
  "kernelspec": {
   "display_name": "Python 3 (ipykernel)",
   "language": "python",
   "name": "python3"
  },
  "language_info": {
   "codemirror_mode": {
    "name": "ipython",
    "version": 3
   },
   "file_extension": ".py",
   "mimetype": "text/x-python",
   "name": "python",
   "nbconvert_exporter": "python",
   "pygments_lexer": "ipython3",
   "version": "3.8.10"
  }
 },
 "nbformat": 4,
 "nbformat_minor": 5
}
