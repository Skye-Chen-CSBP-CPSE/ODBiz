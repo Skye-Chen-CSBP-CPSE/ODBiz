{
 "cells": [
  {
   "cell_type": "code",
   "execution_count": null,
   "metadata": {},
   "outputs": [],
   "source": [
    "# this script deduplicates just on business name, city and province\n",
    "import pandas as pd\n",
    "\n",
    "df = pd.read_csv('output/matched_10-26.csv', low_memory=False)\n",
    "\n",
    "df_dup = df[df.duplicated(subset=['business_name', 'province', 'city', 'latitude'], keep='first')]\n",
    "\n",
    "# to remove duplicates, we need to work out \n",
    "# (1) which sources we prioritise\n",
    "# (2) how we merge multiple data sources"
   ]
  }
 ],
 "metadata": {
  "kernelspec": {
   "display_name": "Python 3 (ipykernel)",
   "language": "python",
   "name": "python3"
  },
  "language_info": {
   "codemirror_mode": {
    "name": "ipython",
    "version": 3
   },
   "file_extension": ".py",
   "mimetype": "text/x-python",
   "name": "python",
   "nbconvert_exporter": "python",
   "pygments_lexer": "ipython3",
   "version": "3.8.12"
  }
 },
 "nbformat": 4,
 "nbformat_minor": 4
}
