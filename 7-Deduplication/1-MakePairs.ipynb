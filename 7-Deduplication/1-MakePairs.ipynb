{
 "cells": [
  {
   "cell_type": "code",
   "execution_count": 43,
   "metadata": {
    "execution": {
     "iopub.execute_input": "2023-01-26T02:35:26.103350Z",
     "iopub.status.busy": "2023-01-26T02:35:26.103068Z",
     "iopub.status.idle": "2023-01-26T02:35:26.108292Z",
     "shell.execute_reply": "2023-01-26T02:35:26.107304Z",
     "shell.execute_reply.started": "2023-01-26T02:35:26.103320Z"
    },
    "tags": []
   },
   "outputs": [],
   "source": [
    "import json\n",
    "import pandas as pd\n",
    "import re\n",
    "from rl_helper import strip_accents, AddressClean, haversine\n",
    "import recordlinkage as rl\n",
    "from recordlinkage.preprocessing import clean\n",
    "from recordlinkage.index import Block\n",
    "import numpy as np\n",
    "import math\n",
    "\n",
    "import mitosheet"
   ]
  },
  {
   "cell_type": "code",
   "execution_count": 117,
   "metadata": {
    "execution": {
     "iopub.execute_input": "2023-01-26T03:34:39.598596Z",
     "iopub.status.busy": "2023-01-26T03:34:39.598314Z",
     "iopub.status.idle": "2023-01-26T03:34:47.306878Z",
     "shell.execute_reply": "2023-01-26T03:34:47.305677Z",
     "shell.execute_reply.started": "2023-01-26T03:34:39.598567Z"
    },
    "tags": []
   },
   "outputs": [],
   "source": [
    "sourcefile=r\"ODBiz_Source.json\"\n",
    "with open(sourcefile) as source_f:\n",
    "    Source=json.load(source_f)\n",
    "    \n",
    "DF=pd.read_csv(Source[\"filename\"],\n",
    "               encoding=Source[\"encoding\"],\n",
    "               index_col=Source[\"index\"], low_memory=False, dtype='str')\n",
    "\n",
    "#reduce database to only the columns we use for comparisons\n",
    "DF=DF[Source[\"column_map\"].values()]\n",
    "column_map={val: key for key, val in Source[\"column_map\"].items()}\n",
    "DF=DF.rename(columns=column_map)\n",
    "df=DF.copy()"
   ]
  },
  {
   "cell_type": "code",
   "execution_count": 118,
   "metadata": {
    "execution": {
     "iopub.execute_input": "2023-01-26T03:34:47.308449Z",
     "iopub.status.busy": "2023-01-26T03:34:47.308245Z",
     "iopub.status.idle": "2023-01-26T03:34:55.235420Z",
     "shell.execute_reply": "2023-01-26T03:34:55.234484Z",
     "shell.execute_reply.started": "2023-01-26T03:34:47.308424Z"
    },
    "tags": []
   },
   "outputs": [],
   "source": [
    "# FORMATTTING\n",
    "\n",
    "#remove accents\n",
    "\n",
    "text_cols=['Name','Address','StreetName','City']\n",
    "for col in text_cols:\n",
    "    \n",
    "    df.loc[~df[col].isnull(),col]=df.loc[~df[col].isnull(),col].apply(strip_accents)\n",
    "\n",
    "#remove periods, apostrophes, commas, and hypens in the Name and address columns\n",
    "\n",
    "r_list=[r\".\",r\",\",r\"'\",r\"-\"]\n",
    "\n",
    "for r in r_list:\n",
    "    \n",
    "    df[\"Name\"] = df[\"Name\"].str.replace(r,' ',regex=False)\n",
    "    df[\"Address\"] = df[\"Address\"].str.replace(r,' ',regex=False)\n",
    "\n",
    "#remove excess whitespace\n",
    "df[\"Name\"] = df[\"Name\"].str.replace(r\" +\",\" \",regex=True)\n",
    "df[\"Address\"] = df[\"Address\"].str.replace(r\" +\",\" \",regex=True)\n",
    "\n",
    "#standardise postal codes - just remove empty space and make sure it's all lower case\n",
    "\n",
    "df.loc[~df.PostalCode.isnull(),'PostalCode'] = df.loc[~df.PostalCode.isnull(),'PostalCode'].str.replace(' ','').str.lower()\n",
    "\n",
    "\n",
    "#Some records have street number and street name, but no address field filled\n",
    "\n",
    "df.loc[(df.Address.isnull())&\\\n",
    "       (~df.StreetName.isnull()),'Address']\\\n",
    "    = clean(df.loc[(df.Address.isnull())&\\\n",
    "       (~df.StreetName.isnull()),'StreetNumber']+' '+\\\n",
    "           df.loc[(df.Address.isnull())&\\\n",
    "       (~df.StreetName.isnull()),'StreetName']+' '+\\\n",
    "        df.loc[(df.Address.isnull())&\\\n",
    "       (~df.StreetName.isnull()),'City'])\n"
   ]
  },
  {
   "cell_type": "code",
   "execution_count": 119,
   "metadata": {
    "execution": {
     "iopub.execute_input": "2023-01-26T03:34:55.237397Z",
     "iopub.status.busy": "2023-01-26T03:34:55.237190Z",
     "iopub.status.idle": "2023-01-26T03:34:55.242814Z",
     "shell.execute_reply": "2023-01-26T03:34:55.242147Z",
     "shell.execute_reply.started": "2023-01-26T03:34:55.237372Z"
    },
    "tags": []
   },
   "outputs": [
    {
     "data": {
      "text/plain": [
       "558964"
      ]
     },
     "execution_count": 119,
     "metadata": {},
     "output_type": "execute_result"
    }
   ],
   "source": [
    "len(df)"
   ]
  },
  {
   "cell_type": "code",
   "execution_count": 120,
   "metadata": {
    "execution": {
     "iopub.execute_input": "2023-01-26T03:34:55.244244Z",
     "iopub.status.busy": "2023-01-26T03:34:55.244049Z",
     "iopub.status.idle": "2023-01-26T03:34:55.735335Z",
     "shell.execute_reply": "2023-01-26T03:34:55.734378Z",
     "shell.execute_reply.started": "2023-01-26T03:34:55.244221Z"
    },
    "tags": []
   },
   "outputs": [
    {
     "name": "stdout",
     "output_type": "stream",
     "text": [
      "Number removed with business name = NA:  29111\n"
     ]
    }
   ],
   "source": [
    "# Remove those with no business name \n",
    "\n",
    "print('Number removed with business name = NA: ', len(df[df.Name.isnull()]))\n",
    "df = df[~df.Name.isnull()]"
   ]
  },
  {
   "cell_type": "code",
   "execution_count": 121,
   "metadata": {
    "execution": {
     "iopub.execute_input": "2023-01-26T03:34:55.736705Z",
     "iopub.status.busy": "2023-01-26T03:34:55.736503Z",
     "iopub.status.idle": "2023-01-26T03:34:55.963571Z",
     "shell.execute_reply": "2023-01-26T03:34:55.962702Z",
     "shell.execute_reply.started": "2023-01-26T03:34:55.736680Z"
    },
    "tags": []
   },
   "outputs": [
    {
     "name": "stdout",
     "output_type": "stream",
     "text": [
      "Number removed with inactive status:  58598\n"
     ]
    }
   ],
   "source": [
    "# Remove those with inactive status\n",
    "\n",
    "no_removed = len(df[df.Status.isin(['Gone Out of Business', 'Inactive', 'Cancelled'])])\n",
    "\n",
    "print('Number removed with inactive status: ', no_removed)\n",
    "df = df[~df.Status.isin(['Gone Out of Business', 'Inactive', 'Cancelled'])]\n"
   ]
  },
  {
   "cell_type": "code",
   "execution_count": 131,
   "metadata": {
    "execution": {
     "iopub.execute_input": "2023-01-26T03:41:56.331850Z",
     "iopub.status.busy": "2023-01-26T03:41:56.331448Z",
     "iopub.status.idle": "2023-01-26T03:41:57.791920Z",
     "shell.execute_reply": "2023-01-26T03:41:57.790732Z",
     "shell.execute_reply.started": "2023-01-26T03:41:56.331805Z"
    },
    "tags": []
   },
   "outputs": [
    {
     "name": "stdout",
     "output_type": "stream",
     "text": [
      "No removed with matching name, license, street no and pcode:  0\n"
     ]
    }
   ],
   "source": [
    "# Carry out basic deduplication on \n",
    "# Exact match for business name, license number, street number, \n",
    "# postal code - keep one record\n",
    "\n",
    "\n",
    "df['dupe_1'] = df.duplicated(subset=['Name','licence_number', 'PostalCode', 'StreetNumber'],keep=False)\n",
    "df_dup_1 = df.loc[df.dupe_1==True]\n",
    "\n",
    "df_remove = df.duplicated(subset=['Name','licence_number', 'PostalCode', 'StreetNumber'],keep='last')\n",
    "\n",
    "# df.loc[df.dupe==True].to_csv('outputs/simple_dupes.csv',encoding='utf-8')\n",
    "df = df.drop_duplicates(subset=['Name','Address','CSDUID', 'licence_number'],keep='last')\n",
    "\n",
    "print('No removed with matching name, license, street no and pcode: ', len(df_remove) - len(df))\n"
   ]
  },
  {
   "cell_type": "code",
   "execution_count": 130,
   "metadata": {
    "execution": {
     "iopub.execute_input": "2023-01-26T03:41:53.448187Z",
     "iopub.status.busy": "2023-01-26T03:41:53.447795Z",
     "iopub.status.idle": "2023-01-26T03:41:54.031622Z",
     "shell.execute_reply": "2023-01-26T03:41:54.030457Z",
     "shell.execute_reply.started": "2023-01-26T03:41:53.448144Z"
    },
    "tags": []
   },
   "outputs": [
    {
     "name": "stdout",
     "output_type": "stream",
     "text": [
      "number duplicated on these that would be removed:  443450\n"
     ]
    }
   ],
   "source": [
    "df['dupe_2'] = df.duplicated(subset=['Name', 'PostalCode', 'StreetNumber'],keep=False)\n",
    "df_dup_2 = df.loc[df.dupe_2==True]\n",
    "\n",
    "df_remove = df.duplicated(subset=['Name', 'PostalCode', 'StreetNumber'],keep='last')\n",
    "\n",
    "print('number duplicated on these that would be removed: ', len(df_remove))"
   ]
  },
  {
   "cell_type": "code",
   "execution_count": 126,
   "metadata": {
    "execution": {
     "iopub.execute_input": "2023-01-26T03:35:51.579604Z",
     "iopub.status.busy": "2023-01-26T03:35:51.579270Z",
     "iopub.status.idle": "2023-01-26T03:35:51.586277Z",
     "shell.execute_reply": "2023-01-26T03:35:51.585442Z",
     "shell.execute_reply.started": "2023-01-26T03:35:51.579570Z"
    },
    "tags": []
   },
   "outputs": [
    {
     "data": {
      "text/plain": [
       "63839"
      ]
     },
     "execution_count": 126,
     "metadata": {},
     "output_type": "execute_result"
    }
   ],
   "source": [
    "len(df_dup_2)"
   ]
  },
  {
   "cell_type": "code",
   "execution_count": 129,
   "metadata": {
    "execution": {
     "iopub.execute_input": "2023-01-26T03:37:09.954213Z",
     "iopub.status.busy": "2023-01-26T03:37:09.953840Z",
     "iopub.status.idle": "2023-01-26T03:37:10.020927Z",
     "shell.execute_reply": "2023-01-26T03:37:10.020109Z",
     "shell.execute_reply.started": "2023-01-26T03:37:09.954172Z"
    },
    "tags": []
   },
   "outputs": [
    {
     "data": {
      "application/vnd.jupyter.widget-view+json": {
       "model_id": "154716472b734484bd81557278002153",
       "version_major": 2,
       "version_minor": 0
      },
      "text/plain": [
       "MitoWidget(analysis_data_json='{\"analysisName\": \"id-wotuiqsszq\", \"analysisToReplay\": {\"analysisName\": \"id-muen…"
      ]
     },
     "metadata": {},
     "output_type": "display_data"
    }
   ],
   "source": [
    "mitosheet.sheet(df_dup_2, analysis_to_replay=\"id-muenxbzusu\")"
   ]
  },
  {
   "cell_type": "code",
   "execution_count": null,
   "metadata": {},
   "outputs": [],
   "source": [
    "from mitosheet import *; register_analysis(\"id-muenxbzusu\");\n",
    "    \n",
    "# Sorted Name in ascending order\n",
    "df_dup_2 = df_dup_2.sort_values(by='Name', ascending=True, na_position='first')\n",
    "\n",
    "# Sorted Name in ascending order\n",
    "df_dup_2 = df_dup_2.sort_values(by='Name', ascending=True, na_position='first')\n",
    "\n",
    "# Sorted PostalCode in ascending order\n",
    "df_dup_2 = df_dup_2.sort_values(by='PostalCode', ascending=True, na_position='first')\n",
    "\n",
    "# Sorted Name in ascending order\n",
    "df_dup_2 = df_dup_2.sort_values(by='Name', ascending=True, na_position='first')\n",
    "\n",
    "# Sorted Name in ascending order\n",
    "df_dup_2 = df_dup_2.sort_values(by='Name', ascending=True, na_position='first')\n"
   ]
  },
  {
   "cell_type": "code",
   "execution_count": 71,
   "metadata": {
    "execution": {
     "iopub.execute_input": "2023-01-26T02:59:04.740560Z",
     "iopub.status.busy": "2023-01-26T02:59:04.740276Z",
     "iopub.status.idle": "2023-01-26T02:59:04.796621Z",
     "shell.execute_reply": "2023-01-26T02:59:04.795814Z",
     "shell.execute_reply.started": "2023-01-26T02:59:04.740532Z"
    },
    "tags": []
   },
   "outputs": [
    {
     "name": "stderr",
     "output_type": "stream",
     "text": [
      "<ipython-input-71-3f97d9008d09>:5: SettingWithCopyWarning: \n",
      "A value is trying to be set on a copy of a slice from a DataFrame.\n",
      "Try using .loc[row_indexer,col_indexer] = value instead\n",
      "\n",
      "See the caveats in the documentation: https://pandas.pydata.org/pandas-docs/stable/user_guide/indexing.html#returning-a-view-versus-a-copy\n",
      "  df_post['dupe_code'] = df_post.duplicated(subset=['PostalCode', 'StreetNumber'],keep=False)\n"
     ]
    }
   ],
   "source": [
    "# How many also have a postcode that matches elsewhere?\n",
    "\n",
    "df_post = df_dup[~df_dup.PostalCode.isnull()]\n",
    "\n",
    "df_post['dupe_code'] = df_post.duplicated(subset=['PostalCode', 'StreetNumber'], keep=False)\n",
    "df_dup2 = df_post.loc[df_post.dupe_code==True]"
   ]
  },
  {
   "cell_type": "code",
   "execution_count": null,
   "metadata": {},
   "outputs": [],
   "source": []
  },
  {
   "cell_type": "code",
   "execution_count": null,
   "metadata": {},
   "outputs": [],
   "source": []
  },
  {
   "cell_type": "code",
   "execution_count": 103,
   "metadata": {
    "execution": {
     "iopub.execute_input": "2023-01-26T03:26:28.858580Z",
     "iopub.status.busy": "2023-01-26T03:26:28.858171Z",
     "iopub.status.idle": "2023-01-26T03:26:28.864710Z",
     "shell.execute_reply": "2023-01-26T03:26:28.863980Z",
     "shell.execute_reply.started": "2023-01-26T03:26:28.858536Z"
    }
   },
   "outputs": [
    {
     "data": {
      "text/plain": [
       "558964"
      ]
     },
     "execution_count": 103,
     "metadata": {},
     "output_type": "execute_result"
    }
   ],
   "source": [
    "len(DF)"
   ]
  },
  {
   "cell_type": "code",
   "execution_count": null,
   "metadata": {},
   "outputs": [],
   "source": []
  },
  {
   "cell_type": "code",
   "execution_count": null,
   "metadata": {},
   "outputs": [],
   "source": [
    "r\"\"\"\n",
    "II. Record Linkage\n",
    "\n",
    "\n",
    "This is the section that uses the record linkage package to determine candidate pairs,\n",
    "which will be evaluated separately.\n",
    "\"\"\""
   ]
  },
  {
   "cell_type": "code",
   "execution_count": 17,
   "metadata": {
    "execution": {
     "iopub.execute_input": "2023-01-26T02:04:55.347722Z",
     "iopub.status.busy": "2023-01-26T02:04:55.347310Z",
     "iopub.status.idle": "2023-01-26T02:04:55.480007Z",
     "shell.execute_reply": "2023-01-26T02:04:55.478800Z",
     "shell.execute_reply.started": "2023-01-26T02:04:55.347676Z"
    },
    "tags": []
   },
   "outputs": [],
   "source": [
    "# For TESTING\n",
    "\n",
    "df_input = df\n",
    "df = df_dup.head(1000)"
   ]
  },
  {
   "cell_type": "code",
   "execution_count": 18,
   "metadata": {
    "execution": {
     "iopub.execute_input": "2023-01-26T02:04:56.787078Z",
     "iopub.status.busy": "2023-01-26T02:04:56.786790Z",
     "iopub.status.idle": "2023-01-26T02:04:56.793098Z",
     "shell.execute_reply": "2023-01-26T02:04:56.792217Z",
     "shell.execute_reply.started": "2023-01-26T02:04:56.787050Z"
    },
    "tags": []
   },
   "outputs": [
    {
     "data": {
      "text/plain": [
       "1000"
      ]
     },
     "execution_count": 18,
     "metadata": {},
     "output_type": "execute_result"
    }
   ],
   "source": [
    "len(df)"
   ]
  },
  {
   "cell_type": "code",
   "execution_count": 19,
   "metadata": {
    "execution": {
     "iopub.execute_input": "2023-01-26T02:04:58.569940Z",
     "iopub.status.busy": "2023-01-26T02:04:58.569524Z",
     "iopub.status.idle": "2023-01-26T02:04:58.574727Z",
     "shell.execute_reply": "2023-01-26T02:04:58.573525Z",
     "shell.execute_reply.started": "2023-01-26T02:04:58.569896Z"
    },
    "tags": []
   },
   "outputs": [],
   "source": [
    "indexer = rl.Index()"
   ]
  },
  {
   "cell_type": "code",
   "execution_count": 20,
   "metadata": {
    "execution": {
     "iopub.execute_input": "2023-01-26T02:05:00.230454Z",
     "iopub.status.busy": "2023-01-26T02:05:00.230180Z",
     "iopub.status.idle": "2023-01-26T02:05:00.234631Z",
     "shell.execute_reply": "2023-01-26T02:05:00.233909Z",
     "shell.execute_reply.started": "2023-01-26T02:05:00.230427Z"
    },
    "tags": []
   },
   "outputs": [],
   "source": [
    "# Choose columns to block on\n",
    "\n",
    "# Try CSDUID to start, but we also need to remove NA\n",
    "\n",
    "indexer.add(Block('CSDUID'))"
   ]
  },
  {
   "cell_type": "code",
   "execution_count": 21,
   "metadata": {
    "execution": {
     "iopub.execute_input": "2023-01-26T02:05:01.948433Z",
     "iopub.status.busy": "2023-01-26T02:05:01.948113Z",
     "iopub.status.idle": "2023-01-26T02:05:01.954253Z",
     "shell.execute_reply": "2023-01-26T02:05:01.953500Z",
     "shell.execute_reply.started": "2023-01-26T02:05:01.948404Z"
    },
    "tags": []
   },
   "outputs": [],
   "source": [
    "df = df[df['CSDUID'].notna()]"
   ]
  },
  {
   "cell_type": "code",
   "execution_count": 22,
   "metadata": {
    "execution": {
     "iopub.execute_input": "2023-01-26T02:05:04.840159Z",
     "iopub.status.busy": "2023-01-26T02:05:04.839748Z",
     "iopub.status.idle": "2023-01-26T02:05:04.899985Z",
     "shell.execute_reply": "2023-01-26T02:05:04.899038Z",
     "shell.execute_reply.started": "2023-01-26T02:05:04.840116Z"
    },
    "tags": []
   },
   "outputs": [],
   "source": [
    "candidate_links = indexer.index(df)\n"
   ]
  },
  {
   "cell_type": "code",
   "execution_count": 23,
   "metadata": {
    "execution": {
     "iopub.execute_input": "2023-01-26T02:05:05.728828Z",
     "iopub.status.busy": "2023-01-26T02:05:05.728413Z",
     "iopub.status.idle": "2023-01-26T02:05:05.736384Z",
     "shell.execute_reply": "2023-01-26T02:05:05.735010Z",
     "shell.execute_reply.started": "2023-01-26T02:05:05.728782Z"
    },
    "tags": []
   },
   "outputs": [
    {
     "data": {
      "text/plain": [
       "1000"
      ]
     },
     "execution_count": 23,
     "metadata": {},
     "output_type": "execute_result"
    }
   ],
   "source": [
    "len(df)"
   ]
  },
  {
   "cell_type": "code",
   "execution_count": 24,
   "metadata": {
    "execution": {
     "iopub.execute_input": "2023-01-26T02:05:07.766523Z",
     "iopub.status.busy": "2023-01-26T02:05:07.766238Z",
     "iopub.status.idle": "2023-01-26T02:05:07.772386Z",
     "shell.execute_reply": "2023-01-26T02:05:07.771209Z",
     "shell.execute_reply.started": "2023-01-26T02:05:07.766496Z"
    },
    "tags": []
   },
   "outputs": [
    {
     "name": "stdout",
     "output_type": "stream",
     "text": [
      "1000000 499500\n"
     ]
    }
   ],
   "source": [
    "print (len(df)**2, len(candidate_links))"
   ]
  },
  {
   "cell_type": "code",
   "execution_count": 25,
   "metadata": {
    "execution": {
     "iopub.execute_input": "2023-01-26T02:05:14.186138Z",
     "iopub.status.busy": "2023-01-26T02:05:14.185741Z",
     "iopub.status.idle": "2023-01-26T02:05:14.192486Z",
     "shell.execute_reply": "2023-01-26T02:05:14.191236Z",
     "shell.execute_reply.started": "2023-01-26T02:05:14.186095Z"
    },
    "tags": []
   },
   "outputs": [
    {
     "name": "stdout",
     "output_type": "stream",
     "text": [
      "Computing metrics for 499500 candidate pairs\n"
     ]
    }
   ],
   "source": [
    "print('Computing metrics for {} candidate pairs'.format(len(candidate_links)))"
   ]
  },
  {
   "cell_type": "code",
   "execution_count": 26,
   "metadata": {
    "execution": {
     "iopub.execute_input": "2023-01-26T02:05:17.726882Z",
     "iopub.status.busy": "2023-01-26T02:05:17.726471Z",
     "iopub.status.idle": "2023-01-26T02:07:21.422354Z",
     "shell.execute_reply": "2023-01-26T02:07:21.421494Z",
     "shell.execute_reply.started": "2023-01-26T02:05:17.726838Z"
    },
    "tags": []
   },
   "outputs": [
    {
     "name": "stdout",
     "output_type": "stream",
     "text": [
      "processing chunk 1 of 5\n",
      "processing chunk 2 of 5\n",
      "processing chunk 3 of 5\n",
      "processing chunk 4 of 5\n",
      "processing chunk 5 of 5\n",
      "Score cut-off of 0.9 reduced candidate pairs to 724\n",
      "Merging on original dataframe and computing distance.\n"
     ]
    }
   ],
   "source": [
    "#likely to be a lot of records to match, so split into chunks\n",
    "n=math.ceil(len(candidate_links)/1E5)\n",
    "chunks=rl.index_split(candidate_links, n)\n",
    "# Comparison step\n",
    "results=[]\n",
    "#n_jobs specifies number of cores for running in parallel\n",
    "compare = rl.Compare(n_jobs=8) \n",
    "    \n",
    "compare.exact('StreetNumber', 'StreetNumber', label='StrNum_Match')\n",
    "compare.exact('PostalCode', 'PostalCode', label='PC_Match')\n",
    "\n",
    "compare.string('Address', 'Address', method='cosine',  label='Addr_CS')\n",
    "compare.string('Address', 'Address', method='lcs',  label='Addr_LCS')\n",
    "\n",
    "compare.string('StreetName', 'StreetName', method='damerau_levenshtein',  label='StrName_DL')\n",
    "compare.string('StreetName', 'StreetName', method='cosine',  label='StrName_CS')\n",
    "    \n",
    "compare.string('City', 'City',  method='damerau_levenshtein',label='City_DL')\n",
    "compare.string('Name', 'Name',  method='damerau_levenshtein',label='Name_DL')\n",
    "compare.string('Name', 'Name',  method='cosine',label='Name_CS')\n",
    "\n",
    "    \n",
    "i=0\n",
    "for chunk in chunks:\n",
    "    i+=1\n",
    "    print('processing chunk {} of {}'.format(i,n))\n",
    "\n",
    "    \n",
    "    features = compare.compute(chunk, df)\n",
    "\n",
    "    #reduce comparison matrix to entries where the name score is reasonably high\n",
    "\n",
    "    cutoff=0.9\n",
    "    features=features.loc[features.Name_CS>cutoff]\n",
    "    results.append(features)\n",
    "f=pd.concat(results)\n",
    "print('Score cut-off of {} reduced candidate pairs to {}'.format(cutoff,len(f)))\n",
    "\n",
    "f['idx1']=f.index.get_level_values(0)\n",
    "f['idx2']=f.index.get_level_values(1)\n",
    "\n",
    "print('Merging on original dataframe and computing distance.')\n",
    "f=f.merge(df,left_on='idx1',how='left',right_on='idx')\n",
    "\n",
    "f=f.merge(df,left_on='idx2',how='left',right_on='idx', suffixes=('_1','_2'))\n",
    "\n",
    "f['Distance']=np.nan\n",
    "\n",
    "# f.loc[(~f.Latitude_1.isnull())&(~f.Latitude_2.isnull()),'Distance']=f.loc[(~f.Latitude_1.isnull())&(~f.Latitude_2.isnull())].apply(lambda row: haversine(row), axis=1)\n",
    "\n",
    "f=f[['idx1',\n",
    "     'idx2',\n",
    "     'Name_1',\n",
    "     'Name_2',\n",
    "     'Name_DL',\n",
    "     'Name_CS',\n",
    "     'Addr_CS',\n",
    "     'Addr_LCS',\n",
    "     'Address_1',\n",
    "     'Address_2',\n",
    "     'StrNum_Match',\n",
    "     'StrName_DL',\n",
    "     'StrName_CS',\n",
    "     'PC_Match',\n",
    "     'Distance']]\n",
    "\n",
    "f.to_csv('{}'.format(Source[\"output_name\"]),index=False,encoding='cp1252')\n",
    "\n",
    "\n"
   ]
  },
  {
   "cell_type": "code",
   "execution_count": 27,
   "metadata": {
    "execution": {
     "iopub.execute_input": "2023-01-26T02:08:42.769851Z",
     "iopub.status.busy": "2023-01-26T02:08:42.769463Z",
     "iopub.status.idle": "2023-01-26T02:08:42.776591Z",
     "shell.execute_reply": "2023-01-26T02:08:42.775632Z",
     "shell.execute_reply.started": "2023-01-26T02:08:42.769811Z"
    }
   },
   "outputs": [
    {
     "data": {
      "text/plain": [
       "724"
      ]
     },
     "execution_count": 27,
     "metadata": {},
     "output_type": "execute_result"
    }
   ],
   "source": [
    "len(f)"
   ]
  }
 ],
 "metadata": {
  "kernelspec": {
   "display_name": "Python 3 (ipykernel)",
   "language": "python",
   "name": "python3"
  },
  "language_info": {
   "codemirror_mode": {
    "name": "ipython",
    "version": 3
   },
   "file_extension": ".py",
   "mimetype": "text/x-python",
   "name": "python",
   "nbconvert_exporter": "python",
   "pygments_lexer": "ipython3",
   "version": "3.8.12"
  }
 },
 "nbformat": 4,
 "nbformat_minor": 4
}
