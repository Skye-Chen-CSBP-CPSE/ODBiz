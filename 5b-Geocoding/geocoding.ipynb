{
 "cells": [
  {
   "cell_type": "code",
   "execution_count": 2,
   "metadata": {
    "execution": {
     "iopub.execute_input": "2022-11-21T20:45:50.160992Z",
     "iopub.status.busy": "2022-11-21T20:45:50.160664Z",
     "iopub.status.idle": "2022-11-21T20:45:50.863313Z",
     "shell.execute_reply": "2022-11-21T20:45:50.862351Z",
     "shell.execute_reply.started": "2022-11-21T20:45:50.160953Z"
    },
    "tags": []
   },
   "outputs": [
    {
     "name": "stderr",
     "output_type": "stream",
     "text": [
      "/opt/conda/lib/python3.8/site-packages/requests/__init__.py:102: RequestsDependencyWarning: urllib3 (1.26.7) or chardet (5.0.0)/charset_normalizer (2.0.9) doesn't match a supported version!\n",
      "  warnings.warn(\"urllib3 ({}) or chardet ({})/charset_normalizer ({}) doesn't match a supported \"\n"
     ]
    }
   ],
   "source": [
    "import requests\n",
    "import json\n",
    "import pandas as pd\n",
    "import numpy as np\n",
    "import time\n",
    "from os.path import exists\n",
    "from datetime import datetime"
   ]
  },
  {
   "cell_type": "code",
   "execution_count": 5,
   "metadata": {
    "execution": {
     "iopub.execute_input": "2022-11-21T20:49:36.762190Z",
     "iopub.status.busy": "2022-11-21T20:49:36.761913Z",
     "iopub.status.idle": "2022-11-21T20:49:36.770056Z",
     "shell.execute_reply": "2022-11-21T20:49:36.769263Z",
     "shell.execute_reply.started": "2022-11-21T20:49:36.762159Z"
    },
    "tags": []
   },
   "outputs": [],
   "source": [
    "# Libraries for GC API\n",
    "import os\n",
    "from dotenv import load_dotenv"
   ]
  },
  {
   "cell_type": "code",
   "execution_count": 14,
   "metadata": {
    "execution": {
     "iopub.execute_input": "2022-11-21T20:51:23.953651Z",
     "iopub.status.busy": "2022-11-21T20:51:23.953202Z",
     "iopub.status.idle": "2022-11-21T20:51:24.884179Z",
     "shell.execute_reply": "2022-11-21T20:51:24.883097Z",
     "shell.execute_reply.started": "2022-11-21T20:51:23.953595Z"
    }
   },
   "outputs": [],
   "source": [
    "import mitosheet"
   ]
  },
  {
   "cell_type": "code",
   "execution_count": 6,
   "metadata": {
    "execution": {
     "iopub.execute_input": "2022-11-21T20:49:39.472387Z",
     "iopub.status.busy": "2022-11-21T20:49:39.471968Z",
     "iopub.status.idle": "2022-11-21T20:49:39.487485Z",
     "shell.execute_reply": "2022-11-21T20:49:39.486761Z",
     "shell.execute_reply.started": "2022-11-21T20:49:39.472338Z"
    },
    "tags": []
   },
   "outputs": [],
   "source": [
    "# requires a valid key to use the GC API\n",
    "# see docs https://api.canada.ca/en/homepage \n",
    "# create a .env file in this repository and add GC_API_KEY=\"YOUR_GC_API_KEY\"\n",
    "# make sure to add .env filetype to gitignore\n",
    "load_dotenv()\n",
    "gc_key = os.environ.get(\"GC_API_KEY\")\n",
    "\n",
    "# temporarily suppresses SettingWithCopyWarning\n",
    "pd.options.mode.chained_assignment = None "
   ]
  },
  {
   "cell_type": "code",
   "execution_count": 16,
   "metadata": {
    "execution": {
     "iopub.execute_input": "2022-11-21T21:20:46.640492Z",
     "iopub.status.busy": "2022-11-21T21:20:46.640140Z",
     "iopub.status.idle": "2022-11-21T21:20:57.330625Z",
     "shell.execute_reply": "2022-11-21T21:20:57.329590Z",
     "shell.execute_reply.started": "2022-11-21T21:20:46.640447Z"
    },
    "tags": []
   },
   "outputs": [],
   "source": [
    "input_data = \"../5a-Matching/output/matched.csv\"\n",
    "df = pd.read_csv(input_data, low_memory=False, dtype=\"str\")\n",
    "df_input = df"
   ]
  },
  {
   "cell_type": "code",
   "execution_count": 8,
   "metadata": {
    "execution": {
     "iopub.execute_input": "2022-11-21T20:49:57.352135Z",
     "iopub.status.busy": "2022-11-21T20:49:57.351917Z",
     "iopub.status.idle": "2022-11-21T20:49:57.362572Z",
     "shell.execute_reply": "2022-11-21T20:49:57.361803Z",
     "shell.execute_reply.started": "2022-11-21T20:49:57.352110Z"
    },
    "tags": []
   },
   "outputs": [
    {
     "data": {
      "text/plain": [
       "803491"
      ]
     },
     "execution_count": 8,
     "metadata": {},
     "output_type": "execute_result"
    }
   ],
   "source": [
    "len(df)"
   ]
  },
  {
   "cell_type": "code",
   "execution_count": 11,
   "metadata": {
    "execution": {
     "iopub.execute_input": "2022-11-21T20:50:26.049925Z",
     "iopub.status.busy": "2022-11-21T20:50:26.049629Z",
     "iopub.status.idle": "2022-11-21T20:50:26.253822Z",
     "shell.execute_reply": "2022-11-21T20:50:26.251024Z",
     "shell.execute_reply.started": "2022-11-21T20:50:26.049892Z"
    },
    "tags": []
   },
   "outputs": [
    {
     "data": {
      "text/plain": [
       "163590"
      ]
     },
     "execution_count": 11,
     "metadata": {},
     "output_type": "execute_result"
    }
   ],
   "source": [
    "len(df[df.latitude.isna() & df.x.isna()])\n",
    "# len(df[df.latitude.isna()])"
   ]
  },
  {
   "cell_type": "code",
   "execution_count": 25,
   "metadata": {
    "execution": {
     "iopub.execute_input": "2022-11-21T21:33:20.492810Z",
     "iopub.status.busy": "2022-11-21T21:33:20.492390Z",
     "iopub.status.idle": "2022-11-21T21:33:20.519842Z",
     "shell.execute_reply": "2022-11-21T21:33:20.518982Z",
     "shell.execute_reply.started": "2022-11-21T21:33:20.492761Z"
    },
    "tags": []
   },
   "outputs": [],
   "source": [
    "sample_size = 100\n",
    "if (len(df_input) > sample_size):\n",
    "    df = df_input.sample(sample_size)\n",
    "else:\n",
    "    sample_size = len(df)"
   ]
  },
  {
   "cell_type": "code",
   "execution_count": 28,
   "metadata": {
    "execution": {
     "iopub.execute_input": "2022-10-03T19:44:52.477017Z",
     "iopub.status.busy": "2022-10-03T19:44:52.476693Z",
     "iopub.status.idle": "2022-10-03T19:44:52.480835Z",
     "shell.execute_reply": "2022-10-03T19:44:52.479752Z",
     "shell.execute_reply.started": "2022-10-03T19:44:52.476985Z"
    },
    "tags": []
   },
   "outputs": [],
   "source": [
    "# we need to geocode if a results has na for latitude AND has ratio < 80 OR ratio na\n",
    "\n",
    "# ok how to get started with geocoding. \n",
    "# let's just test the bing script\n",
    "\n"
   ]
  },
  {
   "cell_type": "code",
   "execution_count": 26,
   "metadata": {
    "execution": {
     "iopub.execute_input": "2022-11-21T21:33:23.970301Z",
     "iopub.status.busy": "2022-11-21T21:33:23.969901Z",
     "iopub.status.idle": "2022-11-21T21:33:23.997157Z",
     "shell.execute_reply": "2022-11-21T21:33:23.996248Z",
     "shell.execute_reply.started": "2022-11-21T21:33:23.970257Z"
    },
    "tags": []
   },
   "outputs": [
    {
     "data": {
      "application/vnd.jupyter.widget-view+json": {
       "model_id": "86f39e77bec6471d94b3d14b32d86156",
       "version_major": 2,
       "version_minor": 0
      },
      "text/plain": [
       "MitoWidget(analysis_data_json='{\"analysisName\": \"id-rmmopdyskz\", \"analysisToReplay\": null, \"code\": [], \"stepSu…"
      ]
     },
     "metadata": {},
     "output_type": "display_data"
    }
   ],
   "source": [
    "mitosheet.sheet(df, analysis_to_replay=\"id-rmmopdyskz\")"
   ]
  },
  {
   "cell_type": "code",
   "execution_count": null,
   "metadata": {},
   "outputs": [],
   "source": [
    "from mitosheet import *; register_analysis(\"id-rmmopdyskz\");\n",
    "    \n",
    "# Reordered column keep_match\n",
    "df_columns = [col for col in df.columns if col != 'keep_match']\n",
    "df_columns.insert(51, 'keep_match')\n",
    "df = df[df_columns]\n"
   ]
  },
  {
   "cell_type": "code",
   "execution_count": null,
   "metadata": {},
   "outputs": [],
   "source": [
    "from mitosheet import *; register_analysis(\"id-heawxepiyk\");\n",
    "    \n",
    "# Reordered column keep_match\n",
    "df_columns = [col for col in df.columns if col != 'keep_match']\n",
    "df_columns.insert(51, 'keep_match')\n",
    "df = df[df_columns]\n"
   ]
  },
  {
   "cell_type": "code",
   "execution_count": 8,
   "metadata": {
    "execution": {
     "iopub.execute_input": "2022-11-03T20:44:03.815185Z",
     "iopub.status.busy": "2022-11-03T20:44:03.814832Z",
     "iopub.status.idle": "2022-11-03T20:44:03.818623Z",
     "shell.execute_reply": "2022-11-03T20:44:03.817932Z",
     "shell.execute_reply.started": "2022-11-03T20:44:03.815148Z"
    },
    "tags": []
   },
   "outputs": [],
   "source": [
    "# define parameters for osm api call\n",
    "url_gc = 'https://national-address-register-statcan.api.canada.ca:443/v1/addresses/search'\n",
    "\n",
    "JSONS = []\n",
    "JSONS_CITIES = []"
   ]
  },
  {
   "cell_type": "code",
   "execution_count": 15,
   "metadata": {
    "execution": {
     "iopub.execute_input": "2022-11-03T20:47:36.466188Z",
     "iopub.status.busy": "2022-11-03T20:47:36.465880Z",
     "iopub.status.idle": "2022-11-03T20:47:36.473640Z",
     "shell.execute_reply": "2022-11-03T20:47:36.472912Z",
     "shell.execute_reply.started": "2022-11-03T20:47:36.466157Z"
    },
    "tags": []
   },
   "outputs": [],
   "source": [
    "# clean dataset for queries\n",
    "df.fillna('', inplace=True)\n",
    "\n",
    "# define api query\n",
    "df['gc_request_street'] = df['street_no'] + ', ' + df['street_name'] + ', ' + df['city'] + ', ' + df['province']\n",
    "reqs_gc = list(df['gc_request_street'])"
   ]
  },
  {
   "cell_type": "code",
   "execution_count": null,
   "metadata": {},
   "outputs": [],
   "source": [
    "# Filter to only do geocoding on specific results\n",
    "\n",
    "# no lat lon\n",
    "# has well parsed address\n",
    "# hasn't already been geocoded - use idx"
   ]
  },
  {
   "cell_type": "code",
   "execution_count": null,
   "metadata": {
    "tags": []
   },
   "outputs": [],
   "source": [
    "df['gc_request_street']"
   ]
  },
  {
   "cell_type": "code",
   "execution_count": null,
   "metadata": {},
   "outputs": [],
   "source": [
    "# define query\n",
    "def gc_query(query, query_type):\n",
    "    # set interval for requests\n",
    "    time.sleep(3) \n",
    "    coords = requests.get(url, params=params, headers=headers)\n",
    "    print(\"osm query \" + query_type + \": \" + query)\n",
    "    coords_gc = requests.get(url_gc, params=params_gc, headers=headers_gc)\n",
    "    return coords.json()"
   ]
  },
  {
   "cell_type": "code",
   "execution_count": 29,
   "metadata": {
    "execution": {
     "iopub.execute_input": "2022-11-03T20:53:29.864249Z",
     "iopub.status.busy": "2022-11-03T20:53:29.863954Z",
     "iopub.status.idle": "2022-11-03T20:54:07.308233Z",
     "shell.execute_reply": "2022-11-03T20:54:07.307370Z",
     "shell.execute_reply.started": "2022-11-03T20:53:29.864221Z"
    },
    "tags": []
   },
   "outputs": [
    {
     "name": "stdout",
     "output_type": "stream",
     "text": [
      "1: 2963, ELLINGTON AVE, Prince George, BC\n",
      "<Response [200]>\n",
      "[3] gc street address found\n",
      "{'meta': {'prepared': '2022-11-03T20:53:40.7290826+00:00', 'test': False, 'contentLanguage': ['en', 'fr']}, 'search': {'searchStyle': 'simple', 'criteria': 'Query: 2963, ELLINGTON AVE, Prince George, BC  ', 'total': 1}, 'data': [{'addressId': '0d1eddc8-1fcc-4e36-bbb8-2308349d906f', 'civicNumber': {'prefix': None, 'number': '2963', 'suffix': {'code': None}}, 'streetName': 'Ellington', 'streetType': {'code': 'AVE'}, 'streetDirection': {'code': None}, 'cityName': {'en': 'Prince George', 'fr': 'Prince George'}, 'province': {'code': '59'}, 'country': {'code': 'CA', 'name': {'en': 'Canada', 'fr': 'Canada'}}, 'mailingAddress': {'streetName': 'ELLINGTON', 'streetType': {'code': 'AVE'}, 'streetDirection': {'code': None}, 'municipalityName': 'PRINCE GEORGE', 'province': {'code': 'BC'}, 'country': {'code': 'CA', 'name': {'en': 'Canada', 'fr': 'Canada'}}, 'postalCode': 'V2N0G4'}, 'location': {'locationID': 'dceeb72f-9c9b-49e7-a3b2-01b2c925e1ec', 'geoCoordinates': {'latitude': 53.881174, 'longitude': -122.787028}, 'geographies': [{'codes': {'code': '59004', 'name': {'en': 'Cariboo--Prince George', 'fr': 'Cariboo--Prince George'}}, 'source': 'FED_2016', 'geographicType': 'FED'}, {'codes': {'code': '5950', 'name': {'en': 'Cariboo', 'fr': 'Cariboo'}}, 'source': 'ER_2016', 'geographicType': 'ER'}, {'codes': {'code': '5953023', 'name': {'en': 'Prince George', 'fr': 'Prince George'}}, 'source': 'CSD_2016', 'geographicType': 'CSD'}]}}]}\n",
      "\n",
      "\n",
      "2: , , Edmonton, AB\n",
      "<Response [200]>\n",
      "[3] gc street address found\n",
      "{'meta': {'prepared': '2022-11-03T20:53:47.2642139+00:00', 'test': False, 'contentLanguage': ['en', 'fr']}, 'search': {'searchStyle': 'simple', 'criteria': 'Query: , , Edmonton, AB  ', 'total': 393876}, 'data': [{'addressId': 'ec3ed3c4-1ddb-457a-9964-1a523cc8d805', 'civicNumber': {'prefix': None, 'number': '413', 'suffix': {'code': None}}, 'streetName': 'Southridge', 'streetType': {'code': None}, 'streetDirection': {'code': 'NW'}, 'cityName': {'en': 'Edmonton', 'fr': 'Edmonton'}, 'province': {'code': '48'}, 'country': {'code': 'CA', 'name': {'en': 'Canada', 'fr': 'Canada'}}, 'mailingAddress': {'streetName': 'SOUTHRIDGE', 'streetType': {'code': None}, 'streetDirection': {'code': 'NW'}, 'municipalityName': 'EDMONTON', 'province': {'code': 'AB'}, 'country': {'code': 'CA', 'name': {'en': 'Canada', 'fr': 'Canada'}}, 'postalCode': 'T6H5G1'}, 'location': {'locationID': 'e8a9ef59-384a-4a39-a75e-12380aab1daf', 'geoCoordinates': {'latitude': 53.481408, 'longitude': -113.49893}, 'geographies': [{'codes': {'code': '48019', 'name': {'en': 'Edmonton Strathcona', 'fr': 'Edmonton Strathcona'}}, 'source': 'FED_2016', 'geographicType': 'FED'}, {'codes': {'code': '4860', 'name': {'en': 'Edmonton', 'fr': 'Edmonton'}}, 'source': 'ER_2016', 'geographicType': 'ER'}, {'codes': {'code': '4811061', 'name': {'en': 'Edmonton', 'fr': 'Edmonton'}}, 'source': 'CSD_2016', 'geographicType': 'CSD'}]}}, {'addressId': '02c4b194-8676-4e87-a67e-4499d40f128d', 'civicNumber': {'prefix': None, 'number': '4211', 'suffix': {'code': None}}, 'streetName': 'Winterburn', 'streetType': {'code': 'RD'}, 'streetDirection': {'code': None}, 'cityName': {'en': 'Edmonton', 'fr': 'Edmonton'}, 'province': {'code': '48'}, 'country': {'code': 'CA', 'name': {'en': 'Canada', 'fr': 'Canada'}}, 'mailingAddress': {'streetName': '215', 'streetType': {'code': 'ST'}, 'streetDirection': {'code': 'NW'}, 'municipalityName': 'EDMONTON', 'province': {'code': 'AB'}, 'country': {'code': 'CA', 'name': {'en': 'Canada', 'fr': 'Canada'}}, 'postalCode': 'T6M2P3'}, 'location': {'locationID': 'e4642b89-4510-4af0-8cf2-127edd7b2344', 'geoCoordinates': {'latitude': 53.4797, 'longitude': -113.688798}, 'geographies': [{'codes': {'code': '48020', 'name': {'en': 'Edmonton West', 'fr': 'Edmonton-Ouest'}}, 'source': 'FED_2016', 'geographicType': 'FED'}, {'codes': {'code': '4860', 'name': {'en': 'Edmonton', 'fr': 'Edmonton'}}, 'source': 'ER_2016', 'geographicType': 'ER'}, {'codes': {'code': '4811061', 'name': {'en': 'Edmonton', 'fr': 'Edmonton'}}, 'source': 'CSD_2016', 'geographicType': 'CSD'}]}}, {'addressId': '374e4204-8aac-4c73-a8ee-64640c0243d8', 'civicNumber': {'prefix': None, 'number': '28', 'suffix': {'code': None}}, 'streetName': 'Sundance', 'streetType': {'code': None}, 'streetDirection': {'code': 'NW'}, 'cityName': {'en': 'Edmonton', 'fr': 'Edmonton'}, 'province': {'code': '48'}, 'country': {'code': 'CA', 'name': {'en': 'Canada', 'fr': 'Canada'}}, 'mailingAddress': {'streetName': 'SUNDANCE', 'streetType': {'code': None}, 'streetDirection': {'code': 'NW'}, 'municipalityName': 'EDMONTON', 'province': {'code': 'AB'}, 'country': {'code': 'CA', 'name': {'en': 'Canada', 'fr': 'Canada'}}, 'postalCode': 'T5H4B4'}, 'location': {'locationID': '4f4731c1-b2b3-4046-b8b4-128f1ec3a8ab', 'geoCoordinates': {'latitude': 53.543338, 'longitude': -113.465523}, 'geographies': [{'codes': {'code': '48019', 'name': {'en': 'Edmonton Strathcona', 'fr': 'Edmonton Strathcona'}}, 'source': 'FED_2016', 'geographicType': 'FED'}, {'codes': {'code': '4860', 'name': {'en': 'Edmonton', 'fr': 'Edmonton'}}, 'source': 'ER_2016', 'geographicType': 'ER'}, {'codes': {'code': '4811061', 'name': {'en': 'Edmonton', 'fr': 'Edmonton'}}, 'source': 'CSD_2016', 'geographicType': 'CSD'}]}}, {'addressId': '91a6e32c-c9d8-49e9-84de-48c977ea82ea', 'civicNumber': {'prefix': None, 'number': '187', 'suffix': {'code': None}}, 'streetName': 'Southridge', 'streetType': {'code': None}, 'streetDirection': {'code': 'NW'}, 'cityName': {'en': 'Edmonton', 'fr': 'Edmonton'}, 'province': {'code': '48'}, 'country': {'code': 'CA', 'name': {'en': 'Canada', 'fr': 'Canada'}}, 'mailingAddress': {'streetName': 'SOUTHRIDGE', 'streetType': {'code': None}, 'streetDirection': {'code': 'NW'}, 'municipalityName': 'EDMONTON', 'province': {'code': 'AB'}, 'country': {'code': 'CA', 'name': {'en': 'Canada', 'fr': 'Canada'}}, 'postalCode': 'T6H4M9'}, 'location': {'locationID': '0278ae8d-9e48-43db-8455-12d5db07e19c', 'geoCoordinates': {'latitude': 53.481649, 'longitude': -113.501076}, 'geographies': [{'codes': {'code': '48019', 'name': {'en': 'Edmonton Strathcona', 'fr': 'Edmonton Strathcona'}}, 'source': 'FED_2016', 'geographicType': 'FED'}, {'codes': {'code': '4860', 'name': {'en': 'Edmonton', 'fr': 'Edmonton'}}, 'source': 'ER_2016', 'geographicType': 'ER'}, {'codes': {'code': '4811061', 'name': {'en': 'Edmonton', 'fr': 'Edmonton'}}, 'source': 'CSD_2016', 'geographicType': 'CSD'}]}}, {'addressId': '3c6c4759-631f-44e9-839b-d2cba6d5f141', 'civicNumber': {'prefix': None, 'number': '291', 'suffix': {'code': None}}, 'streetName': 'Southridge', 'streetType': {'code': None}, 'streetDirection': {'code': 'NW'}, 'cityName': {'en': 'Edmonton', 'fr': 'Edmonton'}, 'province': {'code': '48'}, 'country': {'code': 'CA', 'name': {'en': 'Canada', 'fr': 'Canada'}}, 'mailingAddress': {'streetName': 'SOUTHRIDGE', 'streetType': {'code': None}, 'streetDirection': {'code': 'NW'}, 'municipalityName': 'EDMONTON', 'province': {'code': 'AB'}, 'country': {'code': 'CA', 'name': {'en': 'Canada', 'fr': 'Canada'}}, 'postalCode': 'T6H4M9'}, 'location': {'locationID': '3aab4e57-7398-4e95-bc09-12257e9858f4', 'geoCoordinates': {'latitude': 53.481637, 'longitude': -113.501573}, 'geographies': [{'codes': {'code': '48019', 'name': {'en': 'Edmonton Strathcona', 'fr': 'Edmonton Strathcona'}}, 'source': 'FED_2016', 'geographicType': 'FED'}, {'codes': {'code': '4860', 'name': {'en': 'Edmonton', 'fr': 'Edmonton'}}, 'source': 'ER_2016', 'geographicType': 'ER'}, {'codes': {'code': '4811061', 'name': {'en': 'Edmonton', 'fr': 'Edmonton'}}, 'source': 'CSD_2016', 'geographicType': 'CSD'}]}}, {'addressId': '75276baa-4fda-4156-af13-640cca58e9ad', 'civicNumber': {'prefix': None, 'number': '179', 'suffix': {'code': None}}, 'streetName': 'Woodstock', 'streetType': {'code': None}, 'streetDirection': {'code': 'NW'}, 'cityName': {'en': 'Edmonton', 'fr': 'Edmonton'}, 'province': {'code': '48'}, 'country': {'code': 'CA', 'name': {'en': 'Canada', 'fr': 'Canada'}}, 'mailingAddress': {'streetName': 'WOODSTOCK', 'streetType': {'code': None}, 'streetDirection': {'code': 'NW'}, 'municipalityName': 'EDMONTON', 'province': {'code': 'AB'}, 'country': {'code': 'CA', 'name': {'en': 'Canada', 'fr': 'Canada'}}, 'postalCode': 'T5T0H6'}, 'location': {'locationID': '3650ce0d-9c1a-4005-9eb5-124244aa63cc', 'geoCoordinates': {'latitude': 53.509529, 'longitude': -113.617582}, 'geographies': [{'codes': {'code': '48020', 'name': {'en': 'Edmonton West', 'fr': 'Edmonton-Ouest'}}, 'source': 'FED_2016', 'geographicType': 'FED'}, {'codes': {'code': '4860', 'name': {'en': 'Edmonton', 'fr': 'Edmonton'}}, 'source': 'ER_2016', 'geographicType': 'ER'}, {'codes': {'code': '4811061', 'name': {'en': 'Edmonton', 'fr': 'Edmonton'}}, 'source': 'CSD_2016', 'geographicType': 'CSD'}]}}, {'addressId': '24bbf228-1ab0-4419-95aa-1435cd7d7bd8', 'civicNumber': {'prefix': None, 'number': '49', 'suffix': {'code': None}}, 'streetName': 'Sundance', 'streetType': {'code': None}, 'streetDirection': {'code': 'NW'}, 'cityName': {'en': 'Edmonton', 'fr': 'Edmonton'}, 'province': {'code': '48'}, 'country': {'code': 'CA', 'name': {'en': 'Canada', 'fr': 'Canada'}}, 'mailingAddress': {'streetName': 'SUNDANCE', 'streetType': {'code': None}, 'streetDirection': {'code': 'NW'}, 'municipalityName': 'EDMONTON', 'province': {'code': 'AB'}, 'country': {'code': 'CA', 'name': {'en': 'Canada', 'fr': 'Canada'}}, 'postalCode': 'T5H4B4'}, 'location': {'locationID': 'db32d549-b155-4fd0-9591-13038c2e9dd5', 'geoCoordinates': {'latitude': 53.543299, 'longitude': -113.465224}, 'geographies': [{'codes': {'code': '48019', 'name': {'en': 'Edmonton Strathcona', 'fr': 'Edmonton Strathcona'}}, 'source': 'FED_2016', 'geographicType': 'FED'}, {'codes': {'code': '4860', 'name': {'en': 'Edmonton', 'fr': 'Edmonton'}}, 'source': 'ER_2016', 'geographicType': 'ER'}, {'codes': {'code': '4811061', 'name': {'en': 'Edmonton', 'fr': 'Edmonton'}}, 'source': 'CSD_2016', 'geographicType': 'CSD'}]}}, {'addressId': '377cdbaf-aca3-4229-b041-aba9bbb8d937', 'civicNumber': {'prefix': None, 'number': '51', 'suffix': {'code': None}}, 'streetName': 'Hearthstone', 'streetType': {'code': None}, 'streetDirection': {'code': 'NW'}, 'cityName': {'en': 'Edmonton', 'fr': 'Edmonton'}, 'province': {'code': '48'}, 'country': {'code': 'CA', 'name': {'en': 'Canada', 'fr': 'Canada'}}, 'mailingAddress': {'streetName': 'HEARTHSTONE', 'streetType': {'code': None}, 'streetDirection': {'code': 'NW'}, 'municipalityName': 'EDMONTON', 'province': {'code': 'AB'}, 'country': {'code': 'CA', 'name': {'en': 'Canada', 'fr': 'Canada'}}, 'postalCode': 'T6H5E5'}, 'location': {'locationID': 'e73bdded-8f4c-4af1-a050-0fcd31aebe22', 'geoCoordinates': {'latitude': 53.49586, 'longitude': -113.580616}, 'geographies': [{'codes': {'code': '48018', 'name': {'en': 'Edmonton Riverbend', 'fr': 'Edmonton Riverbend'}}, 'source': 'FED_2016', 'geographicType': 'FED'}, {'codes': {'code': '4860', 'name': {'en': 'Edmonton', 'fr': 'Edmonton'}}, 'source': 'ER_2016', 'geographicType': 'ER'}, {'codes': {'code': '4811061', 'name': {'en': 'Edmonton', 'fr': 'Edmonton'}}, 'source': 'CSD_2016', 'geographicType': 'CSD'}]}}, {'addressId': '24d2ff00-297a-440d-b8d8-edf221905687', 'civicNumber': {'prefix': None, 'number': '2837', 'suffix': {'code': None}}, 'streetName': 'Lakeside', 'streetType': {'code': 'CLOSE'}, 'streetDirection': {'code': None}, 'cityName': {'en': 'Edmonton', 'fr': 'Edmonton'}, 'province': {'code': '48'}, 'country': {'code': 'CA', 'name': {'en': 'Canada', 'fr': 'Canada'}}, 'mailingAddress': {'streetName': 'LAKESIDE', 'streetType': {'code': 'CLOSE'}, 'streetDirection': {'code': 'NW'}, 'municipalityName': 'EDMONTON', 'province': {'code': 'AB'}, 'country': {'code': 'CA', 'name': {'en': 'Canada', 'fr': 'Canada'}}, 'postalCode': 'T5S1T7'}, 'location': {'locationID': 'ac71e672-e42a-4caf-9187-0fef91155b76', 'geoCoordinates': {'latitude': 53.548769, 'longitude': -113.69762}, 'geographies': [{'codes': {'code': '48020', 'name': {'en': 'Edmonton West', 'fr': 'Edmonton-Ouest'}}, 'source': 'FED_2016', 'geographicType': 'FED'}, {'codes': {'code': '4860', 'name': {'en': 'Edmonton', 'fr': 'Edmonton'}}, 'source': 'ER_2016', 'geographicType': 'ER'}, {'codes': {'code': '4811061', 'name': {'en': 'Edmonton', 'fr': 'Edmonton'}}, 'source': 'CSD_2016', 'geographicType': 'CSD'}]}}, {'addressId': '0fd1bb79-5a37-498c-9faa-b80115bf5b78', 'civicNumber': {'prefix': None, 'number': '624', 'suffix': {'code': None}}, 'streetName': 'Southridge', 'streetType': {'code': None}, 'streetDirection': {'code': 'NW'}, 'cityName': {'en': 'Edmonton', 'fr': 'Edmonton'}, 'province': {'code': '48'}, 'country': {'code': 'CA', 'name': {'en': 'Canada', 'fr': 'Canada'}}, 'mailingAddress': {'streetName': 'SOUTHRIDGE', 'streetType': {'code': None}, 'streetDirection': {'code': 'NW'}, 'municipalityName': 'EDMONTON', 'province': {'code': 'AB'}, 'country': {'code': 'CA', 'name': {'en': 'Canada', 'fr': 'Canada'}}, 'postalCode': 'T6H5G1'}, 'location': {'locationID': 'cd0fb103-ee32-4351-8278-1032549c668e', 'geoCoordinates': {'latitude': 53.481649, 'longitude': -113.501076}, 'geographies': [{'codes': {'code': '48019', 'name': {'en': 'Edmonton Strathcona', 'fr': 'Edmonton Strathcona'}}, 'source': 'FED_2016', 'geographicType': 'FED'}, {'codes': {'code': '4860', 'name': {'en': 'Edmonton', 'fr': 'Edmonton'}}, 'source': 'ER_2016', 'geographicType': 'ER'}, {'codes': {'code': '4811061', 'name': {'en': 'Edmonton', 'fr': 'Edmonton'}}, 'source': 'CSD_2016', 'geographicType': 'CSD'}]}}, {'addressId': 'd9fca7cd-e214-4c49-8539-007fd31d4a24', 'civicNumber': {'prefix': None, 'number': '518', 'suffix': {'code': None}}, 'streetName': 'Southridge', 'streetType': {'code': None}, 'streetDirection': {'code': 'NW'}, 'cityName': {'en': 'Edmonton', 'fr': 'Edmonton'}, 'province': {'code': '48'}, 'country': {'code': 'CA', 'name': {'en': 'Canada', 'fr': 'Canada'}}, 'mailingAddress': {'streetName': 'SOUTHRIDGE', 'streetType': {'code': None}, 'streetDirection': {'code': 'NW'}, 'municipalityName': 'EDMONTON', 'province': {'code': 'AB'}, 'country': {'code': 'CA', 'name': {'en': 'Canada', 'fr': 'Canada'}}, 'postalCode': 'T6H5G1'}, 'location': {'locationID': '82f7442c-7149-428d-8087-0fcc2386871c', 'geoCoordinates': {'latitude': 53.481649, 'longitude': -113.501076}, 'geographies': [{'codes': {'code': '48019', 'name': {'en': 'Edmonton Strathcona', 'fr': 'Edmonton Strathcona'}}, 'source': 'FED_2016', 'geographicType': 'FED'}, {'codes': {'code': '4860', 'name': {'en': 'Edmonton', 'fr': 'Edmonton'}}, 'source': 'ER_2016', 'geographicType': 'ER'}, {'codes': {'code': '4811061', 'name': {'en': 'Edmonton', 'fr': 'Edmonton'}}, 'source': 'CSD_2016', 'geographicType': 'CSD'}]}}, {'addressId': '8f3d5362-9a77-4972-9f0e-5c26ed3caba7', 'civicNumber': {'prefix': None, 'number': '223', 'suffix': {'code': None}}, 'streetName': 'Southridge', 'streetType': {'code': None}, 'streetDirection': {'code': 'NW'}, 'cityName': {'en': 'Edmonton', 'fr': 'Edmonton'}, 'province': {'code': '48'}, 'country': {'code': 'CA', 'name': {'en': 'Canada', 'fr': 'Canada'}}, 'mailingAddress': {'streetName': 'SOUTHRIDGE', 'streetType': {'code': None}, 'streetDirection': {'code': 'NW'}, 'municipalityName': 'EDMONTON', 'province': {'code': 'AB'}, 'country': {'code': 'CA', 'name': {'en': 'Canada', 'fr': 'Canada'}}, 'postalCode': 'T6H4M9'}, 'location': {'locationID': '42296427-e165-434f-979e-135f08dcbf6e', 'geoCoordinates': {'latitude': 53.481649, 'longitude': -113.501076}, 'geographies': [{'codes': {'code': '48019', 'name': {'en': 'Edmonton Strathcona', 'fr': 'Edmonton Strathcona'}}, 'source': 'FED_2016', 'geographicType': 'FED'}, {'codes': {'code': '4860', 'name': {'en': 'Edmonton', 'fr': 'Edmonton'}}, 'source': 'ER_2016', 'geographicType': 'ER'}, {'codes': {'code': '4811061', 'name': {'en': 'Edmonton', 'fr': 'Edmonton'}}, 'source': 'CSD_2016', 'geographicType': 'CSD'}]}}, {'addressId': '333a9c58-b0f7-4745-8f14-d8b78f067f7c', 'civicNumber': {'prefix': None, 'number': '2964', 'suffix': {'code': None}}, 'streetName': 'Lakewood', 'streetType': {'code': 'DR'}, 'streetDirection': {'code': None}, 'cityName': {'en': 'Edmonton', 'fr': 'Edmonton'}, 'province': {'code': '48'}, 'country': {'code': 'CA', 'name': {'en': 'Canada', 'fr': 'Canada'}}, 'mailingAddress': {'streetName': 'LAKEWOOD', 'streetType': {'code': 'DR'}, 'streetDirection': {'code': 'NW'}, 'municipalityName': 'EDMONTON', 'province': {'code': 'AB'}, 'country': {'code': 'CA', 'name': {'en': 'Canada', 'fr': 'Canada'}}, 'postalCode': 'T5S1T7'}, 'location': {'locationID': '74287140-8fc3-4860-9090-13c2c6368333', 'geoCoordinates': {'latitude': None, 'longitude': None}, 'geographies': [{'codes': {'code': '48020', 'name': {'en': 'Edmonton West', 'fr': 'Edmonton-Ouest'}}, 'source': 'FED_2016', 'geographicType': 'FED'}, {'codes': {'code': '4860', 'name': {'en': 'Edmonton', 'fr': 'Edmonton'}}, 'source': 'ER_2016', 'geographicType': 'ER'}, {'codes': {'code': '4811061', 'name': {'en': 'Edmonton', 'fr': 'Edmonton'}}, 'source': 'CSD_2016', 'geographicType': 'CSD'}]}}, {'addressId': '2a007208-c529-40e1-bb0c-0b6b64aabd59', 'civicNumber': {'prefix': None, 'number': '314', 'suffix': {'code': None}}, 'streetName': 'Southridge', 'streetType': {'code': None}, 'streetDirection': {'code': 'NW'}, 'cityName': {'en': 'Edmonton', 'fr': 'Edmonton'}, 'province': {'code': '48'}, 'country': {'code': 'CA', 'name': {'en': 'Canada', 'fr': 'Canada'}}, 'mailingAddress': {'streetName': 'SOUTHRIDGE', 'streetType': {'code': None}, 'streetDirection': {'code': 'NW'}, 'municipalityName': 'EDMONTON', 'province': {'code': 'AB'}, 'country': {'code': 'CA', 'name': {'en': 'Canada', 'fr': 'Canada'}}, 'postalCode': 'T6H4M9'}, 'location': {'locationID': '6992c694-d7cd-4b99-8def-13834841c424', 'geoCoordinates': {'latitude': 53.481561, 'longitude': -113.500768}, 'geographies': [{'codes': {'code': '48019', 'name': {'en': 'Edmonton Strathcona', 'fr': 'Edmonton Strathcona'}}, 'source': 'FED_2016', 'geographicType': 'FED'}, {'codes': {'code': '4860', 'name': {'en': 'Edmonton', 'fr': 'Edmonton'}}, 'source': 'ER_2016', 'geographicType': 'ER'}, {'codes': {'code': '4811061', 'name': {'en': 'Edmonton', 'fr': 'Edmonton'}}, 'source': 'CSD_2016', 'geographicType': 'CSD'}]}}, {'addressId': 'c6fe6a99-8006-4113-bea3-17ff53f36d72', 'civicNumber': {'prefix': None, 'number': '177', 'suffix': {'code': None}}, 'streetName': 'Hearthstone', 'streetType': {'code': None}, 'streetDirection': {'code': 'NW'}, 'cityName': {'en': 'Edmonton', 'fr': 'Edmonton'}, 'province': {'code': '48'}, 'country': {'code': 'CA', 'name': {'en': 'Canada', 'fr': 'Canada'}}, 'mailingAddress': {'streetName': 'HEARTHSTONE', 'streetType': {'code': None}, 'streetDirection': {'code': 'NW'}, 'municipalityName': 'EDMONTON', 'province': {'code': 'AB'}, 'country': {'code': 'CA', 'name': {'en': 'Canada', 'fr': 'Canada'}}, 'postalCode': 'T6H5E5'}, 'location': {'locationID': 'dcce583d-6afc-4682-a290-13d50cdf3d52', 'geoCoordinates': {'latitude': 53.495709, 'longitude': -113.58228}, 'geographies': [{'codes': {'code': '48018', 'name': {'en': 'Edmonton Riverbend', 'fr': 'Edmonton Riverbend'}}, 'source': 'FED_2016', 'geographicType': 'FED'}, {'codes': {'code': '4860', 'name': {'en': 'Edmonton', 'fr': 'Edmonton'}}, 'source': 'ER_2016', 'geographicType': 'ER'}, {'codes': {'code': '4811061', 'name': {'en': 'Edmonton', 'fr': 'Edmonton'}}, 'source': 'CSD_2016', 'geographicType': 'CSD'}]}}, {'addressId': '708c33ed-9226-4ebf-bb0f-71715eda5de8', 'civicNumber': {'prefix': None, 'number': '123', 'suffix': {'code': None}}, 'streetName': 'Woodstock', 'streetType': {'code': None}, 'streetDirection': {'code': 'NW'}, 'cityName': {'en': 'Edmonton', 'fr': 'Edmonton'}, 'province': {'code': '48'}, 'country': {'code': 'CA', 'name': {'en': 'Canada', 'fr': 'Canada'}}, 'mailingAddress': {'streetName': 'WOODSTOCK', 'streetType': {'code': None}, 'streetDirection': {'code': 'NW'}, 'municipalityName': 'EDMONTON', 'province': {'code': 'AB'}, 'country': {'code': 'CA', 'name': {'en': 'Canada', 'fr': 'Canada'}}, 'postalCode': 'T5T0H6'}, 'location': {'locationID': '6cee2707-3da8-4f2b-92d5-104af86ebe89', 'geoCoordinates': {'latitude': 53.509505, 'longitude': -113.616723}, 'geographies': [{'codes': {'code': '48020', 'name': {'en': 'Edmonton West', 'fr': 'Edmonton-Ouest'}}, 'source': 'FED_2016', 'geographicType': 'FED'}, {'codes': {'code': '4860', 'name': {'en': 'Edmonton', 'fr': 'Edmonton'}}, 'source': 'ER_2016', 'geographicType': 'ER'}, {'codes': {'code': '4811061', 'name': {'en': 'Edmonton', 'fr': 'Edmonton'}}, 'source': 'CSD_2016', 'geographicType': 'CSD'}]}}, {'addressId': '3fb0d423-c334-401e-b57d-9869b987da32', 'civicNumber': {'prefix': None, 'number': '2813', 'suffix': {'code': None}}, 'streetName': 'Lakeside', 'streetType': {'code': 'CRES'}, 'streetDirection': {'code': None}, 'cityName': {'en': 'Edmonton', 'fr': 'Edmonton'}, 'province': {'code': '48'}, 'country': {'code': 'CA', 'name': {'en': 'Canada', 'fr': 'Canada'}}, 'mailingAddress': {'streetName': 'LAKESIDE', 'streetType': {'code': 'CRES'}, 'streetDirection': {'code': 'NW'}, 'municipalityName': 'EDMONTON', 'province': {'code': 'AB'}, 'country': {'code': 'CA', 'name': {'en': 'Canada', 'fr': 'Canada'}}, 'postalCode': 'T5S1T7'}, 'location': {'locationID': '8d5295f1-6b51-4f41-9a15-108f8bbf34b3', 'geoCoordinates': {'latitude': 53.548762, 'longitude': -113.695305}, 'geographies': [{'codes': {'code': '48020', 'name': {'en': 'Edmonton West', 'fr': 'Edmonton-Ouest'}}, 'source': 'FED_2016', 'geographicType': 'FED'}, {'codes': {'code': '4860', 'name': {'en': 'Edmonton', 'fr': 'Edmonton'}}, 'source': 'ER_2016', 'geographicType': 'ER'}, {'codes': {'code': '4811061', 'name': {'en': 'Edmonton', 'fr': 'Edmonton'}}, 'source': 'CSD_2016', 'geographicType': 'CSD'}]}}, {'addressId': '0de49ead-edd3-47db-bcb1-011590c3f27e', 'civicNumber': {'prefix': None, 'number': '61', 'suffix': {'code': None}}, 'streetName': 'Hearthstone', 'streetType': {'code': None}, 'streetDirection': {'code': 'NW'}, 'cityName': {'en': 'Edmonton', 'fr': 'Edmonton'}, 'province': {'code': '48'}, 'country': {'code': 'CA', 'name': {'en': 'Canada', 'fr': 'Canada'}}, 'mailingAddress': {'streetName': 'HEARTHSTONE', 'streetType': {'code': None}, 'streetDirection': {'code': 'NW'}, 'municipalityName': 'EDMONTON', 'province': {'code': 'AB'}, 'country': {'code': 'CA', 'name': {'en': 'Canada', 'fr': 'Canada'}}, 'postalCode': 'T6H5E5'}, 'location': {'locationID': '9aa89428-3383-4258-8eea-10f6c8deb802', 'geoCoordinates': {'latitude': 53.495808, 'longitude': -113.580439}, 'geographies': [{'codes': {'code': '48018', 'name': {'en': 'Edmonton Riverbend', 'fr': 'Edmonton Riverbend'}}, 'source': 'FED_2016', 'geographicType': 'FED'}, {'codes': {'code': '4860', 'name': {'en': 'Edmonton', 'fr': 'Edmonton'}}, 'source': 'ER_2016', 'geographicType': 'ER'}, {'codes': {'code': '4811061', 'name': {'en': 'Edmonton', 'fr': 'Edmonton'}}, 'source': 'CSD_2016', 'geographicType': 'CSD'}]}}, {'addressId': 'f1862d4c-a0b8-4aae-88d8-6599a5218f09', 'civicNumber': {'prefix': None, 'number': '287', 'suffix': {'code': None}}, 'streetName': 'Southridge', 'streetType': {'code': None}, 'streetDirection': {'code': 'NW'}, 'cityName': {'en': 'Edmonton', 'fr': 'Edmonton'}, 'province': {'code': '48'}, 'country': {'code': 'CA', 'name': {'en': 'Canada', 'fr': 'Canada'}}, 'mailingAddress': {'streetName': 'SOUTHRIDGE', 'streetType': {'code': None}, 'streetDirection': {'code': 'NW'}, 'municipalityName': 'EDMONTON', 'province': {'code': 'AB'}, 'country': {'code': 'CA', 'name': {'en': 'Canada', 'fr': 'Canada'}}, 'postalCode': 'T6H4M9'}, 'location': {'locationID': '40616e1e-3aaa-470c-9a52-1460e7f2dc94', 'geoCoordinates': {'latitude': 53.481649, 'longitude': -113.501076}, 'geographies': [{'codes': {'code': '48019', 'name': {'en': 'Edmonton Strathcona', 'fr': 'Edmonton Strathcona'}}, 'source': 'FED_2016', 'geographicType': 'FED'}, {'codes': {'code': '4860', 'name': {'en': 'Edmonton', 'fr': 'Edmonton'}}, 'source': 'ER_2016', 'geographicType': 'ER'}, {'codes': {'code': '4811061', 'name': {'en': 'Edmonton', 'fr': 'Edmonton'}}, 'source': 'CSD_2016', 'geographicType': 'CSD'}]}}, {'addressId': '736456bc-462b-4969-a4a1-cb8abbe34081', 'civicNumber': {'prefix': None, 'number': '338', 'suffix': {'code': None}}, 'streetName': 'Southridge', 'streetType': {'code': None}, 'streetDirection': {'code': 'NW'}, 'cityName': {'en': 'Edmonton', 'fr': 'Edmonton'}, 'province': {'code': '48'}, 'country': {'code': 'CA', 'name': {'en': 'Canada', 'fr': 'Canada'}}, 'mailingAddress': {'streetName': 'SOUTHRIDGE', 'streetType': {'code': None}, 'streetDirection': {'code': 'NW'}, 'municipalityName': 'EDMONTON', 'province': {'code': 'AB'}, 'country': {'code': 'CA', 'name': {'en': 'Canada', 'fr': 'Canada'}}, 'postalCode': 'T6H4M9'}, 'location': {'locationID': '7a681e60-7c6c-411e-8e54-141dc42875aa', 'geoCoordinates': {'latitude': 53.481649, 'longitude': -113.501076}, 'geographies': [{'codes': {'code': '48019', 'name': {'en': 'Edmonton Strathcona', 'fr': 'Edmonton Strathcona'}}, 'source': 'FED_2016', 'geographicType': 'FED'}, {'codes': {'code': '4860', 'name': {'en': 'Edmonton', 'fr': 'Edmonton'}}, 'source': 'ER_2016', 'geographicType': 'ER'}, {'codes': {'code': '4811061', 'name': {'en': 'Edmonton', 'fr': 'Edmonton'}}, 'source': 'CSD_2016', 'geographicType': 'CSD'}]}}]}\n",
      "\n",
      "\n",
      "3: 1446.0, W 13TH AV, Vancouver, BC\n",
      "<Response [204]>\n",
      "no gc street address found\n",
      "\n",
      "\n",
      "4: 2100, 208 ST, Township of Langley, BC\n",
      "<Response [204]>\n",
      "no gc street address found\n",
      "\n",
      "\n",
      "5: 3304, lawrence ave e, TORONTO, ON, ON\n",
      "<Response [204]>\n",
      "no gc street address found\n",
      "\n",
      "\n",
      "6: 225, rue aimé-séguin, Laval (Québec), QC\n",
      "<Response [204]>\n",
      "no gc street address found\n",
      "\n",
      "\n",
      "7: , , Edmonton, AB\n",
      "<Response [200]>\n",
      "[3] gc street address found\n",
      "{'meta': {'prepared': '2022-11-03T20:54:01.8707213+00:00', 'test': False, 'contentLanguage': ['en', 'fr']}, 'search': {'searchStyle': 'simple', 'criteria': 'Query: , , Edmonton, AB  ', 'total': 393876}, 'data': [{'addressId': 'ec3ed3c4-1ddb-457a-9964-1a523cc8d805', 'civicNumber': {'prefix': None, 'number': '413', 'suffix': {'code': None}}, 'streetName': 'Southridge', 'streetType': {'code': None}, 'streetDirection': {'code': 'NW'}, 'cityName': {'en': 'Edmonton', 'fr': 'Edmonton'}, 'province': {'code': '48'}, 'country': {'code': 'CA', 'name': {'en': 'Canada', 'fr': 'Canada'}}, 'mailingAddress': {'streetName': 'SOUTHRIDGE', 'streetType': {'code': None}, 'streetDirection': {'code': 'NW'}, 'municipalityName': 'EDMONTON', 'province': {'code': 'AB'}, 'country': {'code': 'CA', 'name': {'en': 'Canada', 'fr': 'Canada'}}, 'postalCode': 'T6H5G1'}, 'location': {'locationID': 'e8a9ef59-384a-4a39-a75e-12380aab1daf', 'geoCoordinates': {'latitude': 53.481408, 'longitude': -113.49893}, 'geographies': [{'codes': {'code': '48019', 'name': {'en': 'Edmonton Strathcona', 'fr': 'Edmonton Strathcona'}}, 'source': 'FED_2016', 'geographicType': 'FED'}, {'codes': {'code': '4860', 'name': {'en': 'Edmonton', 'fr': 'Edmonton'}}, 'source': 'ER_2016', 'geographicType': 'ER'}, {'codes': {'code': '4811061', 'name': {'en': 'Edmonton', 'fr': 'Edmonton'}}, 'source': 'CSD_2016', 'geographicType': 'CSD'}]}}, {'addressId': '02c4b194-8676-4e87-a67e-4499d40f128d', 'civicNumber': {'prefix': None, 'number': '4211', 'suffix': {'code': None}}, 'streetName': 'Winterburn', 'streetType': {'code': 'RD'}, 'streetDirection': {'code': None}, 'cityName': {'en': 'Edmonton', 'fr': 'Edmonton'}, 'province': {'code': '48'}, 'country': {'code': 'CA', 'name': {'en': 'Canada', 'fr': 'Canada'}}, 'mailingAddress': {'streetName': '215', 'streetType': {'code': 'ST'}, 'streetDirection': {'code': 'NW'}, 'municipalityName': 'EDMONTON', 'province': {'code': 'AB'}, 'country': {'code': 'CA', 'name': {'en': 'Canada', 'fr': 'Canada'}}, 'postalCode': 'T6M2P3'}, 'location': {'locationID': 'e4642b89-4510-4af0-8cf2-127edd7b2344', 'geoCoordinates': {'latitude': 53.4797, 'longitude': -113.688798}, 'geographies': [{'codes': {'code': '48020', 'name': {'en': 'Edmonton West', 'fr': 'Edmonton-Ouest'}}, 'source': 'FED_2016', 'geographicType': 'FED'}, {'codes': {'code': '4860', 'name': {'en': 'Edmonton', 'fr': 'Edmonton'}}, 'source': 'ER_2016', 'geographicType': 'ER'}, {'codes': {'code': '4811061', 'name': {'en': 'Edmonton', 'fr': 'Edmonton'}}, 'source': 'CSD_2016', 'geographicType': 'CSD'}]}}, {'addressId': '374e4204-8aac-4c73-a8ee-64640c0243d8', 'civicNumber': {'prefix': None, 'number': '28', 'suffix': {'code': None}}, 'streetName': 'Sundance', 'streetType': {'code': None}, 'streetDirection': {'code': 'NW'}, 'cityName': {'en': 'Edmonton', 'fr': 'Edmonton'}, 'province': {'code': '48'}, 'country': {'code': 'CA', 'name': {'en': 'Canada', 'fr': 'Canada'}}, 'mailingAddress': {'streetName': 'SUNDANCE', 'streetType': {'code': None}, 'streetDirection': {'code': 'NW'}, 'municipalityName': 'EDMONTON', 'province': {'code': 'AB'}, 'country': {'code': 'CA', 'name': {'en': 'Canada', 'fr': 'Canada'}}, 'postalCode': 'T5H4B4'}, 'location': {'locationID': '4f4731c1-b2b3-4046-b8b4-128f1ec3a8ab', 'geoCoordinates': {'latitude': 53.543338, 'longitude': -113.465523}, 'geographies': [{'codes': {'code': '48019', 'name': {'en': 'Edmonton Strathcona', 'fr': 'Edmonton Strathcona'}}, 'source': 'FED_2016', 'geographicType': 'FED'}, {'codes': {'code': '4860', 'name': {'en': 'Edmonton', 'fr': 'Edmonton'}}, 'source': 'ER_2016', 'geographicType': 'ER'}, {'codes': {'code': '4811061', 'name': {'en': 'Edmonton', 'fr': 'Edmonton'}}, 'source': 'CSD_2016', 'geographicType': 'CSD'}]}}, {'addressId': '91a6e32c-c9d8-49e9-84de-48c977ea82ea', 'civicNumber': {'prefix': None, 'number': '187', 'suffix': {'code': None}}, 'streetName': 'Southridge', 'streetType': {'code': None}, 'streetDirection': {'code': 'NW'}, 'cityName': {'en': 'Edmonton', 'fr': 'Edmonton'}, 'province': {'code': '48'}, 'country': {'code': 'CA', 'name': {'en': 'Canada', 'fr': 'Canada'}}, 'mailingAddress': {'streetName': 'SOUTHRIDGE', 'streetType': {'code': None}, 'streetDirection': {'code': 'NW'}, 'municipalityName': 'EDMONTON', 'province': {'code': 'AB'}, 'country': {'code': 'CA', 'name': {'en': 'Canada', 'fr': 'Canada'}}, 'postalCode': 'T6H4M9'}, 'location': {'locationID': '0278ae8d-9e48-43db-8455-12d5db07e19c', 'geoCoordinates': {'latitude': 53.481649, 'longitude': -113.501076}, 'geographies': [{'codes': {'code': '48019', 'name': {'en': 'Edmonton Strathcona', 'fr': 'Edmonton Strathcona'}}, 'source': 'FED_2016', 'geographicType': 'FED'}, {'codes': {'code': '4860', 'name': {'en': 'Edmonton', 'fr': 'Edmonton'}}, 'source': 'ER_2016', 'geographicType': 'ER'}, {'codes': {'code': '4811061', 'name': {'en': 'Edmonton', 'fr': 'Edmonton'}}, 'source': 'CSD_2016', 'geographicType': 'CSD'}]}}, {'addressId': '3c6c4759-631f-44e9-839b-d2cba6d5f141', 'civicNumber': {'prefix': None, 'number': '291', 'suffix': {'code': None}}, 'streetName': 'Southridge', 'streetType': {'code': None}, 'streetDirection': {'code': 'NW'}, 'cityName': {'en': 'Edmonton', 'fr': 'Edmonton'}, 'province': {'code': '48'}, 'country': {'code': 'CA', 'name': {'en': 'Canada', 'fr': 'Canada'}}, 'mailingAddress': {'streetName': 'SOUTHRIDGE', 'streetType': {'code': None}, 'streetDirection': {'code': 'NW'}, 'municipalityName': 'EDMONTON', 'province': {'code': 'AB'}, 'country': {'code': 'CA', 'name': {'en': 'Canada', 'fr': 'Canada'}}, 'postalCode': 'T6H4M9'}, 'location': {'locationID': '3aab4e57-7398-4e95-bc09-12257e9858f4', 'geoCoordinates': {'latitude': 53.481637, 'longitude': -113.501573}, 'geographies': [{'codes': {'code': '48019', 'name': {'en': 'Edmonton Strathcona', 'fr': 'Edmonton Strathcona'}}, 'source': 'FED_2016', 'geographicType': 'FED'}, {'codes': {'code': '4860', 'name': {'en': 'Edmonton', 'fr': 'Edmonton'}}, 'source': 'ER_2016', 'geographicType': 'ER'}, {'codes': {'code': '4811061', 'name': {'en': 'Edmonton', 'fr': 'Edmonton'}}, 'source': 'CSD_2016', 'geographicType': 'CSD'}]}}, {'addressId': '75276baa-4fda-4156-af13-640cca58e9ad', 'civicNumber': {'prefix': None, 'number': '179', 'suffix': {'code': None}}, 'streetName': 'Woodstock', 'streetType': {'code': None}, 'streetDirection': {'code': 'NW'}, 'cityName': {'en': 'Edmonton', 'fr': 'Edmonton'}, 'province': {'code': '48'}, 'country': {'code': 'CA', 'name': {'en': 'Canada', 'fr': 'Canada'}}, 'mailingAddress': {'streetName': 'WOODSTOCK', 'streetType': {'code': None}, 'streetDirection': {'code': 'NW'}, 'municipalityName': 'EDMONTON', 'province': {'code': 'AB'}, 'country': {'code': 'CA', 'name': {'en': 'Canada', 'fr': 'Canada'}}, 'postalCode': 'T5T0H6'}, 'location': {'locationID': '3650ce0d-9c1a-4005-9eb5-124244aa63cc', 'geoCoordinates': {'latitude': 53.509529, 'longitude': -113.617582}, 'geographies': [{'codes': {'code': '48020', 'name': {'en': 'Edmonton West', 'fr': 'Edmonton-Ouest'}}, 'source': 'FED_2016', 'geographicType': 'FED'}, {'codes': {'code': '4860', 'name': {'en': 'Edmonton', 'fr': 'Edmonton'}}, 'source': 'ER_2016', 'geographicType': 'ER'}, {'codes': {'code': '4811061', 'name': {'en': 'Edmonton', 'fr': 'Edmonton'}}, 'source': 'CSD_2016', 'geographicType': 'CSD'}]}}, {'addressId': '24bbf228-1ab0-4419-95aa-1435cd7d7bd8', 'civicNumber': {'prefix': None, 'number': '49', 'suffix': {'code': None}}, 'streetName': 'Sundance', 'streetType': {'code': None}, 'streetDirection': {'code': 'NW'}, 'cityName': {'en': 'Edmonton', 'fr': 'Edmonton'}, 'province': {'code': '48'}, 'country': {'code': 'CA', 'name': {'en': 'Canada', 'fr': 'Canada'}}, 'mailingAddress': {'streetName': 'SUNDANCE', 'streetType': {'code': None}, 'streetDirection': {'code': 'NW'}, 'municipalityName': 'EDMONTON', 'province': {'code': 'AB'}, 'country': {'code': 'CA', 'name': {'en': 'Canada', 'fr': 'Canada'}}, 'postalCode': 'T5H4B4'}, 'location': {'locationID': 'db32d549-b155-4fd0-9591-13038c2e9dd5', 'geoCoordinates': {'latitude': 53.543299, 'longitude': -113.465224}, 'geographies': [{'codes': {'code': '48019', 'name': {'en': 'Edmonton Strathcona', 'fr': 'Edmonton Strathcona'}}, 'source': 'FED_2016', 'geographicType': 'FED'}, {'codes': {'code': '4860', 'name': {'en': 'Edmonton', 'fr': 'Edmonton'}}, 'source': 'ER_2016', 'geographicType': 'ER'}, {'codes': {'code': '4811061', 'name': {'en': 'Edmonton', 'fr': 'Edmonton'}}, 'source': 'CSD_2016', 'geographicType': 'CSD'}]}}, {'addressId': '377cdbaf-aca3-4229-b041-aba9bbb8d937', 'civicNumber': {'prefix': None, 'number': '51', 'suffix': {'code': None}}, 'streetName': 'Hearthstone', 'streetType': {'code': None}, 'streetDirection': {'code': 'NW'}, 'cityName': {'en': 'Edmonton', 'fr': 'Edmonton'}, 'province': {'code': '48'}, 'country': {'code': 'CA', 'name': {'en': 'Canada', 'fr': 'Canada'}}, 'mailingAddress': {'streetName': 'HEARTHSTONE', 'streetType': {'code': None}, 'streetDirection': {'code': 'NW'}, 'municipalityName': 'EDMONTON', 'province': {'code': 'AB'}, 'country': {'code': 'CA', 'name': {'en': 'Canada', 'fr': 'Canada'}}, 'postalCode': 'T6H5E5'}, 'location': {'locationID': 'e73bdded-8f4c-4af1-a050-0fcd31aebe22', 'geoCoordinates': {'latitude': 53.49586, 'longitude': -113.580616}, 'geographies': [{'codes': {'code': '48018', 'name': {'en': 'Edmonton Riverbend', 'fr': 'Edmonton Riverbend'}}, 'source': 'FED_2016', 'geographicType': 'FED'}, {'codes': {'code': '4860', 'name': {'en': 'Edmonton', 'fr': 'Edmonton'}}, 'source': 'ER_2016', 'geographicType': 'ER'}, {'codes': {'code': '4811061', 'name': {'en': 'Edmonton', 'fr': 'Edmonton'}}, 'source': 'CSD_2016', 'geographicType': 'CSD'}]}}, {'addressId': '24d2ff00-297a-440d-b8d8-edf221905687', 'civicNumber': {'prefix': None, 'number': '2837', 'suffix': {'code': None}}, 'streetName': 'Lakeside', 'streetType': {'code': 'CLOSE'}, 'streetDirection': {'code': None}, 'cityName': {'en': 'Edmonton', 'fr': 'Edmonton'}, 'province': {'code': '48'}, 'country': {'code': 'CA', 'name': {'en': 'Canada', 'fr': 'Canada'}}, 'mailingAddress': {'streetName': 'LAKESIDE', 'streetType': {'code': 'CLOSE'}, 'streetDirection': {'code': 'NW'}, 'municipalityName': 'EDMONTON', 'province': {'code': 'AB'}, 'country': {'code': 'CA', 'name': {'en': 'Canada', 'fr': 'Canada'}}, 'postalCode': 'T5S1T7'}, 'location': {'locationID': 'ac71e672-e42a-4caf-9187-0fef91155b76', 'geoCoordinates': {'latitude': 53.548769, 'longitude': -113.69762}, 'geographies': [{'codes': {'code': '48020', 'name': {'en': 'Edmonton West', 'fr': 'Edmonton-Ouest'}}, 'source': 'FED_2016', 'geographicType': 'FED'}, {'codes': {'code': '4860', 'name': {'en': 'Edmonton', 'fr': 'Edmonton'}}, 'source': 'ER_2016', 'geographicType': 'ER'}, {'codes': {'code': '4811061', 'name': {'en': 'Edmonton', 'fr': 'Edmonton'}}, 'source': 'CSD_2016', 'geographicType': 'CSD'}]}}, {'addressId': '0fd1bb79-5a37-498c-9faa-b80115bf5b78', 'civicNumber': {'prefix': None, 'number': '624', 'suffix': {'code': None}}, 'streetName': 'Southridge', 'streetType': {'code': None}, 'streetDirection': {'code': 'NW'}, 'cityName': {'en': 'Edmonton', 'fr': 'Edmonton'}, 'province': {'code': '48'}, 'country': {'code': 'CA', 'name': {'en': 'Canada', 'fr': 'Canada'}}, 'mailingAddress': {'streetName': 'SOUTHRIDGE', 'streetType': {'code': None}, 'streetDirection': {'code': 'NW'}, 'municipalityName': 'EDMONTON', 'province': {'code': 'AB'}, 'country': {'code': 'CA', 'name': {'en': 'Canada', 'fr': 'Canada'}}, 'postalCode': 'T6H5G1'}, 'location': {'locationID': 'cd0fb103-ee32-4351-8278-1032549c668e', 'geoCoordinates': {'latitude': 53.481649, 'longitude': -113.501076}, 'geographies': [{'codes': {'code': '48019', 'name': {'en': 'Edmonton Strathcona', 'fr': 'Edmonton Strathcona'}}, 'source': 'FED_2016', 'geographicType': 'FED'}, {'codes': {'code': '4860', 'name': {'en': 'Edmonton', 'fr': 'Edmonton'}}, 'source': 'ER_2016', 'geographicType': 'ER'}, {'codes': {'code': '4811061', 'name': {'en': 'Edmonton', 'fr': 'Edmonton'}}, 'source': 'CSD_2016', 'geographicType': 'CSD'}]}}, {'addressId': 'd9fca7cd-e214-4c49-8539-007fd31d4a24', 'civicNumber': {'prefix': None, 'number': '518', 'suffix': {'code': None}}, 'streetName': 'Southridge', 'streetType': {'code': None}, 'streetDirection': {'code': 'NW'}, 'cityName': {'en': 'Edmonton', 'fr': 'Edmonton'}, 'province': {'code': '48'}, 'country': {'code': 'CA', 'name': {'en': 'Canada', 'fr': 'Canada'}}, 'mailingAddress': {'streetName': 'SOUTHRIDGE', 'streetType': {'code': None}, 'streetDirection': {'code': 'NW'}, 'municipalityName': 'EDMONTON', 'province': {'code': 'AB'}, 'country': {'code': 'CA', 'name': {'en': 'Canada', 'fr': 'Canada'}}, 'postalCode': 'T6H5G1'}, 'location': {'locationID': '82f7442c-7149-428d-8087-0fcc2386871c', 'geoCoordinates': {'latitude': 53.481649, 'longitude': -113.501076}, 'geographies': [{'codes': {'code': '48019', 'name': {'en': 'Edmonton Strathcona', 'fr': 'Edmonton Strathcona'}}, 'source': 'FED_2016', 'geographicType': 'FED'}, {'codes': {'code': '4860', 'name': {'en': 'Edmonton', 'fr': 'Edmonton'}}, 'source': 'ER_2016', 'geographicType': 'ER'}, {'codes': {'code': '4811061', 'name': {'en': 'Edmonton', 'fr': 'Edmonton'}}, 'source': 'CSD_2016', 'geographicType': 'CSD'}]}}, {'addressId': '8f3d5362-9a77-4972-9f0e-5c26ed3caba7', 'civicNumber': {'prefix': None, 'number': '223', 'suffix': {'code': None}}, 'streetName': 'Southridge', 'streetType': {'code': None}, 'streetDirection': {'code': 'NW'}, 'cityName': {'en': 'Edmonton', 'fr': 'Edmonton'}, 'province': {'code': '48'}, 'country': {'code': 'CA', 'name': {'en': 'Canada', 'fr': 'Canada'}}, 'mailingAddress': {'streetName': 'SOUTHRIDGE', 'streetType': {'code': None}, 'streetDirection': {'code': 'NW'}, 'municipalityName': 'EDMONTON', 'province': {'code': 'AB'}, 'country': {'code': 'CA', 'name': {'en': 'Canada', 'fr': 'Canada'}}, 'postalCode': 'T6H4M9'}, 'location': {'locationID': '42296427-e165-434f-979e-135f08dcbf6e', 'geoCoordinates': {'latitude': 53.481649, 'longitude': -113.501076}, 'geographies': [{'codes': {'code': '48019', 'name': {'en': 'Edmonton Strathcona', 'fr': 'Edmonton Strathcona'}}, 'source': 'FED_2016', 'geographicType': 'FED'}, {'codes': {'code': '4860', 'name': {'en': 'Edmonton', 'fr': 'Edmonton'}}, 'source': 'ER_2016', 'geographicType': 'ER'}, {'codes': {'code': '4811061', 'name': {'en': 'Edmonton', 'fr': 'Edmonton'}}, 'source': 'CSD_2016', 'geographicType': 'CSD'}]}}, {'addressId': '333a9c58-b0f7-4745-8f14-d8b78f067f7c', 'civicNumber': {'prefix': None, 'number': '2964', 'suffix': {'code': None}}, 'streetName': 'Lakewood', 'streetType': {'code': 'DR'}, 'streetDirection': {'code': None}, 'cityName': {'en': 'Edmonton', 'fr': 'Edmonton'}, 'province': {'code': '48'}, 'country': {'code': 'CA', 'name': {'en': 'Canada', 'fr': 'Canada'}}, 'mailingAddress': {'streetName': 'LAKEWOOD', 'streetType': {'code': 'DR'}, 'streetDirection': {'code': 'NW'}, 'municipalityName': 'EDMONTON', 'province': {'code': 'AB'}, 'country': {'code': 'CA', 'name': {'en': 'Canada', 'fr': 'Canada'}}, 'postalCode': 'T5S1T7'}, 'location': {'locationID': '74287140-8fc3-4860-9090-13c2c6368333', 'geoCoordinates': {'latitude': None, 'longitude': None}, 'geographies': [{'codes': {'code': '48020', 'name': {'en': 'Edmonton West', 'fr': 'Edmonton-Ouest'}}, 'source': 'FED_2016', 'geographicType': 'FED'}, {'codes': {'code': '4860', 'name': {'en': 'Edmonton', 'fr': 'Edmonton'}}, 'source': 'ER_2016', 'geographicType': 'ER'}, {'codes': {'code': '4811061', 'name': {'en': 'Edmonton', 'fr': 'Edmonton'}}, 'source': 'CSD_2016', 'geographicType': 'CSD'}]}}, {'addressId': '2a007208-c529-40e1-bb0c-0b6b64aabd59', 'civicNumber': {'prefix': None, 'number': '314', 'suffix': {'code': None}}, 'streetName': 'Southridge', 'streetType': {'code': None}, 'streetDirection': {'code': 'NW'}, 'cityName': {'en': 'Edmonton', 'fr': 'Edmonton'}, 'province': {'code': '48'}, 'country': {'code': 'CA', 'name': {'en': 'Canada', 'fr': 'Canada'}}, 'mailingAddress': {'streetName': 'SOUTHRIDGE', 'streetType': {'code': None}, 'streetDirection': {'code': 'NW'}, 'municipalityName': 'EDMONTON', 'province': {'code': 'AB'}, 'country': {'code': 'CA', 'name': {'en': 'Canada', 'fr': 'Canada'}}, 'postalCode': 'T6H4M9'}, 'location': {'locationID': '6992c694-d7cd-4b99-8def-13834841c424', 'geoCoordinates': {'latitude': 53.481561, 'longitude': -113.500768}, 'geographies': [{'codes': {'code': '48019', 'name': {'en': 'Edmonton Strathcona', 'fr': 'Edmonton Strathcona'}}, 'source': 'FED_2016', 'geographicType': 'FED'}, {'codes': {'code': '4860', 'name': {'en': 'Edmonton', 'fr': 'Edmonton'}}, 'source': 'ER_2016', 'geographicType': 'ER'}, {'codes': {'code': '4811061', 'name': {'en': 'Edmonton', 'fr': 'Edmonton'}}, 'source': 'CSD_2016', 'geographicType': 'CSD'}]}}, {'addressId': 'c6fe6a99-8006-4113-bea3-17ff53f36d72', 'civicNumber': {'prefix': None, 'number': '177', 'suffix': {'code': None}}, 'streetName': 'Hearthstone', 'streetType': {'code': None}, 'streetDirection': {'code': 'NW'}, 'cityName': {'en': 'Edmonton', 'fr': 'Edmonton'}, 'province': {'code': '48'}, 'country': {'code': 'CA', 'name': {'en': 'Canada', 'fr': 'Canada'}}, 'mailingAddress': {'streetName': 'HEARTHSTONE', 'streetType': {'code': None}, 'streetDirection': {'code': 'NW'}, 'municipalityName': 'EDMONTON', 'province': {'code': 'AB'}, 'country': {'code': 'CA', 'name': {'en': 'Canada', 'fr': 'Canada'}}, 'postalCode': 'T6H5E5'}, 'location': {'locationID': 'dcce583d-6afc-4682-a290-13d50cdf3d52', 'geoCoordinates': {'latitude': 53.495709, 'longitude': -113.58228}, 'geographies': [{'codes': {'code': '48018', 'name': {'en': 'Edmonton Riverbend', 'fr': 'Edmonton Riverbend'}}, 'source': 'FED_2016', 'geographicType': 'FED'}, {'codes': {'code': '4860', 'name': {'en': 'Edmonton', 'fr': 'Edmonton'}}, 'source': 'ER_2016', 'geographicType': 'ER'}, {'codes': {'code': '4811061', 'name': {'en': 'Edmonton', 'fr': 'Edmonton'}}, 'source': 'CSD_2016', 'geographicType': 'CSD'}]}}, {'addressId': '708c33ed-9226-4ebf-bb0f-71715eda5de8', 'civicNumber': {'prefix': None, 'number': '123', 'suffix': {'code': None}}, 'streetName': 'Woodstock', 'streetType': {'code': None}, 'streetDirection': {'code': 'NW'}, 'cityName': {'en': 'Edmonton', 'fr': 'Edmonton'}, 'province': {'code': '48'}, 'country': {'code': 'CA', 'name': {'en': 'Canada', 'fr': 'Canada'}}, 'mailingAddress': {'streetName': 'WOODSTOCK', 'streetType': {'code': None}, 'streetDirection': {'code': 'NW'}, 'municipalityName': 'EDMONTON', 'province': {'code': 'AB'}, 'country': {'code': 'CA', 'name': {'en': 'Canada', 'fr': 'Canada'}}, 'postalCode': 'T5T0H6'}, 'location': {'locationID': '6cee2707-3da8-4f2b-92d5-104af86ebe89', 'geoCoordinates': {'latitude': 53.509505, 'longitude': -113.616723}, 'geographies': [{'codes': {'code': '48020', 'name': {'en': 'Edmonton West', 'fr': 'Edmonton-Ouest'}}, 'source': 'FED_2016', 'geographicType': 'FED'}, {'codes': {'code': '4860', 'name': {'en': 'Edmonton', 'fr': 'Edmonton'}}, 'source': 'ER_2016', 'geographicType': 'ER'}, {'codes': {'code': '4811061', 'name': {'en': 'Edmonton', 'fr': 'Edmonton'}}, 'source': 'CSD_2016', 'geographicType': 'CSD'}]}}, {'addressId': '3fb0d423-c334-401e-b57d-9869b987da32', 'civicNumber': {'prefix': None, 'number': '2813', 'suffix': {'code': None}}, 'streetName': 'Lakeside', 'streetType': {'code': 'CRES'}, 'streetDirection': {'code': None}, 'cityName': {'en': 'Edmonton', 'fr': 'Edmonton'}, 'province': {'code': '48'}, 'country': {'code': 'CA', 'name': {'en': 'Canada', 'fr': 'Canada'}}, 'mailingAddress': {'streetName': 'LAKESIDE', 'streetType': {'code': 'CRES'}, 'streetDirection': {'code': 'NW'}, 'municipalityName': 'EDMONTON', 'province': {'code': 'AB'}, 'country': {'code': 'CA', 'name': {'en': 'Canada', 'fr': 'Canada'}}, 'postalCode': 'T5S1T7'}, 'location': {'locationID': '8d5295f1-6b51-4f41-9a15-108f8bbf34b3', 'geoCoordinates': {'latitude': 53.548762, 'longitude': -113.695305}, 'geographies': [{'codes': {'code': '48020', 'name': {'en': 'Edmonton West', 'fr': 'Edmonton-Ouest'}}, 'source': 'FED_2016', 'geographicType': 'FED'}, {'codes': {'code': '4860', 'name': {'en': 'Edmonton', 'fr': 'Edmonton'}}, 'source': 'ER_2016', 'geographicType': 'ER'}, {'codes': {'code': '4811061', 'name': {'en': 'Edmonton', 'fr': 'Edmonton'}}, 'source': 'CSD_2016', 'geographicType': 'CSD'}]}}, {'addressId': '0de49ead-edd3-47db-bcb1-011590c3f27e', 'civicNumber': {'prefix': None, 'number': '61', 'suffix': {'code': None}}, 'streetName': 'Hearthstone', 'streetType': {'code': None}, 'streetDirection': {'code': 'NW'}, 'cityName': {'en': 'Edmonton', 'fr': 'Edmonton'}, 'province': {'code': '48'}, 'country': {'code': 'CA', 'name': {'en': 'Canada', 'fr': 'Canada'}}, 'mailingAddress': {'streetName': 'HEARTHSTONE', 'streetType': {'code': None}, 'streetDirection': {'code': 'NW'}, 'municipalityName': 'EDMONTON', 'province': {'code': 'AB'}, 'country': {'code': 'CA', 'name': {'en': 'Canada', 'fr': 'Canada'}}, 'postalCode': 'T6H5E5'}, 'location': {'locationID': '9aa89428-3383-4258-8eea-10f6c8deb802', 'geoCoordinates': {'latitude': 53.495808, 'longitude': -113.580439}, 'geographies': [{'codes': {'code': '48018', 'name': {'en': 'Edmonton Riverbend', 'fr': 'Edmonton Riverbend'}}, 'source': 'FED_2016', 'geographicType': 'FED'}, {'codes': {'code': '4860', 'name': {'en': 'Edmonton', 'fr': 'Edmonton'}}, 'source': 'ER_2016', 'geographicType': 'ER'}, {'codes': {'code': '4811061', 'name': {'en': 'Edmonton', 'fr': 'Edmonton'}}, 'source': 'CSD_2016', 'geographicType': 'CSD'}]}}, {'addressId': 'f1862d4c-a0b8-4aae-88d8-6599a5218f09', 'civicNumber': {'prefix': None, 'number': '287', 'suffix': {'code': None}}, 'streetName': 'Southridge', 'streetType': {'code': None}, 'streetDirection': {'code': 'NW'}, 'cityName': {'en': 'Edmonton', 'fr': 'Edmonton'}, 'province': {'code': '48'}, 'country': {'code': 'CA', 'name': {'en': 'Canada', 'fr': 'Canada'}}, 'mailingAddress': {'streetName': 'SOUTHRIDGE', 'streetType': {'code': None}, 'streetDirection': {'code': 'NW'}, 'municipalityName': 'EDMONTON', 'province': {'code': 'AB'}, 'country': {'code': 'CA', 'name': {'en': 'Canada', 'fr': 'Canada'}}, 'postalCode': 'T6H4M9'}, 'location': {'locationID': '40616e1e-3aaa-470c-9a52-1460e7f2dc94', 'geoCoordinates': {'latitude': 53.481649, 'longitude': -113.501076}, 'geographies': [{'codes': {'code': '48019', 'name': {'en': 'Edmonton Strathcona', 'fr': 'Edmonton Strathcona'}}, 'source': 'FED_2016', 'geographicType': 'FED'}, {'codes': {'code': '4860', 'name': {'en': 'Edmonton', 'fr': 'Edmonton'}}, 'source': 'ER_2016', 'geographicType': 'ER'}, {'codes': {'code': '4811061', 'name': {'en': 'Edmonton', 'fr': 'Edmonton'}}, 'source': 'CSD_2016', 'geographicType': 'CSD'}]}}, {'addressId': '736456bc-462b-4969-a4a1-cb8abbe34081', 'civicNumber': {'prefix': None, 'number': '338', 'suffix': {'code': None}}, 'streetName': 'Southridge', 'streetType': {'code': None}, 'streetDirection': {'code': 'NW'}, 'cityName': {'en': 'Edmonton', 'fr': 'Edmonton'}, 'province': {'code': '48'}, 'country': {'code': 'CA', 'name': {'en': 'Canada', 'fr': 'Canada'}}, 'mailingAddress': {'streetName': 'SOUTHRIDGE', 'streetType': {'code': None}, 'streetDirection': {'code': 'NW'}, 'municipalityName': 'EDMONTON', 'province': {'code': 'AB'}, 'country': {'code': 'CA', 'name': {'en': 'Canada', 'fr': 'Canada'}}, 'postalCode': 'T6H4M9'}, 'location': {'locationID': '7a681e60-7c6c-411e-8e54-141dc42875aa', 'geoCoordinates': {'latitude': 53.481649, 'longitude': -113.501076}, 'geographies': [{'codes': {'code': '48019', 'name': {'en': 'Edmonton Strathcona', 'fr': 'Edmonton Strathcona'}}, 'source': 'FED_2016', 'geographicType': 'FED'}, {'codes': {'code': '4860', 'name': {'en': 'Edmonton', 'fr': 'Edmonton'}}, 'source': 'ER_2016', 'geographicType': 'ER'}, {'codes': {'code': '4811061', 'name': {'en': 'Edmonton', 'fr': 'Edmonton'}}, 'source': 'CSD_2016', 'geographicType': 'CSD'}]}}]}\n",
      "\n",
      "\n",
      "8: , , , ON\n",
      "<Response [200]>\n",
      "[3] gc street address found\n",
      "{'meta': {'prepared': '2022-11-03T20:54:05.016676+00:00', 'test': False, 'contentLanguage': ['en', 'fr']}, 'search': {'searchStyle': 'simple', 'criteria': 'Query: , , , ON  ', 'total': 5502372}, 'data': [{'addressId': '862bc096-ef79-4225-aaf6-e7e721207416', 'civicNumber': {'prefix': None, 'number': '54', 'suffix': {'code': None}}, 'streetName': 'Onésime', 'streetType': {'code': 'RUE'}, 'streetDirection': {'code': None}, 'cityName': {'en': 'Gatineau', 'fr': 'Gatineau'}, 'province': {'code': '24'}, 'country': {'code': 'CA', 'name': {'en': 'Canada', 'fr': 'Canada'}}, 'mailingAddress': {'streetName': 'ONÉSIME', 'streetType': {'code': 'RUE'}, 'streetDirection': {'code': None}, 'municipalityName': 'GATINEAU', 'province': {'code': 'QC'}, 'country': {'code': 'CA', 'name': {'en': 'Canada', 'fr': 'Canada'}}, 'postalCode': 'J8T2J1'}, 'location': {'locationID': '74f18210-02b4-4560-b4f4-1318c6b120ec', 'geoCoordinates': {'latitude': 45.466009, 'longitude': -75.693104}, 'geographies': [{'codes': {'code': '24027', 'name': {'en': 'Gatineau', 'fr': 'Gatineau'}}, 'source': 'FED_2016', 'geographicType': 'FED'}, {'codes': {'code': '2460', 'name': {'en': 'Outaouais', 'fr': 'Outaouais'}}, 'source': 'ER_2016', 'geographicType': 'ER'}, {'codes': {'code': '2481017', 'name': {'en': 'Gatineau', 'fr': 'Gatineau'}}, 'source': 'CSD_2016', 'geographicType': 'CSD'}]}}, {'addressId': '07edafc5-a47a-4821-9caa-05e462e5cf80', 'civicNumber': {'prefix': None, 'number': '38', 'suffix': {'code': None}}, 'streetName': 'Onésime', 'streetType': {'code': 'RUE'}, 'streetDirection': {'code': None}, 'cityName': {'en': 'Gatineau', 'fr': 'Gatineau'}, 'province': {'code': '24'}, 'country': {'code': 'CA', 'name': {'en': 'Canada', 'fr': 'Canada'}}, 'mailingAddress': {'streetName': 'ONÉSIME', 'streetType': {'code': 'RUE'}, 'streetDirection': {'code': None}, 'municipalityName': 'GATINEAU', 'province': {'code': 'QC'}, 'country': {'code': 'CA', 'name': {'en': 'Canada', 'fr': 'Canada'}}, 'postalCode': 'J8T2H6'}, 'location': {'locationID': '0728769e-f734-4472-bcfb-1aca36f6dac3', 'geoCoordinates': {'latitude': 45.465817, 'longitude': -75.695115}, 'geographies': [{'codes': {'code': '24027', 'name': {'en': 'Gatineau', 'fr': 'Gatineau'}}, 'source': 'FED_2016', 'geographicType': 'FED'}, {'codes': {'code': '2460', 'name': {'en': 'Outaouais', 'fr': 'Outaouais'}}, 'source': 'ER_2016', 'geographicType': 'ER'}, {'codes': {'code': '2481017', 'name': {'en': 'Gatineau', 'fr': 'Gatineau'}}, 'source': 'CSD_2016', 'geographicType': 'CSD'}]}}, {'addressId': 'e498f9c6-896a-4d74-a03c-5c935352497a', 'civicNumber': {'prefix': None, 'number': '73', 'suffix': {'code': None}}, 'streetName': 'Onésime', 'streetType': {'code': 'RUE'}, 'streetDirection': {'code': None}, 'cityName': {'en': 'Gatineau', 'fr': 'Gatineau'}, 'province': {'code': '24'}, 'country': {'code': 'CA', 'name': {'en': 'Canada', 'fr': 'Canada'}}, 'mailingAddress': {'streetName': 'ONÉSIME', 'streetType': {'code': 'RUE'}, 'streetDirection': {'code': None}, 'municipalityName': 'GATINEAU', 'province': {'code': 'QC'}, 'country': {'code': 'CA', 'name': {'en': 'Canada', 'fr': 'Canada'}}, 'postalCode': 'J8T2J3'}, 'location': {'locationID': '04c8be0d-a3d6-4397-956f-163d834b93c3', 'geoCoordinates': {'latitude': 45.465852, 'longitude': -75.691163}, 'geographies': [{'codes': {'code': '24027', 'name': {'en': 'Gatineau', 'fr': 'Gatineau'}}, 'source': 'FED_2016', 'geographicType': 'FED'}, {'codes': {'code': '2460', 'name': {'en': 'Outaouais', 'fr': 'Outaouais'}}, 'source': 'ER_2016', 'geographicType': 'ER'}, {'codes': {'code': '2481017', 'name': {'en': 'Gatineau', 'fr': 'Gatineau'}}, 'source': 'CSD_2016', 'geographicType': 'CSD'}]}}, {'addressId': '281cc04b-1ee5-41e4-b7b1-eaf78afccb05', 'civicNumber': {'prefix': None, 'number': '72', 'suffix': {'code': None}}, 'streetName': 'Onésime', 'streetType': {'code': 'RUE'}, 'streetDirection': {'code': None}, 'cityName': {'en': 'Gatineau', 'fr': 'Gatineau'}, 'province': {'code': '24'}, 'country': {'code': 'CA', 'name': {'en': 'Canada', 'fr': 'Canada'}}, 'mailingAddress': {'streetName': 'ONÉSIME', 'streetType': {'code': 'RUE'}, 'streetDirection': {'code': None}, 'municipalityName': 'GATINEAU', 'province': {'code': 'QC'}, 'country': {'code': 'CA', 'name': {'en': 'Canada', 'fr': 'Canada'}}, 'postalCode': 'J8T2J1'}, 'location': {'locationID': '27f24b78-4f92-4cec-bd0e-0e878f831f77', 'geoCoordinates': {'latitude': 45.466417, 'longitude': -75.690988}, 'geographies': [{'codes': {'code': '24027', 'name': {'en': 'Gatineau', 'fr': 'Gatineau'}}, 'source': 'FED_2016', 'geographicType': 'FED'}, {'codes': {'code': '2460', 'name': {'en': 'Outaouais', 'fr': 'Outaouais'}}, 'source': 'ER_2016', 'geographicType': 'ER'}, {'codes': {'code': '2481017', 'name': {'en': 'Gatineau', 'fr': 'Gatineau'}}, 'source': 'CSD_2016', 'geographicType': 'CSD'}]}}, {'addressId': 'a84bd97e-8fb7-43cc-b316-ba7df232d9ee', 'civicNumber': {'prefix': None, 'number': '24', 'suffix': {'code': None}}, 'streetName': 'Onésime', 'streetType': {'code': 'RUE'}, 'streetDirection': {'code': None}, 'cityName': {'en': 'Gatineau', 'fr': 'Gatineau'}, 'province': {'code': '24'}, 'country': {'code': 'CA', 'name': {'en': 'Canada', 'fr': 'Canada'}}, 'mailingAddress': {'streetName': 'ONÉSIME', 'streetType': {'code': 'RUE'}, 'streetDirection': {'code': None}, 'municipalityName': 'GATINEAU', 'province': {'code': 'QC'}, 'country': {'code': 'CA', 'name': {'en': 'Canada', 'fr': 'Canada'}}, 'postalCode': 'J8T2H6'}, 'location': {'locationID': '42fa57fd-2da3-4338-aa22-0486ad40985f', 'geoCoordinates': {'latitude': 45.465773, 'longitude': -75.696586}, 'geographies': [{'codes': {'code': '24027', 'name': {'en': 'Gatineau', 'fr': 'Gatineau'}}, 'source': 'FED_2016', 'geographicType': 'FED'}, {'codes': {'code': '2460', 'name': {'en': 'Outaouais', 'fr': 'Outaouais'}}, 'source': 'ER_2016', 'geographicType': 'ER'}, {'codes': {'code': '2481017', 'name': {'en': 'Gatineau', 'fr': 'Gatineau'}}, 'source': 'CSD_2016', 'geographicType': 'CSD'}]}}, {'addressId': 'a90d19f2-a96a-4baa-af2c-e99fe68984ae', 'civicNumber': {'prefix': None, 'number': '62', 'suffix': {'code': None}}, 'streetName': 'Onésime', 'streetType': {'code': 'RUE'}, 'streetDirection': {'code': None}, 'cityName': {'en': 'Gatineau', 'fr': 'Gatineau'}, 'province': {'code': '24'}, 'country': {'code': 'CA', 'name': {'en': 'Canada', 'fr': 'Canada'}}, 'mailingAddress': {'streetName': 'ONÉSIME', 'streetType': {'code': 'RUE'}, 'streetDirection': {'code': None}, 'municipalityName': 'GATINEAU', 'province': {'code': 'QC'}, 'country': {'code': 'CA', 'name': {'en': 'Canada', 'fr': 'Canada'}}, 'postalCode': 'J8T2J1'}, 'location': {'locationID': '7a9dab47-1871-4952-87db-3688ba8647a4', 'geoCoordinates': {'latitude': 45.466174, 'longitude': -75.692207}, 'geographies': [{'codes': {'code': '24027', 'name': {'en': 'Gatineau', 'fr': 'Gatineau'}}, 'source': 'FED_2016', 'geographicType': 'FED'}, {'codes': {'code': '2460', 'name': {'en': 'Outaouais', 'fr': 'Outaouais'}}, 'source': 'ER_2016', 'geographicType': 'ER'}, {'codes': {'code': '2481017', 'name': {'en': 'Gatineau', 'fr': 'Gatineau'}}, 'source': 'CSD_2016', 'geographicType': 'CSD'}]}}, {'addressId': '7b572a88-58e9-49f6-afd2-8def07369134', 'civicNumber': {'prefix': None, 'number': '53', 'suffix': {'code': None}}, 'streetName': 'Onésime', 'streetType': {'code': 'RUE'}, 'streetDirection': {'code': None}, 'cityName': {'en': 'Gatineau', 'fr': 'Gatineau'}, 'province': {'code': '24'}, 'country': {'code': 'CA', 'name': {'en': 'Canada', 'fr': 'Canada'}}, 'mailingAddress': {'streetName': 'ONÉSIME', 'streetType': {'code': 'RUE'}, 'streetDirection': {'code': None}, 'municipalityName': 'GATINEAU', 'province': {'code': 'QC'}, 'country': {'code': 'CA', 'name': {'en': 'Canada', 'fr': 'Canada'}}, 'postalCode': 'J8T2J2'}, 'location': {'locationID': '3d0a94a5-8dbb-4d04-8dd8-3120e9735795', 'geoCoordinates': {'latitude': 45.465561, 'longitude': -75.693379}, 'geographies': [{'codes': {'code': '24027', 'name': {'en': 'Gatineau', 'fr': 'Gatineau'}}, 'source': 'FED_2016', 'geographicType': 'FED'}, {'codes': {'code': '2460', 'name': {'en': 'Outaouais', 'fr': 'Outaouais'}}, 'source': 'ER_2016', 'geographicType': 'ER'}, {'codes': {'code': '2481017', 'name': {'en': 'Gatineau', 'fr': 'Gatineau'}}, 'source': 'CSD_2016', 'geographicType': 'CSD'}]}}, {'addressId': '59ff3186-81d0-4497-811d-6898772b9b67', 'civicNumber': {'prefix': None, 'number': '81', 'suffix': {'code': None}}, 'streetName': 'Onésime', 'streetType': {'code': 'RUE'}, 'streetDirection': {'code': None}, 'cityName': {'en': 'Gatineau', 'fr': 'Gatineau'}, 'province': {'code': '24'}, 'country': {'code': 'CA', 'name': {'en': 'Canada', 'fr': 'Canada'}}, 'mailingAddress': {'streetName': 'ONÉSIME', 'streetType': {'code': 'RUE'}, 'streetDirection': {'code': None}, 'municipalityName': 'GATINEAU', 'province': {'code': 'QC'}, 'country': {'code': 'CA', 'name': {'en': 'Canada', 'fr': 'Canada'}}, 'postalCode': 'J8T2J3'}, 'location': {'locationID': '3acaef28-52d7-4a04-9dc6-2eca8f2bba38', 'geoCoordinates': {'latitude': 45.466465, 'longitude': -75.690067}, 'geographies': [{'codes': {'code': '24027', 'name': {'en': 'Gatineau', 'fr': 'Gatineau'}}, 'source': 'FED_2016', 'geographicType': 'FED'}, {'codes': {'code': '2460', 'name': {'en': 'Outaouais', 'fr': 'Outaouais'}}, 'source': 'ER_2016', 'geographicType': 'ER'}, {'codes': {'code': '2481017', 'name': {'en': 'Gatineau', 'fr': 'Gatineau'}}, 'source': 'CSD_2016', 'geographicType': 'CSD'}]}}, {'addressId': '51ef2c5a-c16e-420d-9cee-7ba743eeb6de', 'civicNumber': {'prefix': None, 'number': '64', 'suffix': {'code': None}}, 'streetName': 'Onésime', 'streetType': {'code': 'RUE'}, 'streetDirection': {'code': None}, 'cityName': {'en': 'Gatineau', 'fr': 'Gatineau'}, 'province': {'code': '24'}, 'country': {'code': 'CA', 'name': {'en': 'Canada', 'fr': 'Canada'}}, 'mailingAddress': {'streetName': 'ONÉSIME', 'streetType': {'code': 'RUE'}, 'streetDirection': {'code': None}, 'municipalityName': 'GATINEAU', 'province': {'code': 'QC'}, 'country': {'code': 'CA', 'name': {'en': 'Canada', 'fr': 'Canada'}}, 'postalCode': 'J8T2J1'}, 'location': {'locationID': '793b3cea-9ffd-4ec7-bfe5-301bd282f73d', 'geoCoordinates': {'latitude': 45.466217, 'longitude': -75.691976}, 'geographies': [{'codes': {'code': '24027', 'name': {'en': 'Gatineau', 'fr': 'Gatineau'}}, 'source': 'FED_2016', 'geographicType': 'FED'}, {'codes': {'code': '2460', 'name': {'en': 'Outaouais', 'fr': 'Outaouais'}}, 'source': 'ER_2016', 'geographicType': 'ER'}, {'codes': {'code': '2481017', 'name': {'en': 'Gatineau', 'fr': 'Gatineau'}}, 'source': 'CSD_2016', 'geographicType': 'CSD'}]}}, {'addressId': 'd2dcaa18-78d7-4b4b-a969-1daf8f43539d', 'civicNumber': {'prefix': None, 'number': '46', 'suffix': {'code': None}}, 'streetName': 'Onésime', 'streetType': {'code': 'RUE'}, 'streetDirection': {'code': None}, 'cityName': {'en': 'Gatineau', 'fr': 'Gatineau'}, 'province': {'code': '24'}, 'country': {'code': 'CA', 'name': {'en': 'Canada', 'fr': 'Canada'}}, 'mailingAddress': {'streetName': 'ONÉSIME', 'streetType': {'code': 'RUE'}, 'streetDirection': {'code': None}, 'municipalityName': 'GATINEAU', 'province': {'code': 'QC'}, 'country': {'code': 'CA', 'name': {'en': 'Canada', 'fr': 'Canada'}}, 'postalCode': 'J8T2H9'}, 'location': {'locationID': 'dc48708e-61f4-428c-943b-42c96f6424bd', 'geoCoordinates': {'latitude': 45.465881, 'longitude': -75.694052}, 'geographies': [{'codes': {'code': '24027', 'name': {'en': 'Gatineau', 'fr': 'Gatineau'}}, 'source': 'FED_2016', 'geographicType': 'FED'}, {'codes': {'code': '2460', 'name': {'en': 'Outaouais', 'fr': 'Outaouais'}}, 'source': 'ER_2016', 'geographicType': 'ER'}, {'codes': {'code': '2481017', 'name': {'en': 'Gatineau', 'fr': 'Gatineau'}}, 'source': 'CSD_2016', 'geographicType': 'CSD'}]}}, {'addressId': 'b22198d4-4333-4b91-9238-5ea9eaabf4da', 'civicNumber': {'prefix': None, 'number': '56', 'suffix': {'code': None}}, 'streetName': 'Onésime', 'streetType': {'code': 'RUE'}, 'streetDirection': {'code': None}, 'cityName': {'en': 'Gatineau', 'fr': 'Gatineau'}, 'province': {'code': '24'}, 'country': {'code': 'CA', 'name': {'en': 'Canada', 'fr': 'Canada'}}, 'mailingAddress': {'streetName': 'ONÉSIME', 'streetType': {'code': 'RUE'}, 'streetDirection': {'code': None}, 'municipalityName': 'GATINEAU', 'province': {'code': 'QC'}, 'country': {'code': 'CA', 'name': {'en': 'Canada', 'fr': 'Canada'}}, 'postalCode': 'J8T2J1'}, 'location': {'locationID': '42609664-a713-4628-85c9-425a5f36fa36', 'geoCoordinates': {'latitude': 45.466044, 'longitude': -75.692874}, 'geographies': [{'codes': {'code': '24027', 'name': {'en': 'Gatineau', 'fr': 'Gatineau'}}, 'source': 'FED_2016', 'geographicType': 'FED'}, {'codes': {'code': '2460', 'name': {'en': 'Outaouais', 'fr': 'Outaouais'}}, 'source': 'ER_2016', 'geographicType': 'ER'}, {'codes': {'code': '2481017', 'name': {'en': 'Gatineau', 'fr': 'Gatineau'}}, 'source': 'CSD_2016', 'geographicType': 'CSD'}]}}, {'addressId': 'a557a32c-98cd-4de8-80f8-6b99bb1176e4', 'civicNumber': {'prefix': None, 'number': '27', 'suffix': {'code': None}}, 'streetName': 'Onésime', 'streetType': {'code': 'RUE'}, 'streetDirection': {'code': None}, 'cityName': {'en': 'Gatineau', 'fr': 'Gatineau'}, 'province': {'code': '24'}, 'country': {'code': 'CA', 'name': {'en': 'Canada', 'fr': 'Canada'}}, 'mailingAddress': {'streetName': 'ONÉSIME', 'streetType': {'code': 'RUE'}, 'streetDirection': {'code': None}, 'municipalityName': 'GATINEAU', 'province': {'code': 'QC'}, 'country': {'code': 'CA', 'name': {'en': 'Canada', 'fr': 'Canada'}}, 'postalCode': 'J8T2H7'}, 'location': {'locationID': 'e1cd73af-48ed-4283-bf2f-409ee15f061a', 'geoCoordinates': {'latitude': 45.465401, 'longitude': -75.696118}, 'geographies': [{'codes': {'code': '24027', 'name': {'en': 'Gatineau', 'fr': 'Gatineau'}}, 'source': 'FED_2016', 'geographicType': 'FED'}, {'codes': {'code': '2460', 'name': {'en': 'Outaouais', 'fr': 'Outaouais'}}, 'source': 'ER_2016', 'geographicType': 'ER'}, {'codes': {'code': '2481017', 'name': {'en': 'Gatineau', 'fr': 'Gatineau'}}, 'source': 'CSD_2016', 'geographicType': 'CSD'}]}}, {'addressId': 'bdfc0431-97b8-4160-b358-f55f0869b09a', 'civicNumber': {'prefix': None, 'number': '59', 'suffix': {'code': None}}, 'streetName': 'Onésime', 'streetType': {'code': 'RUE'}, 'streetDirection': {'code': None}, 'cityName': {'en': 'Gatineau', 'fr': 'Gatineau'}, 'province': {'code': '24'}, 'country': {'code': 'CA', 'name': {'en': 'Canada', 'fr': 'Canada'}}, 'mailingAddress': {'streetName': 'ONÉSIME', 'streetType': {'code': 'RUE'}, 'streetDirection': {'code': None}, 'municipalityName': 'GATINEAU', 'province': {'code': 'QC'}, 'country': {'code': 'CA', 'name': {'en': 'Canada', 'fr': 'Canada'}}, 'postalCode': 'J8T2J2'}, 'location': {'locationID': 'ac4a26da-331b-4218-98df-68ddccbb1910', 'geoCoordinates': {'latitude': 45.465619, 'longitude': -75.692637}, 'geographies': [{'codes': {'code': '24027', 'name': {'en': 'Gatineau', 'fr': 'Gatineau'}}, 'source': 'FED_2016', 'geographicType': 'FED'}, {'codes': {'code': '2460', 'name': {'en': 'Outaouais', 'fr': 'Outaouais'}}, 'source': 'ER_2016', 'geographicType': 'ER'}, {'codes': {'code': '2481017', 'name': {'en': 'Gatineau', 'fr': 'Gatineau'}}, 'source': 'CSD_2016', 'geographicType': 'CSD'}]}}, {'addressId': 'c4cd7f00-ccb5-474b-a09c-0e7985b0ea47', 'civicNumber': {'prefix': None, 'number': '28', 'suffix': {'code': None}}, 'streetName': 'Onésime', 'streetType': {'code': 'RUE'}, 'streetDirection': {'code': None}, 'cityName': {'en': 'Gatineau', 'fr': 'Gatineau'}, 'province': {'code': '24'}, 'country': {'code': 'CA', 'name': {'en': 'Canada', 'fr': 'Canada'}}, 'mailingAddress': {'streetName': 'ONÉSIME', 'streetType': {'code': 'RUE'}, 'streetDirection': {'code': None}, 'municipalityName': 'GATINEAU', 'province': {'code': 'QC'}, 'country': {'code': 'CA', 'name': {'en': 'Canada', 'fr': 'Canada'}}, 'postalCode': 'J8T2H6'}, 'location': {'locationID': 'aa4b8691-7ab3-490d-b262-54097630344c', 'geoCoordinates': {'latitude': 45.465797, 'longitude': -75.696176}, 'geographies': [{'codes': {'code': '24027', 'name': {'en': 'Gatineau', 'fr': 'Gatineau'}}, 'source': 'FED_2016', 'geographicType': 'FED'}, {'codes': {'code': '2460', 'name': {'en': 'Outaouais', 'fr': 'Outaouais'}}, 'source': 'ER_2016', 'geographicType': 'ER'}, {'codes': {'code': '2481017', 'name': {'en': 'Gatineau', 'fr': 'Gatineau'}}, 'source': 'CSD_2016', 'geographicType': 'CSD'}]}}, {'addressId': '27ccf5bd-7f09-41c0-ac8d-33fb6a818892', 'civicNumber': {'prefix': None, 'number': '69', 'suffix': {'code': None}}, 'streetName': 'Onésime', 'streetType': {'code': 'RUE'}, 'streetDirection': {'code': None}, 'cityName': {'en': 'Gatineau', 'fr': 'Gatineau'}, 'province': {'code': '24'}, 'country': {'code': 'CA', 'name': {'en': 'Canada', 'fr': 'Canada'}}, 'mailingAddress': {'streetName': 'ONÉSIME', 'streetType': {'code': 'RUE'}, 'streetDirection': {'code': None}, 'municipalityName': 'GATINEAU', 'province': {'code': 'QC'}, 'country': {'code': 'CA', 'name': {'en': 'Canada', 'fr': 'Canada'}}, 'postalCode': 'J8T2J3'}, 'location': {'locationID': '2ab6fc11-589f-4747-ab89-462fede8055a', 'geoCoordinates': {'latitude': 45.46581, 'longitude': -75.691573}, 'geographies': [{'codes': {'code': '24027', 'name': {'en': 'Gatineau', 'fr': 'Gatineau'}}, 'source': 'FED_2016', 'geographicType': 'FED'}, {'codes': {'code': '2460', 'name': {'en': 'Outaouais', 'fr': 'Outaouais'}}, 'source': 'ER_2016', 'geographicType': 'ER'}, {'codes': {'code': '2481017', 'name': {'en': 'Gatineau', 'fr': 'Gatineau'}}, 'source': 'CSD_2016', 'geographicType': 'CSD'}]}}, {'addressId': 'f4260905-d3b5-4fb8-841c-50c75169941c', 'civicNumber': {'prefix': None, 'number': '58', 'suffix': {'code': None}}, 'streetName': 'Onésime', 'streetType': {'code': 'RUE'}, 'streetDirection': {'code': None}, 'cityName': {'en': 'Gatineau', 'fr': 'Gatineau'}, 'province': {'code': '24'}, 'country': {'code': 'CA', 'name': {'en': 'Canada', 'fr': 'Canada'}}, 'mailingAddress': {'streetName': 'ONÉSIME', 'streetType': {'code': 'RUE'}, 'streetDirection': {'code': None}, 'municipalityName': 'GATINEAU', 'province': {'code': 'QC'}, 'country': {'code': 'CA', 'name': {'en': 'Canada', 'fr': 'Canada'}}, 'postalCode': 'J8T2J1'}, 'location': {'locationID': 'cbed3c9f-bae5-470e-823a-473992a90087', 'geoCoordinates': {'latitude': 45.466087, 'longitude': -75.692643}, 'geographies': [{'codes': {'code': '24027', 'name': {'en': 'Gatineau', 'fr': 'Gatineau'}}, 'source': 'FED_2016', 'geographicType': 'FED'}, {'codes': {'code': '2460', 'name': {'en': 'Outaouais', 'fr': 'Outaouais'}}, 'source': 'ER_2016', 'geographicType': 'ER'}, {'codes': {'code': '2481017', 'name': {'en': 'Gatineau', 'fr': 'Gatineau'}}, 'source': 'CSD_2016', 'geographicType': 'CSD'}]}}, {'addressId': '647cf9f3-63cc-4c6a-b965-5bd300f4fda0', 'civicNumber': {'prefix': None, 'number': '22', 'suffix': {'code': None}}, 'streetName': 'Onésime', 'streetType': {'code': 'RUE'}, 'streetDirection': {'code': None}, 'cityName': {'en': 'Gatineau', 'fr': 'Gatineau'}, 'province': {'code': '24'}, 'country': {'code': 'CA', 'name': {'en': 'Canada', 'fr': 'Canada'}}, 'mailingAddress': {'streetName': 'ONÉSIME', 'streetType': {'code': 'RUE'}, 'streetDirection': {'code': None}, 'municipalityName': 'GATINEAU', 'province': {'code': 'QC'}, 'country': {'code': 'CA', 'name': {'en': 'Canada', 'fr': 'Canada'}}, 'postalCode': 'J8T2H6'}, 'location': {'locationID': '2b034858-1c9b-44a0-b7e2-24c637207740', 'geoCoordinates': {'latitude': 45.465766, 'longitude': -75.696893}, 'geographies': [{'codes': {'code': '24027', 'name': {'en': 'Gatineau', 'fr': 'Gatineau'}}, 'source': 'FED_2016', 'geographicType': 'FED'}, {'codes': {'code': '2460', 'name': {'en': 'Outaouais', 'fr': 'Outaouais'}}, 'source': 'ER_2016', 'geographicType': 'ER'}, {'codes': {'code': '2481017', 'name': {'en': 'Gatineau', 'fr': 'Gatineau'}}, 'source': 'CSD_2016', 'geographicType': 'CSD'}]}}, {'addressId': '29ebc1e8-b8b0-4df5-9a4b-1bfebd51a032', 'civicNumber': {'prefix': None, 'number': '75', 'suffix': {'code': None}}, 'streetName': 'Onésime', 'streetType': {'code': 'RUE'}, 'streetDirection': {'code': None}, 'cityName': {'en': 'Gatineau', 'fr': 'Gatineau'}, 'province': {'code': '24'}, 'country': {'code': 'CA', 'name': {'en': 'Canada', 'fr': 'Canada'}}, 'mailingAddress': {'streetName': 'ONÉSIME', 'streetType': {'code': 'RUE'}, 'streetDirection': {'code': None}, 'municipalityName': 'GATINEAU', 'province': {'code': 'QC'}, 'country': {'code': 'CA', 'name': {'en': 'Canada', 'fr': 'Canada'}}, 'postalCode': 'J8T2J3'}, 'location': {'locationID': '475c4fbe-8f45-4993-8c31-7d7db3492860', 'geoCoordinates': {'latitude': 45.466039, 'longitude': -75.690968}, 'geographies': [{'codes': {'code': '24027', 'name': {'en': 'Gatineau', 'fr': 'Gatineau'}}, 'source': 'FED_2016', 'geographicType': 'FED'}, {'codes': {'code': '2460', 'name': {'en': 'Outaouais', 'fr': 'Outaouais'}}, 'source': 'ER_2016', 'geographicType': 'ER'}, {'codes': {'code': '2481017', 'name': {'en': 'Gatineau', 'fr': 'Gatineau'}}, 'source': 'CSD_2016', 'geographicType': 'CSD'}]}}, {'addressId': '532a5ef6-1747-4e92-a25d-f0545893ce95', 'civicNumber': {'prefix': None, 'number': '66', 'suffix': {'code': None}}, 'streetName': 'Onésime', 'streetType': {'code': 'RUE'}, 'streetDirection': {'code': None}, 'cityName': {'en': 'Gatineau', 'fr': 'Gatineau'}, 'province': {'code': '24'}, 'country': {'code': 'CA', 'name': {'en': 'Canada', 'fr': 'Canada'}}, 'mailingAddress': {'streetName': 'ONÉSIME', 'streetType': {'code': 'RUE'}, 'streetDirection': {'code': None}, 'municipalityName': 'GATINEAU', 'province': {'code': 'QC'}, 'country': {'code': 'CA', 'name': {'en': 'Canada', 'fr': 'Canada'}}, 'postalCode': 'J8T2J1'}, 'location': {'locationID': 'f92dae47-a3a2-449e-8c5d-751d40f395e1', 'geoCoordinates': {'latitude': 45.466261, 'longitude': -75.691758}, 'geographies': [{'codes': {'code': '24027', 'name': {'en': 'Gatineau', 'fr': 'Gatineau'}}, 'source': 'FED_2016', 'geographicType': 'FED'}, {'codes': {'code': '2460', 'name': {'en': 'Outaouais', 'fr': 'Outaouais'}}, 'source': 'ER_2016', 'geographicType': 'ER'}, {'codes': {'code': '2481017', 'name': {'en': 'Gatineau', 'fr': 'Gatineau'}}, 'source': 'CSD_2016', 'geographicType': 'CSD'}]}}, {'addressId': 'bc4dd5cc-9e32-4aa5-8c48-564b2b1dba5a', 'civicNumber': {'prefix': None, 'number': '68', 'suffix': {'code': None}}, 'streetName': 'Onésime', 'streetType': {'code': 'RUE'}, 'streetDirection': {'code': None}, 'cityName': {'en': 'Gatineau', 'fr': 'Gatineau'}, 'province': {'code': '24'}, 'country': {'code': 'CA', 'name': {'en': 'Canada', 'fr': 'Canada'}}, 'mailingAddress': {'streetName': 'ONÉSIME', 'streetType': {'code': 'RUE'}, 'streetDirection': {'code': None}, 'municipalityName': 'GATINEAU', 'province': {'code': 'QC'}, 'country': {'code': 'CA', 'name': {'en': 'Canada', 'fr': 'Canada'}}, 'postalCode': 'J8T2J1'}, 'location': {'locationID': '31c19639-f980-4576-b7b0-0824d1d84d7b', 'geoCoordinates': {'latitude': 45.466304, 'longitude': -75.691527}, 'geographies': [{'codes': {'code': '24027', 'name': {'en': 'Gatineau', 'fr': 'Gatineau'}}, 'source': 'FED_2016', 'geographicType': 'FED'}, {'codes': {'code': '2460', 'name': {'en': 'Outaouais', 'fr': 'Outaouais'}}, 'source': 'ER_2016', 'geographicType': 'ER'}, {'codes': {'code': '2481017', 'name': {'en': 'Gatineau', 'fr': 'Gatineau'}}, 'source': 'CSD_2016', 'geographicType': 'CSD'}]}}]}\n",
      "\n",
      "\n",
      "9: 320, monument pl se, Calgary, AB\n",
      "<Response [200]>\n",
      "[3] gc street address found\n",
      "{'meta': {'prepared': '2022-11-03T20:54:07.9297256+00:00', 'test': False, 'contentLanguage': ['en', 'fr']}, 'search': {'searchStyle': 'simple', 'criteria': 'Query: 320, monument pl se, Calgary, AB  ', 'total': 1}, 'data': [{'addressId': 'fd1c3cd0-6bf1-4287-8cb1-9d8def72beb8', 'civicNumber': {'prefix': None, 'number': '320', 'suffix': {'code': None}}, 'streetName': 'Monument', 'streetType': {'code': 'PL'}, 'streetDirection': {'code': 'SE'}, 'cityName': {'en': 'Calgary', 'fr': 'Calgary'}, 'province': {'code': '48'}, 'country': {'code': 'CA', 'name': {'en': 'Canada', 'fr': 'Canada'}}, 'mailingAddress': {'streetName': 'MONUMENT', 'streetType': {'code': 'PL'}, 'streetDirection': {'code': 'SE'}, 'municipalityName': 'CALGARY', 'province': {'code': 'AB'}, 'country': {'code': 'CA', 'name': {'en': 'Canada', 'fr': 'Canada'}}, 'postalCode': 'T2A1X3'}, 'location': {'locationID': '6ee892d0-dc32-4281-9eea-a61543a32ba1', 'geoCoordinates': {'latitude': 51.050736, 'longitude': -113.996714}, 'geographies': [{'codes': {'code': '48006', 'name': {'en': 'Calgary Forest Lawn', 'fr': 'Calgary Forest Lawn'}}, 'source': 'FED_2016', 'geographicType': 'FED'}, {'codes': {'code': '4830', 'name': {'en': 'Calgary', 'fr': 'Calgary'}}, 'source': 'ER_2016', 'geographicType': 'ER'}, {'codes': {'code': '4806016', 'name': {'en': 'Calgary', 'fr': 'Calgary'}}, 'source': 'CSD_2016', 'geographicType': 'CSD'}]}}]}\n",
      "\n",
      "\n",
      "10: 582, chemin de touraine, Boucherville (Québec), QC\n",
      "<Response [204]>\n",
      "no gc street address found\n",
      "\n",
      "\n"
     ]
    }
   ],
   "source": [
    "for i in range(len(reqs_gc)):\n",
    "    query_gc = reqs_gc[i]\n",
    "    \n",
    "    \n",
    "    time.sleep(1) \n",
    "        \n",
    "    # we first try facility name street address,\n",
    "    # if that fails, we try street address and then city \n",
    "    # which one we use is recorded in the geo_source column\n",
    "        \n",
    "    print(str(i + 1) + ': ' + query_gc)\n",
    "    \n",
    "\n",
    "     # try GC API\n",
    "    params_gc = {'qstr': query_gc}\n",
    "    headers_gc = {'user_key': gc_key}\n",
    "    coords_gc = requests.get(url_gc, params=params_gc, headers=headers_gc)\n",
    "    \n",
    "    print(coords_gc)\n",
    "#                 print(\"trying gc api with query: \" + query_gc)    \n",
    "    if (coords_gc.status_code == 200):\n",
    "        resp = coords_gc.json()\n",
    "        print('[3] gc street address found')\n",
    "#         df['geo_source'].iloc[i] = \"gc_street_address\"\n",
    "        print(resp)\n",
    "    else:\n",
    "        print('no gc street address found')\n",
    "\n",
    "    print(\"\\n\")\n",
    "#     JSONS.append(resp)\n",
    "\n",
    "#     if resp!=[]:\n",
    "#         print(\"\\n\")\n",
    "# #         print(resp)"
   ]
  },
  {
   "cell_type": "code",
   "execution_count": null,
   "metadata": {},
   "outputs": [],
   "source": []
  }
 ],
 "metadata": {
  "kernelspec": {
   "display_name": "Python 3 (ipykernel)",
   "language": "python",
   "name": "python3"
  },
  "language_info": {
   "codemirror_mode": {
    "name": "ipython",
    "version": 3
   },
   "file_extension": ".py",
   "mimetype": "text/x-python",
   "name": "python",
   "nbconvert_exporter": "python",
   "pygments_lexer": "ipython3",
   "version": "3.8.12"
  }
 },
 "nbformat": 4,
 "nbformat_minor": 4
}
