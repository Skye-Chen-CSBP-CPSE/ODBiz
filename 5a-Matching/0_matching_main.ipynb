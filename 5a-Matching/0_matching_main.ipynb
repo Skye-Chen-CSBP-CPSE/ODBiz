{
 "cells": [
  {
   "cell_type": "code",
   "execution_count": 8,
   "metadata": {
    "execution": {
     "iopub.execute_input": "2022-09-15T22:42:45.084142Z",
     "iopub.status.busy": "2022-09-15T22:42:45.083841Z",
     "iopub.status.idle": "2022-09-15T22:42:45.089098Z",
     "shell.execute_reply": "2022-09-15T22:42:45.088159Z",
     "shell.execute_reply.started": "2022-09-15T22:42:45.084109Z"
    },
    "tags": []
   },
   "outputs": [],
   "source": [
    "import sys\n",
    "\n",
    "import oda_download\n",
    "import oda_formatting\n",
    "import address_format\n",
    "import pre_processing\n",
    "import address_matching\n",
    "import post_processing"
   ]
  },
  {
   "cell_type": "code",
   "execution_count": null,
   "metadata": {
    "tags": []
   },
   "outputs": [],
   "source": [
    "# Downloads the ODA data files for each province and saves them in data/oda_addresses\n",
    "oda_download.main()"
   ]
  },
  {
   "cell_type": "code",
   "execution_count": null,
   "metadata": {},
   "outputs": [],
   "source": [
    "# Applies formatting to street name columns in the ODA datasets. \n",
    "# Takes in arguments of the files to be formatted and stores all outputs in data/oda_addresses/formatted.\n",
    "oda_formatting.main()"
   ]
  },
  {
   "cell_type": "code",
   "execution_count": null,
   "metadata": {},
   "outputs": [],
   "source": [
    "# Applies formatting to street names. \n",
    "# Takes in arguments of the files to be formatted and stores all outputs in data/formatted.\n",
    "# Might take up to 5 or so hours to complete\n",
    "address_formatting.main()"
   ]
  },
  {
   "cell_type": "code",
   "execution_count": null,
   "metadata": {},
   "outputs": [],
   "source": [
    "# Removes duplicate addresses and rows without street address data needed for matching.\n",
    "pre_processing.main()"
   ]
  },
  {
   "cell_type": "code",
   "execution_count": null,
   "metadata": {},
   "outputs": [],
   "source": [
    "# Takes in our source dataset and ODA datasets to match against. \n",
    "# Outputs a csv of matched data for each province and one complete csv for the entire dataset in data/output\n",
    "# Can take around 36 hours to complete\n",
    "address_match.main()"
   ]
  },
  {
   "cell_type": "code",
   "execution_count": null,
   "metadata": {},
   "outputs": [],
   "source": [
    "# Adds back in any data that has been removed for geocoding. \n",
    "post_process.main()"
   ]
  },
  {
   "cell_type": "code",
   "execution_count": null,
   "metadata": {},
   "outputs": [],
   "source": [
    "def main():\n",
    "    \n",
    "if __name__ == \"__main__\":\n",
    "    main()"
   ]
  }
 ],
 "metadata": {
  "kernelspec": {
   "display_name": "Python 3 (ipykernel)",
   "language": "python",
   "name": "python3"
  },
  "language_info": {
   "codemirror_mode": {
    "name": "ipython",
    "version": 3
   },
   "file_extension": ".py",
   "mimetype": "text/x-python",
   "name": "python",
   "nbconvert_exporter": "python",
   "pygments_lexer": "ipython3",
   "version": "3.9.13"
  }
 },
 "nbformat": 4,
 "nbformat_minor": 4
}
