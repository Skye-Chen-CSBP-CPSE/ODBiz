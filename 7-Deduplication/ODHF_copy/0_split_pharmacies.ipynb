{
 "cells": [
  {
   "cell_type": "code",
   "execution_count": 8,
   "metadata": {
    "execution": {
     "iopub.execute_input": "2022-05-04T16:03:04.622469Z",
     "iopub.status.busy": "2022-05-04T16:03:04.622228Z",
     "iopub.status.idle": "2022-05-04T16:03:05.376234Z",
     "shell.execute_reply": "2022-05-04T16:03:05.375613Z",
     "shell.execute_reply.started": "2022-05-04T16:03:04.622442Z"
    },
    "tags": []
   },
   "outputs": [
    {
     "name": "stderr",
     "output_type": "stream",
     "text": [
      "<ipython-input-8-c0fd18707a75>:5: DtypeWarning: Columns (17,20,23,24,25,27,28,29) have mixed types. Specify dtype option on import or set low_memory=False.\n",
      "  df = pd.read_csv('../7-Deduplication/inputs/Assigned_CSDs.csv')\n"
     ]
    }
   ],
   "source": [
    "import pandas as pd\n",
    "\n",
    "# Make separate dataset of only pharmacies and covid-19 facilities\n",
    "\n",
    "df = pd.read_csv('../7-Deduplication/inputs/Assigned_CSDs.csv')\n",
    "\n",
    "\n",
    "df.loc[df['facility_name'].str.contains('hebergement', case=False, na=False), 'facility_type'] = 'Nursing and residential care facilities'\n",
    "df.loc[df['facility_name'].str.contains('nursing station|centre de soins infirmier', case=False, na=False), 'facility_type'] = 'Ambulatory health care services'\n",
    "\n",
    "\n",
    "\n",
    "df_phar = df.loc[df['facility_type'].isin(['Pharmacy','Covid-19 related facilities', 'Laboratory'])]\n",
    "df_rest = df.loc[~df['facility_type'].isin(['Pharmacy','Covid-19 related facilities', 'Laboratory'])]\n",
    "\n",
    "df_phar.reset_index(drop=True, inplace=True)\n",
    "\n",
    "#df_rest = df_rest.dropna(subset=['longitude', 'latitude'], how='all')\n",
    "\n",
    "df_phar.to_csv('../7-Deduplication/pharmacies_and_covid/inputs/pharmacies_only.csv', index=False)\n",
    "df_rest.to_csv('../7-Deduplication/inputs/assigned_CSDs.csv', index=False)"
   ]
  },
  {
   "cell_type": "code",
   "execution_count": null,
   "metadata": {},
   "outputs": [],
   "source": []
  }
 ],
 "metadata": {
  "kernelspec": {
   "display_name": "Python 3 (ipykernel)",
   "language": "python",
   "name": "python3"
  },
  "language_info": {
   "codemirror_mode": {
    "name": "ipython",
    "version": 3
   },
   "file_extension": ".py",
   "mimetype": "text/x-python",
   "name": "python",
   "nbconvert_exporter": "python",
   "pygments_lexer": "ipython3",
   "version": "3.8.12"
  }
 },
 "nbformat": 4,
 "nbformat_minor": 4
}
