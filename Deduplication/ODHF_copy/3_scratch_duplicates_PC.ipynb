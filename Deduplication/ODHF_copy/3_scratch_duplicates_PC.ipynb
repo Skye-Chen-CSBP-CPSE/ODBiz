{
 "cells": [
  {
   "cell_type": "code",
   "execution_count": 42,
   "metadata": {
    "execution": {
     "iopub.execute_input": "2022-05-04T16:03:50.631867Z",
     "iopub.status.busy": "2022-05-04T16:03:50.631584Z",
     "iopub.status.idle": "2022-05-04T16:04:42.720314Z",
     "shell.execute_reply": "2022-05-04T16:04:42.719661Z",
     "shell.execute_reply.started": "2022-05-04T16:03:50.631838Z"
    },
    "tags": []
   },
   "outputs": [],
   "source": [
    "import pandas as pd\n",
    "import numpy as np\n",
    "\n",
    "#read database file used in 7-Dedup.\n",
    "final = pd.read_csv(\"inputs/assigned_CSDs.csv\", low_memory=False)\n",
    "\n",
    "#read dedupe file\n",
    "df = pd.read_csv(\"outputs/probable_duplicates_PC.csv\")\n",
    "\n",
    "def hierarchy(id1, id2): \n",
    "    \n",
    "    try:\n",
    "\n",
    "        check_beds1 = final.loc[final.idx == id1].number_beds.item()\n",
    "        check_beds2 = final.loc[final.idx == id2].number_beds.item()\n",
    "        check_type1 = final.loc[final.idx == id1].facility_type.item()\n",
    "        check_type2 = final.loc[final.idx == id2].facility_type.item()\n",
    "        check_file1 = final.loc[final.idx == id1].filename.item()\n",
    "        check_file2 = final.loc[final.idx == id2].filename.item()\n",
    "        check_name1 = final.loc[final.idx == id1].facility_name.item()\n",
    "        check_name2 = final.loc[final.idx == id2].facility_name.item()\n",
    "        check_addr1 = final.loc[final.idx == id1].street_name.item()\n",
    "        check_addr2 = final.loc[final.idx == id2].street_name.item()\n",
    "\n",
    "        filename_priority = ['QC_healthcare_facilities.csv', 'QC_Gatineau_public_places_including_hospitals,csv', 'QC_Quebec_City_public_places.csv', \n",
    "                             'ON_Ottawa_hospital.csv', 'ON_Durham_healthcare_facilities.csv', 'ON_healthcare_facilities.csv', 'NB_hospital_horizon.csv', 'NB_nursing_homes.csv']\n",
    "\n",
    "        facilityname_priority = ['hospital', 'hôpita','hopita']\n",
    "\n",
    "        if filename_priority.count(check_file1) == 1:\n",
    "\n",
    "            if filename_priority.count(check_file2) == 1:\n",
    "\n",
    "                priority1 = filename_priority.index(check_file1)\n",
    "                priority2 = filename_priority.index(check_file2)\n",
    "\n",
    "                if priority1 > priority2:\n",
    "                    return id1\n",
    "                elif priority1 < priority2:\n",
    "                    return id2\n",
    "                elif priority1 == priority2:\n",
    "\n",
    "                    if any(substring in check_name1.lower() for substring in facilityname_priority):\n",
    "                        return id2\n",
    "                    elif any(substring in check_name2.lower() for substring in facilityname_priority):\n",
    "                        return id1\n",
    "                    else:\n",
    "                        return id2\n",
    "\n",
    "            elif filename_priority.count(check_file2) == 0:\n",
    "                return id2\n",
    "\n",
    "        elif filename_priority.count(check_file1) == 0:\n",
    "\n",
    "            if filename_priority.count(check_file2) == 1:\n",
    "                return id1\n",
    "\n",
    "            elif filename_priority.count(check_file2) == 0:\n",
    "                \n",
    "                if check_addr1 == np.nan and check_addr2 != np.nan:\n",
    "                    return id1\n",
    "\n",
    "                if check_addr1 != np.nan and check_addr2 == np.nan:\n",
    "                    return id2\n",
    "\n",
    "                if (check_addr1 == np.nan and check_addr2 == np.nan) or (check_addr1 != np.nan and check_addr2 != np.nan):\n",
    "\n",
    "                    if check_file1 == 'CIHI_healthcare_facilities.csv' and check_file2 != 'CIHI_healthcare_facilities.csv':\n",
    "                        return id1\n",
    "\n",
    "                    elif check_file2 == 'CIHI_healthcare_facilities.csv' and check_file1 != 'CIHI_healthcare_facilities.csv':\n",
    "                        return id2\n",
    "\n",
    "                    else:\n",
    "\n",
    "                        if check_beds1 == np.nan and check_beds2 == np.nan:\n",
    "\n",
    "                            if any(substring in check_name1.lower() for substring in facilityname_priority):\n",
    "                                return id2\n",
    "                            elif any(substring in check_name2.lower() for substring in facilityname_priority):\n",
    "                                return id1\n",
    "                            else:\n",
    "                                return id2\n",
    "\n",
    "                        elif check_beds1 == np.nan and check_beds2 != np.nan:\n",
    "                            return id1\n",
    "\n",
    "                        elif check_beds1 != np.nan and check_beds2 == np.nan:\n",
    "                            return id2\n",
    "\n",
    "                        elif check_beds1 != np.nan and check_beds2 != np.nan:\n",
    "\n",
    "                            if any(substring in check_name1.lower() for substring in facilityname_priority):\n",
    "                                return id2\n",
    "                            elif any(substring in check_name2.lower() for substring in facilityname_priority):\n",
    "                                return id1\n",
    "                            else:\n",
    "                                return id2\n",
    "\n",
    "\n",
    "\n",
    "    except ValueError:\n",
    "        return \"Item not found.\"\n",
    "\n",
    "\n",
    "df[\"to_remove\"] = df.apply(lambda x: hierarchy(id1 = x.idx1, id2 = x.idx2), axis = 1)\n",
    "#df.to_csv('test.csv')\n"
   ]
  },
  {
   "cell_type": "code",
   "execution_count": 43,
   "metadata": {
    "execution": {
     "iopub.execute_input": "2022-05-04T16:04:42.721553Z",
     "iopub.status.busy": "2022-05-04T16:04:42.721342Z",
     "iopub.status.idle": "2022-05-04T16:04:42.875564Z",
     "shell.execute_reply": "2022-05-04T16:04:42.874408Z",
     "shell.execute_reply.started": "2022-05-04T16:04:42.721502Z"
    },
    "tags": []
   },
   "outputs": [],
   "source": [
    "def check_1(address, distance, name, streetnumber, types):\n",
    "\n",
    "    if distance != None:\n",
    "        if address >= 0.75 and distance < 2 and name > 0.7 and streetnumber == 1 and types == 1:\n",
    "            return True\n",
    "        else:\n",
    "            return False\n",
    "\n",
    "    else:\n",
    "        return False\n",
    "\n",
    "df[\"Check_1\"] = df.apply(lambda x: check_1(address = x.Addr_CS, \n",
    "                          distance = x.Distance,\n",
    "                          name = x.Name_CS,\n",
    "                          streetnumber = x.StrNum_Match,\n",
    "                          types = x.Type_Match), axis=1)\n",
    "\n",
    "#df.to_csv('test.csv')"
   ]
  },
  {
   "cell_type": "code",
   "execution_count": 44,
   "metadata": {
    "execution": {
     "iopub.execute_input": "2022-05-04T16:04:42.877062Z",
     "iopub.status.busy": "2022-05-04T16:04:42.876877Z",
     "iopub.status.idle": "2022-05-04T16:04:43.004537Z",
     "shell.execute_reply": "2022-05-04T16:04:43.003898Z",
     "shell.execute_reply.started": "2022-05-04T16:04:42.877039Z"
    },
    "tags": []
   },
   "outputs": [],
   "source": [
    "def check_2(address, distance, name, types):\n",
    "\n",
    "    if distance != None:\n",
    "        if address >= 0.75 and distance < 1 and name > 0.85 and types == 1:\n",
    "            return True\n",
    "        else:\n",
    "            return False\n",
    "\n",
    "    else:\n",
    "        return False\n",
    "\n",
    "df[\"Check_2\"] = df.apply(lambda x: check_2(address = x.Addr_CS, \n",
    "                          distance = x.Distance,\n",
    "                          name = x.Name_CS,\n",
    "                          types = x.Type_Match), axis=1)\n"
   ]
  },
  {
   "cell_type": "code",
   "execution_count": 45,
   "metadata": {
    "execution": {
     "iopub.execute_input": "2022-05-04T16:04:43.005857Z",
     "iopub.status.busy": "2022-05-04T16:04:43.005671Z",
     "iopub.status.idle": "2022-05-04T16:04:43.133283Z",
     "shell.execute_reply": "2022-05-04T16:04:43.132614Z",
     "shell.execute_reply.started": "2022-05-04T16:04:43.005835Z"
    },
    "tags": []
   },
   "outputs": [],
   "source": [
    "def check_3(address, distance, file, types):\n",
    "\n",
    "    if distance != None:\n",
    "        if address >= 0.99 and distance <= 0.5 and file == 1 and types == 1:\n",
    "            return True\n",
    "        else:\n",
    "            return False\n",
    "\n",
    "    else:\n",
    "        return False\n",
    "\n",
    "df[\"Check_3\"] = df.apply(lambda x: check_3(address = x.Addr_CS, \n",
    "                          distance = x.Distance,\n",
    "                          file = x.File_Match,\n",
    "                          types = x.Type_Match), axis=1)"
   ]
  },
  {
   "cell_type": "code",
   "execution_count": 46,
   "metadata": {
    "execution": {
     "iopub.execute_input": "2022-05-04T16:04:43.134367Z",
     "iopub.status.busy": "2022-05-04T16:04:43.134190Z",
     "iopub.status.idle": "2022-05-04T16:04:43.266933Z",
     "shell.execute_reply": "2022-05-04T16:04:43.266259Z",
     "shell.execute_reply.started": "2022-05-04T16:04:43.134345Z"
    },
    "tags": []
   },
   "outputs": [],
   "source": [
    "def check_4(address, distance, streetnumber, types):\n",
    "\n",
    "    if distance != None:\n",
    "        if address >= 0.8 and distance < 0.1 and streetnumber == 1 and types == 1:\n",
    "            return True\n",
    "        else:\n",
    "            return False\n",
    "\n",
    "    else:\n",
    "        return False\n",
    "\n",
    "df[\"Check_4\"] = df.apply(lambda x: check_4(address = x.Addr_CS, \n",
    "                          distance = x.Distance, \n",
    "                          streetnumber = x.StrNum_Match,\n",
    "                          types = x.Type_Match), axis=1)"
   ]
  },
  {
   "cell_type": "code",
   "execution_count": 47,
   "metadata": {
    "execution": {
     "iopub.execute_input": "2022-05-04T16:04:43.267983Z",
     "iopub.status.busy": "2022-05-04T16:04:43.267801Z",
     "iopub.status.idle": "2022-05-04T16:04:43.397410Z",
     "shell.execute_reply": "2022-05-04T16:04:43.396675Z",
     "shell.execute_reply.started": "2022-05-04T16:04:43.267961Z"
    },
    "tags": []
   },
   "outputs": [],
   "source": [
    "def check_5(address, distance, name, streetnumber):\n",
    "\n",
    "    if distance != None:\n",
    "        if address >= 0.90 and distance < 2 and name > 0.93 and streetnumber == 1:\n",
    "            return True\n",
    "        else:\n",
    "            return False\n",
    "\n",
    "    else:\n",
    "        return False\n",
    "\n",
    "df[\"Check_5\"] = df.apply(lambda x: check_5(address = x.Addr_CS, \n",
    "                          distance = x.Distance,\n",
    "                          name = x.Name_CS,\n",
    "                          streetnumber = x.StrNum_Match), axis=1)"
   ]
  },
  {
   "cell_type": "code",
   "execution_count": 48,
   "metadata": {
    "execution": {
     "iopub.execute_input": "2022-05-04T16:04:43.398638Z",
     "iopub.status.busy": "2022-05-04T16:04:43.398451Z",
     "iopub.status.idle": "2022-05-04T16:04:44.104232Z",
     "shell.execute_reply": "2022-05-04T16:04:44.103582Z",
     "shell.execute_reply.started": "2022-05-04T16:04:43.398614Z"
    },
    "tags": []
   },
   "outputs": [],
   "source": [
    "# remove duplicates\n",
    "\n",
    "rows = df.index[(df['Check_1'] == True) | (df['Check_2'] == True) | (df['Check_3'] == True) | (df['Check_4'] == True) | (df['Check_5'] == True)].tolist()\n",
    "false_rows = df.index[(df['Check_1'] == False) & (df['Check_2'] == False) & (df['Check_3'] == False) & (df['Check_4'] == False) & (df['Check_5'] == False)].tolist()\n",
    "#print(rows)\n",
    "\n",
    "df_true = df.loc[rows]\n",
    "df_false = df.loc[false_rows]\n",
    "\n",
    "df_true.to_csv('outputs/duplicates_PC.csv', index=False)\n",
    "df_false.to_csv('outputs/NOT_duplicates_PC.csv', index=False)\n",
    "\n",
    "hashes = df_true['to_remove'].tolist()\n",
    "\n",
    "final = final[~final['idx'].isin(hashes)]\n",
    "final.to_csv('deduplicated_PC.csv', index=False)\n",
    "final.to_csv('inputs/deduplicated_PC.csv', index=False)\n"
   ]
  },
  {
   "cell_type": "code",
   "execution_count": null,
   "metadata": {},
   "outputs": [],
   "source": []
  }
 ],
 "metadata": {
  "kernelspec": {
   "display_name": "Python 3 (ipykernel)",
   "language": "python",
   "name": "python3"
  },
  "language_info": {
   "codemirror_mode": {
    "name": "ipython",
    "version": 3
   },
   "file_extension": ".py",
   "mimetype": "text/x-python",
   "name": "python",
   "nbconvert_exporter": "python",
   "pygments_lexer": "ipython3",
   "version": "3.8.12"
  }
 },
 "nbformat": 4,
 "nbformat_minor": 4
}
