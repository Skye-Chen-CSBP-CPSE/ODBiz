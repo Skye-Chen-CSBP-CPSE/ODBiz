{
 "cells": [
  {
   "cell_type": "code",
   "execution_count": 1,
   "metadata": {
    "execution": {
     "iopub.execute_input": "2022-12-06T14:38:52.133038Z",
     "iopub.status.busy": "2022-12-06T14:38:52.132485Z",
     "iopub.status.idle": "2022-12-06T14:38:52.138079Z",
     "shell.execute_reply": "2022-12-06T14:38:52.136649Z",
     "shell.execute_reply.started": "2022-12-06T14:38:52.132827Z"
    }
   },
   "outputs": [],
   "source": [
    "# Data cleaning\n",
    "\n",
    "# Todo\n",
    "    # Sanity check each variable (range of values)\n",
    "    # Remove unecessary columns"
   ]
  },
  {
   "cell_type": "markdown",
   "metadata": {},
   "source": [
    "\n",
    "Cleaning:\n",
    "\n",
    "\n",
    "1. Split df into QC and not QC (QC is not in the final public dataset therefor left for cleaning round 2) \n",
    "\n",
    "2. Title Case: street names, business names, sectors and country columns\n",
    "\n",
    "3. In province column replace LAKEVIEW ESTATE and 78 with BC \n",
    "\n",
    "4. Add in provinces when known (grab from local_file column if need be)\n",
    "\n",
    "5. Get rid of additional info in city column, everything after the comma (,)\n",
    "\n",
    "6. Fix Toronto spellings\n",
    "\n",
    "7. Check City column for city’s out of country\n",
    "\n",
    "8. LAT/ LONG columns, check if in range for Canada  \n",
    "\n",
    "9. Add in country if Canada – count how many are ‘outside’ of Canada\n",
    "\n",
    "10. Make NAICS column only numbers and only one column (i.e. get rid off NAICS_Group column) \n",
    "\n",
    "11. Investigate if license numbers need leading zeros and get rid if them if not\n",
    "\n",
    "12. Get rid of .0 in CSDUID column\n",
    "\n",
    "13. Status column - unify language \n",
    "\n",
    "14. Check that street name and number were split up correctly\n",
    "\n",
    "15. Nanaimo – duplicates? (‘out of business’)\n",
    "\n",
    "16. Sanity check each column to make sure the info makes sense, if not get rid of the values\n",
    "\n",
    "17. Get rid of the columns that we don't need\n",
    "\n",
    "18. Standardize remaing column names\n",
    "\n",
    "\n",
    "\n",
    "\n",
    "\n",
    "\n",
    "\n",
    "\n",
    "\n",
    "\n",
    "\n",
    "\n",
    "\n",
    "\n"
   ]
  },
  {
   "cell_type": "code",
   "execution_count": 3,
   "metadata": {
    "execution": {
     "iopub.execute_input": "2023-01-13T23:45:13.414392Z",
     "iopub.status.busy": "2023-01-13T23:45:13.414071Z",
     "iopub.status.idle": "2023-01-13T23:45:15.503037Z",
     "shell.execute_reply": "2023-01-13T23:45:15.501872Z",
     "shell.execute_reply.started": "2023-01-13T23:45:13.414356Z"
    },
    "tags": []
   },
   "outputs": [
    {
     "name": "stderr",
     "output_type": "stream",
     "text": [
      "/opt/conda/lib/python3.8/site-packages/requests/__init__.py:102: RequestsDependencyWarning: urllib3 (1.26.7) or chardet (5.0.0)/charset_normalizer (2.0.9) doesn't match a supported version!\n",
      "  warnings.warn(\"urllib3 ({}) or chardet ({})/charset_normalizer ({}) doesn't match a supported \"\n"
     ]
    }
   ],
   "source": [
    "import pandas as pd\n",
    "import numpy as np\n",
    "import mitosheet"
   ]
  },
  {
   "cell_type": "code",
   "execution_count": 41,
   "metadata": {
    "execution": {
     "iopub.execute_input": "2022-12-13T16:10:25.485634Z",
     "iopub.status.busy": "2022-12-13T16:10:25.485318Z",
     "iopub.status.idle": "2022-12-13T16:10:39.638644Z",
     "shell.execute_reply": "2022-12-13T16:10:39.637797Z",
     "shell.execute_reply.started": "2022-12-13T16:10:25.485603Z"
    },
    "tags": []
   },
   "outputs": [],
   "source": [
    "input_data = \"/home/jovyan/ODBiz/6-AssignCSDs/NAICS_Final.csv\"\n",
    "df_input = pd.read_csv(input_data, low_memory=False, dtype=\"str\")"
   ]
  },
  {
   "cell_type": "code",
   "execution_count": 42,
   "metadata": {
    "execution": {
     "iopub.execute_input": "2022-12-13T16:10:41.436377Z",
     "iopub.status.busy": "2022-12-13T16:10:41.435978Z",
     "iopub.status.idle": "2022-12-13T16:10:41.442202Z",
     "shell.execute_reply": "2022-12-13T16:10:41.441338Z",
     "shell.execute_reply.started": "2022-12-13T16:10:41.436335Z"
    },
    "tags": []
   },
   "outputs": [],
   "source": [
    "df = df_input"
   ]
  },
  {
   "cell_type": "code",
   "execution_count": 43,
   "metadata": {
    "execution": {
     "iopub.execute_input": "2022-12-13T16:10:42.053997Z",
     "iopub.status.busy": "2022-12-13T16:10:42.053730Z",
     "iopub.status.idle": "2022-12-13T16:10:42.201888Z",
     "shell.execute_reply": "2022-12-13T16:10:42.200622Z",
     "shell.execute_reply.started": "2022-12-13T16:10:42.053970Z"
    },
    "tags": []
   },
   "outputs": [],
   "source": [
    "df_toronto = df[df['city'] == 'TORONTO, ON']"
   ]
  },
  {
   "cell_type": "code",
   "execution_count": 44,
   "metadata": {
    "execution": {
     "iopub.execute_input": "2022-12-13T16:10:42.871465Z",
     "iopub.status.busy": "2022-12-13T16:10:42.871139Z",
     "iopub.status.idle": "2022-12-13T16:10:42.878204Z",
     "shell.execute_reply": "2022-12-13T16:10:42.876929Z",
     "shell.execute_reply.started": "2022-12-13T16:10:42.871431Z"
    },
    "tags": []
   },
   "outputs": [
    {
     "data": {
      "text/plain": [
       "119239"
      ]
     },
     "execution_count": 44,
     "metadata": {},
     "output_type": "execute_result"
    }
   ],
   "source": [
    "len(df_toronto)"
   ]
  },
  {
   "cell_type": "code",
   "execution_count": 58,
   "metadata": {
    "execution": {
     "iopub.execute_input": "2022-12-13T18:35:17.295129Z",
     "iopub.status.busy": "2022-12-13T18:35:17.294859Z",
     "iopub.status.idle": "2022-12-13T18:35:20.308175Z",
     "shell.execute_reply": "2022-12-13T18:35:20.307501Z",
     "shell.execute_reply.started": "2022-12-13T18:35:17.295102Z"
    },
    "tags": []
   },
   "outputs": [
    {
     "data": {
      "application/vnd.jupyter.widget-view+json": {
       "model_id": "382c17b88fbe453f964f2150da01901d",
       "version_major": 2,
       "version_minor": 0
      },
      "text/plain": [
       "MitoWidget(analysis_data_json='{\"analysisName\": \"id-bqlpakblhf\", \"analysisToReplay\": null, \"code\": [], \"stepSu…"
      ]
     },
     "metadata": {},
     "output_type": "display_data"
    }
   ],
   "source": [
    "mitosheet.sheet(df, analysis_to_replay=\"id-bqlpakblhf\")"
   ]
  },
  {
   "cell_type": "code",
   "execution_count": null,
   "metadata": {},
   "outputs": [],
   "source": []
  },
  {
   "cell_type": "code",
   "execution_count": null,
   "metadata": {},
   "outputs": [],
   "source": [
    "from mitosheet import *; register_analysis(\"id-lnofeejuxz\");\n",
    "    \n",
    "# Filtered city\n",
    "df_toronto = df_toronto[df_toronto['city'].apply(lambda val: all(val != s for s in ['ABBOTSFORD, BC', 'ACTON, ON', 'AJAX, ON', 'ALLENFORD, ON', 'ALTON, ON', 'ANCASTER, ON', 'ALLISTON, ON', 'ANGUS, ON', 'ASHBURN, ON', 'AURORA, ON', 'BAILIEBORO, ON', 'BALLINAFAD, ON', 'BANCROFT, ON', 'BARRIE, ON', 'BEAMSVILLE, ON', 'BEAVERTON, ON', 'BEETON, ON', 'BELLE EWART, ON', 'BELLEVILLE, ON', 'BINBROOK, ON', 'BLUE MOUNTAINS, ON', 'BOBCAYGEON, ON', 'BOLTON, ON', 'BOND HEAD, ON', 'BOUCHERVILLE, QC', 'BOWMANVILLE, ON', 'BRACEBRIDGE, ON', 'BRADFORD, ON', 'BRAMPTON, ON', 'BRANDFORD, ON', 'BRANTFORD, ON', 'BRECHIN, ON', 'BRESLAU, ON', 'BRINSTON, ON', 'ZEPHYR, ON', 'YOUNGS POINT, ON', 'WOODVILLE, ON', 'WROXETER, ON', 'WOODVIEW, ON', 'WOODSTOCK, ON', 'WOODBRIGE, ON', 'WOODBRIDGE, ON', 'WINDSOR, ON', 'WILLOW BEACH, ON', 'WIARTON, ON', 'WHTEVALE, ON', 'WHITBY, ON', 'WELLAND, ON', 'WATERLOO, ON', 'WATERDOWN, ON', 'WASAGA BEACH, ON', 'VICTORIA HARBOR, ON', 'VAUGHAN, ON', 'VICTORIA, BC', 'VANCOUVER, BC', 'VAL CARON, ON', 'UTTERSON, ON', 'UXBRIDGE, ON', 'UNKNOWN, ON', 'UNIONVILLE, ON', 'TROY, ON', 'TWEED, ON', 'TOTTENHAM, ON', 'TORONTO, ON', 'TORONT, ON', 'TORONOT, ON', 'TINY, ON', 'THUNDER BAY, ON', 'THORNHILL, ON', 'TERRA COTTA, ON', 'SUTTON, ON', 'SUTTON WEST, ON', 'SUNDRIDGE, ON', 'SUNDERLAND, ON', 'STOUFVILLE, ON', 'STRATFORD, ON', 'SUNDERLAND RR3, ON', 'STOUFVILLE RD, ON', 'STOUFFVILLE, ON', 'ST.CATHERINES, ON', 'STONEY CREEK, ON', 'ST THOMAS, ON', 'ST CATHERINES, ON', 'ST CATHARINES, ON', 'SOUTH ARKELL, ON', 'SMITHVILLE, ON', 'SARNIA, ON', 'SCHOMBERG, ON', 'SCOTLAND, ON', 'SEAGRAVE, ON', \"SEELEY'S BAY, ON\", 'SHANTY BAY, ON', 'SHELBURNE, ON', 'SIMCO, ON', 'SHARON, ON', 'SIMCOE, ON', 'SINGHAMPTON, ON', 'SANDFORD, ON', 'S.W. CALGARY, AB', 'RUTHVEN, ON', 'ROSEMONT, ON', 'ROCKWALL, TX', 'ROCKWOOD, ON', 'RIVER DRIVE PAR, ON', 'RICHMONDHILL, ON', 'QUEENSVILLE, ON', 'RICHMOND HILL, ON', 'QUEBEC, QC', 'QUALICUM BEACH, BC', 'PRINCE ALBERT, ON', 'PORT SYDNEY, ON', 'PUSLINCH, ON', 'PORT PERRY, ON', 'PORT HOPE, ON', 'PORT COQUITLAM, BC', 'PICTON, ON', 'PICKERING, ON', 'PHELPSTON, ON', 'PETERBOROUGH, ON', 'PENETANGUISHENE, ON', 'PENETANG, ON', 'PEFFERLAW, ON', 'PARRIS, ON', 'PARKSVILLE, BC', 'PARIS, ON', 'PALM DESERT, CA', 'PALGRAVE, ON', 'OWEN SOUND, ON', 'OTTAWA, ON', 'OAKVILLE, ON', 'NORVAL, ON', 'ODESSA, ON', 'OMEMEE R1, ON', 'ORANGEVILLE, ON', 'ORILLIA, ON', 'OMEMEE, ON', 'ORONO, ON', 'OSHAWA, ON', 'NORTH VANCOUVER, BC', 'NORTH GOWER, ON', 'NORTH CANTON US, ON', 'NORTH BAY, ON', 'NORLAND, ON', 'NOBLETON, ON', 'NOBEL, ON', 'NIAGARA ON THE LAKE, ON', 'NIAGARA FALLS, ON', 'NEWTONVILLE, ON', 'NEWMARKET, ON', 'NEWCASTLE, ON', 'NEW MARKET, ON', 'NESTLETON STN, ON', 'NAPANEE, ON', 'MURILLO, ON', 'MOUNT HOPE, ON', 'MOUNT ALBERT, ON', 'MOOREFIELD, ON', 'MONTREAL, QC', 'MONO, ON', 'MISSISSAUGA, ON', 'MISSISAUGA, ON', 'MINDEN, ON', 'MILTON, ON', 'MILLGROVE, ON', 'MIDLAND, ON', 'MIDHURST, ON', 'MEAFORD, ON', 'MATTAWA, ON', 'MARMORA, ON', 'MARKHAM, ON', 'MAPLE, ON', 'MANILLA, ON', 'LORETTO, ON', 'LONDON, ON', 'LOCUST HILLRR1, ON', 'LOCUST HILL RR1, ON', 'LITTLE BRITAIN, ON', 'LISBON 1600-136, PT', 'LINDSAY, ON', 'LIMEHOUSE, ON', 'KLEINBURG, ON', 'LAC LA HACHE, ON', 'LAVAL, QC', 'LEFROY, ON', 'LEVIS, QC', 'KELOWNA, BC', 'KESWICK, ON', 'KENDAL, ON', 'KETTLEBY, ON', 'KINCARDINE, ON', 'KING CITY, ON', 'KING, ON', 'KIRKFIELD, ON', 'KITCHENER, ON', 'KITCHNER, ON', 'KANATA, ON', 'JORDAN STATION, ON', 'INNISIL, ON', 'JANETVILLE, ON', 'INNISFIL, ON', 'INGLEWOOD, ON', 'HUNG TWEED, ON', 'HOLLAND LANDING, ON', 'HUBLEY, NS', 'HILLSDALE, ON', 'GREENWOOD, ON', 'GUELPH, ON', 'HAGERSVILLE, ON', 'HALTON HILLS, ON', 'HAMILTON, ON', 'HALIBURTON, ON', 'HANNON, ON', 'HARRISTON, ON', 'HAVELOCK, ON', 'HILLSBURGH, ON', 'FREELTON, ON', 'GEORGETOWN, ON', 'GEORGINA, ON', 'GILFORD, ON', 'GLEN WILLIAMS, ON', 'GOODERHAM, ON', 'GOODWOOD, ON', 'GORMLEY, ON', 'GRAND HAVEN, MI', 'GRAND VALLEY, ON', 'GRAVENHURST, ON', 'EAST GWILLIMBURY, ON', 'EDISON, ON', 'EDMONTON, AB', 'EGBERT, ON', 'ENNISMORE, ON', 'ERIN, ON', 'EVERETT, ON', 'FLAMBOROUGH, ON', 'EXETER, ON', 'FLESHERTON, ON', 'FRANKFORD, ON', 'FRASERVILLE, ON', 'COBOURG, ON', 'COLDWATER, ON', 'COLLINGWOOD, ON', 'CONCORD, ON', 'COOKSTOWN, ON', 'COURTICE, ON', 'CRANBERRY, PA', 'DORCHESTER, ON', 'DENFIELD, ON', 'DUNDALK, ON', 'DUNDAS, ON', 'DURHAM, ON', 'E GWILLIMBURY, ON', 'EAST GWILLIMBUR, ON', 'CHATHAM, ON', 'CHELTENHAM, ON', 'CLAREMONT, ON', 'CLARINGTON, ON', 'CHURCHILL, ON', 'COBOCONK, ON', 'CAESAREA, ON', 'CALEDON EAST, ON', 'CALEDON E, ON', 'CALEDON ONT, ON', 'CALEDON, ON', 'CALEDON VILLAGE, ON', 'CALEDONIA, ON', 'CALGARY, AB', 'CAMBRIDGE, ON', 'CAMERON, ON', 'CAMLACHIE, ON', 'CAMPBELLFORD, ON', 'CAMPBELLVILLE, ON', 'CEDAR VALLEY, ON', 'BROOKLIN, ON', 'BROSSARD, QC', 'BURLINGAME, CA', 'BURLINGTON, ON']))]\n",
    "\n",
    "# Reordered column business_sector\n",
    "df_toronto_columns = [col for col in df_toronto.columns if col != 'business_sector']\n",
    "df_toronto_columns.insert(6, 'business_sector')\n",
    "df_toronto = df_toronto[df_toronto_columns]\n",
    "\n",
    "# Reordered column business_sector\n",
    "df_toronto_columns = [col for col in df_toronto.columns if col != 'business_sector']\n",
    "df_toronto_columns.insert(7, 'business_sector')\n",
    "df_toronto = df_toronto[df_toronto_columns]\n"
   ]
  },
  {
   "cell_type": "code",
   "execution_count": 46,
   "metadata": {
    "execution": {
     "iopub.execute_input": "2022-12-13T16:10:51.981970Z",
     "iopub.status.busy": "2022-12-13T16:10:51.981712Z",
     "iopub.status.idle": "2022-12-13T16:10:51.995566Z",
     "shell.execute_reply": "2022-12-13T16:10:51.993794Z",
     "shell.execute_reply.started": "2022-12-13T16:10:51.981942Z"
    },
    "tags": []
   },
   "outputs": [
    {
     "data": {
      "text/plain": [
       "oda_match    95011\n",
       "gc_match      9968\n",
       "Name: geo_source, dtype: int64"
      ]
     },
     "execution_count": 46,
     "metadata": {},
     "output_type": "execute_result"
    }
   ],
   "source": [
    "df_toronto['geo_source'].value_counts()"
   ]
  },
  {
   "cell_type": "code",
   "execution_count": 47,
   "metadata": {
    "execution": {
     "iopub.execute_input": "2022-12-13T16:10:59.749674Z",
     "iopub.status.busy": "2022-12-13T16:10:59.749365Z",
     "iopub.status.idle": "2022-12-13T16:10:59.761289Z",
     "shell.execute_reply": "2022-12-13T16:10:59.760400Z",
     "shell.execute_reply.started": "2022-12-13T16:10:59.749641Z"
    },
    "tags": []
   },
   "outputs": [
    {
     "data": {
      "text/plain": [
       "14260"
      ]
     },
     "execution_count": 47,
     "metadata": {},
     "output_type": "execute_result"
    }
   ],
   "source": [
    "df_toronto['geo_source'].isna().sum()"
   ]
  },
  {
   "cell_type": "code",
   "execution_count": 48,
   "metadata": {
    "execution": {
     "iopub.execute_input": "2022-12-13T16:11:01.477044Z",
     "iopub.status.busy": "2022-12-13T16:11:01.476736Z",
     "iopub.status.idle": "2022-12-13T16:11:01.592591Z",
     "shell.execute_reply": "2022-12-13T16:11:01.591740Z",
     "shell.execute_reply.started": "2022-12-13T16:11:01.477013Z"
    },
    "tags": []
   },
   "outputs": [
    {
     "data": {
      "text/plain": [
       "104979"
      ]
     },
     "execution_count": 48,
     "metadata": {},
     "output_type": "execute_result"
    }
   ],
   "source": [
    "# Number of records with lat/lons\n",
    "len(df_toronto[~df_toronto['latitude'].isna()])"
   ]
  },
  {
   "cell_type": "code",
   "execution_count": 51,
   "metadata": {
    "execution": {
     "iopub.execute_input": "2022-12-13T16:12:00.543348Z",
     "iopub.status.busy": "2022-12-13T16:12:00.543057Z",
     "iopub.status.idle": "2022-12-13T16:12:00.654625Z",
     "shell.execute_reply": "2022-12-13T16:12:00.653779Z",
     "shell.execute_reply.started": "2022-12-13T16:12:00.543316Z"
    },
    "tags": []
   },
   "outputs": [
    {
     "data": {
      "text/plain": [
       "119239"
      ]
     },
     "execution_count": 51,
     "metadata": {},
     "output_type": "execute_result"
    }
   ],
   "source": [
    "# Number with NAICS codes assigned\n",
    "len(df_toronto[~df_toronto['NAICS_Group'].isna()])"
   ]
  },
  {
   "cell_type": "code",
   "execution_count": 20,
   "metadata": {
    "execution": {
     "iopub.execute_input": "2022-12-12T16:58:08.455099Z",
     "iopub.status.busy": "2022-12-12T16:58:08.454714Z",
     "iopub.status.idle": "2022-12-12T16:58:08.499568Z",
     "shell.execute_reply": "2022-12-12T16:58:08.498279Z",
     "shell.execute_reply.started": "2022-12-12T16:58:08.455058Z"
    },
    "tags": []
   },
   "outputs": [
    {
     "data": {
      "text/plain": [
       "QC_Etablissements.csv                                       239231\n",
       "ON_Toronto_Business_Licences.csv                            154420\n",
       "BC_Vancouver_Business_Licences.csv                          125525\n",
       "AB_Edmonton_Business_Licences.csv                            38574\n",
       "ON_York_Region_Business_Directory.csv                        35001\n",
       "AB_Calgary_Business_Licences.csv                             34327\n",
       "BC_Burnaby_Business_Licences_2.csv                           17863\n",
       "BC_Surrey_Business_Licences.csv                              17135\n",
       "ON_Mississauga_Business_Directory.csv                        16518\n",
       "BC_Kelowna_Business_Licence.csv                              10917\n",
       "BC_Richmond_Based_Businesses.csv                             10676\n",
       "BC_Liquor_licences.csv                                       10292\n",
       "ON_Durham_Business_Directory.csv                              9934\n",
       "ON_Pickering_Business_Directory.csv                           9934\n",
       "ON_Brampton_Business_Directory.csv                            9834\n",
       "BC_Victoria_Business_Licences.csv                             7108\n",
       "BC_Langley_Business_Licences.csv                              6912\n",
       "BC_Nanaimo_Business_Licences.csv                              6189\n",
       "QC_Sherbrooke_Entreprises.csv                                 4997\n",
       "BC_Prince_George_Business_Licence.csv                         4399\n",
       "BC_New_Westminster_Business_Licences_(Residents).csv          3524\n",
       "BC_Chilliwack_Business_Licences.csv                           3360\n",
       "BC_Maple_Ridge_Business_Licences.csv                          3014\n",
       "BC_Squamish_Business_Licence_Annual_2021.csv                  2721\n",
       "Indigenous_Business_Directory.csv                             2492\n",
       "AB_Strathcona_Business_Directory.csv                          2474\n",
       "ON_Cambridge_Business_Directory.csv                           1898\n",
       "ON_Greater_Sudbury_Business_Licences.csv                      1511\n",
       "NT_Yellowknife_Business_Directory.csv                         1445\n",
       "ON_Caledon_Business_Directory.csv                             1408\n",
       "BC_Indigenous_Business_Listings.csv                           1259\n",
       "ON_Hamilton_Licenced_Food_Establishments.csv                  1252\n",
       "AB_Banff_Business_Licences.csv                                 942\n",
       "ON_Welland_Business_Directory.csv                              941\n",
       "BC_Burnaby_Business_Licences.csv                               905\n",
       "ON_Hamilton_Licenced_Public_Garages.csv                        736\n",
       "BC_Port_Moody_Business_Directory.csv                           694\n",
       "BC_New_Westminster_Business_Licences_(Nonresidents).csv        635\n",
       "ON_Hamilton_Licenced_Basic_Food_Shops.csv                      596\n",
       "ON_Ottawa_Cultural_Businesses.csv                              489\n",
       "BC_Wineries.csv                                                357\n",
       "ON_oebd.csv                                                    249\n",
       "NU_Indigenous_Business.csv                                     171\n",
       "AB_Chestermere_Businesses.csv                                  138\n",
       "BC_New_Westminster_Business_Licences_(New_this_Year).csv       132\n",
       "ON_Hamilton_Licenced_Residential_Care_Facilities.csv            68\n",
       "ON_Hamilton_Licenced_Second_Hand_Shops.csv                      53\n",
       "NB_Moncton_Ph_Pharmacies.csv                                    47\n",
       "NB_Moncton_Grocery_Stores.csv                                   46\n",
       "ON_Ottawa_Street_Food_Vendors.csv                               36\n",
       "ON_Hamilton_Licenced_Public_Halls.csv                           33\n",
       "ON_Hamilton_Licenced_Salvage_Yards.csv                          22\n",
       "ON_Hamilton_Licenced_Lodging_Houses.csv                         21\n",
       "NB_Saint_John_Grocery_Stores.csv                                16\n",
       "ON_Hamilton_Licenced_Places_of_Amusement.csv                    14\n",
       "MB_Indigenous_AFOA.csv                                           4\n",
       "ON_Hamilton_Licenced_Kennels_and_Pet_Shops.csv                   2\n",
       "Name: localfile, dtype: int64"
      ]
     },
     "execution_count": 20,
     "metadata": {},
     "output_type": "execute_result"
    }
   ],
   "source": [
    "df['localfile'].value_counts()"
   ]
  },
  {
   "cell_type": "code",
   "execution_count": 54,
   "metadata": {
    "execution": {
     "iopub.execute_input": "2022-12-13T18:27:10.702511Z",
     "iopub.status.busy": "2022-12-13T18:27:10.702187Z",
     "iopub.status.idle": "2022-12-13T18:27:10.746621Z",
     "shell.execute_reply": "2022-12-13T18:27:10.745939Z",
     "shell.execute_reply.started": "2022-12-13T18:27:10.702476Z"
    },
    "tags": []
   },
   "outputs": [
    {
     "data": {
      "text/plain": [
       "TORONTO, ON          119239\n",
       "Vancouver            109613\n",
       "Montréal (Québec)     45806\n",
       "Edmonton              38693\n",
       "Calgary               34546\n",
       "                      ...  \n",
       "CP h2g2h3                 1\n",
       "CP h1p 1x7                1\n",
       "CP h1m3v6                 1\n",
       "CP h1e1p1                 1\n",
       "Torreon Coahuila          1\n",
       "Name: city, Length: 11124, dtype: int64"
      ]
     },
     "execution_count": 54,
     "metadata": {},
     "output_type": "execute_result"
    }
   ],
   "source": [
    "df['city'].value_counts()"
   ]
  },
  {
   "cell_type": "code",
   "execution_count": null,
   "metadata": {
    "tags": []
   },
   "outputs": [],
   "source": [
    "df['province'].value_counts()\n"
   ]
  },
  {
   "cell_type": "markdown",
   "metadata": {},
   "source": [
    "3. Replace Lakeview and 78 with BC"
   ]
  },
  {
   "cell_type": "code",
   "execution_count": 56,
   "metadata": {
    "execution": {
     "iopub.execute_input": "2022-12-13T18:34:33.818930Z",
     "iopub.status.busy": "2022-12-13T18:34:33.818657Z",
     "iopub.status.idle": "2022-12-13T18:34:34.923987Z",
     "shell.execute_reply": "2022-12-13T18:34:34.923180Z",
     "shell.execute_reply.started": "2022-12-13T18:34:33.818901Z"
    }
   },
   "outputs": [],
   "source": [
    "df['province'] = df['province'].str.replace('78','BC')\n"
   ]
  },
  {
   "cell_type": "code",
   "execution_count": 57,
   "metadata": {
    "execution": {
     "iopub.execute_input": "2022-12-13T18:35:06.917774Z",
     "iopub.status.busy": "2022-12-13T18:35:06.917485Z",
     "iopub.status.idle": "2022-12-13T18:35:07.347361Z",
     "shell.execute_reply": "2022-12-13T18:35:07.346077Z",
     "shell.execute_reply.started": "2022-12-13T18:35:06.917747Z"
    }
   },
   "outputs": [],
   "source": [
    "df['province'] = df['province'].str.replace('LAKEVIEW ESTATES','BC')"
   ]
  },
  {
   "cell_type": "code",
   "execution_count": 59,
   "metadata": {
    "execution": {
     "iopub.execute_input": "2022-12-13T18:35:56.998533Z",
     "iopub.status.busy": "2022-12-13T18:35:56.998264Z",
     "iopub.status.idle": "2022-12-13T18:35:57.044631Z",
     "shell.execute_reply": "2022-12-13T18:35:57.043825Z",
     "shell.execute_reply.started": "2022-12-13T18:35:56.998507Z"
    }
   },
   "outputs": [
    {
     "data": {
      "text/plain": [
       "QC    244527\n",
       "ON    243590\n",
       "BC    232467\n",
       "AB     77097\n",
       "NT      1563\n",
       "MB       224\n",
       "NU       223\n",
       "SK       168\n",
       "NB       155\n",
       "NS        46\n",
       "NL        33\n",
       "YT        13\n",
       "PE         5\n",
       "Name: province, dtype: int64"
      ]
     },
     "execution_count": 59,
     "metadata": {},
     "output_type": "execute_result"
    }
   ],
   "source": [
    "df['province'].value_counts()"
   ]
  },
  {
   "cell_type": "code",
   "execution_count": null,
   "metadata": {},
   "outputs": [],
   "source": []
  },
  {
   "cell_type": "markdown",
   "metadata": {},
   "source": [
    "1. Splittng up data into Quebec and not Quebec\n"
   ]
  },
  {
   "cell_type": "code",
   "execution_count": 69,
   "metadata": {
    "execution": {
     "iopub.execute_input": "2022-12-13T19:25:20.438882Z",
     "iopub.status.busy": "2022-12-13T19:25:20.438455Z",
     "iopub.status.idle": "2022-12-13T19:25:37.463107Z",
     "shell.execute_reply": "2022-12-13T19:25:37.461946Z",
     "shell.execute_reply.started": "2022-12-13T19:25:20.438840Z"
    },
    "tags": []
   },
   "outputs": [],
   "source": [
    "\n",
    "# splitting the dataframe into two for easier cleaing, \n",
    "# it will be quebec_df (df_QC) and then \n",
    "# everything_else_df (df_not_QC)\n",
    "\n",
    "\n",
    "\n",
    "\n",
    "#df_not_QC = df[df['province'] != 'QC']\n",
    "\n",
    "\n",
    "\n",
    "df_not_QC = df.loc[df['province'] != 'QC'] \n",
    "df_QC = df[df['province'] == 'QC']\n",
    "\n",
    "\n",
    "df_not_QC.to_csv('/home/jovyan/ODBiz/8-Cleaning/Not_QC.csv', index=False)\n",
    "df_QC.to_csv('/home/jovyan/ODBiz/8-Cleaning/QC.csv', index=False)"
   ]
  },
  {
   "cell_type": "code",
   "execution_count": 4,
   "metadata": {
    "execution": {
     "iopub.execute_input": "2023-01-13T23:46:03.865256Z",
     "iopub.status.busy": "2023-01-13T23:46:03.864761Z",
     "iopub.status.idle": "2023-01-13T23:46:11.231994Z",
     "shell.execute_reply": "2023-01-13T23:46:11.230943Z",
     "shell.execute_reply.started": "2023-01-13T23:46:03.865202Z"
    },
    "tags": []
   },
   "outputs": [],
   "source": [
    "in_data = \"/home/jovyan/ODBiz/8-Cleaning/Not_QC.csv\"\n",
    "df_in = pd.read_csv(in_data, low_memory=False, dtype=\"str\")\n",
    "\n",
    "\n",
    "df=df_in\n",
    "\n",
    "\n"
   ]
  },
  {
   "cell_type": "code",
   "execution_count": 19,
   "metadata": {
    "execution": {
     "iopub.execute_input": "2023-01-03T19:44:18.420895Z",
     "iopub.status.busy": "2023-01-03T19:44:18.420540Z",
     "iopub.status.idle": "2023-01-03T19:44:19.928147Z",
     "shell.execute_reply": "2023-01-03T19:44:19.927490Z",
     "shell.execute_reply.started": "2023-01-03T19:44:18.420858Z"
    },
    "tags": []
   },
   "outputs": [
    {
     "data": {
      "application/vnd.jupyter.widget-view+json": {
       "model_id": "de2be803019449c680c87b25d4842586",
       "version_major": 2,
       "version_minor": 0
      },
      "text/plain": [
       "MitoWidget(analysis_data_json='{\"analysisName\": \"id-yxujtzyhhe\", \"analysisToReplay\": {\"analysisName\": \"id-roly…"
      ]
     },
     "metadata": {},
     "output_type": "display_data"
    }
   ],
   "source": [
    "mitosheet.sheet(df, analysis_to_replay=\"id-rolycyogow\")"
   ]
  },
  {
   "cell_type": "markdown",
   "metadata": {},
   "source": [
    "5. Get rid of everything behind column in city column & change to title case"
   ]
  },
  {
   "cell_type": "code",
   "execution_count": 73,
   "metadata": {
    "execution": {
     "iopub.execute_input": "2022-12-13T19:30:43.277644Z",
     "iopub.status.busy": "2022-12-13T19:30:43.277221Z",
     "iopub.status.idle": "2022-12-13T19:30:43.337396Z",
     "shell.execute_reply": "2022-12-13T19:30:43.336356Z",
     "shell.execute_reply.started": "2022-12-13T19:30:43.277600Z"
    },
    "tags": []
   },
   "outputs": [
    {
     "data": {
      "text/plain": [
       "Toronto, On         119239\n",
       "Vancouver           111470\n",
       "Edmonton             38693\n",
       "Calgary              34546\n",
       "Burnaby              21716\n",
       "                     ...  \n",
       "Pabineau Falls           1\n",
       "Red Bank Reserve         1\n",
       "Rexton                   1\n",
       "Rusagonis                1\n",
       "Torreon Coahuila         1\n",
       "Name: city, Length: 1537, dtype: int64"
      ]
     },
     "execution_count": 73,
     "metadata": {},
     "output_type": "execute_result"
    }
   ],
   "source": [
    "df['city'].value_counts()\n"
   ]
  },
  {
   "cell_type": "code",
   "execution_count": 5,
   "metadata": {
    "execution": {
     "iopub.execute_input": "2022-12-28T20:32:57.741042Z",
     "iopub.status.busy": "2022-12-28T20:32:57.740580Z",
     "iopub.status.idle": "2022-12-28T20:32:58.100530Z",
     "shell.execute_reply": "2022-12-28T20:32:58.099375Z",
     "shell.execute_reply.started": "2022-12-28T20:32:57.740987Z"
    },
    "tags": []
   },
   "outputs": [],
   "source": [
    "df['city'] = df['city'].str.title()"
   ]
  },
  {
   "cell_type": "code",
   "execution_count": 9,
   "metadata": {
    "execution": {
     "iopub.execute_input": "2022-12-28T20:42:10.107857Z",
     "iopub.status.busy": "2022-12-28T20:42:10.107568Z",
     "iopub.status.idle": "2022-12-28T20:42:11.247601Z",
     "shell.execute_reply": "2022-12-28T20:42:11.245965Z",
     "shell.execute_reply.started": "2022-12-28T20:42:10.107827Z"
    },
    "tags": []
   },
   "outputs": [],
   "source": [
    "df['city'] = df['city'].str.split(',').str[0]"
   ]
  },
  {
   "cell_type": "code",
   "execution_count": 17,
   "metadata": {
    "execution": {
     "iopub.execute_input": "2022-12-28T20:50:45.645568Z",
     "iopub.status.busy": "2022-12-28T20:50:45.645199Z",
     "iopub.status.idle": "2022-12-28T20:50:56.985021Z",
     "shell.execute_reply": "2022-12-28T20:50:56.984138Z",
     "shell.execute_reply.started": "2022-12-28T20:50:45.645527Z"
    },
    "tags": []
   },
   "outputs": [],
   "source": [
    "df.to_csv('/home/jovyan/ODBiz/8-Cleaning/Not_QC.csv', index=False)"
   ]
  },
  {
   "cell_type": "markdown",
   "metadata": {
    "execution": {
     "iopub.execute_input": "2022-12-28T20:42:13.463887Z",
     "iopub.status.busy": "2022-12-28T20:42:13.463610Z",
     "iopub.status.idle": "2022-12-28T20:42:13.667634Z",
     "shell.execute_reply": "2022-12-28T20:42:13.666725Z",
     "shell.execute_reply.started": "2022-12-28T20:42:13.463858Z"
    },
    "tags": []
   },
   "source": [
    "8. LAT/LON check \n"
   ]
  },
  {
   "cell_type": "code",
   "execution_count": 79,
   "metadata": {
    "execution": {
     "iopub.execute_input": "2022-12-20T18:15:51.225098Z",
     "iopub.status.busy": "2022-12-20T18:15:51.224790Z",
     "iopub.status.idle": "2022-12-20T18:15:51.321873Z",
     "shell.execute_reply": "2022-12-20T18:15:51.321143Z",
     "shell.execute_reply.started": "2022-12-20T18:15:51.225066Z"
    }
   },
   "outputs": [
    {
     "data": {
      "text/plain": [
       "49.2927534771159     1976\n",
       "53.522263             417\n",
       "43.89051458121729     404\n",
       "49.2822434350563      401\n",
       "49.2834005265727      395\n",
       "                     ... \n",
       "49.19074793             1\n",
       "49.19068709             1\n",
       "49.19055852             1\n",
       "49.19061083             1\n",
       "49.19137883             1\n",
       "Name: latitude, Length: 129654, dtype: int64"
      ]
     },
     "execution_count": 79,
     "metadata": {},
     "output_type": "execute_result"
    }
   ],
   "source": [
    "df['latitude'].value_counts()\n"
   ]
  },
  {
   "cell_type": "code",
   "execution_count": 92,
   "metadata": {
    "execution": {
     "iopub.execute_input": "2022-12-20T18:36:26.095854Z",
     "iopub.status.busy": "2022-12-20T18:36:26.095601Z",
     "iopub.status.idle": "2022-12-20T18:36:26.183503Z",
     "shell.execute_reply": "2022-12-20T18:36:26.182494Z",
     "shell.execute_reply.started": "2022-12-20T18:36:26.095828Z"
    },
    "tags": []
   },
   "outputs": [
    {
     "data": {
      "text/plain": [
       "NaN                   142110\n",
       "-123.000015428837       1976\n",
       "-113.618482              417\n",
       "-78.87918226923033       404\n",
       "-123.119500778402        401\n",
       "                       ...  \n",
       "-119.41197                 1\n",
       "-119.46659                 1\n",
       "-123.117212799015          1\n",
       "-119.41209                 1\n",
       "-122.4762411               1\n",
       "Name: longitude, Length: 134197, dtype: int64"
      ]
     },
     "execution_count": 92,
     "metadata": {},
     "output_type": "execute_result"
    }
   ],
   "source": [
    "df['longitude'].value_counts(dropna=False)\n"
   ]
  },
  {
   "cell_type": "code",
   "execution_count": null,
   "metadata": {
    "execution": {
     "iopub.execute_input": "2022-12-20T18:40:15.673510Z",
     "iopub.status.busy": "2022-12-20T18:40:15.673246Z"
    },
    "tags": []
   },
   "outputs": [],
   "source": [
    "df['longitude'].sort_values()"
   ]
  },
  {
   "cell_type": "code",
   "execution_count": null,
   "metadata": {
    "tags": []
   },
   "outputs": [],
   "source": [
    "df=df[~df['latitude'].between(41.45,83)]."
   ]
  },
  {
   "cell_type": "code",
   "execution_count": null,
   "metadata": {
    "tags": []
   },
   "outputs": [],
   "source": [
    "df[~df['latitude'].stack().between(41.45,83).unstack()]\n",
    "#.dropna(axis=1)"
   ]
  },
  {
   "cell_type": "code",
   "execution_count": 85,
   "metadata": {
    "execution": {
     "iopub.execute_input": "2022-12-20T18:30:08.930219Z",
     "iopub.status.busy": "2022-12-20T18:30:08.929851Z",
     "iopub.status.idle": "2022-12-20T18:30:08.985381Z",
     "shell.execute_reply": "2022-12-20T18:30:08.984192Z",
     "shell.execute_reply.started": "2022-12-20T18:30:08.930179Z"
    }
   },
   "outputs": [
    {
     "data": {
      "text/plain": [
       "416854"
      ]
     },
     "execution_count": 85,
     "metadata": {},
     "output_type": "execute_result"
    }
   ],
   "source": [
    "df['longitude'].count()"
   ]
  },
  {
   "cell_type": "markdown",
   "metadata": {},
   "source": [
    "2. Title case columns "
   ]
  },
  {
   "cell_type": "code",
   "execution_count": 16,
   "metadata": {
    "execution": {
     "iopub.execute_input": "2022-12-28T20:50:36.016623Z",
     "iopub.status.busy": "2022-12-28T20:50:36.016315Z",
     "iopub.status.idle": "2022-12-28T20:50:37.248449Z",
     "shell.execute_reply": "2022-12-28T20:50:37.247447Z",
     "shell.execute_reply.started": "2022-12-28T20:50:36.016589Z"
    },
    "tags": []
   },
   "outputs": [],
   "source": [
    "\n",
    "# title  case columns\n",
    "\n",
    "df['street_name'] = df['street_name'].str.title()\n",
    "df['full_address'] = df['street_name'].str.title()\n",
    "df['business_name'] = df['business_name'].str.title()\n",
    "df['alt_business_name'] = df['alt_business_name'].str.title()\n",
    "df['business_sector'] = df['business_sector'].str.title()\n",
    "df['business_subsector'] = df['business_subsector'].str.title()\n",
    "df['country'] = df['country'].str.title()"
   ]
  },
  {
   "cell_type": "markdown",
   "metadata": {},
   "source": [
    "10. Get rid of everything that isn't a number in the NAICS column "
   ]
  },
  {
   "cell_type": "code",
   "execution_count": 18,
   "metadata": {
    "execution": {
     "iopub.execute_input": "2023-01-03T19:43:50.816667Z",
     "iopub.status.busy": "2023-01-03T19:43:50.816391Z",
     "iopub.status.idle": "2023-01-03T19:44:06.698855Z",
     "shell.execute_reply": "2023-01-03T19:44:06.697846Z",
     "shell.execute_reply.started": "2023-01-03T19:43:50.816638Z"
    }
   },
   "outputs": [],
   "source": [
    "\n",
    "# make NAICS column just numbers \n",
    "\n",
    "\n",
    "\n",
    "agri = '11.0'\n",
    "mining = '21.0'\n",
    "uti = '22.0'\n",
    "cons = '23.0'\n",
    "mani = '31.0'\n",
    "man = '32.0'\n",
    "manu = '33.0'\n",
    "whole = '41.0'\n",
    "whol = '42.0'\n",
    "retail = '44.0'\n",
    "retai = '45.0'\n",
    "trans = '48.0'\n",
    "tran = '49.0'\n",
    "info = '51.0'\n",
    "fin = '52.0'\n",
    "real = '53.0'\n",
    "prof = '54.0'\n",
    "mang = '55.0'\n",
    "admin = '56.0'\n",
    "edu = '61.0'\n",
    "health = '62.0'\n",
    "arts = '71.0'\n",
    "acco = '72.0'\n",
    "other = '81.0'\n",
    "pub = '91.0'\n",
    "\n",
    "\n",
    "\n",
    "\n",
    "\n",
    "\n",
    "df.loc[df['NAICS_Group'].str.contains(agri, case= False, na= False), 'NAICS']= 11.0\n",
    "df.loc[df['NAICS_Group'].str.contains(mining, case = False, na = False), 'NAICS' ] = 21.0\n",
    "df.loc[df['NAICS_Group'].str.contains(uti, case = False, na = False), 'NAICS' ] = 22.0\n",
    "df.loc[df['NAICS_Group'].str.contains(cons, case = False, na = False), 'NAICS' ] = 23.0\n",
    "df.loc[df['NAICS_Group'].str.contains(mani, case = False, na = False), 'NAICS' ] = 31.0\n",
    "df.loc[df['NAICS_Group'].str.contains(man, case = False, na = False), 'NAICS' ] = 32.0\n",
    "df.loc[df['NAICS_Group'].str.contains(manu, case = False, na = False), 'NAICS' ] = 33.0\n",
    "df.loc[df['NAICS_Group'].str.contains(whole, case = False, na = False), 'NAICS' ] = 41.0\n",
    "df.loc[df['NAICS_Group'].str.contains(whol, case = False, na = False), 'NAICS' ] = 42.0\n",
    "df.loc[df['NAICS_Group'].str.contains(retail, case = False, na = False), 'NAICS' ] = 44.0\n",
    "df.loc[df['NAICS_Group'].str.contains(retai, case = False, na = False), 'NAICS' ] = 45.0\n",
    "df.loc[df['NAICS_Group'].str.contains(trans, case = False, na = False), 'NAICS' ] = 48.0\n",
    "df.loc[df['NAICS_Group'].str.contains(tran, case = False, na = False), 'NAICS' ] = 49.0\n",
    "df.loc[df['NAICS_Group'].str.contains(info, case = False, na = False), 'NAICS' ] = 51.0\n",
    "df.loc[df['NAICS_Group'].str.contains(fin, case = False, na = False), 'NAICS' ] = 52.0\n",
    "df.loc[df['NAICS_Group'].str.contains(real, case = False, na = False), 'NAICS' ] = 53.0\n",
    "df.loc[df['NAICS_Group'].str.contains(prof, case = False, na = False), 'NAICS' ] = 54.0\n",
    "df.loc[df['NAICS_Group'].str.contains(mang, case = False, na = False), 'NAICS' ] = 55.0\n",
    "df.loc[df['NAICS_Group'].str.contains(admin, case = False, na = False), 'NAICS' ] = 56.0\n",
    "df.loc[df['NAICS_Group'].str.contains(edu, case = False, na = False), 'NAICS' ] = 61.0\n",
    "df.loc[df['NAICS_Group'].str.contains(health, case = False, na = False), 'NAICS' ] = 62.0\n",
    "df.loc[df['NAICS_Group'].str.contains(arts, case = False, na = False), 'NAICS' ] = 71.0\n",
    "df.loc[df['NAICS_Group'].str.contains(acco, case = False, na = False), 'NAICS' ] = 72.0\n",
    "df.loc[df['NAICS_Group'].str.contains(other, case = False, na = False), 'NAICS' ] = 81.0\n",
    "df.loc[df['NAICS_Group'].str.contains(pub, case = False, na = False), 'NAICS' ] = 91.0\n",
    "\n",
    "\n",
    "\n",
    "\n",
    "\n",
    "df.to_csv('/home/jovyan/ODBiz/8-Cleaning/Not_QC.csv', index=False)"
   ]
  },
  {
   "cell_type": "markdown",
   "metadata": {},
   "source": [
    "4. Fill in Province column"
   ]
  },
  {
   "cell_type": "code",
   "execution_count": 34,
   "metadata": {
    "execution": {
     "iopub.execute_input": "2023-01-13T22:57:21.194809Z",
     "iopub.status.busy": "2023-01-13T22:57:21.194512Z",
     "iopub.status.idle": "2023-01-13T22:57:33.510511Z",
     "shell.execute_reply": "2023-01-13T22:57:33.509716Z",
     "shell.execute_reply.started": "2023-01-13T22:57:21.194774Z"
    },
    "tags": []
   },
   "outputs": [
    {
     "data": {
      "text/plain": [
       "ON    245961\n",
       "BC    233476\n",
       "AB     77097\n",
       "NT      1563\n",
       "MB       224\n",
       "NU       223\n",
       "SK       168\n",
       "NB       155\n",
       "NS        46\n",
       "NL        33\n",
       "YT        13\n",
       "PE         5\n",
       "Name: province, dtype: int64"
      ]
     },
     "execution_count": 34,
     "metadata": {},
     "output_type": "execute_result"
    }
   ],
   "source": [
    "\n",
    "# fill in empty province column with info from local file \n",
    "\n",
    "\n",
    "\n",
    "\n",
    "df['province'].fillna(df.localfile.str.split('_').str[0], inplace= True)\n",
    "\n",
    "\n",
    "\n",
    "df.to_csv('/home/jovyan/ODBiz/8-Cleaning/Not_QC.csv', index=False)\n",
    "\n",
    "\n",
    "df['province'].value_counts(dropna = False)\n"
   ]
  },
  {
   "cell_type": "code",
   "execution_count": 5,
   "metadata": {
    "execution": {
     "iopub.execute_input": "2023-01-13T23:46:14.891274Z",
     "iopub.status.busy": "2023-01-13T23:46:14.890993Z",
     "iopub.status.idle": "2023-01-13T23:46:16.912362Z",
     "shell.execute_reply": "2023-01-13T23:46:16.911490Z",
     "shell.execute_reply.started": "2023-01-13T23:46:14.891245Z"
    },
    "tags": []
   },
   "outputs": [
    {
     "data": {
      "application/vnd.jupyter.widget-view+json": {
       "model_id": "a6c04508208a4d2e968c0b74fa4b9b6d",
       "version_major": 2,
       "version_minor": 0
      },
      "text/plain": [
       "MitoWidget(analysis_data_json='{\"analysisName\": \"id-aqpwxdxlif\", \"analysisToReplay\": null, \"code\": [], \"stepSu…"
      ]
     },
     "metadata": {},
     "output_type": "display_data"
    }
   ],
   "source": [
    "mitosheet.sheet(df, analysis_to_replay=\"id-aqpwxdxlif\")\n",
    "\n",
    "\n",
    "\n"
   ]
  },
  {
   "cell_type": "code",
   "execution_count": null,
   "metadata": {},
   "outputs": [],
   "source": [
    "from mitosheet import *; register_analysis(\"id-aqpwxdxlif\");\n",
    "    \n",
    "# Filtered city\n",
    "df = df[df['city'] != 'Caesarea']\n"
   ]
  },
  {
   "cell_type": "code",
   "execution_count": null,
   "metadata": {},
   "outputs": [],
   "source": [
    "from mitosheet import *; register_analysis(\"id-zrsdvxcust\");\n",
    "    \n",
    "# Filtered country\n",
    "df = df[df['country'].notnull()]\n"
   ]
  },
  {
   "cell_type": "code",
   "execution_count": null,
   "metadata": {},
   "outputs": [],
   "source": [
    "# out of country buisnees, remove province code\n",
    "\n",
    "# all of the idxs are for citys that exist outside of canada for sure\n",
    "\n",
    "list = [ 'cc12dc65eaaabcf3358f' ,\n",
    "'36aebf9ed3eea1c6635c',\n",
    "'359bb592212a569a9c07',\n",
    "'98c4d57625145b4107db',\n",
    "'2777063602e9871220cd',\n",
    "'96d4f92eaa0b8f77c53e',\n",
    "'81e9331da2238b619ecb',\n",
    "'b53425e1d3b70d134251',\n",
    "'be9fed0a494d23abe636',\n",
    "'ade6b9c469d6ea51cff1',\n",
    "'07c05e9ea4107b2a1903',\n",
    "'079651bff57f6486e732',\n",
    "'2b726aa1d567b686d48c' ]\n",
    "\n",
    "df.loc[df['idx'].isin(list) , 'province'] = np.nan\n",
    "\n",
    "\n",
    "df.to_csv('/home/jovyan/ODBiz/8-Cleaning/Not_QC.csv', index=False)\n"
   ]
  },
  {
   "cell_type": "markdown",
   "metadata": {},
   "source": [
    "9. Add in CANADA in country column "
   ]
  },
  {
   "cell_type": "code",
   "execution_count": 7,
   "metadata": {
    "execution": {
     "iopub.execute_input": "2023-01-13T23:47:05.201698Z",
     "iopub.status.busy": "2023-01-13T23:47:05.201424Z",
     "iopub.status.idle": "2023-01-13T23:47:05.248280Z",
     "shell.execute_reply": "2023-01-13T23:47:05.247464Z",
     "shell.execute_reply.started": "2023-01-13T23:47:05.201671Z"
    },
    "tags": []
   },
   "outputs": [],
   "source": [
    "# fill in Canada in the country column \n",
    "\n",
    "\n",
    "df.loc[df['province'].notnull() , 'country'] = 'Canada'\n"
   ]
  },
  {
   "cell_type": "code",
   "execution_count": 8,
   "metadata": {
    "execution": {
     "iopub.execute_input": "2023-01-13T23:47:13.222126Z",
     "iopub.status.busy": "2023-01-13T23:47:13.221728Z",
     "iopub.status.idle": "2023-01-13T23:47:13.240924Z",
     "shell.execute_reply": "2023-01-13T23:47:13.240214Z",
     "shell.execute_reply.started": "2023-01-13T23:47:13.222080Z"
    },
    "tags": []
   },
   "outputs": [
    {
     "data": {
      "text/plain": [
       "Canada    558951\n",
       "NaN           13\n",
       "Name: country, dtype: int64"
      ]
     },
     "execution_count": 8,
     "metadata": {},
     "output_type": "execute_result"
    }
   ],
   "source": [
    "#how many not in Canada? \n",
    "\n",
    "df['country'].value_counts(dropna = False)\n"
   ]
  },
  {
   "cell_type": "code",
   "execution_count": 9,
   "metadata": {
    "execution": {
     "iopub.execute_input": "2023-01-13T23:47:29.411164Z",
     "iopub.status.busy": "2023-01-13T23:47:29.410647Z",
     "iopub.status.idle": "2023-01-13T23:47:40.144798Z",
     "shell.execute_reply": "2023-01-13T23:47:40.143560Z",
     "shell.execute_reply.started": "2023-01-13T23:47:29.411108Z"
    }
   },
   "outputs": [],
   "source": [
    "df.to_csv('/home/jovyan/ODBiz/8-Cleaning/Not_QC.csv', index=False)\n"
   ]
  },
  {
   "cell_type": "markdown",
   "metadata": {},
   "source": [
    " Count null values in each row "
   ]
  },
  {
   "cell_type": "code",
   "execution_count": 18,
   "metadata": {
    "execution": {
     "iopub.execute_input": "2023-01-19T20:35:02.338166Z",
     "iopub.status.busy": "2023-01-19T20:35:02.337888Z",
     "iopub.status.idle": "2023-01-19T20:35:10.493323Z",
     "shell.execute_reply": "2023-01-19T20:35:10.492224Z",
     "shell.execute_reply.started": "2023-01-19T20:35:02.338139Z"
    },
    "tags": []
   },
   "outputs": [
    {
     "name": "stdout",
     "output_type": "stream",
     "text": [
      "                      count null values      %\n",
      "index                                 0    0.0\n",
      "idx                                   0    0.0\n",
      "localfile                             0    0.0\n",
      "business_name                     29111    5.2\n",
      "alt_business_name                483984   86.6\n",
      "business_sector                  132533   23.7\n",
      "business_subsector               457361   81.8\n",
      "business_description             476539   85.3\n",
      "business_id_no                   471290   84.3\n",
      "licence_number                   172074   30.8\n",
      "licence_type                     487046   87.1\n",
      "primary_NAICS                    440555   78.8\n",
      "secondary_NAICS                  542154   97.0\n",
      "NAICS_descr                      454114   81.2\n",
      "NAICS_descr2                     557283   99.7\n",
      "alt_econ_act_code                541144   96.8\n",
      "alt_econ_act_descrip             541144   96.8\n",
      "latitude                         142110   25.4\n",
      "longitude                        142110   25.4\n",
      "full_address                      99059   17.7\n",
      "full_address_2                   558031   99.8\n",
      "mailing_address                  515803   92.3\n",
      "postal_code                      217078   38.8\n",
      "unit                             481138   86.1\n",
      "street_no                        103612   18.5\n",
      "street_name                       99059   17.7\n",
      "street_direction                 542777   97.1\n",
      "street_type                      497940   89.1\n",
      "city                              27068    4.8\n",
      "province                             13    0.0\n",
      "country                              13    0.0\n",
      "business_website                 493556   88.3\n",
      "email                            516426   92.4\n",
      "telephone                        427833   76.5\n",
      "telephone_extension              558950  100.0\n",
      "toll_free_telephone              551277   98.6\n",
      "fax                              518471   92.8\n",
      "total_no_employees               369046   66.0\n",
      "no_full_time                     541389   96.9\n",
      "no_part_time                     542798   97.1\n",
      "no_seasonal                      554391   99.2\n",
      "date_established                 507182   90.7\n",
      "indigenous                            1    0.0\n",
      "status                           338159   60.5\n",
      "provider                              0    0.0\n",
      "geo_source                       141092   25.2\n",
      "formatted_en                      99059   17.7\n",
      "formatted_fr                      99059   17.7\n",
      "csdname_oda                      265782   47.5\n",
      "keep_match                       206509   36.9\n",
      "no_match_reason                  385013   68.9\n",
      "keep_gc                          510238   91.3\n",
      "geometry                              0    0.0\n",
      "index_right                      143950   25.8\n",
      "CSDUID                           143950   25.8\n",
      "CSDNAME                          143950   25.8\n",
      "PRUID                            143950   25.8\n",
      "NAICS_Group                         458    0.1\n",
      "NAICS                             97216   17.4\n"
     ]
    }
   ],
   "source": [
    "counts = df.isna().sum()\n",
    "\n",
    "\n",
    "percentages = round(df.isna().mean() * 100, 1)\n",
    "\n",
    "\n",
    "null_values = pd.concat([counts, percentages], axis=1, keys=[\"count null values\", \"%\"])\n",
    "print(null_values)"
   ]
  },
  {
   "cell_type": "code",
   "execution_count": 15,
   "metadata": {
    "execution": {
     "iopub.execute_input": "2023-01-19T20:31:05.450743Z",
     "iopub.status.busy": "2023-01-19T20:31:05.450359Z",
     "iopub.status.idle": "2023-01-19T20:31:05.456383Z",
     "shell.execute_reply": "2023-01-19T20:31:05.455685Z",
     "shell.execute_reply.started": "2023-01-19T20:31:05.450702Z"
    },
    "tags": []
   },
   "outputs": [
    {
     "data": {
      "text/plain": [
       "558964"
      ]
     },
     "execution_count": 15,
     "metadata": {},
     "output_type": "execute_result"
    }
   ],
   "source": [
    "len(df)"
   ]
  },
  {
   "cell_type": "code",
   "execution_count": 16,
   "metadata": {
    "execution": {
     "iopub.execute_input": "2023-01-19T20:32:52.578926Z",
     "iopub.status.busy": "2023-01-19T20:32:52.578676Z",
     "iopub.status.idle": "2023-01-19T20:32:52.585620Z",
     "shell.execute_reply": "2023-01-19T20:32:52.584870Z",
     "shell.execute_reply.started": "2023-01-19T20:32:52.578898Z"
    }
   },
   "outputs": [
    {
     "data": {
      "text/plain": [
       "index                   object\n",
       "idx                     object\n",
       "localfile               object\n",
       "business_name           object\n",
       "alt_business_name       object\n",
       "business_sector         object\n",
       "business_subsector      object\n",
       "business_description    object\n",
       "business_id_no          object\n",
       "licence_number          object\n",
       "licence_type            object\n",
       "primary_NAICS           object\n",
       "secondary_NAICS         object\n",
       "NAICS_descr             object\n",
       "NAICS_descr2            object\n",
       "alt_econ_act_code       object\n",
       "alt_econ_act_descrip    object\n",
       "latitude                object\n",
       "longitude               object\n",
       "full_address            object\n",
       "full_address_2          object\n",
       "mailing_address         object\n",
       "postal_code             object\n",
       "unit                    object\n",
       "street_no               object\n",
       "street_name             object\n",
       "street_direction        object\n",
       "street_type             object\n",
       "city                    object\n",
       "province                object\n",
       "country                 object\n",
       "business_website        object\n",
       "email                   object\n",
       "telephone               object\n",
       "telephone_extension     object\n",
       "toll_free_telephone     object\n",
       "fax                     object\n",
       "total_no_employees      object\n",
       "no_full_time            object\n",
       "no_part_time            object\n",
       "no_seasonal             object\n",
       "date_established        object\n",
       "indigenous              object\n",
       "status                  object\n",
       "provider                object\n",
       "geo_source              object\n",
       "formatted_en            object\n",
       "formatted_fr            object\n",
       "csdname_oda             object\n",
       "keep_match              object\n",
       "no_match_reason         object\n",
       "keep_gc                 object\n",
       "geometry                object\n",
       "index_right             object\n",
       "CSDUID                  object\n",
       "CSDNAME                 object\n",
       "PRUID                   object\n",
       "NAICS_Group             object\n",
       "NAICS                   object\n",
       "dtype: object"
      ]
     },
     "execution_count": 16,
     "metadata": {},
     "output_type": "execute_result"
    }
   ],
   "source": [
    "# Print the data types\n",
    "# of each column\n",
    "\n",
    "\n",
    "datatypes = df.dtypes\n",
    "datatypes"
   ]
  },
  {
   "cell_type": "code",
   "execution_count": 17,
   "metadata": {
    "execution": {
     "iopub.execute_input": "2023-01-19T20:33:43.155985Z",
     "iopub.status.busy": "2023-01-19T20:33:43.155618Z",
     "iopub.status.idle": "2023-01-19T20:33:47.297855Z",
     "shell.execute_reply": "2023-01-19T20:33:47.296914Z",
     "shell.execute_reply.started": "2023-01-19T20:33:43.155943Z"
    }
   },
   "outputs": [
    {
     "name": "stdout",
     "output_type": "stream",
     "text": [
      "<class 'pandas.core.frame.DataFrame'>\n",
      "RangeIndex: 558964 entries, 0 to 558963\n",
      "Data columns (total 59 columns):\n",
      " #   Column                Non-Null Count   Dtype \n",
      "---  ------                --------------   ----- \n",
      " 0   index                 558964 non-null  object\n",
      " 1   idx                   558964 non-null  object\n",
      " 2   localfile             558964 non-null  object\n",
      " 3   business_name         529853 non-null  object\n",
      " 4   alt_business_name     74980 non-null   object\n",
      " 5   business_sector       426431 non-null  object\n",
      " 6   business_subsector    101603 non-null  object\n",
      " 7   business_description  82425 non-null   object\n",
      " 8   business_id_no        87674 non-null   object\n",
      " 9   licence_number        386890 non-null  object\n",
      " 10  licence_type          71918 non-null   object\n",
      " 11  primary_NAICS         118409 non-null  object\n",
      " 12  secondary_NAICS       16810 non-null   object\n",
      " 13  NAICS_descr           104850 non-null  object\n",
      " 14  NAICS_descr2          1681 non-null    object\n",
      " 15  alt_econ_act_code     17820 non-null   object\n",
      " 16  alt_econ_act_descrip  17820 non-null   object\n",
      " 17  latitude              416854 non-null  object\n",
      " 18  longitude             416854 non-null  object\n",
      " 19  full_address          459905 non-null  object\n",
      " 20  full_address_2        933 non-null     object\n",
      " 21  mailing_address       43161 non-null   object\n",
      " 22  postal_code           341886 non-null  object\n",
      " 23  unit                  77826 non-null   object\n",
      " 24  street_no             455352 non-null  object\n",
      " 25  street_name           459905 non-null  object\n",
      " 26  street_direction      16187 non-null   object\n",
      " 27  street_type           61024 non-null   object\n",
      " 28  city                  531896 non-null  object\n",
      " 29  province              558951 non-null  object\n",
      " 30  country               558951 non-null  object\n",
      " 31  business_website      65408 non-null   object\n",
      " 32  email                 42538 non-null   object\n",
      " 33  telephone             131131 non-null  object\n",
      " 34  telephone_extension   14 non-null      object\n",
      " 35  toll_free_telephone   7687 non-null    object\n",
      " 36  fax                   40493 non-null   object\n",
      " 37  total_no_employees    189918 non-null  object\n",
      " 38  no_full_time          17575 non-null   object\n",
      " 39  no_part_time          16166 non-null   object\n",
      " 40  no_seasonal           4573 non-null    object\n",
      " 41  date_established      51782 non-null   object\n",
      " 42  indigenous            558963 non-null  object\n",
      " 43  status                220805 non-null  object\n",
      " 44  provider              558964 non-null  object\n",
      " 45  geo_source            417872 non-null  object\n",
      " 46  formatted_en          459905 non-null  object\n",
      " 47  formatted_fr          459905 non-null  object\n",
      " 48  csdname_oda           293182 non-null  object\n",
      " 49  keep_match            352455 non-null  object\n",
      " 50  no_match_reason       173951 non-null  object\n",
      " 51  keep_gc               48726 non-null   object\n",
      " 52  geometry              558964 non-null  object\n",
      " 53  index_right           415014 non-null  object\n",
      " 54  CSDUID                415014 non-null  object\n",
      " 55  CSDNAME               415014 non-null  object\n",
      " 56  PRUID                 415014 non-null  object\n",
      " 57  NAICS_Group           558506 non-null  object\n",
      " 58  NAICS                 461748 non-null  object\n",
      "dtypes: object(59)\n",
      "memory usage: 251.6+ MB\n"
     ]
    }
   ],
   "source": [
    "df.info()"
   ]
  },
  {
   "cell_type": "markdown",
   "metadata": {},
   "source": [
    "13. unify status language \n",
    "\n",
    "\n",
    "Active - 1, OPEN, Licensed, Approved, Issued \n",
    "\n",
    "Not Active -  Gone out of buisness, Inactive, Cancelled, Move in porgress, invalid status code, close in progress\n",
    "\n",
    "Pending - Pending, Pending renewal, Renewal licensed, renewal notification sent, renewal notice\n"
   ]
  },
  {
   "cell_type": "code",
   "execution_count": null,
   "metadata": {},
   "outputs": [],
   "source": [
    "\n",
    "\n",
    "\n",
    "df['status'] = df['status'].replace(['1', 'OPEN', 'Licensed', 'Approved', 'Issued'], 'Active')\n",
    "\n",
    "\n",
    "df['status'] = df['status'].replace(['Gone out of buisness', 'Inactive', 'Cancelled', 'Move in porgress', 'invalid status code', 'close in progress'], 'Not Active')\n",
    "\n",
    "\n",
    "df['status'] = df['status'].replace(['Pending', 'Pending renewal', 'Renewal licensed', 'renewal notification sent', 'renewal notice'], 'Pending')\n",
    "\n",
    "\n",
    "\n",
    "\n",
    "df.to_csv('/home/jovyan/ODBiz/8-Cleaning/Not_QC.csv', index=False)"
   ]
  },
  {
   "cell_type": "code",
   "execution_count": null,
   "metadata": {},
   "outputs": [],
   "source": []
  }
 ],
 "metadata": {
  "kernelspec": {
   "display_name": "Python 3 (ipykernel)",
   "language": "python",
   "name": "python3"
  },
  "language_info": {
   "codemirror_mode": {
    "name": "ipython",
    "version": 3
   },
   "file_extension": ".py",
   "mimetype": "text/x-python",
   "name": "python",
   "nbconvert_exporter": "python",
   "pygments_lexer": "ipython3",
   "version": "3.8.12"
  }
 },
 "nbformat": 4,
 "nbformat_minor": 4
}
