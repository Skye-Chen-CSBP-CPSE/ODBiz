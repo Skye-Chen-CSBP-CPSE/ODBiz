{
 "cells": [
  {
   "cell_type": "code",
   "execution_count": 96,
   "metadata": {
    "execution": {
     "iopub.execute_input": "2022-12-06T14:37:40.595159Z",
     "iopub.status.busy": "2022-12-06T14:37:40.594878Z",
     "iopub.status.idle": "2022-12-06T14:37:40.599067Z",
     "shell.execute_reply": "2022-12-06T14:37:40.598192Z",
     "shell.execute_reply.started": "2022-12-06T14:37:40.595131Z"
    },
    "tags": []
   },
   "outputs": [],
   "source": [
    "import pandas as pd\n",
    "import numpy as np\n",
    "import mitosheet\n",
    "import json"
   ]
  },
  {
   "cell_type": "code",
   "execution_count": 97,
   "metadata": {
    "execution": {
     "iopub.execute_input": "2022-12-06T14:37:41.230414Z",
     "iopub.status.busy": "2022-12-06T14:37:41.230114Z",
     "iopub.status.idle": "2022-12-06T14:37:52.660697Z",
     "shell.execute_reply": "2022-12-06T14:37:52.659797Z",
     "shell.execute_reply.started": "2022-12-06T14:37:41.230383Z"
    },
    "tags": []
   },
   "outputs": [],
   "source": [
    "input_data = \"../5a-Matching/output/matched_processed.csv\"\n",
    "df_input = pd.read_csv(input_data, low_memory=False, dtype=\"str\")"
   ]
  },
  {
   "cell_type": "code",
   "execution_count": 125,
   "metadata": {
    "execution": {
     "iopub.execute_input": "2022-12-08T19:24:09.800783Z",
     "iopub.status.busy": "2022-12-08T19:24:09.800418Z",
     "iopub.status.idle": "2022-12-08T19:24:10.255041Z",
     "shell.execute_reply": "2022-12-08T19:24:10.254201Z",
     "shell.execute_reply.started": "2022-12-08T19:24:09.800743Z"
    },
    "tags": []
   },
   "outputs": [
    {
     "name": "stdout",
     "output_type": "stream",
     "text": [
      "number to geocode: 345150\n",
      "unable to geocode:  241060\n"
     ]
    }
   ],
   "source": [
    "df4 = df_input[df_input['latitude'].isna()]\n",
    "print('number to geocode:', len(df4))\n",
    "\n",
    "df5 = df4[~df4.street_no.isna()]\n",
    "print('unable to geocode: ', len(df5))"
   ]
  },
  {
   "cell_type": "code",
   "execution_count": 130,
   "metadata": {
    "execution": {
     "iopub.execute_input": "2022-12-08T19:32:07.985979Z",
     "iopub.status.busy": "2022-12-08T19:32:07.985606Z",
     "iopub.status.idle": "2022-12-08T19:32:42.225959Z",
     "shell.execute_reply": "2022-12-08T19:32:42.225191Z",
     "shell.execute_reply.started": "2022-12-08T19:32:07.985939Z"
    },
    "tags": []
   },
   "outputs": [
    {
     "name": "stdout",
     "output_type": "stream",
     "text": [
      "no file:  data/geocoded_78.json\n",
      "AB - rows:  216\n",
      "BC - rows:  14042\n",
      "no file:  data/geocoded_LAKEVIEW ESTATES.json\n",
      "MB - rows:  47\n",
      "NB - rows:  19\n",
      "NL - rows:  2\n",
      "NS - rows:  5\n",
      "NT - rows:  81\n",
      "no file:  data/geocoded_NU.json\n",
      "ON - rows:  19893\n",
      "PE - rows:  1\n",
      "QC - rows:  122758\n",
      "SK - rows:  66\n",
      "YT - rows:  3\n",
      "no file:  data/geocoded_nan.json\n"
     ]
    }
   ],
   "source": [
    "provinces = df_input['province'].unique()\n",
    "\n",
    "IDX = []\n",
    "ST_NO = []\n",
    "ST_NAME = []\n",
    "ST_NAME_2 = []\n",
    "CITY = []\n",
    "PROV = []\n",
    "POST = []\n",
    "LATS = []\n",
    "LONS = []\n",
    "\n",
    "df = pd.DataFrame(columns=['idx','gc_street_no','gc_street_name', \\\n",
    "                               'gc_city','gc_province','gc_postal_code', \\\n",
    "                               'gc_latitude', 'gc_longitude'])\n",
    "\n",
    "for province_code in provinces:\n",
    "#     print(province_code)\n",
    "    json_file = 'data/geocoded_' + str(province_code) + '.json'\n",
    "\n",
    "    try:\n",
    "        with open(json_file, 'r', encoding='utf-8') as f:\n",
    "            JSONS=json.load(f)  \n",
    "        print(province_code, '- rows: ', len(JSONS))\n",
    "\n",
    "        # add json data to arrays\n",
    "        for index, element in enumerate(JSONS):\n",
    "            if element==[]:\n",
    "                append_blank(index)\n",
    "\n",
    "            else:\n",
    "                # format gc api results      \n",
    "                if 'meta' in element:\n",
    "                    if (element['data'][0]['country']['code'] == 'CA'):\n",
    "                        IDX.append(element['idx'])\n",
    "                        if not element['data'][0]['civicNumber']['number'] is None:\n",
    "                            ST_NO.append(element['data'][0]['civicNumber']['number'])\n",
    "                        else:\n",
    "                            ST_NO.append('')\n",
    "                            print('oops')\n",
    "                        ST_NAME.append(element['data'][0]['streetName'])\n",
    "                        ST_NAME_2.append(element['data'][1]['streetName'])\n",
    "                        CITY.append(element['data'][0]['cityName']['en'])\n",
    "                        PROV.append(element['data'][0]['mailingAddress']['province']['code'])\n",
    "                        POST.append(element['data'][0]['mailingAddress']['postalCode'])\n",
    "                        LATS.append(element['data'][0]['location']['geoCoordinates']['latitude'])\n",
    "                        LONS.append(element['data'][0]['location']['geoCoordinates']['longitude'])\n",
    "        #                 if 'streetName' in element.keys():\n",
    "        #                     ST_NAME.append(element['streetName'])\n",
    "        #                 else:\n",
    "        #                     ST_NAME.append('nope')\n",
    "                else:\n",
    "                    IDX.append('')\n",
    "                    LATS.append('')\n",
    "                    LONS.append('')\n",
    "                    ST_NO.append('nope')\n",
    "                    ST_NAME.append('')\n",
    "                    CITY.append('')\n",
    "                    PROV.append('')\n",
    "                    POST.append('')\n",
    "                    ST_NAME_2.append('')\n",
    "    except FileNotFoundError:\n",
    "        print('no file: ', json_file)\n",
    "\n",
    "\n",
    "# append results to dataframe\n",
    "df['idx'] = IDX\n",
    "df['gc_street_no'] = ST_NO\n",
    "df['gc_street_name'] = ST_NAME\n",
    "df['gc_street_name_2'] = ST_NAME_2\n",
    "df['gc_city'] = CITY\n",
    "df['gc_province'] = PROV\n",
    "df['gc_postal_code'] = POST\n",
    "df['gc_latitude'] = LATS\n",
    "df['gc_longitude'] = LONS"
   ]
  },
  {
   "cell_type": "code",
   "execution_count": 112,
   "metadata": {
    "execution": {
     "iopub.execute_input": "2022-12-06T19:53:23.966530Z",
     "iopub.status.busy": "2022-12-06T19:53:23.966222Z",
     "iopub.status.idle": "2022-12-06T19:53:23.970281Z",
     "shell.execute_reply": "2022-12-06T19:53:23.969365Z",
     "shell.execute_reply.started": "2022-12-06T19:53:23.966498Z"
    }
   },
   "outputs": [],
   "source": [
    "df_json = df"
   ]
  },
  {
   "cell_type": "code",
   "execution_count": 139,
   "metadata": {
    "execution": {
     "iopub.execute_input": "2022-12-08T20:03:24.165061Z",
     "iopub.status.busy": "2022-12-08T20:03:24.164598Z",
     "iopub.status.idle": "2022-12-08T20:03:26.234043Z",
     "shell.execute_reply": "2022-12-08T20:03:26.233201Z",
     "shell.execute_reply.started": "2022-12-08T20:03:24.165002Z"
    },
    "tags": []
   },
   "outputs": [
    {
     "data": {
      "text/plain": [
       "803491"
      ]
     },
     "execution_count": 139,
     "metadata": {},
     "output_type": "execute_result"
    }
   ],
   "source": [
    "df2 = pd.merge(df_json, df_input, how='right', on='idx')\n",
    "len(df2)"
   ]
  },
  {
   "cell_type": "code",
   "execution_count": 131,
   "metadata": {
    "execution": {
     "iopub.execute_input": "2022-12-08T19:50:34.642491Z",
     "iopub.status.busy": "2022-12-08T19:50:34.642136Z",
     "iopub.status.idle": "2022-12-08T19:50:34.747641Z",
     "shell.execute_reply": "2022-12-08T19:50:34.746707Z",
     "shell.execute_reply.started": "2022-12-08T19:50:34.642451Z"
    },
    "tags": []
   },
   "outputs": [],
   "source": [
    "# For testing\n",
    "\n",
    "# df2 = df2[['idx', 'street_no', 'gc_street_no', 'street_name', \n",
    "#           'gc_street_name', 'gc_street_name_2', 'latitude', 'gc_latitude', \n",
    "#           'longitude', 'gc_longitude']]\n",
    "# df3 = df2.sample(300)\n"
   ]
  },
  {
   "cell_type": "code",
   "execution_count": null,
   "metadata": {},
   "outputs": [],
   "source": [
    "# now we need to loop through"
   ]
  },
  {
   "cell_type": "code",
   "execution_count": 140,
   "metadata": {
    "execution": {
     "iopub.execute_input": "2022-12-08T20:03:35.812051Z",
     "iopub.status.busy": "2022-12-08T20:03:35.811666Z",
     "iopub.status.idle": "2022-12-08T20:03:38.184050Z",
     "shell.execute_reply": "2022-12-08T20:03:38.183281Z",
     "shell.execute_reply.started": "2022-12-08T20:03:35.812007Z"
    },
    "tags": []
   },
   "outputs": [
    {
     "name": "stdout",
     "output_type": "stream",
     "text": [
      "number to geocode: 345150\n",
      "number to geocode: 345150\n"
     ]
    }
   ],
   "source": [
    "df4 = df2[df2['latitude'].isna()]\n",
    "print('number to geocode:', len(df4))\n",
    "\n",
    "df5 = df_input[df_input['latitude'].isna()]\n",
    "print('number to geocode:', len(df5))"
   ]
  },
  {
   "cell_type": "code",
   "execution_count": null,
   "metadata": {},
   "outputs": [],
   "source": [
    "# Have to do the loop to add in duplicates addresses"
   ]
  },
  {
   "cell_type": "code",
   "execution_count": 141,
   "metadata": {
    "execution": {
     "iopub.execute_input": "2022-12-08T20:03:52.174413Z",
     "iopub.status.busy": "2022-12-08T20:03:52.174144Z",
     "iopub.status.idle": "2022-12-08T20:04:01.672437Z",
     "shell.execute_reply": "2022-12-08T20:04:01.671476Z",
     "shell.execute_reply.started": "2022-12-08T20:03:52.174388Z"
    },
    "tags": []
   },
   "outputs": [],
   "source": [
    "# We only keep GC API results if the street number \n",
    "# and name matches the query\n",
    "\n",
    "# if the street numbers match\n",
    "# and the gc_street_name is contained in street_name\n",
    "for i in range(len(df2)):\n",
    "    if (df2.at[i,'street_no'] == df2.at[i,'gc_street_no'] and\n",
    "       df2.at[i,'gc_street_name'].lower() in df2.at[i,'street_name'].lower()):\n",
    "        df2.at[i,'keep_gc'] = 'yes'\n"
   ]
  },
  {
   "cell_type": "code",
   "execution_count": null,
   "metadata": {},
   "outputs": [],
   "source": []
  },
  {
   "cell_type": "code",
   "execution_count": 142,
   "metadata": {
    "execution": {
     "iopub.execute_input": "2022-12-08T20:04:07.191285Z",
     "iopub.status.busy": "2022-12-08T20:04:07.190865Z",
     "iopub.status.idle": "2022-12-08T20:04:08.650277Z",
     "shell.execute_reply": "2022-12-08T20:04:08.649459Z",
     "shell.execute_reply.started": "2022-12-08T20:04:07.191241Z"
    },
    "tags": []
   },
   "outputs": [
    {
     "name": "stdout",
     "output_type": "stream",
     "text": [
      "percent of good results:  14.0\n"
     ]
    }
   ],
   "source": [
    "total = len(df2)\n",
    "keeps = len(df2[df2['keep_gc'] == 'yes'])\n",
    "percent_matches = 100 * keeps / total\n",
    "print('percent of good results: ', np.round(percent_matches, 0))"
   ]
  },
  {
   "cell_type": "code",
   "execution_count": 138,
   "metadata": {
    "execution": {
     "iopub.execute_input": "2022-12-08T20:01:37.317654Z",
     "iopub.status.busy": "2022-12-08T20:01:37.317291Z",
     "iopub.status.idle": "2022-12-08T20:01:37.355564Z",
     "shell.execute_reply": "2022-12-08T20:01:37.354378Z",
     "shell.execute_reply.started": "2022-12-08T20:01:37.317613Z"
    },
    "tags": []
   },
   "outputs": [],
   "source": [
    "df = df2"
   ]
  },
  {
   "cell_type": "code",
   "execution_count": 143,
   "metadata": {
    "execution": {
     "iopub.execute_input": "2022-12-08T20:26:58.766907Z",
     "iopub.status.busy": "2022-12-08T20:26:58.766535Z",
     "iopub.status.idle": "2022-12-08T20:27:22.837181Z",
     "shell.execute_reply": "2022-12-08T20:27:22.836322Z",
     "shell.execute_reply.started": "2022-12-08T20:26:58.766867Z"
    },
    "tags": []
   },
   "outputs": [],
   "source": [
    "# Now we want to add in GC lat lons for any matches that were \n",
    "# removed by deduplication\n",
    "\n",
    "\n",
    "df.sort_values(['province', 'city', 'street_no', 'formatted_en'], inplace=True)\n",
    "# df.reset_index(inplace=True)\n",
    "\n",
    "for i in range(len(df)):\n",
    "    \n",
    "    # check if the street number is the same as the previous row\n",
    "    if (i > 1):\n",
    "        if (df.at[i , 'street_no'] == df.at[i - 1, 'street_no']):\n",
    "            # then street name\n",
    "            if (df.at[i, 'formatted_en'] == df.at[i - 1, 'formatted_en']):\n",
    "                # then city\n",
    "                if (df.at[i, 'city'] == df.at[i - 1, 'city']):\n",
    "                    # then province\n",
    "                    if (df.at[i, 'province'] == df.at[i - 1, 'province']):\n",
    "                        \n",
    "                        # if they are all the same and we have an gc latitude,\n",
    "                        # then assign it to the previous row\n",
    "                        \n",
    "                        # check if previous row had a gc latitude\n",
    "                        gc_longitude = df.at[i - 1, 'gc_latitude']\n",
    "                        if (not pd.isna(gc_longitude) and gc_longitude != 0):\n",
    "                            # if yes, then assign it to the current row\n",
    "                            df.at[i, 'gc_latitude'] = gc_longitude\n",
    "                            \n",
    "                            # do the same for y\n",
    "                            gc_longitude = df.at[i - 1, 'gc_longitude']\n",
    "                            if (not pd.isna(gc_longitude) and gc_longitude != 0):\n",
    "                                df.at[i, 'gc_longitude'] = gc_longitude\n",
    "                                \n",
    "                            # do the same for gc keep match \n",
    "                            keep_gc = df.at[i - 1, 'keep_gc']\n",
    "                            if (not pd.isna(keep_gc) and keep_gc != 0):\n",
    "                                df.at[i, 'keep_gc'] = keep_gc\n",
    "                    \n",
    "                            # also add info other columns from the matching stage\n",
    "#                             df.at[i, 'keep_gc'] = df.at[i - 1, 'keep_gc']\n",
    "\n"
   ]
  },
  {
   "cell_type": "code",
   "execution_count": 144,
   "metadata": {
    "execution": {
     "iopub.execute_input": "2022-12-08T20:27:44.091691Z",
     "iopub.status.busy": "2022-12-08T20:27:44.091299Z",
     "iopub.status.idle": "2022-12-08T20:27:44.319280Z",
     "shell.execute_reply": "2022-12-08T20:27:44.318501Z",
     "shell.execute_reply.started": "2022-12-08T20:27:44.091649Z"
    }
   },
   "outputs": [
    {
     "name": "stdout",
     "output_type": "stream",
     "text": [
      "percent of good results:  20.0\n"
     ]
    }
   ],
   "source": [
    "total = len(df)\n",
    "keeps = len(df[df['keep_gc'] == 'yes'])\n",
    "percent_matches = 100 * keeps / total\n",
    "print('percent of good results: ', np.round(percent_matches, 0))"
   ]
  },
  {
   "cell_type": "code",
   "execution_count": 149,
   "metadata": {
    "execution": {
     "iopub.execute_input": "2022-12-08T20:34:03.762439Z",
     "iopub.status.busy": "2022-12-08T20:34:03.762187Z",
     "iopub.status.idle": "2022-12-08T20:34:06.532799Z",
     "shell.execute_reply": "2022-12-08T20:34:06.531909Z",
     "shell.execute_reply.started": "2022-12-08T20:34:03.762414Z"
    },
    "tags": []
   },
   "outputs": [],
   "source": [
    "# df['geo_source'] = np.where(isinstance(df[gc_longitude], float), \"gc_match\", df['geo_source'])\n",
    "df['geo_source'] = np.where(df['keep_gc'] == 'yes', \"gc_match\", df['geo_source'])\n",
    "df['latitude'] = np.where(df['keep_gc'] == 'yes', df['gc_latitude'], df['latitude'])\n",
    "df['longitude'] = np.where(df['keep_gc'] == 'yes', df['gc_longitude'], df['longitude'])\n",
    "\n",
    "# df['longitude'] = np.where(not df[gc_longitude].isna(), df['gc_longitude'], df['longitude'])"
   ]
  },
  {
   "cell_type": "code",
   "execution_count": 155,
   "metadata": {
    "execution": {
     "iopub.execute_input": "2022-12-08T21:18:13.532541Z",
     "iopub.status.busy": "2022-12-08T21:18:13.532281Z",
     "iopub.status.idle": "2022-12-08T21:18:14.362801Z",
     "shell.execute_reply": "2022-12-08T21:18:14.361800Z",
     "shell.execute_reply.started": "2022-12-08T21:18:13.532505Z"
    },
    "tags": []
   },
   "outputs": [],
   "source": [
    "# Finally, we clean up columns that are not being used\n",
    "df = df.drop(columns=['gc_street_no', 'gc_street_name', 'gc_street_name_2', \\\n",
    "'gc_city', 'gc_province', 'gc_postal_code', 'gc_latitude', 'gc_longitude'])\n",
    "\n",
    "df = df.drop(columns=['x', 'y', 'ratio', 'matches_r'])\n",
    "\n"
   ]
  },
  {
   "cell_type": "code",
   "execution_count": 156,
   "metadata": {
    "execution": {
     "iopub.execute_input": "2022-12-08T21:18:21.761258Z",
     "iopub.status.busy": "2022-12-08T21:18:21.760817Z",
     "iopub.status.idle": "2022-12-08T21:18:34.790817Z",
     "shell.execute_reply": "2022-12-08T21:18:34.789807Z",
     "shell.execute_reply.started": "2022-12-08T21:18:21.761215Z"
    },
    "tags": []
   },
   "outputs": [],
   "source": [
    "df.to_csv('data/output/geocoded.csv', index=False)"
   ]
  },
  {
   "cell_type": "code",
   "execution_count": 154,
   "metadata": {
    "execution": {
     "iopub.execute_input": "2022-12-08T21:16:23.736504Z",
     "iopub.status.busy": "2022-12-08T21:16:23.736256Z",
     "iopub.status.idle": "2022-12-08T21:16:25.309137Z",
     "shell.execute_reply": "2022-12-08T21:16:25.308449Z",
     "shell.execute_reply.started": "2022-12-08T21:16:23.736479Z"
    },
    "tags": []
   },
   "outputs": [
    {
     "data": {
      "application/vnd.jupyter.widget-view+json": {
       "model_id": "5be1f97046de42ecab24a57522345e53",
       "version_major": 2,
       "version_minor": 0
      },
      "text/plain": [
       "MitoWidget(analysis_data_json='{\"analysisName\": \"id-imwgfljpks\", \"analysisToReplay\": {\"analysisName\": \"id-wpvp…"
      ]
     },
     "metadata": {},
     "output_type": "display_data"
    }
   ],
   "source": [
    "mitosheet.sheet(df.sample(1000), analysis_to_replay=\"id-wpvpckaimu\")"
   ]
  },
  {
   "cell_type": "code",
   "execution_count": 158,
   "metadata": {
    "execution": {
     "iopub.execute_input": "2022-12-08T21:20:39.267476Z",
     "iopub.status.busy": "2022-12-08T21:20:39.267118Z",
     "iopub.status.idle": "2022-12-08T21:20:39.306030Z",
     "shell.execute_reply": "2022-12-08T21:20:39.304827Z",
     "shell.execute_reply.started": "2022-12-08T21:20:39.267438Z"
    },
    "tags": []
   },
   "outputs": [
    {
     "data": {
      "text/plain": [
       "oda_match    235747\n",
       "Source       223612\n",
       "gc_match     159985\n",
       "Name: geo_source, dtype: int64"
      ]
     },
     "execution_count": 158,
     "metadata": {},
     "output_type": "execute_result"
    }
   ],
   "source": [
    "df['geo_source'].value_counts()"
   ]
  },
  {
   "cell_type": "code",
   "execution_count": 159,
   "metadata": {
    "execution": {
     "iopub.execute_input": "2022-12-08T21:22:02.370787Z",
     "iopub.status.busy": "2022-12-08T21:22:02.370427Z",
     "iopub.status.idle": "2022-12-08T21:22:02.557225Z",
     "shell.execute_reply": "2022-12-08T21:22:02.556377Z",
     "shell.execute_reply.started": "2022-12-08T21:22:02.370750Z"
    }
   },
   "outputs": [
    {
     "name": "stdout",
     "output_type": "stream",
     "text": [
      "185165\n"
     ]
    }
   ],
   "source": [
    "print(len(df[df['latitude'].isna()]))"
   ]
  },
  {
   "cell_type": "code",
   "execution_count": 160,
   "metadata": {
    "execution": {
     "iopub.execute_input": "2022-12-08T21:22:08.983261Z",
     "iopub.status.busy": "2022-12-08T21:22:08.982992Z",
     "iopub.status.idle": "2022-12-08T21:22:09.161579Z",
     "shell.execute_reply": "2022-12-08T21:22:09.160784Z",
     "shell.execute_reply.started": "2022-12-08T21:22:08.983218Z"
    }
   },
   "outputs": [
    {
     "name": "stdout",
     "output_type": "stream",
     "text": [
      "184147\n"
     ]
    }
   ],
   "source": [
    "print(len(df[df['geo_source'].isna()]))"
   ]
  },
  {
   "cell_type": "code",
   "execution_count": 161,
   "metadata": {
    "execution": {
     "iopub.execute_input": "2022-12-08T21:22:29.335651Z",
     "iopub.status.busy": "2022-12-08T21:22:29.335287Z",
     "iopub.status.idle": "2022-12-08T21:22:29.441086Z",
     "shell.execute_reply": "2022-12-08T21:22:29.440281Z",
     "shell.execute_reply.started": "2022-12-08T21:22:29.335612Z"
    }
   },
   "outputs": [
    {
     "name": "stdout",
     "output_type": "stream",
     "text": [
      "106548\n"
     ]
    }
   ],
   "source": [
    "print(len(df[df['street_no'].isna()]))"
   ]
  },
  {
   "cell_type": "code",
   "execution_count": null,
   "metadata": {},
   "outputs": [],
   "source": []
  }
 ],
 "metadata": {
  "kernelspec": {
   "display_name": "Python 3 (ipykernel)",
   "language": "python",
   "name": "python3"
  },
  "language_info": {
   "codemirror_mode": {
    "name": "ipython",
    "version": 3
   },
   "file_extension": ".py",
   "mimetype": "text/x-python",
   "name": "python",
   "nbconvert_exporter": "python",
   "pygments_lexer": "ipython3",
   "version": "3.8.12"
  }
 },
 "nbformat": 4,
 "nbformat_minor": 4
}
