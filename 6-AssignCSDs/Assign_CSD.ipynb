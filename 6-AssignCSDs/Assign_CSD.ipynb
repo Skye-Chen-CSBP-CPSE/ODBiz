{
 "cells": [
  {
   "cell_type": "code",
   "execution_count": 6,
   "metadata": {
    "execution": {
     "iopub.execute_input": "2022-12-09T23:07:46.215558Z",
     "iopub.status.busy": "2022-12-09T23:07:46.214271Z",
     "iopub.status.idle": "2022-12-09T23:09:47.156030Z",
     "shell.execute_reply": "2022-12-09T23:09:47.154955Z",
     "shell.execute_reply.started": "2022-12-09T23:07:46.215506Z"
    },
    "tags": []
   },
   "outputs": [],
   "source": [
    "\"\"\"\n",
    "this code was modified from the ODHF v2 project for the ODBiz project\n",
    "\"\"\"\n",
    "\n",
    "import pandas as pd\n",
    "import numpy as np\n",
    "\n",
    "\n",
    "\n",
    "import pandas as pd\n",
    "import geopandas as gpd\n",
    "\n",
    "df=pd.read_csv(\"/home/jovyan/ODBiz/5b-Geocoding/data/output/geocoded.csv\", low_memory=False, dtype='str') #file to read in \n",
    "\n",
    "\n",
    "\n",
    "gdf = gpd.GeoDataFrame(df, geometry=gpd.points_from_xy(df['longitude'], df['latitude']))\n",
    "gdf.crs=\"EPSG:4326\"\n",
    "\n",
    "\n",
    "#read in Statcan boundary file\n",
    "CSD = gpd.read_file(\"/home/jovyan/ODBiz/6-AssignCSDs/Test/CSD_shapefile/lcsd000a16a_e.shx\")\n",
    "CSD=CSD[['CSDUID', 'CSDNAME','PRUID', 'geometry']]\n",
    "\n",
    "#convert geometry of addresses to statcan geometry\n",
    "gdf=gdf.to_crs(CSD.crs)\n",
    "\n",
    "\n",
    "#perform spatial merge\n",
    "gdf_csd=gpd.sjoin(gdf,CSD, predicate='within', how='left')\n",
    "\n",
    "df=pd.DataFrame(gdf_csd)\n",
    "\n",
    "\n",
    "\n",
    "df.to_csv('/home/jovyan/ODBiz/6-AssignCSDs/CSDs.csv', index=False) #outputted file with CSDs\n"
   ]
  },
  {
   "cell_type": "code",
   "execution_count": null,
   "metadata": {},
   "outputs": [],
   "source": []
  }
 ],
 "metadata": {
  "kernelspec": {
   "display_name": "Python [conda env:odbiz]",
   "language": "python",
   "name": "conda-env-odbiz-py"
  },
  "language_info": {
   "codemirror_mode": {
    "name": "ipython",
    "version": 3
   },
   "file_extension": ".py",
   "mimetype": "text/x-python",
   "name": "python",
   "nbconvert_exporter": "python",
   "pygments_lexer": "ipython3",
   "version": "3.8.15"
  }
 },
 "nbformat": 4,
 "nbformat_minor": 4
}
