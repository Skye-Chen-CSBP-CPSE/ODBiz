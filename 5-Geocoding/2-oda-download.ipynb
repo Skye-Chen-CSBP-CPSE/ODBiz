{
 "cells": [
  {
   "cell_type": "code",
   "execution_count": 1,
   "metadata": {
    "execution": {
     "iopub.execute_input": "2022-08-29T19:21:21.427344Z",
     "iopub.status.busy": "2022-08-29T19:21:21.427055Z",
     "iopub.status.idle": "2022-08-29T19:21:21.433515Z",
     "shell.execute_reply": "2022-08-29T19:21:21.432512Z",
     "shell.execute_reply.started": "2022-08-29T19:21:21.427279Z"
    },
    "tags": []
   },
   "outputs": [],
   "source": [
    "# download the ODA data files"
   ]
  },
  {
   "cell_type": "code",
   "execution_count": 1,
   "metadata": {
    "execution": {
     "iopub.execute_input": "2022-08-29T19:24:05.904523Z",
     "iopub.status.busy": "2022-08-29T19:24:05.904093Z",
     "iopub.status.idle": "2022-08-29T19:24:05.957307Z",
     "shell.execute_reply": "2022-08-29T19:24:05.956444Z",
     "shell.execute_reply.started": "2022-08-29T19:24:05.904442Z"
    },
    "tags": []
   },
   "outputs": [],
   "source": [
    "import requests, zipfile, io"
   ]
  },
  {
   "cell_type": "code",
   "execution_count": 5,
   "metadata": {
    "execution": {
     "iopub.execute_input": "2022-08-08T13:32:47.152134Z",
     "iopub.status.busy": "2022-08-08T13:32:47.151462Z",
     "iopub.status.idle": "2022-08-08T13:33:29.255954Z",
     "shell.execute_reply": "2022-08-08T13:33:29.254965Z",
     "shell.execute_reply.started": "2022-08-08T13:32:47.152095Z"
    },
    "tags": []
   },
   "outputs": [
    {
     "name": "stdout",
     "output_type": "stream",
     "text": [
      "https://www150.statcan.gc.ca/n1/pub/46-26-0001/2021001/ODA_AB_v1.zip\n",
      "https://www150.statcan.gc.ca/n1/pub/46-26-0001/2021001/ODA_BC_v1.zip\n",
      "https://www150.statcan.gc.ca/n1/pub/46-26-0001/2021001/ODA_MB_v1.zip\n",
      "https://www150.statcan.gc.ca/n1/pub/46-26-0001/2021001/ODA_NB_v1.zip\n",
      "https://www150.statcan.gc.ca/n1/pub/46-26-0001/2021001/ODA_NT_v1.zip\n",
      "https://www150.statcan.gc.ca/n1/pub/46-26-0001/2021001/ODA_NS_v1.zip\n",
      "https://www150.statcan.gc.ca/n1/pub/46-26-0001/2021001/ODA_ON_v1.zip\n",
      "https://www150.statcan.gc.ca/n1/pub/46-26-0001/2021001/ODA_PE_v1.zip\n",
      "https://www150.statcan.gc.ca/n1/pub/46-26-0001/2021001/ODA_QC_v1.zip\n",
      "https://www150.statcan.gc.ca/n1/pub/46-26-0001/2021001/ODA_SK_v1.zip\n"
     ]
    }
   ],
   "source": [
    "# go \n",
    "\n",
    "provinces = ['AB', 'BC', 'MB', 'NB', 'NT', 'NS', 'ON', 'PE', 'QC', 'SK']\n",
    "\n",
    "for province_code in provinces:\n",
    "    zip_file_url = \"https://www150.statcan.gc.ca/n1/pub/46-26-0001/2021001/ODA_\" + province_code + \"_v1.zip\"\n",
    "    r = requests.get(zip_file_url)\n",
    "    z = zipfile.ZipFile(io.BytesIO(r.content))\n",
    "    z.extractall(\"data/oda-addresses\")\n",
    "    \n",
    "\n",
    "\n",
    "\n",
    "# https://www150.statcan.gc.ca/n1/pub/46-26-0001/2021001/ODA_AB_v1.zip\n",
    "\n",
    "# https://www150.statcan.gc.ca/n1/pub/46-26-0001/2021001/ODA_BC_v1.zip\n",
    "    \n",
    "# https://www150.statcan.gc.ca/n1/pub/46-26-0001/2021001/ODA_SK_v1.zip"
   ]
  },
  {
   "cell_type": "code",
   "execution_count": 1,
   "metadata": {
    "execution": {
     "iopub.execute_input": "2022-09-08T19:15:40.404441Z",
     "iopub.status.busy": "2022-09-08T19:15:40.403858Z",
     "iopub.status.idle": "2022-09-08T19:15:40.844442Z",
     "shell.execute_reply": "2022-09-08T19:15:40.843647Z",
     "shell.execute_reply.started": "2022-09-08T19:15:40.404344Z"
    },
    "tags": []
   },
   "outputs": [],
   "source": [
    "import pandas as pd\n",
    "from Address_Format_Funcs import AddressClean_en, AddressClean_fr"
   ]
  },
  {
   "cell_type": "code",
   "execution_count": null,
   "metadata": {
    "execution": {
     "iopub.execute_input": "2022-09-08T19:15:47.270276Z",
     "iopub.status.busy": "2022-09-08T19:15:47.269653Z"
    },
    "tags": []
   },
   "outputs": [
    {
     "name": "stdout",
     "output_type": "stream",
     "text": [
      "AB\n"
     ]
    }
   ],
   "source": [
    "# apply formatting to quebec\\\n",
    "# CHANGED apply formatting script to all provinces\n",
    "\n",
    "\n",
    "provinces = ['AB', 'BC', 'MB', 'NB', 'NT', 'NS', 'ON', 'PE', 'QC', 'SK']\n",
    "\n",
    "\n",
    "for province_code in provinces:\n",
    "    print(province_code)\n",
    "    ocd_file = \"data/oda-addresses/ODA_\" + province_code + \"_v1.csv\"\n",
    "    df = pd.read_csv(ocd_file, low_memory=False)\n",
    "    if (province_code == 'QC'):\n",
    "        df = AddressClean_fr(df,'street','street')\n",
    "    else:\n",
    "        df = AddressClean_en(df,'street','street')\n",
    "    output_file_name = \"data/oda-addresses/ODA_\" + province_code + \"_v1_formatted.csv\"\n",
    "    df.to_csv(output_file_name, index=False)"
   ]
  },
  {
   "cell_type": "code",
   "execution_count": null,
   "metadata": {
    "tags": []
   },
   "outputs": [],
   "source": [
    "# list(df)\n",
    "# df = df.sample(30)\n",
    "df['street'].tail(30)"
   ]
  },
  {
   "cell_type": "code",
   "execution_count": 5,
   "metadata": {
    "execution": {
     "iopub.execute_input": "2022-08-29T19:24:28.066180Z",
     "iopub.status.busy": "2022-08-29T19:24:28.065361Z",
     "iopub.status.idle": "2022-08-29T19:25:16.167095Z",
     "shell.execute_reply": "2022-08-29T19:25:16.166251Z",
     "shell.execute_reply.started": "2022-08-29T19:24:28.066149Z"
    },
    "tags": []
   },
   "outputs": [],
   "source": [
    "df = AddressClean_fr(df,'street','street')\n",
    "# df['street']=df['formatted_fr']\n",
    "df['street']=df['street'].str.lower()"
   ]
  },
  {
   "cell_type": "code",
   "execution_count": 7,
   "metadata": {
    "execution": {
     "iopub.execute_input": "2022-08-29T19:27:22.216223Z",
     "iopub.status.busy": "2022-08-29T19:27:22.215108Z",
     "iopub.status.idle": "2022-08-29T19:27:22.990389Z",
     "shell.execute_reply": "2022-08-29T19:27:22.989378Z",
     "shell.execute_reply.started": "2022-08-29T19:27:22.216178Z"
    }
   },
   "outputs": [],
   "source": [
    "df.street = df.street.str.replace('  ', ' ')"
   ]
  },
  {
   "cell_type": "code",
   "execution_count": 9,
   "metadata": {
    "execution": {
     "iopub.execute_input": "2022-08-29T19:27:31.588354Z",
     "iopub.status.busy": "2022-08-29T19:27:31.587787Z",
     "iopub.status.idle": "2022-08-29T19:27:43.592817Z",
     "shell.execute_reply": "2022-08-29T19:27:43.591912Z",
     "shell.execute_reply.started": "2022-08-29T19:27:31.588302Z"
    },
    "tags": []
   },
   "outputs": [],
   "source": [
    "df.to_csv('data/oda-addresses/ODA_QC_v1_formatted.csv',index=False)"
   ]
  },
  {
   "cell_type": "code",
   "execution_count": 61,
   "metadata": {
    "execution": {
     "iopub.execute_input": "2022-08-29T17:51:08.249966Z",
     "iopub.status.busy": "2022-08-29T17:51:08.249179Z",
     "iopub.status.idle": "2022-08-29T17:51:08.254504Z",
     "shell.execute_reply": "2022-08-29T17:51:08.253741Z",
     "shell.execute_reply.started": "2022-08-29T17:51:08.249931Z"
    },
    "tags": []
   },
   "outputs": [],
   "source": []
  },
  {
   "cell_type": "code",
   "execution_count": null,
   "metadata": {},
   "outputs": [],
   "source": []
  }
 ],
 "metadata": {
  "kernelspec": {
   "display_name": "Python [conda env:odbiz]",
   "language": "python",
   "name": "conda-env-odbiz-py"
  },
  "language_info": {
   "codemirror_mode": {
    "name": "ipython",
    "version": 3
   },
   "file_extension": ".py",
   "mimetype": "text/x-python",
   "name": "python",
   "nbconvert_exporter": "python",
   "pygments_lexer": "ipython3",
   "version": "3.8.13"
  }
 },
 "nbformat": 4,
 "nbformat_minor": 4
}
