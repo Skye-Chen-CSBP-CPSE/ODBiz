{
 "cells": [
  {
   "cell_type": "code",
   "execution_count": 2,
   "metadata": {
    "execution": {
     "iopub.execute_input": "2022-11-21T20:45:50.160992Z",
     "iopub.status.busy": "2022-11-21T20:45:50.160664Z",
     "iopub.status.idle": "2022-11-21T20:45:50.863313Z",
     "shell.execute_reply": "2022-11-21T20:45:50.862351Z",
     "shell.execute_reply.started": "2022-11-21T20:45:50.160953Z"
    },
    "tags": []
   },
   "outputs": [
    {
     "name": "stderr",
     "output_type": "stream",
     "text": [
      "/opt/conda/lib/python3.8/site-packages/requests/__init__.py:102: RequestsDependencyWarning: urllib3 (1.26.7) or chardet (5.0.0)/charset_normalizer (2.0.9) doesn't match a supported version!\n",
      "  warnings.warn(\"urllib3 ({}) or chardet ({})/charset_normalizer ({}) doesn't match a supported \"\n"
     ]
    }
   ],
   "source": [
    "import requests\n",
    "import json\n",
    "import pandas as pd\n",
    "import numpy as np\n",
    "import time\n",
    "from os.path import exists\n",
    "from datetime import datetime"
   ]
  },
  {
   "cell_type": "code",
   "execution_count": 5,
   "metadata": {
    "execution": {
     "iopub.execute_input": "2022-11-21T20:49:36.762190Z",
     "iopub.status.busy": "2022-11-21T20:49:36.761913Z",
     "iopub.status.idle": "2022-11-21T20:49:36.770056Z",
     "shell.execute_reply": "2022-11-21T20:49:36.769263Z",
     "shell.execute_reply.started": "2022-11-21T20:49:36.762159Z"
    },
    "tags": []
   },
   "outputs": [],
   "source": [
    "# Libraries for GC API\n",
    "import os\n",
    "from dotenv import load_dotenv"
   ]
  },
  {
   "cell_type": "code",
   "execution_count": 14,
   "metadata": {
    "execution": {
     "iopub.execute_input": "2022-11-21T20:51:23.953651Z",
     "iopub.status.busy": "2022-11-21T20:51:23.953202Z",
     "iopub.status.idle": "2022-11-21T20:51:24.884179Z",
     "shell.execute_reply": "2022-11-21T20:51:24.883097Z",
     "shell.execute_reply.started": "2022-11-21T20:51:23.953595Z"
    }
   },
   "outputs": [],
   "source": [
    "import mitosheet"
   ]
  },
  {
   "cell_type": "code",
   "execution_count": 6,
   "metadata": {
    "execution": {
     "iopub.execute_input": "2022-11-21T20:49:39.472387Z",
     "iopub.status.busy": "2022-11-21T20:49:39.471968Z",
     "iopub.status.idle": "2022-11-21T20:49:39.487485Z",
     "shell.execute_reply": "2022-11-21T20:49:39.486761Z",
     "shell.execute_reply.started": "2022-11-21T20:49:39.472338Z"
    },
    "tags": []
   },
   "outputs": [],
   "source": [
    "# requires a valid key to use the GC API\n",
    "# see docs https://api.canada.ca/en/homepage \n",
    "# create a .env file in this repository and add GC_API_KEY=\"YOUR_GC_API_KEY\"\n",
    "# make sure to add .env filetype to gitignore\n",
    "load_dotenv()\n",
    "gc_key = os.environ.get(\"GC_API_KEY\")\n",
    "\n",
    "# temporarily suppresses SettingWithCopyWarning\n",
    "pd.options.mode.chained_assignment = None "
   ]
  },
  {
   "cell_type": "code",
   "execution_count": 44,
   "metadata": {
    "execution": {
     "iopub.execute_input": "2022-11-24T17:06:10.899134Z",
     "iopub.status.busy": "2022-11-24T17:06:10.898757Z",
     "iopub.status.idle": "2022-11-24T17:06:20.658219Z",
     "shell.execute_reply": "2022-11-24T17:06:20.656867Z",
     "shell.execute_reply.started": "2022-11-24T17:06:10.899094Z"
    },
    "tags": []
   },
   "outputs": [],
   "source": [
    "input_data = \"../5a-Matching/output/matched_processed.csv\"\n",
    "df = pd.read_csv(input_data, low_memory=False, dtype=\"str\")\n",
    "df_input = df"
   ]
  },
  {
   "cell_type": "code",
   "execution_count": 37,
   "metadata": {
    "execution": {
     "iopub.execute_input": "2022-11-24T16:51:12.531979Z",
     "iopub.status.busy": "2022-11-24T16:51:12.531625Z",
     "iopub.status.idle": "2022-11-24T16:51:30.757862Z",
     "shell.execute_reply": "2022-11-24T16:51:30.756828Z",
     "shell.execute_reply.started": "2022-11-24T16:51:12.531940Z"
    }
   },
   "outputs": [],
   "source": [
    "df2 = pd.read_csv(\"../5a-Matching/output/matched.csv\", low_memory=False, dtype=\"str\")\n",
    "df3 = pd.read_csv(\"../5a-Matching/data/formatted.csv\", low_memory=False, dtype=\"str\")"
   ]
  },
  {
   "cell_type": "code",
   "execution_count": 100,
   "metadata": {
    "execution": {
     "iopub.execute_input": "2022-11-24T20:37:50.509488Z",
     "iopub.status.busy": "2022-11-24T20:37:50.509101Z",
     "iopub.status.idle": "2022-11-24T20:37:50.513517Z",
     "shell.execute_reply": "2022-11-24T20:37:50.512751Z",
     "shell.execute_reply.started": "2022-11-24T20:37:50.509446Z"
    }
   },
   "outputs": [],
   "source": [
    "df = df_input"
   ]
  },
  {
   "cell_type": "code",
   "execution_count": 101,
   "metadata": {
    "execution": {
     "iopub.execute_input": "2022-11-24T20:37:51.197666Z",
     "iopub.status.busy": "2022-11-24T20:37:51.197268Z",
     "iopub.status.idle": "2022-11-24T20:37:51.203638Z",
     "shell.execute_reply": "2022-11-24T20:37:51.202651Z",
     "shell.execute_reply.started": "2022-11-24T20:37:51.197624Z"
    },
    "tags": []
   },
   "outputs": [
    {
     "data": {
      "text/plain": [
       "803491"
      ]
     },
     "execution_count": 101,
     "metadata": {},
     "output_type": "execute_result"
    }
   ],
   "source": [
    "len(df)"
   ]
  },
  {
   "cell_type": "code",
   "execution_count": 45,
   "metadata": {
    "execution": {
     "iopub.execute_input": "2022-11-24T17:06:23.021203Z",
     "iopub.status.busy": "2022-11-24T17:06:23.020704Z",
     "iopub.status.idle": "2022-11-24T17:06:23.970125Z",
     "shell.execute_reply": "2022-11-24T17:06:23.969187Z",
     "shell.execute_reply.started": "2022-11-24T17:06:23.021151Z"
    },
    "tags": []
   },
   "outputs": [
    {
     "name": "stdout",
     "output_type": "stream",
     "text": [
      "pasrsed:  580990\n",
      "matched:  463005\n",
      "match processed:  345150\n"
     ]
    }
   ],
   "source": [
    "# How many lat/lons do we still have to process?\n",
    "\n",
    "print('pasrsed: ', len(df3[df3.latitude.isna()]))\n",
    "print('matched: ', len(df2[df2.latitude.isna() & df2.x.isna()]))\n",
    "print('match processed: ', len(df[df.latitude.isna()]))\n",
    "\n",
    "# len(df[df.geo_source == 'oda_match'])\n",
    "# len(df[df.latitude.isna()])"
   ]
  },
  {
   "cell_type": "code",
   "execution_count": 102,
   "metadata": {
    "execution": {
     "iopub.execute_input": "2022-11-24T20:38:12.237783Z",
     "iopub.status.busy": "2022-11-24T20:38:12.237516Z",
     "iopub.status.idle": "2022-11-24T20:38:12.900067Z",
     "shell.execute_reply": "2022-11-24T20:38:12.899378Z",
     "shell.execute_reply.started": "2022-11-24T20:38:12.237756Z"
    },
    "tags": []
   },
   "outputs": [
    {
     "name": "stdout",
     "output_type": "stream",
     "text": [
      "after no street no:  241060\n"
     ]
    }
   ],
   "source": [
    "# some have no street no or name - so cannot geocode\n",
    "df4 = df[~df.street_no.isna()]\n",
    "\n",
    "print('after no street no: ', len(df4[df4.latitude.isna()]))\n"
   ]
  },
  {
   "cell_type": "code",
   "execution_count": 103,
   "metadata": {
    "execution": {
     "iopub.execute_input": "2022-11-24T20:38:21.233740Z",
     "iopub.status.busy": "2022-11-24T20:38:21.233372Z",
     "iopub.status.idle": "2022-11-24T20:38:21.747670Z",
     "shell.execute_reply": "2022-11-24T20:38:21.746685Z",
     "shell.execute_reply.started": "2022-11-24T20:38:21.233698Z"
    },
    "tags": []
   },
   "outputs": [],
   "source": [
    "# some are duplicates\n",
    "df5 = df4[~df4.duplicated(subset=['street_no','formatted_en', 'province', 'city'], keep='first')]\n",
    "\n"
   ]
  },
  {
   "cell_type": "code",
   "execution_count": 104,
   "metadata": {
    "execution": {
     "iopub.execute_input": "2022-11-24T20:38:34.865652Z",
     "iopub.status.busy": "2022-11-24T20:38:34.865363Z",
     "iopub.status.idle": "2022-11-24T20:38:34.871973Z",
     "shell.execute_reply": "2022-11-24T20:38:34.870866Z",
     "shell.execute_reply.started": "2022-11-24T20:38:34.865622Z"
    }
   },
   "outputs": [
    {
     "data": {
      "text/plain": [
       "362666"
      ]
     },
     "execution_count": 104,
     "metadata": {},
     "output_type": "execute_result"
    }
   ],
   "source": [
    "len(df5)"
   ]
  },
  {
   "cell_type": "code",
   "execution_count": 106,
   "metadata": {
    "execution": {
     "iopub.execute_input": "2022-11-24T20:38:50.381334Z",
     "iopub.status.busy": "2022-11-24T20:38:50.380893Z",
     "iopub.status.idle": "2022-11-24T20:38:50.538070Z",
     "shell.execute_reply": "2022-11-24T20:38:50.537338Z",
     "shell.execute_reply.started": "2022-11-24T20:38:50.381292Z"
    },
    "tags": []
   },
   "outputs": [
    {
     "name": "stdout",
     "output_type": "stream",
     "text": [
      "after no street no:  203746\n"
     ]
    }
   ],
   "source": [
    "print('after no street no: ', len(df5[~df5.latitude.isna()]))\n"
   ]
  },
  {
   "cell_type": "code",
   "execution_count": 114,
   "metadata": {
    "execution": {
     "iopub.execute_input": "2022-11-24T20:43:26.424146Z",
     "iopub.status.busy": "2022-11-24T20:43:26.423805Z",
     "iopub.status.idle": "2022-11-24T20:43:26.601847Z",
     "shell.execute_reply": "2022-11-24T20:43:26.600877Z",
     "shell.execute_reply.started": "2022-11-24T20:43:26.424110Z"
    },
    "tags": []
   },
   "outputs": [],
   "source": [
    "df_no_street = df[df.street_no.isna()]\n",
    "df_no_address = df_no_street[df_no_street.latitude.isna()]"
   ]
  },
  {
   "cell_type": "code",
   "execution_count": 50,
   "metadata": {
    "execution": {
     "iopub.execute_input": "2022-11-24T17:13:05.586626Z",
     "iopub.status.busy": "2022-11-24T17:13:05.586205Z",
     "iopub.status.idle": "2022-11-24T17:13:05.705949Z",
     "shell.execute_reply": "2022-11-24T17:13:05.705181Z",
     "shell.execute_reply.started": "2022-11-24T17:13:05.586583Z"
    }
   },
   "outputs": [],
   "source": [
    "df6 = df5[df5.latitude.isna()]"
   ]
  },
  {
   "cell_type": "code",
   "execution_count": 115,
   "metadata": {
    "execution": {
     "iopub.execute_input": "2022-11-24T20:43:28.276008Z",
     "iopub.status.busy": "2022-11-24T20:43:28.275745Z",
     "iopub.status.idle": "2022-11-24T20:43:28.280890Z",
     "shell.execute_reply": "2022-11-24T20:43:28.280227Z",
     "shell.execute_reply.started": "2022-11-24T20:43:28.275980Z"
    },
    "tags": []
   },
   "outputs": [
    {
     "data": {
      "text/plain": [
       "104090"
      ]
     },
     "execution_count": 115,
     "metadata": {},
     "output_type": "execute_result"
    }
   ],
   "source": [
    "len(df_no_address)"
   ]
  },
  {
   "cell_type": "code",
   "execution_count": 116,
   "metadata": {
    "execution": {
     "iopub.execute_input": "2022-11-24T20:43:49.785928Z",
     "iopub.status.busy": "2022-11-24T20:43:49.785668Z",
     "iopub.status.idle": "2022-11-24T20:43:49.923397Z",
     "shell.execute_reply": "2022-11-24T20:43:49.922714Z",
     "shell.execute_reply.started": "2022-11-24T20:43:49.785893Z"
    },
    "tags": []
   },
   "outputs": [
    {
     "data": {
      "application/vnd.jupyter.widget-view+json": {
       "model_id": "a8d6fe7c6970444b8d1abb367f460395",
       "version_major": 2,
       "version_minor": 0
      },
      "text/plain": [
       "MitoWidget(analysis_data_json='{\"analysisName\": \"id-fszccbqjtk\", \"analysisToReplay\": {\"analysisName\": \"id-azxo…"
      ]
     },
     "metadata": {},
     "output_type": "display_data"
    }
   ],
   "source": [
    "mitosheet.sheet(df_no_address, analysis_to_replay=\"id-azxoxgzple\")"
   ]
  },
  {
   "cell_type": "code",
   "execution_count": null,
   "metadata": {},
   "outputs": [],
   "source": []
  },
  {
   "cell_type": "code",
   "execution_count": 117,
   "metadata": {
    "execution": {
     "iopub.execute_input": "2022-11-24T20:44:30.270772Z",
     "iopub.status.busy": "2022-11-24T20:44:30.270459Z",
     "iopub.status.idle": "2022-11-24T20:44:30.283375Z",
     "shell.execute_reply": "2022-11-24T20:44:30.282023Z",
     "shell.execute_reply.started": "2022-11-24T20:44:30.270746Z"
    }
   },
   "outputs": [
    {
     "data": {
      "text/plain": [
       "BC_Vancouver_Business_Licences.csv                      54198\n",
       "ON_Toronto_Business_Licences.csv                        26167\n",
       "AB_Edmonton_Business_Licences.csv                       13511\n",
       "QC_Etablissements.csv                                    2855\n",
       "ON_Greater_Sudbury_Business_Licences.csv                 1511\n",
       "BC_Langley_Business_Licences.csv                         1322\n",
       "BC_Nanaimo_Business_Licences.csv                          984\n",
       "BC_Squamish_Business_Licence_Annual_2021.csv              933\n",
       "Indigenous_Business_Directory.csv                         544\n",
       "BC_Prince_George_Business_Licence.csv                     426\n",
       "AB_Banff_Business_Licences.csv                            351\n",
       "BC_Burnaby_Business_Licences.csv                          320\n",
       "BC_Liquor_licences.csv                                    280\n",
       "ON_oebd.csv                                               249\n",
       "NU_Indigenous_Business.csv                                171\n",
       "NT_Yellowknife_Business_Directory.csv                      94\n",
       "BC_New_Westminster_Business_Licences_(Residents).csv       67\n",
       "BC_Chilliwack_Business_Licences.csv                        29\n",
       "ON_Ottawa_Cultural_Businesses.csv                          25\n",
       "BC_Kelowna_Business_Licence.csv                            20\n",
       "ON_Welland_Business_Directory.csv                          17\n",
       "BC_Richmond_Based_Businesses.csv                            6\n",
       "BC_Wineries.csv                                             4\n",
       "BC_Maple_Ridge_Business_Licences.csv                        1\n",
       "BC_Indigenous_Business_Listings.csv                         1\n",
       "BC_Surrey_Business_Licences.csv                             1\n",
       "ON_Hamilton_Licenced_Public_Garages.csv                     1\n",
       "ON_Pickering_Business_Directory.csv                         1\n",
       "ON_Durham_Business_Directory.csv                            1\n",
       "Name: localfile, dtype: int64"
      ]
     },
     "execution_count": 117,
     "metadata": {},
     "output_type": "execute_result"
    }
   ],
   "source": [
    "df_no_address['localfile'].value_counts()"
   ]
  },
  {
   "cell_type": "code",
   "execution_count": 79,
   "metadata": {
    "execution": {
     "iopub.execute_input": "2022-11-24T20:14:11.975649Z",
     "iopub.status.busy": "2022-11-24T20:14:11.975266Z",
     "iopub.status.idle": "2022-11-24T20:14:11.994515Z",
     "shell.execute_reply": "2022-11-24T20:14:11.993680Z",
     "shell.execute_reply.started": "2022-11-24T20:14:11.975608Z"
    },
    "tags": []
   },
   "outputs": [
    {
     "data": {
      "text/plain": [
       "QC    123562\n",
       "ON     19944\n",
       "BC     13755\n",
       "AB       220\n",
       "NT        85\n",
       "SK        66\n",
       "MB        49\n",
       "NB        20\n",
       "NS         5\n",
       "NL         4\n",
       "YT         3\n",
       "NU         2\n",
       "PE         1\n",
       "Name: province, dtype: int64"
      ]
     },
     "execution_count": 79,
     "metadata": {},
     "output_type": "execute_result"
    }
   ],
   "source": [
    "# how many in each province?\n",
    "df6['province'].value_counts()"
   ]
  },
  {
   "cell_type": "code",
   "execution_count": 67,
   "metadata": {
    "execution": {
     "iopub.execute_input": "2022-11-24T20:08:34.283037Z",
     "iopub.status.busy": "2022-11-24T20:08:34.282698Z",
     "iopub.status.idle": "2022-11-24T20:08:34.309949Z",
     "shell.execute_reply": "2022-11-24T20:08:34.308988Z",
     "shell.execute_reply.started": "2022-11-24T20:08:34.283002Z"
    },
    "tags": []
   },
   "outputs": [],
   "source": [
    "sample_size = 100\n",
    "if (len(df_input) > sample_size):\n",
    "    df = df_input.sample(sample_size)\n",
    "else:\n",
    "    sample_size = len(df)"
   ]
  },
  {
   "cell_type": "code",
   "execution_count": 52,
   "metadata": {
    "execution": {
     "iopub.execute_input": "2022-11-24T17:13:17.784755Z",
     "iopub.status.busy": "2022-11-24T17:13:17.784368Z",
     "iopub.status.idle": "2022-11-24T17:13:17.993759Z",
     "shell.execute_reply": "2022-11-24T17:13:17.992985Z",
     "shell.execute_reply.started": "2022-11-24T17:13:17.784683Z"
    },
    "tags": []
   },
   "outputs": [
    {
     "data": {
      "application/vnd.jupyter.widget-view+json": {
       "model_id": "86c63d46d508484197af8435c2086a42",
       "version_major": 2,
       "version_minor": 0
      },
      "text/plain": [
       "MitoWidget(analysis_data_json='{\"analysisName\": \"id-jjtwdsqjtn\", \"analysisToReplay\": {\"analysisName\": \"id-rmmo…"
      ]
     },
     "metadata": {},
     "output_type": "display_data"
    }
   ],
   "source": [
    "mitosheet.sheet(df6, analysis_to_replay=\"id-rmmopdyskz\")"
   ]
  },
  {
   "cell_type": "code",
   "execution_count": null,
   "metadata": {},
   "outputs": [],
   "source": [
    "from mitosheet import *; register_analysis(\"id-rmmopdyskz\");\n",
    "    \n",
    "# Reordered column keep_match\n",
    "df6_columns = [col for col in df6.columns if col != 'keep_match']\n",
    "df6_columns.insert(51, 'keep_match')\n",
    "df6 = df6[df6_columns]\n"
   ]
  },
  {
   "cell_type": "code",
   "execution_count": null,
   "metadata": {},
   "outputs": [],
   "source": [
    "from mitosheet import *; register_analysis(\"id-heawxepiyk\");\n",
    "    \n",
    "# Reordered column keep_match\n",
    "df_columns = [col for col in df.columns if col != 'keep_match']\n",
    "df_columns.insert(51, 'keep_match')\n",
    "df = df[df_columns]\n"
   ]
  },
  {
   "cell_type": "code",
   "execution_count": 89,
   "metadata": {
    "execution": {
     "iopub.execute_input": "2022-11-24T20:29:31.755852Z",
     "iopub.status.busy": "2022-11-24T20:29:31.755488Z",
     "iopub.status.idle": "2022-11-24T20:29:31.766567Z",
     "shell.execute_reply": "2022-11-24T20:29:31.765711Z",
     "shell.execute_reply.started": "2022-11-24T20:29:31.755811Z"
    },
    "tags": []
   },
   "outputs": [],
   "source": []
  },
  {
   "cell_type": "code",
   "execution_count": 118,
   "metadata": {
    "execution": {
     "iopub.execute_input": "2022-11-24T20:55:16.954254Z",
     "iopub.status.busy": "2022-11-24T20:55:16.953988Z",
     "iopub.status.idle": "2022-11-24T20:55:18.765784Z",
     "shell.execute_reply": "2022-11-24T20:55:18.764976Z",
     "shell.execute_reply.started": "2022-11-24T20:55:16.954224Z"
    }
   },
   "outputs": [
    {
     "name": "stdout",
     "output_type": "stream",
     "text": [
      "203717\n"
     ]
    }
   ],
   "source": [
    "# we want to run a test of the geocoding, using results which already have lat/lon\n",
    "\n",
    "df = df_input\n",
    "\n",
    "# filter to those with a streen number and street name\n",
    "df = df[~df.street_no.isna()]\n",
    "df = df[~df.formatted_en.isna()]\n",
    "\n",
    "# filter those without lat/lon WITH for testing\n",
    "df = df[~df.latitude.isna()]\n",
    "\n",
    "# remove duplicates \n",
    "df = df[~df.duplicated(subset=['street_no','formatted_en', 'province', 'city'], keep='first')]\n",
    "\n",
    "print(len(df))\n",
    "\n",
    "# get sample\n",
    "df = df.sample(10)"
   ]
  },
  {
   "cell_type": "code",
   "execution_count": 119,
   "metadata": {
    "execution": {
     "iopub.execute_input": "2022-11-24T20:55:25.180134Z",
     "iopub.status.busy": "2022-11-24T20:55:25.179840Z",
     "iopub.status.idle": "2022-11-24T20:55:25.187463Z",
     "shell.execute_reply": "2022-11-24T20:55:25.186790Z",
     "shell.execute_reply.started": "2022-11-24T20:55:25.180106Z"
    },
    "tags": []
   },
   "outputs": [],
   "source": [
    "# define parameters for osm api call\n",
    "url_gc = 'https://national-address-register-statcan.api.canada.ca:443/v1/addresses/search'\n",
    "\n",
    "JSONS = []\n",
    "JSONS_CITIES = []"
   ]
  },
  {
   "cell_type": "code",
   "execution_count": 121,
   "metadata": {
    "execution": {
     "iopub.execute_input": "2022-11-24T21:04:08.746650Z",
     "iopub.status.busy": "2022-11-24T21:04:08.746392Z",
     "iopub.status.idle": "2022-11-24T21:04:08.755009Z",
     "shell.execute_reply": "2022-11-24T21:04:08.754346Z",
     "shell.execute_reply.started": "2022-11-24T21:04:08.746623Z"
    },
    "tags": []
   },
   "outputs": [],
   "source": [
    "# clean dataset for queries\n",
    "df.fillna('', inplace=True)\n",
    "\n",
    "# define api query\n",
    "df['gc_request_street'] = df['street_no'] + ', ' + df['formatted_en'] + ', ' + df['city'] + ', ' + df['province']\n",
    "\n",
    "# NOTE adapt for Quebec\n",
    "# if (province_code == 'QC'):\n",
    "#         # I should change this \n",
    "#     df['gc_request_street'] = df['street_no'] + ', ' + df['formatted_fr'] + ', ' + df['city'] + ', ' + df['province']\n",
    "\n",
    "# else:\n",
    "#     df['gc_request_street'] = df['street_no'] + ', ' + df['formatted_en'] + ', ' + df['city'] + ', ' + df['province']\n",
    "\n",
    "reqs_gc = list(df['gc_request_street'])"
   ]
  },
  {
   "cell_type": "code",
   "execution_count": 83,
   "metadata": {
    "execution": {
     "iopub.execute_input": "2022-11-24T20:17:15.370598Z",
     "iopub.status.busy": "2022-11-24T20:17:15.370221Z",
     "iopub.status.idle": "2022-11-24T20:17:15.375192Z",
     "shell.execute_reply": "2022-11-24T20:17:15.373922Z",
     "shell.execute_reply.started": "2022-11-24T20:17:15.370557Z"
    },
    "tags": []
   },
   "outputs": [],
   "source": [
    "# Filter to only do geocoding on specific results\n",
    "\n",
    "# no lat lon\n",
    "# has well parsed address\n",
    "# hasn't already been geocoded - use idx"
   ]
  },
  {
   "cell_type": "code",
   "execution_count": 122,
   "metadata": {
    "execution": {
     "iopub.execute_input": "2022-11-24T21:04:14.166929Z",
     "iopub.status.busy": "2022-11-24T21:04:14.166599Z",
     "iopub.status.idle": "2022-11-24T21:04:14.172813Z",
     "shell.execute_reply": "2022-11-24T21:04:14.171697Z",
     "shell.execute_reply.started": "2022-11-24T21:04:14.166892Z"
    },
    "tags": []
   },
   "outputs": [],
   "source": [
    "# define query\n",
    "def gc_query(query, query_type):\n",
    "    # set interval for requests\n",
    "    time.sleep(1) \n",
    "    coords = requests.get(url, params=params, headers=headers)\n",
    "    print(\"osm query \" + query_type + \": \" + query)\n",
    "    coords_gc = requests.get(url_gc, params=params_gc, headers=headers_gc)\n",
    "    return coords.json()"
   ]
  },
  {
   "cell_type": "code",
   "execution_count": 123,
   "metadata": {
    "execution": {
     "iopub.execute_input": "2022-11-24T21:04:23.998411Z",
     "iopub.status.busy": "2022-11-24T21:04:23.998156Z",
     "iopub.status.idle": "2022-11-24T21:04:39.026010Z",
     "shell.execute_reply": "2022-11-24T21:04:39.024995Z",
     "shell.execute_reply.started": "2022-11-24T21:04:23.998384Z"
    },
    "tags": []
   },
   "outputs": [
    {
     "name": "stdout",
     "output_type": "stream",
     "text": [
      "1: 1150, raymur av, Vancouver, BC\n",
      "<Response [200]>\n",
      "[3] gc street address found\n",
      "\n",
      "\n",
      "2: 1625, rue de la seigneurie, Québec (Québec), QC\n",
      "<Response [200]>\n",
      "[3] gc street address found\n",
      "\n",
      "\n",
      "3: 7667, 6th st, Burnaby, BC\n",
      "<Response [200]>\n",
      "[3] gc street address found\n",
      "\n",
      "\n",
      "4: 25, rue paquin, Notre-Dame-de-Lourdes (Québec), QC\n",
      "<Response [200]>\n",
      "[3] gc street address found\n",
      "\n",
      "\n",
      "5: 23650, 112 av, Maple Ridge, BC\n",
      "<Response [200]>\n",
      "[3] gc street address found\n",
      "\n",
      "\n",
      "6: 4638, burke st, Burnaby, BC\n",
      "<Response [200]>\n",
      "[3] gc street address found\n",
      "\n",
      "\n",
      "7: 6270, av henri julien, Montréal (Québec), QC\n",
      "<Response [200]>\n",
      "[3] gc street address found\n",
      "\n",
      "\n",
      "8: 1665, the collegeway, Mississauga, ON\n",
      "<Response [200]>\n",
      "[3] gc street address found\n",
      "\n",
      "\n",
      "9: 6681, arcola st, Burnaby, BC\n",
      "<Response [200]>\n",
      "[3] gc street address found\n",
      "\n",
      "\n",
      "10: 4655, highlawn dr, Burnaby, BC\n",
      "<Response [200]>\n",
      "[3] gc street address found\n",
      "\n",
      "\n"
     ]
    }
   ],
   "source": [
    "for i in range(len(reqs_gc)):\n",
    "    query_gc = reqs_gc[i]\n",
    "    \n",
    "    \n",
    "    time.sleep(1) \n",
    "        \n",
    "    # we first try facility name street address,\n",
    "    # if that fails, we try street address and then city \n",
    "    # which one we use is recorded in the geo_source column\n",
    "        \n",
    "    print(str(i + 1) + ': ' + query_gc)\n",
    "    \n",
    "\n",
    "     # try GC API\n",
    "    params_gc = {'qstr': query_gc}\n",
    "    headers_gc = {'user_key': gc_key}\n",
    "    coords_gc = requests.get(url_gc, params=params_gc, headers=headers_gc)\n",
    "    \n",
    "    print(coords_gc)\n",
    "#                 print(\"trying gc api with query: \" + query_gc)    \n",
    "    if (coords_gc.status_code == 200):\n",
    "        resp = coords_gc.json()\n",
    "        print('[3] gc street address found')\n",
    "#         df['geo_source'].iloc[i] = \"gc_street_address\"\n",
    "#         print(resp)\n",
    "    else:\n",
    "        print('no gc street address found')\n",
    "\n",
    "    print(\"\\n\")\n",
    "    JSONS.append(resp)\n",
    "\n",
    "#     if resp!=[]:\n",
    "#         print(\"\\n\")\n",
    "# #         print(resp)"
   ]
  },
  {
   "cell_type": "code",
   "execution_count": 124,
   "metadata": {
    "execution": {
     "iopub.execute_input": "2022-11-24T21:04:42.906587Z",
     "iopub.status.busy": "2022-11-24T21:04:42.906324Z",
     "iopub.status.idle": "2022-11-24T21:04:43.098876Z",
     "shell.execute_reply": "2022-11-24T21:04:43.097818Z",
     "shell.execute_reply.started": "2022-11-24T21:04:42.906559Z"
    },
    "tags": []
   },
   "outputs": [],
   "source": [
    "# next we save and then load a json\n",
    "\n",
    "with open('geocoded.json', 'w', encoding='utf-8') as f:\n",
    "    json.dump(JSONS, f, ensure_ascii=False, indent=4) "
   ]
  },
  {
   "cell_type": "code",
   "execution_count": 125,
   "metadata": {
    "execution": {
     "iopub.execute_input": "2022-11-24T21:04:47.658874Z",
     "iopub.status.busy": "2022-11-24T21:04:47.658614Z",
     "iopub.status.idle": "2022-11-24T21:04:47.699326Z",
     "shell.execute_reply": "2022-11-24T21:04:47.697636Z",
     "shell.execute_reply.started": "2022-11-24T21:04:47.658846Z"
    },
    "tags": []
   },
   "outputs": [
    {
     "name": "stdout",
     "output_type": "stream",
     "text": [
      "10\n"
     ]
    }
   ],
   "source": [
    "with open('geocoded.json', 'r', encoding='utf-8') as f:\n",
    "    JSONS=json.load(f)  \n",
    "print(len(JSONS))"
   ]
  },
  {
   "cell_type": "code",
   "execution_count": 126,
   "metadata": {
    "execution": {
     "iopub.execute_input": "2022-11-24T21:04:51.875806Z",
     "iopub.status.busy": "2022-11-24T21:04:51.875553Z",
     "iopub.status.idle": "2022-11-24T21:04:51.882399Z",
     "shell.execute_reply": "2022-11-24T21:04:51.881316Z",
     "shell.execute_reply.started": "2022-11-24T21:04:51.875779Z"
    },
    "tags": []
   },
   "outputs": [],
   "source": [
    "# read json request results into our dataframe\n",
    "\n",
    "def append_blank(index):\n",
    "    df['geo_source'].iloc[index] = \"no_osm\"\n",
    "    LATS.append('')\n",
    "    LONS.append('')\n",
    "    NAME.append('')\n",
    "    ST_NO.append('')\n",
    "    ST_NAME.append('')\n",
    "    CITY.append('')\n",
    "    PROV.append('')\n",
    "    POST.append('')\n",
    "    COUNTRY.append('')\n",
    "    TYPE.append('')\n",
    "    CLASS.append('')\n",
    "\n",
    "# with open('Nominatim.json', 'r', encoding='utf-8') as f:\n",
    "#     JSONS=json.load(f)    \n",
    "        \n",
    "LATS = []\n",
    "LONS = []\n",
    "NAME = []\n",
    "ST_NO = []\n",
    "ST_NAME = []\n",
    "CITY = []\n",
    "PROV = []\n",
    "POST = []\n",
    "COUNTRY = []\n",
    "TYPE = []\n",
    "CLASS = []"
   ]
  },
  {
   "cell_type": "code",
   "execution_count": 127,
   "metadata": {
    "execution": {
     "iopub.execute_input": "2022-11-24T21:05:04.734541Z",
     "iopub.status.busy": "2022-11-24T21:05:04.734223Z",
     "iopub.status.idle": "2022-11-24T21:05:04.753206Z",
     "shell.execute_reply": "2022-11-24T21:05:04.752009Z",
     "shell.execute_reply.started": "2022-11-24T21:05:04.734508Z"
    },
    "tags": []
   },
   "outputs": [],
   "source": [
    "# osm_healthcare_types = ['hospital', 'clinic', 'pharmacy']\n",
    "\n",
    "for index, element in enumerate(JSONS):\n",
    "    if element==[]:\n",
    "        append_blank(index)\n",
    "    \n",
    "    else:\n",
    "        # format gc api results      \n",
    "        if 'meta' in element:\n",
    "            \n",
    "            if (element['data'][0]['country']['code'] == 'CA'):\n",
    "                COUNTRY.append(element['data'][0]['country']['code'])\n",
    "                LATS.append(element['data'][0]['location']['geoCoordinates']['latitude'])\n",
    "                LONS.append(element['data'][0]['location']['geoCoordinates']['longitude'])\n",
    "                if 'streetName' in element.keys():\n",
    "                    ST_NAME.append(element['streetName'])\n",
    "                else:\n",
    "                    ST_NAME.append('')\n",
    "                if 'civicNumber' in element.keys():\n",
    "                    ST_NO.append(element['civicNumber']['number'])\n",
    "                else:\n",
    "                    ST_NO.append('')\n",
    "                # NOTE is there some equivalent?\n",
    "                TYPE.append('')\n",
    "                CLASS.append('')\n",
    "                NAME.append('')\n",
    "                if 'province' in element.keys():\n",
    "                    PROV.append(element['data'][0]['mailingAddress']['province']['code'])\n",
    "                else:\n",
    "                    PROV.append('')\n",
    "                if 'postalCode' in element['data'][0]['mailingAddress']:\n",
    "                    POST.append(element['data'][0]['mailingAddress']['postalCode'])\n",
    "                else:\n",
    "                    POST.append('')\n",
    "                if 'cityName' in  element['data']:\n",
    "                    CITY.append(element['data'][0]['cityName']['en'])\n",
    "                else:\n",
    "                    CITY.append('')\n",
    "        else:\n",
    "            append_blank(index)\n",
    "\n",
    "# append results to dataframe\n",
    "df['osm_name'] = NAME\n",
    "df['osm_street_no'] = ST_NO\n",
    "df['osm_street_name'] = ST_NAME\n",
    "df['osm_city'] = CITY\n",
    "df['osm_province'] = PROV\n",
    "df['osm_postal_code'] = POST\n",
    "df['osm_class'] = CLASS\n",
    "df['osm_type'] = TYPE\n",
    "df['osm_lat'] = LATS\n",
    "df['osm_lon'] = LONS"
   ]
  },
  {
   "cell_type": "code",
   "execution_count": 129,
   "metadata": {
    "execution": {
     "iopub.execute_input": "2022-11-24T21:09:40.172401Z",
     "iopub.status.busy": "2022-11-24T21:09:40.172013Z",
     "iopub.status.idle": "2022-11-24T21:09:40.370065Z",
     "shell.execute_reply": "2022-11-24T21:09:40.369315Z",
     "shell.execute_reply.started": "2022-11-24T21:09:40.172359Z"
    }
   },
   "outputs": [],
   "source": [
    "df2 = df[['business_name', 'latitude', 'longitude', 'street_no', 'formatted_en', 'geo_source', 'gc_request_street', 'osm_lat', 'osm_lon']]\n"
   ]
  },
  {
   "cell_type": "code",
   "execution_count": 130,
   "metadata": {
    "execution": {
     "iopub.execute_input": "2022-11-24T21:09:47.763357Z",
     "iopub.status.busy": "2022-11-24T21:09:47.763054Z",
     "iopub.status.idle": "2022-11-24T21:09:47.781922Z",
     "shell.execute_reply": "2022-11-24T21:09:47.781089Z",
     "shell.execute_reply.started": "2022-11-24T21:09:47.763328Z"
    },
    "tags": []
   },
   "outputs": [
    {
     "data": {
      "application/vnd.jupyter.widget-view+json": {
       "model_id": "de1a21fd1080487bbd2792736505d570",
       "version_major": 2,
       "version_minor": 0
      },
      "text/plain": [
       "MitoWidget(analysis_data_json='{\"analysisName\": \"id-zxopmludbv\", \"analysisToReplay\": null, \"code\": [], \"stepSu…"
      ]
     },
     "metadata": {},
     "output_type": "display_data"
    }
   ],
   "source": [
    "mitosheet.sheet(df2, analysis_to_replay=\"id-zxopmludbv\")"
   ]
  },
  {
   "cell_type": "code",
   "execution_count": null,
   "metadata": {},
   "outputs": [],
   "source": [
    "from mitosheet import *; register_analysis(\"id-zxopmludbv\");\n",
    "    \n",
    "# Reordered column latitude\n",
    "df2_columns = [col for col in df2.columns if col != 'latitude']\n",
    "df2_columns.insert(5, 'latitude')\n",
    "df2 = df2[df2_columns]\n",
    "\n",
    "# Reordered column latitude\n",
    "df2_columns = [col for col in df2.columns if col != 'latitude']\n",
    "df2_columns.insert(7, 'latitude')\n",
    "df2 = df2[df2_columns]\n",
    "\n",
    "# Reordered column longitude\n",
    "df2_columns = [col for col in df2.columns if col != 'longitude']\n",
    "df2_columns.insert(5, 'longitude')\n",
    "df2 = df2[df2_columns]\n",
    "\n",
    "# Reordered column longitude\n",
    "df2_columns = [col for col in df2.columns if col != 'longitude']\n",
    "df2_columns.insert(8, 'longitude')\n",
    "df2 = df2[df2_columns]\n"
   ]
  },
  {
   "cell_type": "code",
   "execution_count": null,
   "metadata": {},
   "outputs": [],
   "source": [
    "from mitosheet import *; register_analysis(\"id-xdcdirwill\");\n",
    "    \n",
    "# Reordered column latitude\n",
    "df_columns = [col for col in df.columns if col != 'latitude']\n",
    "df_columns.insert(21, 'latitude')\n",
    "df = df[df_columns]\n",
    "\n",
    "# Reordered column latitude\n",
    "df_columns = [col for col in df.columns if col != 'latitude']\n",
    "df_columns.insert(31, 'latitude')\n",
    "df = df[df_columns]\n"
   ]
  }
 ],
 "metadata": {
  "kernelspec": {
   "display_name": "Python 3 (ipykernel)",
   "language": "python",
   "name": "python3"
  },
  "language_info": {
   "codemirror_mode": {
    "name": "ipython",
    "version": 3
   },
   "file_extension": ".py",
   "mimetype": "text/x-python",
   "name": "python",
   "nbconvert_exporter": "python",
   "pygments_lexer": "ipython3",
   "version": "3.8.12"
  }
 },
 "nbformat": 4,
 "nbformat_minor": 4
}
