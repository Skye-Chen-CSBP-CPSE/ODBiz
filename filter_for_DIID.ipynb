{
 "cells": [
  {
   "cell_type": "code",
   "execution_count": 21,
   "metadata": {
    "execution": {
     "iopub.execute_input": "2022-12-03T00:12:16.122425Z",
     "iopub.status.busy": "2022-12-03T00:12:16.121531Z",
     "iopub.status.idle": "2022-12-03T00:12:30.563623Z",
     "shell.execute_reply": "2022-12-03T00:12:30.562865Z",
     "shell.execute_reply.started": "2022-12-03T00:12:16.122394Z"
    },
    "tags": []
   },
   "outputs": [
    {
     "name": "stdout",
     "output_type": "stream",
     "text": [
      "                         idx                              Description\n",
      "0       43001f90eb186ce721d1              Contractor   Special Trades\n",
      "1       8206f36af22e46a365c2                              WAREHOUSING\n",
      "2       e3500c84e808f4f563f8                              WAREHOUSING\n",
      "3       64733d5fad76816d0138                              WAREHOUSING\n",
      "4       3a2812701630893c2180                               CONTRACTOR\n",
      "...                      ...                                      ...\n",
      "803486  bff0ac01999d11e1665d  Catering  Restaurants and Food Services\n",
      "803487  c370f3a68831eaed091b  Construction and Construction Equipment\n",
      "803488  a0bc0f106500f748a573                   Financial Institutions\n",
      "803489  059d5420db37371eec18                                   Retail\n",
      "803490  5d9d17ffffb0e6d343e2        Insurance and Insurance Adjusters\n",
      "\n",
      "[616774 rows x 2 columns]\n"
     ]
    }
   ],
   "source": [
    "\n",
    "\n",
    "\n",
    "import pandas as pd\n",
    "import numpy as np\n",
    "import math\n",
    "\n",
    "\n",
    "\n",
    "\n",
    "df2 = pd.read_csv(\"/home/jovyan/ODBiz/5a-Matching/output/matched.csv\", low_memory=False)\n",
    "\n",
    "\n",
    "\n",
    "\n",
    "\n",
    "df2['Description'] = df2['business_description']\n",
    "\n",
    "\n",
    "\n",
    "\n",
    "df2['Description'].fillna(df2['business_sector'], inplace= True)\n",
    "df2['Description'].fillna(df2['business_subsector'], inplace= True)\n",
    "df2['Description'].fillna(df2['licence_type'], inplace= True)\n",
    "\n",
    "\n",
    "\n",
    "df3 = df2[['idx','Description']]\n",
    "\n",
    "\n",
    "\n",
    "df3 = df3.replace(r'^s*$', float('NaN'), regex = True)  # Replace blanks by NaN\n",
    "df3.dropna(inplace = True)\n",
    "\n",
    "\n",
    "\n",
    "\n",
    "\n",
    "\n",
    "\n",
    "\n",
    "df3['Description'] = df3['Description'].str.replace('\\W', ' ', regex=True)\n",
    "\n",
    "\n",
    "\n",
    "\n",
    "\n",
    "\n",
    "df3.to_csv('/home/jovyan/ODBiz/ODBiz.csv', index=False)\n",
    "\n",
    "\n",
    "\n",
    "\n",
    "print(df3)\n",
    "\n",
    "\n",
    "\n",
    "\n",
    "\n",
    "\n",
    "\n",
    "\n"
   ]
  },
  {
   "cell_type": "code",
   "execution_count": null,
   "metadata": {},
   "outputs": [],
   "source": []
  }
 ],
 "metadata": {
  "kernelspec": {
   "display_name": "Python [conda env:odbiz]",
   "language": "python",
   "name": "conda-env-odbiz-py"
  },
  "language_info": {
   "codemirror_mode": {
    "name": "ipython",
    "version": 3
   },
   "file_extension": ".py",
   "mimetype": "text/x-python",
   "name": "python",
   "nbconvert_exporter": "python",
   "pygments_lexer": "ipython3",
   "version": "3.8.15"
  }
 },
 "nbformat": 4,
 "nbformat_minor": 4
}
