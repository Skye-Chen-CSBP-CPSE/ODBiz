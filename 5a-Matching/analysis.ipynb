{
 "cells": [
  {
   "cell_type": "code",
   "execution_count": 2,
   "metadata": {
    "execution": {
     "iopub.execute_input": "2022-09-06T17:16:37.980644Z",
     "iopub.status.busy": "2022-09-06T17:16:37.980366Z",
     "iopub.status.idle": "2022-09-06T17:16:37.984100Z",
     "shell.execute_reply": "2022-09-06T17:16:37.983320Z",
     "shell.execute_reply.started": "2022-09-06T17:16:37.980610Z"
    },
    "tags": []
   },
   "outputs": [],
   "source": [
    "# Results analysis\n",
    "\n",
    "# Takes around 24 hours for whoel script\n",
    "# Overall X 100% matches and X matches above 80%\n",
    "# Yet to implement matches based on city - but so far looks good. X % fuzzy matches\n",
    "# Around X left to geocode, depending on our cutoff point\n",
    "# X for 80% cutoff\n",
    "# X for 85% cutoff\n",
    "# X for 90% cutoff"
   ]
  },
  {
   "cell_type": "code",
   "execution_count": 2,
   "metadata": {
    "execution": {
     "iopub.execute_input": "2022-11-02T14:30:37.798733Z",
     "iopub.status.busy": "2022-11-02T14:30:37.798440Z",
     "iopub.status.idle": "2022-11-02T14:30:38.539889Z",
     "shell.execute_reply": "2022-11-02T14:30:38.539142Z",
     "shell.execute_reply.started": "2022-11-02T14:30:37.798698Z"
    },
    "tags": []
   },
   "outputs": [],
   "source": [
    "import pandas as pd\n",
    "import numpy as np"
   ]
  },
  {
   "cell_type": "code",
   "execution_count": 5,
   "metadata": {
    "execution": {
     "iopub.execute_input": "2022-10-28T15:32:00.783800Z",
     "iopub.status.busy": "2022-10-28T15:32:00.783498Z",
     "iopub.status.idle": "2022-10-28T15:32:12.425429Z",
     "shell.execute_reply": "2022-10-28T15:32:12.424385Z",
     "shell.execute_reply.started": "2022-10-28T15:32:00.783769Z"
    },
    "tags": []
   },
   "outputs": [],
   "source": [
    "df = pd.read_csv('output/matched.csv', low_memory=False)"
   ]
  },
  {
   "cell_type": "code",
   "execution_count": 23,
   "metadata": {
    "execution": {
     "iopub.execute_input": "2022-10-13T15:46:37.341434Z",
     "iopub.status.busy": "2022-10-13T15:46:37.341164Z",
     "iopub.status.idle": "2022-10-13T15:46:47.413770Z",
     "shell.execute_reply": "2022-10-13T15:46:47.412990Z",
     "shell.execute_reply.started": "2022-10-13T15:46:37.341404Z"
    }
   },
   "outputs": [],
   "source": [
    "df_input = pd.read_csv('output/matched_10-26.csv', low_memory=False)"
   ]
  },
  {
   "cell_type": "code",
   "execution_count": 28,
   "metadata": {
    "execution": {
     "iopub.execute_input": "2022-10-13T15:54:13.286702Z",
     "iopub.status.busy": "2022-10-13T15:54:13.286426Z",
     "iopub.status.idle": "2022-10-13T15:54:27.193946Z",
     "shell.execute_reply": "2022-10-13T15:54:27.193138Z",
     "shell.execute_reply.started": "2022-10-13T15:54:13.286673Z"
    },
    "tags": []
   },
   "outputs": [],
   "source": [
    "df_input2 = pd.read_csv('data/formatted.csv', low_memory=False)"
   ]
  },
  {
   "cell_type": "code",
   "execution_count": 29,
   "metadata": {
    "execution": {
     "iopub.execute_input": "2022-10-13T15:54:27.195546Z",
     "iopub.status.busy": "2022-10-13T15:54:27.195340Z",
     "iopub.status.idle": "2022-10-13T15:54:27.200579Z",
     "shell.execute_reply": "2022-10-13T15:54:27.199652Z",
     "shell.execute_reply.started": "2022-10-13T15:54:27.195521Z"
    },
    "tags": []
   },
   "outputs": [
    {
     "data": {
      "text/plain": [
       "803584"
      ]
     },
     "execution_count": 29,
     "metadata": {},
     "output_type": "execute_result"
    }
   ],
   "source": [
    "len(df_input2)"
   ]
  },
  {
   "cell_type": "code",
   "execution_count": 31,
   "metadata": {
    "execution": {
     "iopub.execute_input": "2022-10-13T15:55:33.124048Z",
     "iopub.status.busy": "2022-10-13T15:55:33.123788Z",
     "iopub.status.idle": "2022-10-13T15:55:33.624837Z",
     "shell.execute_reply": "2022-10-13T15:55:33.623916Z",
     "shell.execute_reply.started": "2022-10-13T15:55:33.124019Z"
    }
   },
   "outputs": [],
   "source": [
    "df_dup2 = df_input2[df_input2.duplicated(subset=['street_no','formatted_en', 'province', 'city'], keep='first')]"
   ]
  },
  {
   "cell_type": "code",
   "execution_count": 6,
   "metadata": {
    "execution": {
     "iopub.execute_input": "2022-10-28T15:32:12.427503Z",
     "iopub.status.busy": "2022-10-28T15:32:12.427240Z",
     "iopub.status.idle": "2022-10-28T15:32:12.432813Z",
     "shell.execute_reply": "2022-10-28T15:32:12.432046Z",
     "shell.execute_reply.started": "2022-10-28T15:32:12.427471Z"
    },
    "tags": []
   },
   "outputs": [
    {
     "data": {
      "text/plain": [
       "803491"
      ]
     },
     "execution_count": 6,
     "metadata": {},
     "output_type": "execute_result"
    }
   ],
   "source": [
    "len(df)"
   ]
  },
  {
   "cell_type": "code",
   "execution_count": 5,
   "metadata": {
    "execution": {
     "iopub.execute_input": "2022-10-04T17:15:24.840281Z",
     "iopub.status.busy": "2022-10-04T17:15:24.840014Z",
     "iopub.status.idle": "2022-10-04T17:15:24.875850Z",
     "shell.execute_reply": "2022-10-04T17:15:24.875077Z",
     "shell.execute_reply.started": "2022-10-04T17:15:24.840254Z"
    },
    "tags": []
   },
   "outputs": [
    {
     "name": "stdout",
     "output_type": "stream",
     "text": [
      "Matches above 80%: 27%\n",
      "Matches above 85%: 25%\n",
      "Matches above 90%: 23%\n",
      "Matches above 95%: 21%\n",
      "Matches above 99.5%: 17%\n"
     ]
    }
   ],
   "source": [
    "# get number of matches above various cutoffs for the entire dataset\n",
    "cut_off = 80\n",
    "\n",
    "for number in [80,85,90,95,99.5]:\n",
    "    no_matches = df['ratio'][df['ratio'] > number].count()\n",
    "    percent_matches = 100 * no_matches / len(df)\n",
    "    print('Matches above ', number, '%: ', int(percent_matches), '%', sep=\"\")\n",
    "\n",
    "# no_matches_80 = df['ratio'][df['ratio'] > 80].count()\n",
    "# no_matches_85 = df['ratio'][df['ratio'] > 85].count()\n",
    "# no_matches_90 = df['ratio'][df['ratio'] > 90].count()\n",
    "# no_matches_95 = df['ratio'][df['ratio'] > 95].count()\n",
    "# no_matches_100 = df['ratio'][df['ratio'] > 99.5].count()\n",
    "\n",
    "# print('matches above' no_matches_80)\n"
   ]
  },
  {
   "cell_type": "code",
   "execution_count": 8,
   "metadata": {
    "execution": {
     "iopub.execute_input": "2022-10-28T15:32:57.319110Z",
     "iopub.status.busy": "2022-10-28T15:32:57.318790Z",
     "iopub.status.idle": "2022-10-28T15:32:57.633596Z",
     "shell.execute_reply": "2022-10-28T15:32:57.632740Z",
     "shell.execute_reply.started": "2022-10-28T15:32:57.319078Z"
    },
    "tags": []
   },
   "outputs": [
    {
     "name": "stdout",
     "output_type": "stream",
     "text": [
      "original number to geocode: 580897\n"
     ]
    }
   ],
   "source": [
    "# number left to geocode\n",
    "df_lat = df[df['latitude'].isna()]\n",
    "print('original number to geocode:', len(df_lat))\n",
    "# df_lat = df_lat[df_lat['x'].isna()]\n",
    "# print('number to geocode after matching:', len(df_lat))"
   ]
  },
  {
   "cell_type": "code",
   "execution_count": 8,
   "metadata": {
    "execution": {
     "iopub.execute_input": "2022-10-04T17:17:29.961727Z",
     "iopub.status.busy": "2022-10-04T17:17:29.961467Z",
     "iopub.status.idle": "2022-10-04T17:17:30.499963Z",
     "shell.execute_reply": "2022-10-04T17:17:30.499160Z",
     "shell.execute_reply.started": "2022-10-04T17:17:29.961699Z"
    }
   },
   "outputs": [],
   "source": [
    "df_dup = df[df.duplicated(subset=['street_no','formatted_en', 'province', 'city'], keep='first')]"
   ]
  },
  {
   "cell_type": "code",
   "execution_count": 9,
   "metadata": {
    "execution": {
     "iopub.execute_input": "2022-10-04T17:18:39.006725Z",
     "iopub.status.busy": "2022-10-04T17:18:39.006457Z",
     "iopub.status.idle": "2022-10-04T17:18:39.475154Z",
     "shell.execute_reply": "2022-10-04T17:18:39.474277Z",
     "shell.execute_reply.started": "2022-10-04T17:18:39.006697Z"
    }
   },
   "outputs": [
    {
     "name": "stdout",
     "output_type": "stream",
     "text": [
      "original number to geocode: 306960\n",
      "number to geocode after matching: 298680\n"
     ]
    }
   ],
   "source": [
    "df_lat = df_dup[df_dup['latitude'].isna()]\n",
    "print('original number to geocode:', len(df_lat))\n",
    "df_lat = df_lat[df_lat['x'].isna()]\n",
    "print('number to geocode after matching:', len(df_lat))"
   ]
  },
  {
   "cell_type": "code",
   "execution_count": 10,
   "metadata": {
    "execution": {
     "iopub.execute_input": "2022-10-28T15:33:23.626784Z",
     "iopub.status.busy": "2022-10-28T15:33:23.626502Z",
     "iopub.status.idle": "2022-10-28T15:33:24.606136Z",
     "shell.execute_reply": "2022-10-28T15:33:24.605269Z",
     "shell.execute_reply.started": "2022-10-28T15:33:23.626754Z"
    },
    "tags": []
   },
   "outputs": [
    {
     "name": "stdout",
     "output_type": "stream",
     "text": [
      "AB:\n",
      "   rows: 77097\n",
      "   perfect matches: 9%\n",
      "   matches above 0.94: 9%\n",
      "BC:\n",
      "   rows: 232465\n",
      "   perfect matches: 15%\n",
      "   matches above 0.94: 16%\n",
      "MB:\n",
      "   rows: 224\n",
      "   perfect matches: 22%\n",
      "   matches above 0.94: 33%\n",
      "NB:\n",
      "   rows: 155\n",
      "   perfect matches: 47%\n",
      "   matches above 0.94: 52%\n",
      "NT:\n",
      "   rows: 1563\n",
      "   perfect matches: 44%\n",
      "   matches above 0.94: 46%\n",
      "NS:\n",
      "   rows: 46\n",
      "   perfect matches: 50%\n",
      "   matches above 0.94: 63%\n",
      "ON:\n",
      "   rows: 243590\n",
      "   perfect matches: 11%\n",
      "   matches above 0.94: 15%\n",
      "PE:\n",
      "   rows: 5\n",
      "   perfect matches: 80%\n",
      "   matches above 0.94: 80%\n",
      "QC:\n",
      "   rows: 244527\n",
      "   perfect matches: 7%\n",
      "   matches above 0.94: 15%\n",
      "SK:\n",
      "   rows: 168\n",
      "   perfect matches: 8%\n",
      "   matches above 0.94: 12%\n"
     ]
    }
   ],
   "source": [
    "# compare matches across provinces\n",
    "\n",
    "# for each province want\n",
    "# - number of rows\n",
    "# - percent perfect matches\n",
    "# - percent matches \n",
    "# - remainder with no geocodes\n",
    "\n",
    "provinces = ['AB', 'BC', 'MB', 'NB', 'NT', 'NS', 'ON', 'PE', 'QC', 'SK']\n",
    "\n",
    "for province in provinces:\n",
    "    df2 = df[df['province'] == province]\n",
    "    no_matches = df2['ratio'][df2['ratio'] > 94].count()\n",
    "    perfect_matches = df2['ratio'][df2['ratio'] > 99].count()\n",
    "    percent_matches = int(100 * no_matches / len(df2))\n",
    "    percent_perfect_matches = int(100 * perfect_matches / len(df2))\n",
    "#     print('Matches for ', province, ': ', int(percent_matches), '%', sep=\"\")\n",
    "\n",
    "    # get the number left to geocode - either an na in either 'longitude' or 'x'\n",
    "\n",
    "    print(province, \":\", sep=\"\")\n",
    "    print('   rows: ', len(df2), sep=\"\")\n",
    "    print('   perfect matches: ', percent_perfect_matches, '%', sep=\"\")\n",
    "    print('   matches above 0.94: ', percent_matches, '%', sep=\"\")\n",
    "#     print('remaining to geocode: ', len(df2), sep=\"\")\n",
    "    "
   ]
  },
  {
   "cell_type": "code",
   "execution_count": 11,
   "metadata": {
    "execution": {
     "iopub.execute_input": "2022-10-28T15:34:17.669597Z",
     "iopub.status.busy": "2022-10-28T15:34:17.669322Z",
     "iopub.status.idle": "2022-10-28T15:34:18.281484Z",
     "shell.execute_reply": "2022-10-28T15:34:18.280426Z",
     "shell.execute_reply.started": "2022-10-28T15:34:17.669566Z"
    },
    "tags": []
   },
   "outputs": [],
   "source": [
    "df = df[~df.duplicated(subset=['street_no','formatted_en', 'province', 'city'], keep='first')]"
   ]
  },
  {
   "cell_type": "code",
   "execution_count": 13,
   "metadata": {
    "execution": {
     "iopub.execute_input": "2022-10-28T15:34:41.473991Z",
     "iopub.status.busy": "2022-10-28T15:34:41.473709Z",
     "iopub.status.idle": "2022-10-28T15:34:41.941669Z",
     "shell.execute_reply": "2022-10-28T15:34:41.940748Z",
     "shell.execute_reply.started": "2022-10-28T15:34:41.473960Z"
    },
    "tags": []
   },
   "outputs": [
    {
     "name": "stdout",
     "output_type": "stream",
     "text": [
      "AB:\n",
      "   rows: 28196\n",
      "   perfect matches: 24%\n",
      "   matches above 0.94: 25%\n",
      "BC:\n",
      "   rows: 79903\n",
      "   perfect matches: 42%\n",
      "   matches above 0.94: 45%\n",
      "MB:\n",
      "   rows: 176\n",
      "   perfect matches: 28%\n",
      "   matches above 0.94: 42%\n",
      "NB:\n",
      "   rows: 134\n",
      "   perfect matches: 55%\n",
      "   matches above 0.94: 60%\n",
      "NT:\n",
      "   rows: 891\n",
      "   perfect matches: 77%\n",
      "   matches above 0.94: 80%\n",
      "NS:\n",
      "   rows: 43\n",
      "   perfect matches: 53%\n",
      "   matches above 0.94: 67%\n",
      "ON:\n",
      "   rows: 73104\n",
      "   perfect matches: 36%\n",
      "   matches above 0.94: 48%\n",
      "PE:\n",
      "   rows: 5\n",
      "   perfect matches: 80%\n",
      "   matches above 0.94: 80%\n",
      "QC:\n",
      "   rows: 190914\n",
      "   perfect matches: 9%\n",
      "   matches above 0.94: 20%\n",
      "SK:\n",
      "   rows: 149\n",
      "   perfect matches: 9%\n",
      "   matches above 0.94: 14%\n"
     ]
    }
   ],
   "source": [
    "# compare matches across provinces\n",
    "\n",
    "# for each province want\n",
    "# - number of rows\n",
    "# - percent perfect matches\n",
    "# - percent matches \n",
    "# - remainder with no geocodes\n",
    "\n",
    "provinces = ['AB', 'BC', 'MB', 'NB', 'NT', 'NS', 'ON', 'PE', 'QC', 'SK']\n",
    "\n",
    "for province in provinces:\n",
    "    df2 = df[df['province'] == province]\n",
    "    no_matches = df2['ratio'][df2['ratio'] > 94].count()\n",
    "    perfect_matches = df2['ratio'][df2['ratio'] > 99].count()\n",
    "    percent_matches = int(100 * no_matches / len(df2))\n",
    "    percent_perfect_matches = int(100 * perfect_matches / len(df2))\n",
    "#     print('Matches for ', province, ': ', int(percent_matches), '%', sep=\"\")\n",
    "\n",
    "    # get the number left to geocode - either an na in either 'longitude' or 'x'\n",
    "\n",
    "    print(province, \":\", sep=\"\")\n",
    "    print('   rows: ', len(df2), sep=\"\")\n",
    "    print('   perfect matches: ', percent_perfect_matches, '%', sep=\"\")\n",
    "    print('   matches above 0.94: ', percent_matches, '%', sep=\"\")\n",
    "#     print('remaining to geocode: ', len(df2), sep=\"\")\n",
    "    "
   ]
  },
  {
   "cell_type": "raw",
   "metadata": {},
   "source": [
    "I removed duplicates. I want to now add them back in, but I want to transfer over the new data for the duplicates \n",
    "\n",
    "I could do some sort of matching.\n",
    "\n",
    "Or, I could label them in some way using the IDs. \n",
    "\n",
    "I think I can iterate through them, use isDuplicate and then go from there. I'll need the dup with the lat lon to come first. \n",
    "\n",
    "No that won't work, since I'm deduplicating on multiple columns\n",
    "\n",
    "another way, is to compute a combined column for the deduplication. just a string. then use that for isDuplicate"
   ]
  },
  {
   "cell_type": "code",
   "execution_count": null,
   "metadata": {},
   "outputs": [],
   "source": [
    "second_List = []\n",
    "for i in range(len(first_List)):\n",
    "    isDuplicate = first_List.count(first_List[i]) > 1\n",
    "    if isDuplicate:\n",
    "        count = first_List[:i+1].count(first_List[i])\n",
    "        second_List.append(f'dup{count}')\n",
    "    else:\n",
    "        second_List.append('unique')\n",
    "        \n",
    "for i in range(len(df))\n",
    "    isDuplicate = "
   ]
  },
  {
   "cell_type": "code",
   "execution_count": null,
   "metadata": {
    "execution": {
     "iopub.execute_input": "2022-11-02T14:28:36.542249Z",
     "iopub.status.busy": "2022-11-02T14:28:36.541992Z"
    },
    "tags": []
   },
   "outputs": [],
   "source": [
    "df = pd.read_csv('output/matched.csv', low_memory=False)"
   ]
  },
  {
   "cell_type": "code",
   "execution_count": 17,
   "metadata": {
    "execution": {
     "iopub.execute_input": "2022-10-28T15:39:39.047599Z",
     "iopub.status.busy": "2022-10-28T15:39:39.047296Z",
     "iopub.status.idle": "2022-10-28T15:39:39.218941Z",
     "shell.execute_reply": "2022-10-28T15:39:39.218172Z",
     "shell.execute_reply.started": "2022-10-28T15:39:39.047568Z"
    },
    "tags": []
   },
   "outputs": [
    {
     "name": "stdout",
     "output_type": "stream",
     "text": [
      "Difference in latitude between source and matched:\n",
      " < 0.00001:  70 %\n",
      " < 0.0001:  80 %\n",
      " < 0.001:  88 %\n",
      " > 1:  2 %\n",
      "\n",
      " * a difference in degree of latitutude of 0.0001 is around 10m.\n"
     ]
    }
   ],
   "source": [
    "# comparison of matching against source data\n",
    "\n",
    "df = df[df['latitude'].notnull() & df['y'].notnull() & df['longitude'].notnull() & df['x'].notnull()]\n",
    "df['lat_diff'] = df['latitude'] - df['y']\n",
    "df['lon_diff'] = df['longitude'] - df['x']\n",
    "\n",
    "# a difference in degree of latitutude of 0.0001 is around 10m\n",
    "num_great = len(df[df['lon_diff'] < 0.00001])\n",
    "num_good = len(df[df['lon_diff'] < 0.0001])\n",
    "num_ok = len(df[df['lon_diff'] < 0.001])\n",
    "num_bad = len(df[df['lon_diff'] > 1])\n",
    "total = len(df)\n",
    "\n",
    "print(\n",
    "'Difference in latitude between source and matched:\\n',\n",
    "'< 0.00001: ', round(100 * num_great / total), \"%\\n\",\n",
    "'< 0.0001: ', round(100 * num_good / total), '%\\n',\n",
    "'< 0.001: ', round(100 * num_ok / total), '%\\n',\n",
    "'> 1: ', round(100 * num_bad / total), '%\\n\\n',\n",
    "'* a difference in degree of latitutude of 0.0001 is around 10m.'\n",
    ")"
   ]
  },
  {
   "cell_type": "code",
   "execution_count": 15,
   "metadata": {
    "execution": {
     "iopub.execute_input": "2022-10-28T15:36:56.489285Z",
     "iopub.status.busy": "2022-10-28T15:36:56.488964Z",
     "iopub.status.idle": "2022-10-28T15:36:56.494134Z",
     "shell.execute_reply": "2022-10-28T15:36:56.493385Z",
     "shell.execute_reply.started": "2022-10-28T15:36:56.489248Z"
    },
    "tags": []
   },
   "outputs": [
    {
     "data": {
      "text/plain": [
       "87197"
      ]
     },
     "execution_count": 15,
     "metadata": {},
     "output_type": "execute_result"
    }
   ],
   "source": [
    "len(df)"
   ]
  },
  {
   "cell_type": "code",
   "execution_count": 3,
   "metadata": {
    "execution": {
     "iopub.execute_input": "2022-11-02T14:30:47.001332Z",
     "iopub.status.busy": "2022-11-02T14:30:47.001032Z",
     "iopub.status.idle": "2022-11-02T14:30:57.137364Z",
     "shell.execute_reply": "2022-11-02T14:30:57.136399Z",
     "shell.execute_reply.started": "2022-11-02T14:30:47.001301Z"
    },
    "tags": []
   },
   "outputs": [],
   "source": [
    "# We deduplicated on some variables during the matching. \n",
    "# We need to add back in the results for the duplicates\n",
    "\n",
    "# sort the dataframe \n",
    "df = pd.read_csv('output/matched.csv', low_memory=False)"
   ]
  },
  {
   "cell_type": "code",
   "execution_count": 92,
   "metadata": {
    "execution": {
     "iopub.execute_input": "2022-11-01T21:56:55.276270Z",
     "iopub.status.busy": "2022-11-01T21:56:55.276008Z",
     "iopub.status.idle": "2022-11-01T21:56:55.280988Z",
     "shell.execute_reply": "2022-11-01T21:56:55.280151Z",
     "shell.execute_reply.started": "2022-11-01T21:56:55.276243Z"
    },
    "tags": []
   },
   "outputs": [
    {
     "data": {
      "text/plain": [
       "803491"
      ]
     },
     "execution_count": 92,
     "metadata": {},
     "output_type": "execute_result"
    }
   ],
   "source": [
    "df_input = df\n",
    "len(df)"
   ]
  },
  {
   "cell_type": "code",
   "execution_count": 89,
   "metadata": {
    "execution": {
     "iopub.execute_input": "2022-11-01T21:54:29.963637Z",
     "iopub.status.busy": "2022-11-01T21:54:29.963340Z",
     "iopub.status.idle": "2022-11-01T21:54:29.966987Z",
     "shell.execute_reply": "2022-11-01T21:54:29.966082Z",
     "shell.execute_reply.started": "2022-11-01T21:54:29.963608Z"
    },
    "tags": []
   },
   "outputs": [],
   "source": [
    "df = df_input"
   ]
  },
  {
   "cell_type": "code",
   "execution_count": 93,
   "metadata": {
    "execution": {
     "iopub.execute_input": "2022-11-01T21:56:57.299659Z",
     "iopub.status.busy": "2022-11-01T21:56:57.299394Z",
     "iopub.status.idle": "2022-11-01T21:56:58.517733Z",
     "shell.execute_reply": "2022-11-01T21:56:58.516827Z",
     "shell.execute_reply.started": "2022-11-01T21:56:57.299629Z"
    },
    "tags": []
   },
   "outputs": [],
   "source": [
    "# sort dataframe by deduplicated variables, so that deduplicated rows appear together\n",
    "# this way we can just check for matches with the previous row\n",
    "df.sort_values(['province', 'city', 'street_no', 'formatted_en'], inplace=True)\n",
    "df.reset_index(inplace=True)"
   ]
  },
  {
   "cell_type": "code",
   "execution_count": 77,
   "metadata": {
    "execution": {
     "iopub.execute_input": "2022-11-01T21:34:47.513381Z",
     "iopub.status.busy": "2022-11-01T21:34:47.513099Z",
     "iopub.status.idle": "2022-11-01T21:34:47.517002Z",
     "shell.execute_reply": "2022-11-01T21:34:47.516148Z",
     "shell.execute_reply.started": "2022-11-01T21:34:47.513350Z"
    },
    "tags": []
   },
   "outputs": [],
   "source": [
    "df = df.head(1000)\n",
    "# df.reset_index(inplace=True)"
   ]
  },
  {
   "cell_type": "code",
   "execution_count": 31,
   "metadata": {
    "execution": {
     "iopub.execute_input": "2022-11-01T20:59:42.671696Z",
     "iopub.status.busy": "2022-11-01T20:59:42.671425Z",
     "iopub.status.idle": "2022-11-01T20:59:42.677682Z",
     "shell.execute_reply": "2022-11-01T20:59:42.677009Z",
     "shell.execute_reply.started": "2022-11-01T20:59:42.671665Z"
    },
    "tags": []
   },
   "outputs": [
    {
     "data": {
      "text/plain": [
       "'337'"
      ]
     },
     "execution_count": 31,
     "metadata": {},
     "output_type": "execute_result"
    }
   ],
   "source": [
    "df.at[500,'street_no']"
   ]
  },
  {
   "cell_type": "code",
   "execution_count": 94,
   "metadata": {
    "execution": {
     "iopub.execute_input": "2022-11-01T21:57:23.618393Z",
     "iopub.status.busy": "2022-11-01T21:57:23.618107Z",
     "iopub.status.idle": "2022-11-01T21:57:37.185067Z",
     "shell.execute_reply": "2022-11-01T21:57:37.184134Z",
     "shell.execute_reply.started": "2022-11-01T21:57:23.618360Z"
    },
    "tags": []
   },
   "outputs": [],
   "source": [
    "# next we loop through \n",
    "# to add in latitude coordinates\n",
    "# df.reset_index(inplace=True)\n",
    "\n",
    "for i in range(len(df)):\n",
    "    \n",
    "    # check if the street number is the same as the previous row\n",
    "    if (i > 1):\n",
    "        if (df.at[i , 'street_no'] == df.at[i - 1, 'street_no']):\n",
    "            # then street name\n",
    "            if (df.at[i, 'formatted_en'] == df.at[i - 1, 'formatted_en']):\n",
    "                # then city\n",
    "                if (df.at[i, 'city'] == df.at[i - 1, 'city']):\n",
    "                    # then province\n",
    "                    if (df.at[i, 'province'] == df.at[i - 1, 'province']):\n",
    "                        # we might also want to check the source is the same\n",
    "                        \n",
    "                        # if they are all the same, then take the value of x\n",
    "                        # if x is not na or 0, assign it to the previous row\n",
    "                        \n",
    "                        if (not pd.isna(x) and x != 0):\n",
    "                            df.at[i, 'x'] = x\n",
    "                            x = df.at[i - 1, 'x']\n",
    "    \n",
    "                            if (not pd.isna(y) and y != 0):\n",
    "                                y = df.at[i - 1, 'y']\n",
    "                                df.at[i, 'y'] = y\n",
    "                    \n",
    "                            df.at[i, 'ratio'] = df.at[i - 1, 'ratio']\n",
    "                            df.at[i, 'csdname_oda'] = df.at[i - 1, 'csdname_oda']\n",
    "                            df.at[i, 'keep_match'] = df.at[i - 1, 'keep_match']\n",
    "\n"
   ]
  },
  {
   "cell_type": "code",
   "execution_count": 88,
   "metadata": {
    "execution": {
     "iopub.execute_input": "2022-11-01T21:51:07.626289Z",
     "iopub.status.busy": "2022-11-01T21:51:07.626016Z",
     "iopub.status.idle": "2022-11-01T21:51:22.642624Z",
     "shell.execute_reply": "2022-11-01T21:51:22.641802Z",
     "shell.execute_reply.started": "2022-11-01T21:51:07.626260Z"
    },
    "tags": []
   },
   "outputs": [],
   "source": [
    "df.to_csv('output/matched_1.csv', index=False)"
   ]
  },
  {
   "cell_type": "code",
   "execution_count": 63,
   "metadata": {
    "execution": {
     "iopub.execute_input": "2022-11-01T21:30:32.790812Z",
     "iopub.status.busy": "2022-11-01T21:30:32.790515Z",
     "iopub.status.idle": "2022-11-01T21:30:32.796618Z",
     "shell.execute_reply": "2022-11-01T21:30:32.795779Z",
     "shell.execute_reply.started": "2022-11-01T21:30:32.790782Z"
    },
    "tags": []
   },
   "outputs": [
    {
     "data": {
      "text/plain": [
       "803491"
      ]
     },
     "execution_count": 63,
     "metadata": {},
     "output_type": "execute_result"
    }
   ],
   "source": [
    "# next we need to assign x and y to lat/lon and decide our cutoff\n",
    "len(df)"
   ]
  },
  {
   "cell_type": "code",
   "execution_count": 138,
   "metadata": {
    "execution": {
     "iopub.execute_input": "2022-10-20T21:03:57.065746Z",
     "iopub.status.busy": "2022-10-20T21:03:57.065467Z",
     "iopub.status.idle": "2022-10-20T21:04:09.435750Z",
     "shell.execute_reply": "2022-10-20T21:04:09.434968Z",
     "shell.execute_reply.started": "2022-10-20T21:03:57.065719Z"
    },
    "tags": []
   },
   "outputs": [],
   "source": [
    "df = pd.read_csv('output/matched.csv', low_memory=False)"
   ]
  },
  {
   "cell_type": "code",
   "execution_count": 56,
   "metadata": {
    "execution": {
     "iopub.execute_input": "2022-11-01T21:11:48.624426Z",
     "iopub.status.busy": "2022-11-01T21:11:48.624161Z",
     "iopub.status.idle": "2022-11-01T21:11:48.642461Z",
     "shell.execute_reply": "2022-11-01T21:11:48.641535Z",
     "shell.execute_reply.started": "2022-11-01T21:11:48.624397Z"
    },
    "tags": []
   },
   "outputs": [
    {
     "data": {
      "text/html": [
       "<div>\n",
       "<style scoped>\n",
       "    .dataframe tbody tr th:only-of-type {\n",
       "        vertical-align: middle;\n",
       "    }\n",
       "\n",
       "    .dataframe tbody tr th {\n",
       "        vertical-align: top;\n",
       "    }\n",
       "\n",
       "    .dataframe thead th {\n",
       "        text-align: right;\n",
       "    }\n",
       "</style>\n",
       "<table border=\"1\" class=\"dataframe\">\n",
       "  <thead>\n",
       "    <tr style=\"text-align: right;\">\n",
       "      <th></th>\n",
       "      <th>idx</th>\n",
       "      <th>localfile</th>\n",
       "      <th>business_name</th>\n",
       "      <th>alt_business_name</th>\n",
       "      <th>business_sector</th>\n",
       "      <th>business_subsector</th>\n",
       "      <th>business_description</th>\n",
       "      <th>business_id_no</th>\n",
       "      <th>licence_number</th>\n",
       "      <th>licence_type</th>\n",
       "      <th>...</th>\n",
       "      <th>provider</th>\n",
       "      <th>geo_source</th>\n",
       "      <th>formatted_en</th>\n",
       "      <th>formatted_fr</th>\n",
       "      <th>matches_r</th>\n",
       "      <th>ratio</th>\n",
       "      <th>x</th>\n",
       "      <th>y</th>\n",
       "      <th>csdname_oda</th>\n",
       "      <th>keep_match</th>\n",
       "    </tr>\n",
       "  </thead>\n",
       "  <tbody>\n",
       "    <tr>\n",
       "      <th>388967</th>\n",
       "      <td>7a122c15a250341d251a</td>\n",
       "      <td>BC_Vancouver_Business_Licences.csv</td>\n",
       "      <td>Post The Butcher Inc</td>\n",
       "      <td>NaN</td>\n",
       "      <td>Office</td>\n",
       "      <td>Broker</td>\n",
       "      <td>NaN</td>\n",
       "      <td>NaN</td>\n",
       "      <td>19-138327</td>\n",
       "      <td>NaN</td>\n",
       "      <td>...</td>\n",
       "      <td>City of Vancouver</td>\n",
       "      <td>NaN</td>\n",
       "      <td>NaN</td>\n",
       "      <td>NaN</td>\n",
       "      <td>NaN</td>\n",
       "      <td>NaN</td>\n",
       "      <td>NaN</td>\n",
       "      <td>NaN</td>\n",
       "      <td>NaN</td>\n",
       "      <td>NaN</td>\n",
       "    </tr>\n",
       "    <tr>\n",
       "      <th>399714</th>\n",
       "      <td>ed81c75b5982b9926b2c</td>\n",
       "      <td>BC_Vancouver_Business_Licences.csv</td>\n",
       "      <td>Joe Media Group Inc</td>\n",
       "      <td>NaN</td>\n",
       "      <td>Electrical-Temporary (Filming)</td>\n",
       "      <td>NaN</td>\n",
       "      <td>NaN</td>\n",
       "      <td>NaN</td>\n",
       "      <td>22-185951</td>\n",
       "      <td>NaN</td>\n",
       "      <td>...</td>\n",
       "      <td>City of Vancouver</td>\n",
       "      <td>NaN</td>\n",
       "      <td>NaN</td>\n",
       "      <td>NaN</td>\n",
       "      <td>NaN</td>\n",
       "      <td>NaN</td>\n",
       "      <td>NaN</td>\n",
       "      <td>NaN</td>\n",
       "      <td>NaN</td>\n",
       "      <td>NaN</td>\n",
       "    </tr>\n",
       "    <tr>\n",
       "      <th>391756</th>\n",
       "      <td>f28018fcebd960fd01ec</td>\n",
       "      <td>BC_Vancouver_Business_Licences.csv</td>\n",
       "      <td>Nelson Environmental Remediation Ltd</td>\n",
       "      <td>NERGLOBAL</td>\n",
       "      <td>Contractor - Special Trades</td>\n",
       "      <td>Other</td>\n",
       "      <td>NaN</td>\n",
       "      <td>NaN</td>\n",
       "      <td>22-112683</td>\n",
       "      <td>NaN</td>\n",
       "      <td>...</td>\n",
       "      <td>City of Vancouver</td>\n",
       "      <td>NaN</td>\n",
       "      <td>NaN</td>\n",
       "      <td>NaN</td>\n",
       "      <td>NaN</td>\n",
       "      <td>NaN</td>\n",
       "      <td>NaN</td>\n",
       "      <td>NaN</td>\n",
       "      <td>NaN</td>\n",
       "      <td>NaN</td>\n",
       "    </tr>\n",
       "    <tr>\n",
       "      <th>408969</th>\n",
       "      <td>57fc034b458f0847d87e</td>\n",
       "      <td>BC_Vancouver_Business_Licences.csv</td>\n",
       "      <td>David William Bailey (David Bailey)</td>\n",
       "      <td>The Old Bailey</td>\n",
       "      <td>Security Services</td>\n",
       "      <td>NaN</td>\n",
       "      <td>NaN</td>\n",
       "      <td>NaN</td>\n",
       "      <td>18-647884</td>\n",
       "      <td>NaN</td>\n",
       "      <td>...</td>\n",
       "      <td>City of Vancouver</td>\n",
       "      <td>NaN</td>\n",
       "      <td>NaN</td>\n",
       "      <td>NaN</td>\n",
       "      <td>NaN</td>\n",
       "      <td>NaN</td>\n",
       "      <td>NaN</td>\n",
       "      <td>NaN</td>\n",
       "      <td>NaN</td>\n",
       "      <td>NaN</td>\n",
       "    </tr>\n",
       "    <tr>\n",
       "      <th>28136</th>\n",
       "      <td>264fa88c5c85f75ee60c</td>\n",
       "      <td>Indigenous_Business_Directory.csv</td>\n",
       "      <td>Mega Star Consulting Ltd.</td>\n",
       "      <td>Mega Star Consulting Ltd.</td>\n",
       "      <td>NaN</td>\n",
       "      <td>NaN</td>\n",
       "      <td>Oil Gas and Mining Regulatory Specialist</td>\n",
       "      <td>7486A17B487BD347B642534E2A17BB5C</td>\n",
       "      <td>NaN</td>\n",
       "      <td>NaN</td>\n",
       "      <td>...</td>\n",
       "      <td>Indigenous Services Canada</td>\n",
       "      <td>NaN</td>\n",
       "      <td>thorburn dr se</td>\n",
       "      <td>thorburn drive se</td>\n",
       "      <td>THORBURN DR SE</td>\n",
       "      <td>100.0</td>\n",
       "      <td>-113.98136</td>\n",
       "      <td>51.28091</td>\n",
       "      <td>Airdrie</td>\n",
       "      <td>yes</td>\n",
       "    </tr>\n",
       "  </tbody>\n",
       "</table>\n",
       "<p>5 rows × 53 columns</p>\n",
       "</div>"
      ],
      "text/plain": [
       "                         idx                           localfile  \\\n",
       "388967  7a122c15a250341d251a  BC_Vancouver_Business_Licences.csv   \n",
       "399714  ed81c75b5982b9926b2c  BC_Vancouver_Business_Licences.csv   \n",
       "391756  f28018fcebd960fd01ec  BC_Vancouver_Business_Licences.csv   \n",
       "408969  57fc034b458f0847d87e  BC_Vancouver_Business_Licences.csv   \n",
       "28136   264fa88c5c85f75ee60c   Indigenous_Business_Directory.csv   \n",
       "\n",
       "                               business_name          alt_business_name  \\\n",
       "388967                  Post The Butcher Inc                        NaN   \n",
       "399714                   Joe Media Group Inc                        NaN   \n",
       "391756  Nelson Environmental Remediation Ltd                  NERGLOBAL   \n",
       "408969   David William Bailey (David Bailey)             The Old Bailey   \n",
       "28136              Mega Star Consulting Ltd.  Mega Star Consulting Ltd.   \n",
       "\n",
       "                       business_sector business_subsector  \\\n",
       "388967                          Office             Broker   \n",
       "399714  Electrical-Temporary (Filming)                NaN   \n",
       "391756     Contractor - Special Trades              Other   \n",
       "408969               Security Services                NaN   \n",
       "28136                              NaN                NaN   \n",
       "\n",
       "                            business_description  \\\n",
       "388967                                       NaN   \n",
       "399714                                       NaN   \n",
       "391756                                       NaN   \n",
       "408969                                       NaN   \n",
       "28136   Oil Gas and Mining Regulatory Specialist   \n",
       "\n",
       "                          business_id_no licence_number licence_type  ...  \\\n",
       "388967                               NaN      19-138327          NaN  ...   \n",
       "399714                               NaN      22-185951          NaN  ...   \n",
       "391756                               NaN      22-112683          NaN  ...   \n",
       "408969                               NaN      18-647884          NaN  ...   \n",
       "28136   7486A17B487BD347B642534E2A17BB5C            NaN          NaN  ...   \n",
       "\n",
       "                          provider geo_source    formatted_en  \\\n",
       "388967           City of Vancouver        NaN             NaN   \n",
       "399714           City of Vancouver        NaN             NaN   \n",
       "391756           City of Vancouver        NaN             NaN   \n",
       "408969           City of Vancouver        NaN             NaN   \n",
       "28136   Indigenous Services Canada        NaN  thorburn dr se   \n",
       "\n",
       "             formatted_fr       matches_r  ratio          x         y  \\\n",
       "388967                NaN             NaN    NaN        NaN       NaN   \n",
       "399714                NaN             NaN    NaN        NaN       NaN   \n",
       "391756                NaN             NaN    NaN        NaN       NaN   \n",
       "408969                NaN             NaN    NaN        NaN       NaN   \n",
       "28136   thorburn drive se  THORBURN DR SE  100.0 -113.98136  51.28091   \n",
       "\n",
       "       csdname_oda keep_match  \n",
       "388967         NaN        NaN  \n",
       "399714         NaN        NaN  \n",
       "391756         NaN        NaN  \n",
       "408969         NaN        NaN  \n",
       "28136      Airdrie        yes  \n",
       "\n",
       "[5 rows x 53 columns]"
      ]
     },
     "execution_count": 56,
     "metadata": {},
     "output_type": "execute_result"
    }
   ],
   "source": [
    "df.head()"
   ]
  },
  {
   "cell_type": "code",
   "execution_count": 132,
   "metadata": {
    "execution": {
     "iopub.execute_input": "2022-10-18T19:29:31.188062Z",
     "iopub.status.busy": "2022-10-18T19:29:31.187802Z",
     "iopub.status.idle": "2022-10-18T19:29:32.061564Z",
     "shell.execute_reply": "2022-10-18T19:29:32.060843Z",
     "shell.execute_reply.started": "2022-10-18T19:29:31.188038Z"
    },
    "tags": []
   },
   "outputs": [
    {
     "name": "stdout",
     "output_type": "stream",
     "text": [
      "AB:\n",
      "   rows: 77097\n",
      "   perfect matches: 9%\n",
      "   matches above 0.8: 24%\n",
      "BC:\n",
      "   rows: 232465\n",
      "   perfect matches: 15%\n",
      "   matches above 0.8: 22%\n",
      "MB:\n",
      "   rows: 224\n",
      "   perfect matches: 22%\n",
      "   matches above 0.8: 37%\n",
      "NB:\n",
      "   rows: 155\n",
      "   perfect matches: 47%\n",
      "   matches above 0.8: 67%\n",
      "NT:\n",
      "   rows: 1563\n",
      "   perfect matches: 44%\n",
      "   matches above 0.8: 50%\n",
      "NS:\n",
      "   rows: 46\n",
      "   perfect matches: 50%\n",
      "   matches above 0.8: 71%\n",
      "ON:\n",
      "   rows: 243590\n",
      "   perfect matches: 11%\n",
      "   matches above 0.8: 20%\n",
      "PE:\n",
      "   rows: 5\n",
      "   perfect matches: 80%\n",
      "   matches above 0.8: 80%\n",
      "QC:\n",
      "   rows: 244527\n",
      "   perfect matches: 7%\n",
      "   matches above 0.8: 32%\n",
      "SK:\n",
      "   rows: 168\n",
      "   perfect matches: 8%\n",
      "   matches above 0.8: 22%\n"
     ]
    }
   ],
   "source": [
    "# compare matches across provinces\n",
    "\n",
    "# for each province want\n",
    "# - number of rows\n",
    "# - percent perfect matches\n",
    "# - percent matches \n",
    "# - remainder with no geocodes\n",
    "\n",
    "provinces = ['AB', 'BC', 'MB', 'NB', 'NT', 'NS', 'ON', 'PE', 'QC', 'SK']\n",
    "\n",
    "# we consider a match if yes column is 'yes' and match is above 94\n",
    "\n",
    "for province in provinces:\n",
    "    df2 = df[df['province'] == province]\n",
    "    no_matches = df2['ratio'][df2['ratio'] > 80].count()\n",
    "    perfect_matches = df2['ratio'][df2['ratio'] > 99].count()\n",
    "    percent_matches = int(100 * no_matches / len(df2))\n",
    "    percent_perfect_matches = int(100 * perfect_matches / len(df2))\n",
    "#     print('Matches for ', province, ': ', int(percent_matches), '%', sep=\"\")\n",
    "\n",
    "    # get the number left to geocode - either an na in either 'longitude' or 'x'\n",
    "\n",
    "    print(province, \":\", sep=\"\")\n",
    "    print('   rows: ', len(df2), sep=\"\")\n",
    "    print('   perfect matches: ', percent_perfect_matches, '%', sep=\"\")\n",
    "    print('   matches above 0.8: ', percent_matches, '%', sep=\"\")\n",
    "#     print('remaining to geocode: ', len(df2), sep=\"\")\n",
    "    "
   ]
  },
  {
   "cell_type": "code",
   "execution_count": 61,
   "metadata": {
    "execution": {
     "iopub.execute_input": "2022-11-01T21:29:06.965797Z",
     "iopub.status.busy": "2022-11-01T21:29:06.965520Z",
     "iopub.status.idle": "2022-11-01T21:29:14.291602Z",
     "shell.execute_reply": "2022-11-01T21:29:14.290800Z",
     "shell.execute_reply.started": "2022-11-01T21:29:06.965765Z"
    },
    "tags": []
   },
   "outputs": [
    {
     "name": "stderr",
     "output_type": "stream",
     "text": [
      "<ipython-input-61-9200a2f500ce>:1: DtypeWarning: Columns (3,4,5,6,7,8,9,11,12,13,14,15,19,20,22,23,24,25,26,27,28,29,30,31,32,34,35,36,40,42,44,45,46,47,51,52) have mixed types. Specify dtype option on import or set low_memory=False.\n",
      "  df = pd.read_csv('output/matched_1.csv')\n"
     ]
    }
   ],
   "source": [
    "df = pd.read_csv('output/matched_1.csv')"
   ]
  },
  {
   "cell_type": "code",
   "execution_count": 95,
   "metadata": {
    "execution": {
     "iopub.execute_input": "2022-11-01T21:58:46.741502Z",
     "iopub.status.busy": "2022-11-01T21:58:46.741225Z",
     "iopub.status.idle": "2022-11-01T21:58:47.724286Z",
     "shell.execute_reply": "2022-11-01T21:58:47.723514Z",
     "shell.execute_reply.started": "2022-11-01T21:58:46.741472Z"
    },
    "tags": []
   },
   "outputs": [
    {
     "name": "stdout",
     "output_type": "stream",
     "text": [
      "AB:\n",
      "   rows: 77097\n",
      "   perfect matches: 9%\n",
      "   matches above 0.8: 24%\n",
      "BC:\n",
      "   rows: 232465\n",
      "   perfect matches: 15%\n",
      "   matches above 0.8: 22%\n",
      "MB:\n",
      "   rows: 224\n",
      "   perfect matches: 22%\n",
      "   matches above 0.8: 37%\n",
      "NB:\n",
      "   rows: 155\n",
      "   perfect matches: 47%\n",
      "   matches above 0.8: 67%\n",
      "NT:\n",
      "   rows: 1563\n",
      "   perfect matches: 44%\n",
      "   matches above 0.8: 50%\n",
      "NS:\n",
      "   rows: 46\n",
      "   perfect matches: 50%\n",
      "   matches above 0.8: 71%\n",
      "ON:\n",
      "   rows: 243590\n",
      "   perfect matches: 11%\n",
      "   matches above 0.8: 20%\n",
      "PE:\n",
      "   rows: 5\n",
      "   perfect matches: 80%\n",
      "   matches above 0.8: 80%\n",
      "QC:\n",
      "   rows: 244527\n",
      "   perfect matches: 7%\n",
      "   matches above 0.8: 32%\n",
      "SK:\n",
      "   rows: 168\n",
      "   perfect matches: 8%\n",
      "   matches above 0.8: 22%\n"
     ]
    }
   ],
   "source": [
    "# compare matches across provinces\n",
    "\n",
    "# for each province want\n",
    "# - number of rows\n",
    "# - percent perfect matches\n",
    "# - percent matches \n",
    "# - remainder with no geocodes\n",
    "\n",
    "provinces = ['AB', 'BC', 'MB', 'NB', 'NT', 'NS', 'ON', 'PE', 'QC', 'SK']\n",
    "\n",
    "for province in provinces:\n",
    "    df2 = df[df['province'] == province]\n",
    "    no_matches = df2['ratio'][df2['ratio'] > 80].count()\n",
    "    perfect_matches = df2['ratio'][df2['ratio'] > 99].count()\n",
    "    percent_matches = int(100 * no_matches / len(df2))\n",
    "    percent_perfect_matches = int(100 * perfect_matches / len(df2))\n",
    "#     print('Matches for ', province, ': ', int(percent_matches), '%', sep=\"\")\n",
    "\n",
    "    # get the number left to geocode - either an na in either 'longitude' or 'x'\n",
    "\n",
    "    print(province, \":\", sep=\"\")\n",
    "    print('   rows: ', len(df2), sep=\"\")\n",
    "    print('   perfect matches: ', percent_perfect_matches, '%', sep=\"\")\n",
    "    print('   matches above 0.8: ', percent_matches, '%', sep=\"\")\n",
    "#     print('remaining to geocode: ', len(df2), sep=\"\")\n",
    "    "
   ]
  },
  {
   "cell_type": "code",
   "execution_count": 137,
   "metadata": {
    "execution": {
     "iopub.execute_input": "2022-10-19T14:43:34.365368Z",
     "iopub.status.busy": "2022-10-19T14:43:34.365067Z",
     "iopub.status.idle": "2022-10-19T14:43:34.417892Z",
     "shell.execute_reply": "2022-10-19T14:43:34.417116Z",
     "shell.execute_reply.started": "2022-10-19T14:43:34.365336Z"
    },
    "tags": []
   },
   "outputs": [
    {
     "data": {
      "text/plain": [
       "57"
      ]
     },
     "execution_count": 137,
     "metadata": {},
     "output_type": "execute_result"
    }
   ],
   "source": [
    "# number of data sources\n",
    "df['localfile'].nunique()"
   ]
  },
  {
   "cell_type": "code",
   "execution_count": null,
   "metadata": {},
   "outputs": [],
   "source": []
  }
 ],
 "metadata": {
  "kernelspec": {
   "display_name": "Python 3 (ipykernel)",
   "language": "python",
   "name": "python3"
  },
  "language_info": {
   "codemirror_mode": {
    "name": "ipython",
    "version": 3
   },
   "file_extension": ".py",
   "mimetype": "text/x-python",
   "name": "python",
   "nbconvert_exporter": "python",
   "pygments_lexer": "ipython3",
   "version": "3.8.12"
  }
 },
 "nbformat": 4,
 "nbformat_minor": 4
}
