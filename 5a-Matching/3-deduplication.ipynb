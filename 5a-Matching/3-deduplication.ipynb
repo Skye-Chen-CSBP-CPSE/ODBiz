{
 "cells": [
  {
   "cell_type": "code",
   "execution_count": 2,
   "metadata": {
    "execution": {
     "iopub.execute_input": "2022-08-25T14:53:00.165276Z",
     "iopub.status.busy": "2022-08-25T14:53:00.164931Z",
     "iopub.status.idle": "2022-08-25T14:53:00.170450Z",
     "shell.execute_reply": "2022-08-25T14:53:00.169184Z",
     "shell.execute_reply.started": "2022-08-25T14:53:00.165236Z"
    },
    "tags": []
   },
   "outputs": [],
   "source": [
    "# We may have many rows that have duplicate addresses. E.g. if two businesses are located at the same address\n",
    "# or if we just have some duplicate rows.\n",
    "\n",
    "# This step removes those duplicates\n",
    "# Note we'll want to keep these duplicate entries and add them back at the end of this stage"
   ]
  },
  {
   "cell_type": "code",
   "execution_count": 2,
   "metadata": {
    "execution": {
     "iopub.execute_input": "2022-09-15T18:06:13.805916Z",
     "iopub.status.busy": "2022-09-15T18:06:13.805645Z",
     "iopub.status.idle": "2022-09-15T18:06:13.809880Z",
     "shell.execute_reply": "2022-09-15T18:06:13.809029Z",
     "shell.execute_reply.started": "2022-09-15T18:06:13.805888Z"
    },
    "tags": []
   },
   "outputs": [],
   "source": [
    "import pandas as pd\n",
    "\n",
    "# from thefuzz import fuzz\n",
    "# from thefuzz import process"
   ]
  },
  {
   "cell_type": "code",
   "execution_count": 4,
   "metadata": {
    "execution": {
     "iopub.execute_input": "2022-09-15T19:30:19.654412Z",
     "iopub.status.busy": "2022-09-15T19:30:19.654127Z",
     "iopub.status.idle": "2022-09-15T19:30:31.603859Z",
     "shell.execute_reply": "2022-09-15T19:30:31.603122Z",
     "shell.execute_reply.started": "2022-09-15T19:30:19.654382Z"
    },
    "tags": []
   },
   "outputs": [
    {
     "name": "stdout",
     "output_type": "stream",
     "text": [
      "rows:  803584\n"
     ]
    }
   ],
   "source": [
    "df = pd.read_csv('data/formatted.csv', low_memory=False)\n",
    "print('rows: ', len(df))"
   ]
  },
  {
   "cell_type": "code",
   "execution_count": 5,
   "metadata": {
    "execution": {
     "iopub.execute_input": "2022-09-15T19:30:32.903084Z",
     "iopub.status.busy": "2022-09-15T19:30:32.902779Z",
     "iopub.status.idle": "2022-09-15T19:30:33.261129Z",
     "shell.execute_reply": "2022-09-15T19:30:33.260203Z",
     "shell.execute_reply.started": "2022-09-15T19:30:32.903047Z"
    },
    "tags": []
   },
   "outputs": [
    {
     "name": "stdout",
     "output_type": "stream",
     "text": [
      "598853\n"
     ]
    }
   ],
   "source": [
    "print(len(df[df['longitude'].isnull()]))"
   ]
  },
  {
   "cell_type": "code",
   "execution_count": null,
   "metadata": {
    "tags": []
   },
   "outputs": [],
   "source": [
    "df['latitude'].tail(30)"
   ]
  },
  {
   "cell_type": "code",
   "execution_count": 9,
   "metadata": {
    "execution": {
     "iopub.execute_input": "2022-09-15T19:33:00.109479Z",
     "iopub.status.busy": "2022-09-15T19:33:00.109201Z",
     "iopub.status.idle": "2022-09-15T19:33:02.202819Z",
     "shell.execute_reply": "2022-09-15T19:33:02.201959Z",
     "shell.execute_reply.started": "2022-09-15T19:33:00.109448Z"
    },
    "tags": []
   },
   "outputs": [
    {
     "name": "stdout",
     "output_type": "stream",
     "text": [
      "rows:  484011\n",
      "914435\n"
     ]
    }
   ],
   "source": [
    "# Start by removing exact matches\n",
    "\n",
    "# df = df.drop_duplicates(subset=['street_no','formatted_en', 'province'])\n",
    "# df = df[(~df.duplicated(subset=['street_no','formatted_en', 'province'])) | df['street_no','formatted_en', 'province'].isna()]\n",
    "\n",
    "# sort so that we keep records of the lat/lon if present\n",
    "df.sort_values(['latitude'])\n",
    "# this only seems to change the result by 20. Does that make sense? That suggests that pretty much all of the duplicates have the same lat/lon information\n",
    "\n",
    "df_city = df[~df.duplicated(subset=['street_no','formatted_en', 'province', 'city'], keep='first') | df['street_no'].isna() | df['formatted_en'].isna() | df['province'].isna() | df['city'].isna()]\n",
    "# df_province = df[~df.duplicated(subset=['street_no','formatted_en', 'province']) | df['street_no'].isna() | df['formatted_en'].isna() | df['province'].isna()]\n",
    "# df_nogeo = df[~df.duplicated(subset=['street_no','formatted_en']) | df['street_no'].isna() | df['formatted_en'].isna()]\n",
    "\n",
    "df_city_not = df[df.duplicated(subset=['street_no','formatted_en', 'province', 'city'], keep='first') | df['street_no'].isna() | df['formatted_en'].isna() | df['province'].isna() | df['city'].isna()]\n",
    "\n",
    "df_city_not = df[df.duplicated('cost') | ~df.duplicated('cost', keep=False)]\n",
    "\n",
    "\n",
    "# FOR TESTING create a dataframe of duplicates for inspection\n",
    "\n",
    "print('rows: ', len(df_city))\n",
    "print(len(df_city) + len(df_city_not))\n",
    "# print('rows: ', len(df_province))\n",
    "# print('rows: ', len(df_nogeo))\n",
    "# if (province_code == 'QC'):\n",
    "#     df = df.drop_duplicates(subset=['street_no','formatted_fr'])\n",
    "# else:\n",
    "#     df = df.drop_duplicates(subset=['street_no','formatted_en'])"
   ]
  },
  {
   "cell_type": "code",
   "execution_count": 20,
   "metadata": {
    "execution": {
     "iopub.execute_input": "2022-08-30T14:25:08.767834Z",
     "iopub.status.busy": "2022-08-30T14:25:08.767540Z",
     "iopub.status.idle": "2022-08-30T14:25:09.294995Z",
     "shell.execute_reply": "2022-08-30T14:25:09.294120Z",
     "shell.execute_reply.started": "2022-08-30T14:25:08.767799Z"
    },
    "tags": []
   },
   "outputs": [],
   "source": [
    "duplicates = df[df.duplicated(subset=['street_no','formatted_en', 'province', 'city'], keep=False)]"
   ]
  },
  {
   "cell_type": "code",
   "execution_count": null,
   "metadata": {
    "tags": []
   },
   "outputs": [],
   "source": [
    "duplicates = duplicates.sort_values(['street_no','formatted_en', 'province', 'city'])\n",
    "duplicates[['street_no','formatted_en', 'province', 'city']].head(30)"
   ]
  },
  {
   "cell_type": "code",
   "execution_count": 18,
   "metadata": {
    "execution": {
     "iopub.execute_input": "2022-08-30T14:20:15.623557Z",
     "iopub.status.busy": "2022-08-30T14:20:15.623292Z",
     "iopub.status.idle": "2022-08-30T14:20:15.869249Z",
     "shell.execute_reply": "2022-08-30T14:20:15.868354Z",
     "shell.execute_reply.started": "2022-08-30T14:20:15.623529Z"
    },
    "tags": []
   },
   "outputs": [
    {
     "name": "stdout",
     "output_type": "stream",
     "text": [
      "398644\n"
     ]
    }
   ],
   "source": [
    "# how many to geocode?\n",
    "print(len(df_city[df_city['latitude'].isnull()]))"
   ]
  },
  {
   "cell_type": "code",
   "execution_count": 8,
   "metadata": {
    "execution": {
     "iopub.execute_input": "2022-08-29T15:38:20.066950Z",
     "iopub.status.busy": "2022-08-29T15:38:20.066707Z",
     "iopub.status.idle": "2022-08-29T15:38:20.095067Z",
     "shell.execute_reply": "2022-08-29T15:38:20.094400Z",
     "shell.execute_reply.started": "2022-08-29T15:38:20.066925Z"
    },
    "tags": []
   },
   "outputs": [
    {
     "data": {
      "text/plain": [
       "array(['BC', 'AB', 'NB', 'ON', nan, 'QC', 'MB', 'SK', 'NS', '78', 'YT',\n",
       "       'NL', 'LAKEVIEW ESTATES', 'NT', 'NU', 'PE'], dtype=object)"
      ]
     },
     "execution_count": 8,
     "metadata": {},
     "output_type": "execute_result"
    }
   ],
   "source": [
    "df_city['province'].unique()"
   ]
  },
  {
   "cell_type": "code",
   "execution_count": 12,
   "metadata": {
    "execution": {
     "iopub.execute_input": "2022-08-29T15:40:32.508545Z",
     "iopub.status.busy": "2022-08-29T15:40:32.508261Z",
     "iopub.status.idle": "2022-08-29T15:40:32.588603Z",
     "shell.execute_reply": "2022-08-29T15:40:32.587581Z",
     "shell.execute_reply.started": "2022-08-29T15:40:32.508514Z"
    },
    "tags": []
   },
   "outputs": [
    {
     "data": {
      "text/html": [
       "<div>\n",
       "<style scoped>\n",
       "    .dataframe tbody tr th:only-of-type {\n",
       "        vertical-align: middle;\n",
       "    }\n",
       "\n",
       "    .dataframe tbody tr th {\n",
       "        vertical-align: top;\n",
       "    }\n",
       "\n",
       "    .dataframe thead th {\n",
       "        text-align: right;\n",
       "    }\n",
       "</style>\n",
       "<table border=\"1\" class=\"dataframe\">\n",
       "  <thead>\n",
       "    <tr style=\"text-align: right;\">\n",
       "      <th></th>\n",
       "      <th>idx</th>\n",
       "      <th>localfile</th>\n",
       "      <th>business_name</th>\n",
       "      <th>business_sector</th>\n",
       "      <th>business_subsector</th>\n",
       "      <th>business_description</th>\n",
       "      <th>business_id_no</th>\n",
       "      <th>licence_number</th>\n",
       "      <th>licence_type</th>\n",
       "      <th>primary_NAICS</th>\n",
       "      <th>...</th>\n",
       "      <th>LP_Unit</th>\n",
       "      <th>LP_street_no_alt</th>\n",
       "      <th>LP2_unit</th>\n",
       "      <th>LP2_street_no</th>\n",
       "      <th>spill</th>\n",
       "      <th>LP3_unit</th>\n",
       "      <th>parsing_err_exists</th>\n",
       "      <th>flagged_parsing_err</th>\n",
       "      <th>formatted_en</th>\n",
       "      <th>formatted_fr</th>\n",
       "    </tr>\n",
       "  </thead>\n",
       "  <tbody>\n",
       "    <tr>\n",
       "      <th>101179</th>\n",
       "      <td>7a122c15a250341d251a</td>\n",
       "      <td>BC_Vancouver_Business_Licences.csv</td>\n",
       "      <td>Post The Butcher Inc</td>\n",
       "      <td>Office</td>\n",
       "      <td>Broker</td>\n",
       "      <td>NaN</td>\n",
       "      <td>NaN</td>\n",
       "      <td>19-138327</td>\n",
       "      <td>NaN</td>\n",
       "      <td>NaN</td>\n",
       "      <td>...</td>\n",
       "      <td>NaN</td>\n",
       "      <td>NaN</td>\n",
       "      <td>NaN</td>\n",
       "      <td>NaN</td>\n",
       "      <td>NaN</td>\n",
       "      <td>NaN</td>\n",
       "      <td>False</td>\n",
       "      <td>False</td>\n",
       "      <td>NaN</td>\n",
       "      <td>NaN</td>\n",
       "    </tr>\n",
       "    <tr>\n",
       "      <th>184292</th>\n",
       "      <td>69139e8fad512fe66792</td>\n",
       "      <td>BC_Vancouver_Business_Licences.csv</td>\n",
       "      <td>(Naoko Winther)</td>\n",
       "      <td>Health Services</td>\n",
       "      <td>Counselling</td>\n",
       "      <td>NaN</td>\n",
       "      <td>NaN</td>\n",
       "      <td>22-123793</td>\n",
       "      <td>NaN</td>\n",
       "      <td>NaN</td>\n",
       "      <td>...</td>\n",
       "      <td>NaN</td>\n",
       "      <td>NaN</td>\n",
       "      <td>NaN</td>\n",
       "      <td>NaN</td>\n",
       "      <td>NaN</td>\n",
       "      <td>NaN</td>\n",
       "      <td>False</td>\n",
       "      <td>False</td>\n",
       "      <td>NaN</td>\n",
       "      <td>NaN</td>\n",
       "    </tr>\n",
       "  </tbody>\n",
       "</table>\n",
       "<p>2 rows × 58 columns</p>\n",
       "</div>"
      ],
      "text/plain": [
       "                         idx                           localfile  \\\n",
       "101179  7a122c15a250341d251a  BC_Vancouver_Business_Licences.csv   \n",
       "184292  69139e8fad512fe66792  BC_Vancouver_Business_Licences.csv   \n",
       "\n",
       "               business_name  business_sector business_subsector  \\\n",
       "101179  Post The Butcher Inc           Office             Broker   \n",
       "184292       (Naoko Winther)  Health Services        Counselling   \n",
       "\n",
       "       business_description business_id_no licence_number licence_type  \\\n",
       "101179                  NaN            NaN      19-138327          NaN   \n",
       "184292                  NaN            NaN      22-123793          NaN   \n",
       "\n",
       "        primary_NAICS  ... LP_Unit LP_street_no_alt LP2_unit LP2_street_no  \\\n",
       "101179            NaN  ...     NaN              NaN      NaN           NaN   \n",
       "184292            NaN  ...     NaN              NaN      NaN           NaN   \n",
       "\n",
       "        spill  LP3_unit parsing_err_exists flagged_parsing_err formatted_en  \\\n",
       "101179    NaN       NaN              False               False          NaN   \n",
       "184292    NaN       NaN              False               False          NaN   \n",
       "\n",
       "       formatted_fr  \n",
       "101179          NaN  \n",
       "184292          NaN  \n",
       "\n",
       "[2 rows x 58 columns]"
      ]
     },
     "execution_count": 12,
     "metadata": {},
     "output_type": "execute_result"
    }
   ],
   "source": [
    "df_city[(df_city['province'] == 'LAKEVIEW ESTATES') | (df_city['province'] == '78')]"
   ]
  },
  {
   "cell_type": "code",
   "execution_count": 36,
   "metadata": {
    "execution": {
     "iopub.execute_input": "2022-09-01T14:47:45.421126Z",
     "iopub.status.busy": "2022-09-01T14:47:45.420866Z",
     "iopub.status.idle": "2022-09-01T14:47:45.426070Z",
     "shell.execute_reply": "2022-09-01T14:47:45.425293Z",
     "shell.execute_reply.started": "2022-09-01T14:47:45.421100Z"
    },
    "tags": []
   },
   "outputs": [
    {
     "data": {
      "text/plain": [
       "803584"
      ]
     },
     "execution_count": 36,
     "metadata": {},
     "output_type": "execute_result"
    }
   ],
   "source": [
    "len(df)"
   ]
  },
  {
   "cell_type": "code",
   "execution_count": 35,
   "metadata": {
    "execution": {
     "iopub.execute_input": "2022-09-01T14:47:39.847735Z",
     "iopub.status.busy": "2022-09-01T14:47:39.847444Z",
     "iopub.status.idle": "2022-09-01T14:47:39.889586Z",
     "shell.execute_reply": "2022-09-01T14:47:39.888694Z",
     "shell.execute_reply.started": "2022-09-01T14:47:39.847703Z"
    },
    "tags": []
   },
   "outputs": [
    {
     "data": {
      "text/plain": [
       "0"
      ]
     },
     "execution_count": 35,
     "metadata": {},
     "output_type": "execute_result"
    }
   ],
   "source": [
    "df['full_address'].isna().sum()"
   ]
  },
  {
   "cell_type": "code",
   "execution_count": null,
   "metadata": {
    "tags": []
   },
   "outputs": [],
   "source": [
    "list(df)"
   ]
  },
  {
   "cell_type": "code",
   "execution_count": null,
   "metadata": {},
   "outputs": [],
   "source": []
  }
 ],
 "metadata": {
  "kernelspec": {
   "display_name": "Python 3 (ipykernel)",
   "language": "python",
   "name": "python3"
  },
  "language_info": {
   "codemirror_mode": {
    "name": "ipython",
    "version": 3
   },
   "file_extension": ".py",
   "mimetype": "text/x-python",
   "name": "python",
   "nbconvert_exporter": "python",
   "pygments_lexer": "ipython3",
   "version": "3.8.12"
  }
 },
 "nbformat": 4,
 "nbformat_minor": 4
}
