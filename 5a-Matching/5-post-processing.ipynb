{
 "cells": [
  {
   "cell_type": "code",
   "execution_count": 2,
   "metadata": {
    "execution": {
     "iopub.execute_input": "2022-09-14T16:33:33.104627Z",
     "iopub.status.busy": "2022-09-14T16:33:33.104311Z",
     "iopub.status.idle": "2022-09-14T16:33:33.791204Z",
     "shell.execute_reply": "2022-09-14T16:33:33.789999Z",
     "shell.execute_reply.started": "2022-09-14T16:33:33.104586Z"
    },
    "tags": []
   },
   "outputs": [],
   "source": [
    "import pandas as pd"
   ]
  },
  {
   "cell_type": "code",
   "execution_count": 4,
   "metadata": {
    "execution": {
     "iopub.execute_input": "2022-09-14T16:33:55.013599Z",
     "iopub.status.busy": "2022-09-14T16:33:55.013344Z",
     "iopub.status.idle": "2022-09-14T16:34:18.467329Z",
     "shell.execute_reply": "2022-09-14T16:34:18.466334Z",
     "shell.execute_reply.started": "2022-09-14T16:33:55.013573Z"
    },
    "tags": []
   },
   "outputs": [],
   "source": [
    "df = pd.read_csv('output/output_all.csv', low_memory=False)\n",
    "df2 = pd.read_csv('data/formatted.csv', low_memory=False)\n",
    "# df2 = pd.read_csv('data/ODBiz_parsed.csv')"
   ]
  },
  {
   "cell_type": "code",
   "execution_count": 4,
   "metadata": {
    "execution": {
     "iopub.execute_input": "2022-09-13T17:45:07.524445Z",
     "iopub.status.busy": "2022-09-13T17:45:07.524163Z",
     "iopub.status.idle": "2022-09-13T17:45:07.529231Z",
     "shell.execute_reply": "2022-09-13T17:45:07.528324Z",
     "shell.execute_reply.started": "2022-09-13T17:45:07.524413Z"
    }
   },
   "outputs": [
    {
     "name": "stdout",
     "output_type": "stream",
     "text": [
      "694519 803584\n"
     ]
    }
   ],
   "source": [
    "print(len(df), len(df2))"
   ]
  },
  {
   "cell_type": "code",
   "execution_count": 5,
   "metadata": {
    "execution": {
     "iopub.execute_input": "2022-09-13T17:47:16.649236Z",
     "iopub.status.busy": "2022-09-13T17:47:16.648948Z",
     "iopub.status.idle": "2022-09-13T17:47:16.652637Z",
     "shell.execute_reply": "2022-09-13T17:47:16.651866Z",
     "shell.execute_reply.started": "2022-09-13T17:47:16.649205Z"
    }
   },
   "outputs": [],
   "source": [
    "# I need to join back up the datasets\n",
    "# From df, I have removed anything which has a matching street address \n",
    "# (so that we didn't have to code the same address twice)\n",
    "\n",
    "# How about we just get the IDs of the results we removed\n",
    "# then add them back into the old dataset\n",
    "# then find their lat lons from exact matches with the new dataset.\n",
    "\n",
    "# basically undo what I did in step 3 deduplication\n",
    "\n",
    "# it's tricky. I need (1) to keep a list of all the entries I removed and (2) work out a way to add back in \n",
    "# the old ones, but match them to add the correct lat/lons\n",
    "\n",
    "# why don't I start by adding back in the data\n",
    "# we also dump data which doesn't have a street number. \n",
    "# maybe i just need to go through the data pipeline and mop up anything leftover"
   ]
  },
  {
   "cell_type": "code",
   "execution_count": 8,
   "metadata": {
    "execution": {
     "iopub.execute_input": "2022-09-13T17:48:53.063277Z",
     "iopub.status.busy": "2022-09-13T17:48:53.062942Z",
     "iopub.status.idle": "2022-09-13T17:48:53.716669Z",
     "shell.execute_reply": "2022-09-13T17:48:53.715909Z",
     "shell.execute_reply.started": "2022-09-13T17:48:53.063240Z"
    },
    "tags": []
   },
   "outputs": [
    {
     "name": "stdout",
     "output_type": "stream",
     "text": [
      "original number to geocode: 580990\n",
      "new number to geocode: 490387\n"
     ]
    }
   ],
   "source": [
    "df_lat = df2[df2['latitude'].isna()]\n",
    "print('original number to geocode:', len(df_lat))\n",
    "df_lat = df[df['latitude'].isna()]\n",
    "print('new number to geocode:', len(df_lat))"
   ]
  },
  {
   "cell_type": "code",
   "execution_count": 9,
   "metadata": {
    "execution": {
     "iopub.execute_input": "2022-09-13T17:50:22.240343Z",
     "iopub.status.busy": "2022-09-13T17:50:22.240057Z",
     "iopub.status.idle": "2022-09-13T17:50:22.250683Z",
     "shell.execute_reply": "2022-09-13T17:50:22.250030Z",
     "shell.execute_reply.started": "2022-09-13T17:50:22.240313Z"
    }
   },
   "outputs": [
    {
     "data": {
      "text/plain": [
       "['idx',\n",
       " 'localfile',\n",
       " 'business_name',\n",
       " 'business_sector',\n",
       " 'business_subsector',\n",
       " 'business_description',\n",
       " 'business_id_no',\n",
       " 'licence_number',\n",
       " 'licence_type',\n",
       " 'primary_NAICS',\n",
       " 'secondary_NAICS',\n",
       " 'NAICS_descr',\n",
       " 'alt_econ_act_code',\n",
       " 'alt_econ_act_descrip',\n",
       " 'latitude',\n",
       " 'longitude',\n",
       " 'full_address',\n",
       " 'full_address_2',\n",
       " 'mailing_address',\n",
       " 'postal_code',\n",
       " 'unit',\n",
       " 'street_no',\n",
       " 'street_name',\n",
       " 'street_direction',\n",
       " 'street_type',\n",
       " 'city',\n",
       " 'province',\n",
       " 'country',\n",
       " 'business_website',\n",
       " 'email',\n",
       " 'telephone',\n",
       " 'telephone_extension',\n",
       " 'toll_free_telephone',\n",
       " 'fax',\n",
       " 'total_no_employees',\n",
       " 'no_full_time',\n",
       " 'no_part_time',\n",
       " 'no_seasonal',\n",
       " 'date_established',\n",
       " 'indigenous',\n",
       " 'status',\n",
       " 'provider',\n",
       " 'geo_source',\n",
       " 'LP_street_no',\n",
       " 'LP_street_name',\n",
       " 'LP_City',\n",
       " 'LP_Province',\n",
       " 'LP_PostCode',\n",
       " 'LP_Unit',\n",
       " 'LP_street_no_alt',\n",
       " 'LP2_unit',\n",
       " 'LP2_street_no',\n",
       " 'spill',\n",
       " 'LP3_unit',\n",
       " 'parsing_err_exists',\n",
       " 'flagged_parsing_err',\n",
       " 'formatted_en',\n",
       " 'formatted_fr',\n",
       " 'matches_r',\n",
       " 'ratio',\n",
       " 'x',\n",
       " 'y',\n",
       " 'csdname_oda']"
      ]
     },
     "execution_count": 9,
     "metadata": {},
     "output_type": "execute_result"
    }
   ],
   "source": [
    "list(df)"
   ]
  },
  {
   "cell_type": "code",
   "execution_count": 10,
   "metadata": {
    "execution": {
     "iopub.execute_input": "2022-09-13T17:50:55.516105Z",
     "iopub.status.busy": "2022-09-13T17:50:55.515799Z",
     "iopub.status.idle": "2022-09-13T17:50:55.715408Z",
     "shell.execute_reply": "2022-09-13T17:50:55.714628Z",
     "shell.execute_reply.started": "2022-09-13T17:50:55.516071Z"
    }
   },
   "outputs": [],
   "source": [
    "df_x = df[~df['x'].isna() && ]\n"
   ]
  },
  {
   "cell_type": "code",
   "execution_count": 11,
   "metadata": {
    "execution": {
     "iopub.execute_input": "2022-09-13T17:50:59.462780Z",
     "iopub.status.busy": "2022-09-13T17:50:59.462507Z",
     "iopub.status.idle": "2022-09-13T17:50:59.467578Z",
     "shell.execute_reply": "2022-09-13T17:50:59.466840Z",
     "shell.execute_reply.started": "2022-09-13T17:50:59.462750Z"
    }
   },
   "outputs": [
    {
     "data": {
      "text/plain": [
       "400214"
      ]
     },
     "execution_count": 11,
     "metadata": {},
     "output_type": "execute_result"
    }
   ],
   "source": [
    "len(df_x)"
   ]
  },
  {
   "cell_type": "code",
   "execution_count": 17,
   "metadata": {
    "execution": {
     "iopub.execute_input": "2022-09-13T17:52:46.927911Z",
     "iopub.status.busy": "2022-09-13T17:52:46.927640Z",
     "iopub.status.idle": "2022-09-13T17:52:47.040736Z",
     "shell.execute_reply": "2022-09-13T17:52:47.039837Z",
     "shell.execute_reply.started": "2022-09-13T17:52:46.927881Z"
    },
    "tags": []
   },
   "outputs": [],
   "source": [
    "df_code = df[~df['x'].isna() & ~df['latitude'].isna()]"
   ]
  },
  {
   "cell_type": "code",
   "execution_count": 18,
   "metadata": {
    "execution": {
     "iopub.execute_input": "2022-09-13T17:52:47.789442Z",
     "iopub.status.busy": "2022-09-13T17:52:47.789124Z",
     "iopub.status.idle": "2022-09-13T17:52:47.794943Z",
     "shell.execute_reply": "2022-09-13T17:52:47.794197Z",
     "shell.execute_reply.started": "2022-09-13T17:52:47.789411Z"
    },
    "tags": []
   },
   "outputs": [
    {
     "data": {
      "text/plain": [
       "142551"
      ]
     },
     "execution_count": 18,
     "metadata": {},
     "output_type": "execute_result"
    }
   ],
   "source": [
    "len(df_code)"
   ]
  },
  {
   "cell_type": "code",
   "execution_count": null,
   "metadata": {},
   "outputs": [],
   "source": [
    "# add back in any idx not in the new one\n",
    "# if "
   ]
  }
 ],
 "metadata": {
  "kernelspec": {
   "display_name": "Python 3 (ipykernel)",
   "language": "python",
   "name": "python3"
  },
  "language_info": {
   "codemirror_mode": {
    "name": "ipython",
    "version": 3
   },
   "file_extension": ".py",
   "mimetype": "text/x-python",
   "name": "python",
   "nbconvert_exporter": "python",
   "pygments_lexer": "ipython3",
   "version": "3.8.12"
  }
 },
 "nbformat": 4,
 "nbformat_minor": 4
}
