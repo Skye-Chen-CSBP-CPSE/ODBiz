{
 "metadata": {
  "language_info": {
   "codemirror_mode": {
    "name": "ipython",
    "version": 3
   },
   "file_extension": ".py",
   "mimetype": "text/x-python",
   "name": "python",
   "nbconvert_exporter": "python",
   "pygments_lexer": "ipython3",
   "version": "3.8.12"
  },
  "orig_nbformat": 2,
  "kernelspec": {
   "name": "python3812jvsc74a57bd098b0a9b7b4eaaa670588a142fd0a9b87eaafe866f1db4228be72b4211d12040f",
   "display_name": "Python 3.8.12 64-bit ('base': conda)"
  }
 },
 "nbformat": 4,
 "nbformat_minor": 2,
 "cells": [
  {
   "cell_type": "code",
   "execution_count": 1,
   "metadata": {},
   "outputs": [],
   "source": [
    "import MergingBiz\n",
    "import RemoveInvalidCoordinates\n",
    "import FilterNoAddrInfo\n"
   ]
  },
  {
   "cell_type": "code",
   "execution_count": 10,
   "metadata": {},
   "outputs": [],
   "source": [
    "# ExtractOpenTabOutput.main()"
   ]
  },
  {
   "cell_type": "code",
   "execution_count": 11,
   "metadata": {},
   "outputs": [
    {
     "output_type": "stream",
     "name": "stdout",
     "text": [
      "Begin merging files together...\n",
      "100%|██████████| 60/60 [00:03<00:00, 16.41it/s]\n",
      "Standardizing Province Names...\n",
      "100%|██████████| 20/20 [00:05<00:00,  3.70it/s]\n",
      "Standardizing Country Names...\n",
      "100%|██████████| 1/1 [00:00<00:00,  2.08it/s]\n",
      "Making Postal Codes consistent...\n",
      "100%|██████████| 844131/844131 [00:00<00:00, 1955652.17it/s]\n",
      "Marking Duplicates\n",
      "Creating idx_basic...\n",
      "100%|██████████| 844131/844131 [00:00<00:00, 2007972.83it/s]\n",
      "Creating temp column:\n",
      "Capitalize values and fill in blanks of dup_key columns with NULL to a copy of the df\n",
      "100%|██████████| 9/9 [00:16<00:00,  1.83s/it]\n",
      "Appending dup_key columns together and assign to temp column\n",
      "100%|██████████| 9/9 [00:02<00:00,  4.18it/s]\n",
      "Applying hashing to get new indicies...\n",
      "100%|██████████| 844131/844131 [00:00<00:00, 1957214.34it/s]\n",
      "Filling in geo_source column\n",
      "Dropping duplicates\n",
      "41567 duplicate rows dropped\n",
      "Writing 802564 dataframe entries to csv. This will take a while and unfortunately no easy progress bar solutions were available here...\n",
      "File saved to /home/jovyan/ODBiz/3-Merging/output/ODBiz_dups_only_2022-07-25.csv\n",
      "File saved to /home/jovyan/ODBiz/3-Merging/output/1-ODBiz_merged_2022-07-25.csv\n",
      "Finished in 54.417547 seconds\n"
     ]
    }
   ],
   "source": [
    "MergingBiz.main()"
   ]
  },
  {
   "cell_type": "code",
   "execution_count": 2,
   "metadata": {},
   "outputs": [
    {
     "output_type": "stream",
     "name": "stderr",
     "text": [
      "Loading data: 100%|██████████| 81/81 [00:05<00:00, 15.22it/s]\n",
      "Fixing invalid coordinates and marking valid ones\n",
      "Done in 0 s\n",
      "Forcing invalid coords to be blank\n",
      "Affected rows saved to /home/jovyan/ODBiz/3-Merging/output/invalid_coords_affected_rows_2022-07-25.csv\n",
      "Done in 8 s\n",
      "df saved to /home/jovyan/ODBiz/3-Merging/output/2-ODBiz_merged_2022-07-25.csv\n"
     ]
    }
   ],
   "source": [
    "RemoveInvalidCoordinates.main()"
   ]
  },
  {
   "cell_type": "code",
   "execution_count": 2,
   "metadata": {},
   "outputs": [
    {
     "output_type": "stream",
     "name": "stderr",
     "text": [
      "Loading data: 100%|██████████| 9/9 [00:05<00:00,  1.74it/s]\n",
      "Filling in NA as empty string\n",
      "Done in 4 s\n",
      "Concatenating address info\n",
      "Done in 8 s\n",
      "Checking for blanks\n",
      "Done in 0 s\n",
      "Dropping entries with insufficient address info\n",
      "Done in 1 s\n",
      "Saving df to /home/jovyan/ODBiz/3-Merging/output/3-ODBiz_merged_2022-07-25.csv\n",
      "Done in 13 s\n",
      "df saved to /home/jovyan/ODBiz/3-Merging/output/3-ODBiz_merged_2022-07-25.csv\n"
     ]
    }
   ],
   "source": [
    "FilterNoAddrInfo.main()"
   ]
  },
  {
   "cell_type": "code",
   "execution_count": null,
   "metadata": {},
   "outputs": [],
   "source": []
  }
 ]
}