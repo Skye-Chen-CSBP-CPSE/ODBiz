{
 "cells": [
  {
   "cell_type": "markdown",
   "metadata": {},
   "source": [
    "General Checks\n",
    "\n",
    "All original data sets are represented in the final database\n",
    "Number of missing values per field\n",
    "Number of unique values per field\n",
    "Coverage of Canada (how many provinces/territories are represented)\n",
    "Groupby various fields and count unique entries. This is an easy way to see abnormalities (e.g. if there are numbers in the wrong field and vice versa).\n",
    "\n",
    "\n",
    "Sanity Check\n",
    "\n",
    "Sample input from each dataset and confirm data is in final output and what is kept is unchanged\n",
    "\n",
    "\n",
    "Data types\n",
    "\n",
    "Of each field\n",
    "At each processing step (if dtype is converted there may be issues in coercing e.g. from float to str (pandas may add 0))\n",
    "Low_memory = False, dtype = “str” in ALL processing steps to ensure proper output.\n",
    "Document where rounding might occur (e.g. in LAT, LON processing to n decimal places)\n",
    "\n",
    "\n",
    "Nulls and Dedupes\n",
    "\n",
    "Null values removed (+)\n",
    "Nulls removed are sensical (-)\n",
    "Duplicate values removed (+)\n",
    "Duplicates removed have original in database (-)\n",
    "\n",
    "\n",
    "Spatial\n",
    "\n",
    "Visualize in QGIS\n",
    "Cartographic file (with water boundaries) is used to determine points that fall outside of CSDUID boundaries (reproject to 4426 for spatial joins because lat/lon points must be projected in that CRS)\n",
    "Check CSDUID assignments\n",
    "\n",
    "Filter to only retain cities with multiple CSD assignments\n",
    "Compute max distances between coordinates for each city\n",
    "Reproject to 3347 – coordinates are measured in meters\n",
    "Scipy convex hull to reduce set space (and memory usage)\n",
    "Scipy cdist for pairwise comparisons\n",
    "\n",
    "Address processing\n",
    "Spec_checks\n",
    "\n",
    "Explore integration of open databases (ODB) and BR if relevant\n",
    "Reasons for data not matching BR data\n",
    "Wrong NAICS code in BR\n",
    "BR incorrectly has data as inactive"
   ]
  },
  {
   "cell_type": "code",
   "execution_count": null,
   "metadata": {},
   "outputs": [],
   "source": []
  }
 ],
 "metadata": {
  "kernelspec": {
   "display_name": "Python [conda env:odbiz]",
   "language": "python",
   "name": "conda-env-odbiz-py"
  },
  "language_info": {
   "codemirror_mode": {
    "name": "ipython",
    "version": 3
   },
   "file_extension": ".py",
   "mimetype": "text/x-python",
   "name": "python",
   "nbconvert_exporter": "python",
   "pygments_lexer": "ipython3",
   "version": "3.8.15"
  }
 },
 "nbformat": 4,
 "nbformat_minor": 4
}
