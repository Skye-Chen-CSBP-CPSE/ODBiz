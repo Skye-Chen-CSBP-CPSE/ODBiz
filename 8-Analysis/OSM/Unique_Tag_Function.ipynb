{
 "cells": [
  {
   "cell_type": "code",
   "execution_count": 10,
   "id": "f7d0861e",
   "metadata": {},
   "outputs": [],
   "source": [
    "def OSM_unique_tags(file_name):\n",
    "    #import packages\n",
    "    import geopandas as gpd\n",
    "    import pandas as pd\n",
    "    import numpy as np\n",
    "\n",
    "    #Read in data\n",
    "    raw_path = 'RAW_OSM/' + file_name\n",
    "    pr_name = file_name[:-5]\n",
    "    points = gpd.read_file(raw_path, layer='points-' + pr_name)\n",
    "    polys = gpd.read_file(raw_path, layer='multipolygons-' + pr_name)\n",
    "    print('Data read in successfully...')\n",
    "    \n",
    "    #Unique leisure tags\n",
    "    leisure_tags_unique_points = points['leisure'].unique()\n",
    "    leisure_tags_unique_polys = polys['leisure'].unique()\n",
    "    leisure_tags_unique_points = pd.DataFrame(leisure_tags_unique_points, columns = ['leisure'])\n",
    "    leisure_tags_unique_points.to_csv(\"points_leisure_\" + pr_name)\n",
    "    leisure_tags_unique_polys = pd.DataFrame(leisure_tags_unique_polys, columns = ['leisure'])\n",
    "    leisure_tags_unique_polys.to_csv(\"polys_leisure_\" + pr_name)\n",
    "    print(\"Unique leisure tags exported as CSV...\")\n",
    "    \n",
    "    #Unique amenity tags\n",
    "    amenity_tags_unique_points = points['amenity'].unique()\n",
    "    amenity_tags_unique_polys = polys['amenity'].unique()\n",
    "    amenity_tags_unique_points = pd.DataFrame(amenity_tags_unique_points, columns = ['amenity'])\n",
    "    amenity_tags_unique_points.to_csv(\"points_amenity_\" + pr_name)\n",
    "    amenity_tags_unique_polys = pd.DataFrame(amenity_tags_unique_polys, columns = ['amenity'])\n",
    "    amenity_tags_unique_polys.to_csv(\"polys_amenity_\" + pr_name)\n",
    "    print(\"Unique amenity tags exported as CSV...\")"
   ]
  },
  {
   "cell_type": "code",
   "execution_count": 11,
   "id": "5163591f",
   "metadata": {},
   "outputs": [
    {
     "name": "stdout",
     "output_type": "stream",
     "text": [
      "Data read in successfully...\n",
      "Unique leisure tags exported as CSV...\n",
      "Unique amenity tags exported as CSV...\n",
      "Data read in successfully...\n",
      "Unique leisure tags exported as CSV...\n",
      "Unique amenity tags exported as CSV...\n",
      "Data read in successfully...\n",
      "Unique leisure tags exported as CSV...\n",
      "Unique amenity tags exported as CSV...\n",
      "Data read in successfully...\n",
      "Unique leisure tags exported as CSV...\n",
      "Unique amenity tags exported as CSV...\n",
      "Data read in successfully...\n",
      "Unique leisure tags exported as CSV...\n",
      "Unique amenity tags exported as CSV...\n",
      "Data read in successfully...\n",
      "Unique leisure tags exported as CSV...\n",
      "Unique amenity tags exported as CSV...\n",
      "Data read in successfully...\n",
      "Unique leisure tags exported as CSV...\n",
      "Unique amenity tags exported as CSV...\n",
      "Data read in successfully...\n",
      "Unique leisure tags exported as CSV...\n",
      "Unique amenity tags exported as CSV...\n",
      "Data read in successfully...\n",
      "Unique leisure tags exported as CSV...\n",
      "Unique amenity tags exported as CSV...\n",
      "Data read in successfully...\n",
      "Unique leisure tags exported as CSV...\n",
      "Unique amenity tags exported as CSV...\n",
      "Data read in successfully...\n",
      "Unique leisure tags exported as CSV...\n",
      "Unique amenity tags exported as CSV...\n",
      "Data read in successfully...\n",
      "Unique leisure tags exported as CSV...\n",
      "Unique amenity tags exported as CSV...\n",
      "Data read in successfully...\n",
      "Unique leisure tags exported as CSV...\n",
      "Unique amenity tags exported as CSV...\n"
     ]
    }
   ],
   "source": [
    "OSM_unique_tags('newfoundland-and-labrador.gpkg')\n",
    "OSM_unique_tags('prince-edward-island.gpkg')\n",
    "OSM_unique_tags('nova-scotia.gpkg')\n",
    "OSM_unique_tags('new-brunswick.gpkg')\n",
    "OSM_unique_tags('quebec.gpkg')\n",
    "OSM_unique_tags('ontario.gpkg')\n",
    "OSM_unique_tags('manitoba.gpkg')\n",
    "OSM_unique_tags('saskatchewan.gpkg')\n",
    "OSM_unique_tags('alberta.gpkg')\n",
    "OSM_unique_tags('british-columbia.gpkg')\n",
    "OSM_unique_tags('yukon.gpkg')\n",
    "OSM_unique_tags('northwest-territories.gpkg')\n",
    "OSM_unique_tags('nunavut.gpkg')"
   ]
  },
  {
   "cell_type": "code",
   "execution_count": null,
   "id": "f5e13f3b",
   "metadata": {},
   "outputs": [],
   "source": []
  }
 ],
 "metadata": {
  "kernelspec": {
   "display_name": "Python 3 (ipykernel)",
   "language": "python",
   "name": "python3"
  },
  "language_info": {
   "codemirror_mode": {
    "name": "ipython",
    "version": 3
   },
   "file_extension": ".py",
   "mimetype": "text/x-python",
   "name": "python",
   "nbconvert_exporter": "python",
   "pygments_lexer": "ipython3",
   "version": "3.8.10"
  }
 },
 "nbformat": 4,
 "nbformat_minor": 5
}
