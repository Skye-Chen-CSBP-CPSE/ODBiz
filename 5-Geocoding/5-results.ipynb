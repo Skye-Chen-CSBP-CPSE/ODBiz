{
 "cells": [
  {
   "cell_type": "code",
   "execution_count": 2,
   "metadata": {
    "execution": {
     "iopub.execute_input": "2022-09-06T17:16:37.980644Z",
     "iopub.status.busy": "2022-09-06T17:16:37.980366Z",
     "iopub.status.idle": "2022-09-06T17:16:37.984100Z",
     "shell.execute_reply": "2022-09-06T17:16:37.983320Z",
     "shell.execute_reply.started": "2022-09-06T17:16:37.980610Z"
    },
    "tags": []
   },
   "outputs": [],
   "source": [
    "# Results analysis\n",
    "\n",
    "# Took X hours\n",
    "# Overall X 100% matches and X matches above 80%\n",
    "# Yet to implement matches based on city - but so far looks good. X % fuzzy matches\n",
    "# Around X left to geocode, depending on our cutoff point\n",
    "# X for 80% cutoff\n",
    "# X for 85% cutoff\n",
    "# X for 90% cutoff"
   ]
  },
  {
   "cell_type": "code",
   "execution_count": 3,
   "metadata": {
    "execution": {
     "iopub.execute_input": "2022-09-06T17:16:46.092171Z",
     "iopub.status.busy": "2022-09-06T17:16:46.091908Z",
     "iopub.status.idle": "2022-09-06T17:16:46.727656Z",
     "shell.execute_reply": "2022-09-06T17:16:46.726880Z",
     "shell.execute_reply.started": "2022-09-06T17:16:46.092142Z"
    }
   },
   "outputs": [],
   "source": [
    "import pandas as pd"
   ]
  },
  {
   "cell_type": "code",
   "execution_count": 42,
   "metadata": {
    "execution": {
     "iopub.execute_input": "2022-09-06T18:29:31.074568Z",
     "iopub.status.busy": "2022-09-06T18:29:31.074287Z",
     "iopub.status.idle": "2022-09-06T18:29:43.047044Z",
     "shell.execute_reply": "2022-09-06T18:29:43.046145Z",
     "shell.execute_reply.started": "2022-09-06T18:29:31.074538Z"
    },
    "tags": []
   },
   "outputs": [],
   "source": [
    "df = pd.read_csv('output_all.csv', low_memory=False)"
   ]
  },
  {
   "cell_type": "code",
   "execution_count": 30,
   "metadata": {
    "execution": {
     "iopub.execute_input": "2022-09-06T17:40:02.271332Z",
     "iopub.status.busy": "2022-09-06T17:40:02.271042Z",
     "iopub.status.idle": "2022-09-06T17:40:02.277508Z",
     "shell.execute_reply": "2022-09-06T17:40:02.276445Z",
     "shell.execute_reply.started": "2022-09-06T17:40:02.271299Z"
    },
    "tags": []
   },
   "outputs": [
    {
     "data": {
      "text/plain": [
       "694519"
      ]
     },
     "execution_count": 30,
     "metadata": {},
     "output_type": "execute_result"
    }
   ],
   "source": [
    "len(df)"
   ]
  },
  {
   "cell_type": "code",
   "execution_count": 25,
   "metadata": {
    "execution": {
     "iopub.execute_input": "2022-09-06T17:35:37.373429Z",
     "iopub.status.busy": "2022-09-06T17:35:37.373143Z",
     "iopub.status.idle": "2022-09-06T17:35:37.423118Z",
     "shell.execute_reply": "2022-09-06T17:35:37.422240Z",
     "shell.execute_reply.started": "2022-09-06T17:35:37.373397Z"
    },
    "tags": []
   },
   "outputs": [
    {
     "name": "stdout",
     "output_type": "stream",
     "text": [
      "Matches above 80%: 61%\n",
      "Matches above 85%: 55%\n",
      "Matches above 90%: 51%\n",
      "Matches above 95%: 48%\n",
      "Matches above 99.5%: 47%\n"
     ]
    }
   ],
   "source": [
    "# get number of matches above various cutoffs for the entire dataset\n",
    "cut_off = 99.5\n",
    "\n",
    "for number in [80,85,90,95,99.5]:\n",
    "    no_matches = df['ratio'][df['ratio'] > number].count()\n",
    "    percent_matches = 100 * no_matches / len(df)\n",
    "    print('Matches above ', number, '%: ', int(percent_matches), '%', sep=\"\")\n",
    "\n",
    "# no_matches_80 = df['ratio'][df['ratio'] > 80].count()\n",
    "# no_matches_85 = df['ratio'][df['ratio'] > 85].count()\n",
    "# no_matches_90 = df['ratio'][df['ratio'] > 90].count()\n",
    "# no_matches_95 = df['ratio'][df['ratio'] > 95].count()\n",
    "# no_matches_100 = df['ratio'][df['ratio'] > 99.5].count()\n",
    "\n",
    "# print('matches above' no_matches_80)\n"
   ]
  },
  {
   "cell_type": "code",
   "execution_count": 45,
   "metadata": {
    "execution": {
     "iopub.execute_input": "2022-09-06T18:35:24.337982Z",
     "iopub.status.busy": "2022-09-06T18:35:24.337593Z",
     "iopub.status.idle": "2022-09-06T18:35:24.808230Z",
     "shell.execute_reply": "2022-09-06T18:35:24.807219Z",
     "shell.execute_reply.started": "2022-09-06T18:35:24.337936Z"
    },
    "tags": []
   },
   "outputs": [
    {
     "name": "stdout",
     "output_type": "stream",
     "text": [
      "original number to geocode: 490387\n",
      "number to geocode after matching: 242932\n"
     ]
    }
   ],
   "source": [
    "# number left to geocode\n",
    "\n",
    "df_lat = df[df['latitude'].isna()]\n",
    "print('original number to geocode:', len(df_lat))\n",
    "df_lat = df_lat[df_lat['x'].isna()]\n",
    "print('number to geocode after matching:', len(df_lat))"
   ]
  },
  {
   "cell_type": "code",
   "execution_count": 48,
   "metadata": {
    "execution": {
     "iopub.execute_input": "2022-09-06T18:38:57.497742Z",
     "iopub.status.busy": "2022-09-06T18:38:57.497468Z",
     "iopub.status.idle": "2022-09-06T18:38:58.442370Z",
     "shell.execute_reply": "2022-09-06T18:38:58.441571Z",
     "shell.execute_reply.started": "2022-09-06T18:38:57.497712Z"
    },
    "tags": []
   },
   "outputs": [
    {
     "name": "stdout",
     "output_type": "stream",
     "text": [
      "AB:\n",
      "   rows: 62804\n",
      "   perfect matches: 41%\n",
      "   matches above 0.8: 75%\n",
      "BC:\n",
      "   rows: 173035\n",
      "   perfect matches: 56%\n",
      "   matches above 0.8: 67%\n",
      "MB:\n",
      "   rows: 145\n",
      "   perfect matches: 57%\n",
      "   matches above 0.8: 66%\n",
      "NB:\n",
      "   rows: 151\n",
      "   perfect matches: 64%\n",
      "   matches above 0.8: 83%\n",
      "NT:\n",
      "   rows: 1410\n",
      "   perfect matches: 89%\n",
      "   matches above 0.8: 92%\n",
      "NS:\n",
      "   rows: 36\n",
      "   perfect matches: 72%\n",
      "   matches above 0.8: 94%\n",
      "ON:\n",
      "   rows: 215228\n",
      "   perfect matches: 55%\n",
      "   matches above 0.8: 68%\n",
      "PE:\n",
      "   rows: 5\n",
      "   perfect matches: 60%\n",
      "   matches above 0.8: 80%\n",
      "QC:\n",
      "   rows: 241591\n",
      "   perfect matches: 35%\n",
      "   matches above 0.8: 48%\n",
      "SK:\n",
      "   rows: 114\n",
      "   perfect matches: 20%\n",
      "   matches above 0.8: 38%\n"
     ]
    }
   ],
   "source": [
    "# compare matches across provinces\n",
    "\n",
    "# for each province want\n",
    "# - number of rows\n",
    "# - percent perfect matches\n",
    "# - percent matches \n",
    "# - remainder with no geocodes\n",
    "\n",
    "provinces = ['AB', 'BC', 'MB', 'NB', 'NT', 'NS', 'ON', 'PE', 'QC', 'SK']\n",
    "\n",
    "for province in provinces:\n",
    "    df2 = df[df['province'] == province]\n",
    "    no_matches = df2['ratio'][df2['ratio'] > 80].count()\n",
    "    perfect_matches = df2['ratio'][df2['ratio'] > 99].count()\n",
    "    percent_matches = int(100 * no_matches / len(df2))\n",
    "    percent_perfect_matches = int(100 * perfect_matches / len(df2))\n",
    "#     print('Matches for ', province, ': ', int(percent_matches), '%', sep=\"\")\n",
    "\n",
    "    # get the number left to geocode - either an na in either 'longitude' or 'x'\n",
    "\n",
    "    print(province, \":\", sep=\"\")\n",
    "    print('   rows: ', len(df2), sep=\"\")\n",
    "    print('   perfect matches: ', percent_perfect_matches, '%', sep=\"\")\n",
    "    print('   matches above 0.8: ', percent_matches, '%', sep=\"\")\n",
    "#     print('remaining to geocode: ', len(df2), sep=\"\")\n",
    "    "
   ]
  },
  {
   "cell_type": "code",
   "execution_count": null,
   "metadata": {},
   "outputs": [],
   "source": []
  }
 ],
 "metadata": {
  "kernelspec": {
   "display_name": "Python 3 (ipykernel)",
   "language": "python",
   "name": "python3"
  },
  "language_info": {
   "codemirror_mode": {
    "name": "ipython",
    "version": 3
   },
   "file_extension": ".py",
   "mimetype": "text/x-python",
   "name": "python",
   "nbconvert_exporter": "python",
   "pygments_lexer": "ipython3",
   "version": "3.8.12"
  }
 },
 "nbformat": 4,
 "nbformat_minor": 4
}
